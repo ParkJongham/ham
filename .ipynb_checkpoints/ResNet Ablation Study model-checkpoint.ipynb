{
 "cells": [
  {
   "cell_type": "code",
   "execution_count": 1,
   "metadata": {},
   "outputs": [],
   "source": [
    "# 필요 라이브러리 임포트\n",
    "\n",
    "import tensorflow as tf\n",
    "from tensorflow import keras\n",
    "\n",
    "import numpy as np\n",
    "import matplotlib.pyplot as plt\n",
    "import tensorflow_datasets as tfds\n",
    "import urllib3\n",
    "import matplotlib.pyplot as plt\n",
    "\n",
    "tf.config.list_physical_devices('GPU')\n",
    "urllib3.disable_warnings()\n",
    "\n",
    "tfds.disable_progress_bar()"
   ]
  },
  {
   "cell_type": "code",
   "execution_count": 2,
   "metadata": {},
   "outputs": [],
   "source": [
    "# 데이터셋 다운로드\n",
    "# tfds.load()는 기본적으로 ~/tensorflow_datasets 경로에 데이터셋을 다운\n",
    "# 데이터셋 경로를 바꾸고 싶으시다면, data_dir 인자를 사용\n",
    "\n",
    "(ds_train, ds_test), ds_info = tfds.load('cifar10', split = ['train', 'test'], shuffle_files = True, with_info = True)"
   ]
  },
  {
   "cell_type": "code",
   "execution_count": 3,
   "metadata": {},
   "outputs": [
    {
     "name": "stdout",
     "output_type": "stream",
     "text": [
      "FeaturesDict({\n",
      "    'id': Text(shape=(), dtype=tf.string),\n",
      "    'image': Image(shape=(32, 32, 3), dtype=tf.uint8),\n",
      "    'label': ClassLabel(shape=(), dtype=tf.int64, num_classes=10),\n",
      "})\n"
     ]
    }
   ],
   "source": [
    "# 다운받은 데이터셋 feature 정보 확인\n",
    "\n",
    "print(ds_info.features)"
   ]
  },
  {
   "cell_type": "code",
   "execution_count": 4,
   "metadata": {},
   "outputs": [
    {
     "name": "stdout",
     "output_type": "stream",
     "text": [
      "tf.Tensor(50000, shape=(), dtype=int64)\n",
      "tf.Tensor(10000, shape=(), dtype=int64)\n"
     ]
    }
   ],
   "source": [
    "# 데이터의 개수 확인\n",
    "# tensorflow 데이터셋은 numpy 가 아니기 때문에 ds_train.shape로 확인하지 않는다.\n",
    "\n",
    "print(tf.data.experimental.cardinality(ds_train))\n",
    "print(tf.data.experimental.cardinality(ds_test))"
   ]
  },
  {
   "cell_type": "code",
   "execution_count": 5,
   "metadata": {},
   "outputs": [],
   "source": [
    "# input normalization\n",
    "# 각 채널별 최대값인 255로 정규화\n",
    "\n",
    "def normalize_and_resize_img(image, label):\n",
    "    \"\"\"Normalizes images: `uint8` -> `float32`.\"\"\"\n",
    "    # image = tf.image.resize(image, [32, 32])\n",
    "    return tf.cast(image, tf.float32) / 255., label\n",
    "\n",
    "def apply_normalize_on_dataset(ds, is_test = False, batch_size = 16):\n",
    "    ds = ds.map(\n",
    "        normalize_and_resize_img, \n",
    "        num_parallel_calls=1\n",
    "    )\n",
    "    ds = ds.batch(batch_size)\n",
    "    if not is_test:\n",
    "        ds = ds.repeat()\n",
    "        ds = ds.shuffle(200)\n",
    "    ds = ds.prefetch(tf.data.experimental.AUTOTUNE)\n",
    "    return ds"
   ]
  },
  {
   "cell_type": "code",
   "execution_count": 6,
   "metadata": {},
   "outputs": [],
   "source": [
    "# resnet - 34 블록 구성\n",
    "\n",
    "def build_resnet_34_block(input_layer, num_cnn = 3, channel = 64, block_num = 1) :\n",
    "    x = input_layer    # 입력 레이어\n",
    "    \n",
    "    # CNN 레이어\n",
    "    for cnn_num in range(num_cnn) : \n",
    "        x = keras.layers.Conv2D(filters = channel, kernel_size = (3, 3), activation = 'relu', kernel_initializer = 'he_normal', padding = 'same', name = f'block{block_num}_conv{cnn_num}')(x)\n",
    "      \n",
    "    return x"
   ]
  },
  {
   "cell_type": "code",
   "execution_count": 7,
   "metadata": {},
   "outputs": [],
   "source": [
    "# 입력 레이어 생성\n",
    "resnet_34_input_layer = keras.layers.Input(shape = (32, 32, 3))\n",
    "\n",
    "# resnet 34 블록 생성\n",
    "resnet_34_block_out = build_resnet_34_block(resnet_34_input_layer)"
   ]
  },
  {
   "cell_type": "code",
   "execution_count": 8,
   "metadata": {},
   "outputs": [
    {
     "name": "stdout",
     "output_type": "stream",
     "text": [
      "Model: \"model\"\n",
      "_________________________________________________________________\n",
      "Layer (type)                 Output Shape              Param #   \n",
      "=================================================================\n",
      "input_1 (InputLayer)         [(None, 32, 32, 3)]       0         \n",
      "_________________________________________________________________\n",
      "block1_conv0 (Conv2D)        (None, 32, 32, 64)        1792      \n",
      "_________________________________________________________________\n",
      "block1_conv1 (Conv2D)        (None, 32, 32, 64)        36928     \n",
      "_________________________________________________________________\n",
      "block1_conv2 (Conv2D)        (None, 32, 32, 64)        36928     \n",
      "=================================================================\n",
      "Total params: 75,648\n",
      "Trainable params: 75,648\n",
      "Non-trainable params: 0\n",
      "_________________________________________________________________\n"
     ]
    }
   ],
   "source": [
    "# 블록 1개짜리 model 생성\n",
    "\n",
    "model = keras.Model(inputs = resnet_34_input_layer, outputs = resnet_34_block_out)\n",
    "\n",
    "model.summary()"
   ]
  },
  {
   "cell_type": "code",
   "execution_count": 11,
   "metadata": {},
   "outputs": [],
   "source": [
    "# ResNet - 34 모델 생성\n",
    "\n",
    "def build_resnet_34(input_layer, num_cnn = 3, channel = 64, block_num = 1) :\n",
    "    x = input_layer\n",
    "    \n",
    "    output = keras.layers.Conv2D(filter = channel, kernel_size = (3, 3), )\n",
    "    "
   ]
  },
  {
   "cell_type": "code",
   "execution_count": null,
   "metadata": {},
   "outputs": [],
   "source": [
    "# ResNet - 34\n",
    "# (3 x 3, 64)형태의 레이어가 1블록에 3, 4, 6, 3 개로 총 4개의 블록으로 구성\n",
    "\n",
    "resnet_34 = build_resent(input_shape = (32, 32, 3), is_50 = False)\n",
    "\n",
    "resent_34.summary()"
   ]
  },
  {
   "cell_type": "code",
   "execution_count": null,
   "metadata": {},
   "outputs": [],
   "source": [
    "# "
   ]
  },
  {
   "cell_type": "code",
   "execution_count": null,
   "metadata": {},
   "outputs": [],
   "source": [
    "# ResNet - 50\n",
    "# (1 x 1, 64), (3 x 3, 64), (1 x 1, 64) 형태의 레이어가 1블록에 \n",
    "\n",
    "resnet_50 = build_resnet(input_shape = (32, 32, 3), is_50 = True)\n",
    "\n",
    "resnet_50.summary()"
   ]
  }
 ],
 "metadata": {
  "kernelspec": {
   "display_name": "aiffel",
   "language": "python",
   "name": "aiffel"
  },
  "language_info": {
   "codemirror_mode": {
    "name": "ipython",
    "version": 3
   },
   "file_extension": ".py",
   "mimetype": "text/x-python",
   "name": "python",
   "nbconvert_exporter": "python",
   "pygments_lexer": "ipython3",
   "version": "3.7.9"
  }
 },
 "nbformat": 4,
 "nbformat_minor": 4
}
