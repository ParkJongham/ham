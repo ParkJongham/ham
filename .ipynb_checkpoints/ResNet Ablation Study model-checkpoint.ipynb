{
 "cells": [
  {
   "cell_type": "code",
   "execution_count": 18,
   "metadata": {},
   "outputs": [],
   "source": [
    "# 필요 라이브러리 임포트\n",
    "\n",
    "import tensorflow as tf\n",
    "from tensorflow import keras\n",
    "\n",
    "import numpy as np\n",
    "import matplotlib.pyplot as plt\n",
    "import tensorflow_datasets as tfds\n",
    "import urllib3\n",
    "import matplotlib.pyplot as plt\n",
    "\n",
    "tf.config.list_physical_devices('GPU')\n",
    "urllib3.disable_warnings()\n",
    "\n",
    "tfds.disable_progress_bar()"
   ]
  },
  {
   "cell_type": "code",
   "execution_count": 19,
   "metadata": {},
   "outputs": [],
   "source": [
    "# 데이터셋 다운로드\n",
    "# tfds.load()는 기본적으로 ~/tensorflow_datasets 경로에 데이터셋을 다운\n",
    "# 데이터셋 경로를 바꾸고 싶으시다면, data_dir 인자를 사용\n",
    "\n",
    "(ds_train, ds_test), ds_info = tfds.load('cifar10', split = ['train', 'test'], shuffle_files = True, with_info = True)"
   ]
  },
  {
   "cell_type": "code",
   "execution_count": 20,
   "metadata": {},
   "outputs": [
    {
     "name": "stdout",
     "output_type": "stream",
     "text": [
      "FeaturesDict({\n",
      "    'id': Text(shape=(), dtype=tf.string),\n",
      "    'image': Image(shape=(32, 32, 3), dtype=tf.uint8),\n",
      "    'label': ClassLabel(shape=(), dtype=tf.int64, num_classes=10),\n",
      "})\n"
     ]
    }
   ],
   "source": [
    "# 다운받은 데이터셋 feature 정보 확인\n",
    "\n",
    "print(ds_info.features)"
   ]
  },
  {
   "cell_type": "code",
   "execution_count": 21,
   "metadata": {},
   "outputs": [
    {
     "name": "stdout",
     "output_type": "stream",
     "text": [
      "tf.Tensor(50000, shape=(), dtype=int64)\n",
      "tf.Tensor(10000, shape=(), dtype=int64)\n"
     ]
    }
   ],
   "source": [
    "# 데이터의 개수 확인\n",
    "# tensorflow 데이터셋은 numpy 가 아니기 때문에 ds_train.shape로 확인하지 않는다.\n",
    "\n",
    "print(tf.data.experimental.cardinality(ds_train))\n",
    "print(tf.data.experimental.cardinality(ds_test))"
   ]
  },
  {
   "cell_type": "code",
   "execution_count": 22,
   "metadata": {},
   "outputs": [],
   "source": [
    "# input normalization\n",
    "# 각 채널별 최대값인 255로 정규화\n",
    "\n",
    "def normalize_and_resize_img(image, label):\n",
    "    \"\"\"Normalizes images: `uint8` -> `float32`.\"\"\"\n",
    "    # image = tf.image.resize(image, [32, 32])\n",
    "    return tf.cast(image, tf.float32) / 255., label\n",
    "\n",
    "def apply_normalize_on_dataset(ds, is_test = False, batch_size = 16):\n",
    "    ds = ds.map(\n",
    "        normalize_and_resize_img, \n",
    "        num_parallel_calls=1\n",
    "    )\n",
    "    ds = ds.batch(batch_size)\n",
    "    if not is_test:\n",
    "        ds = ds.repeat()\n",
    "        ds = ds.shuffle(200)\n",
    "    ds = ds.prefetch(tf.data.experimental.AUTOTUNE)\n",
    "    return ds"
   ]
  },
  {
   "cell_type": "code",
   "execution_count": 23,
   "metadata": {},
   "outputs": [],
   "source": [
    "# ResNet - 34 모델 생성\n",
    "\n",
    "def conv_block(tensor, filter = 64, strides = 1, kernel_size = 3, block_num = 0, desc = 0) :\n",
    "    '''\n",
    "    desc == 0 : short\n",
    "    else :other convolution layers\n",
    "    '''\n",
    "    \n",
    "    conv_name = f'stage{block_num}_{cnn_num + 1}_' + {\"short\" if desc == 0 else f'conv{desc}'}\n",
    "    bn_name = None if desc == 0 else f'stage{block_num}_{cnn_num + 1}_' + f'bn{desc}'\n",
    "    \n",
    "    output = keras.layers.Conv2D(\n",
    "        filters = filters,\n",
    "        strides = strised,\n",
    "        kernel_size = kernel_size,\n",
    "        kernel_initializer = tf.keras.initializers.RandomNormal(stddev = 0.01),\n",
    "        padding = 'same',\n",
    "        name = conv_name\n",
    "    )(tensor)\n",
    "    \n",
    "    output = keras.layers.BatchNormalization(name = bn_name)(output)\n",
    "    \n",
    "    if desc != 0 :\n",
    "        output = keras.layers.Activation('relu')(output)\n",
    "        \n",
    "    return output\n",
    "    "
   ]
  },
  {
   "cell_type": "code",
   "execution_count": 24,
   "metadata": {},
   "outputs": [],
   "source": [
    "# 1번째 레이어 \n",
    "\n",
    "def build_conv1(tensor) :\n",
    "    output = keras.layers.Conv2D(\n",
    "        filters = 64,\n",
    "        kernel_size = (7, 7),\n",
    "        strides = (2, 2),\n",
    "        kernel_initializer = tf.keras.initializers.RandomNormal (stddev = 0.01),\n",
    "        padding = 'same'\n",
    "    )(tensor)\n",
    "    \n",
    "    output = keras.layers.BatchNormalization()(output)\n",
    "    output = keras.layers.Activation('relu')(output)\n",
    "    \n",
    "    return output"
   ]
  },
  {
   "cell_type": "code",
   "execution_count": 29,
   "metadata": {},
   "outputs": [],
   "source": [
    "def build_maxpooling2d(tensor) : \n",
    "    return keras.layers.MaxPooling2D(\n",
    "        pool_size = (3, 3),\n",
    "        strides = (2, 2),\n",
    "        padding = 'same',\n",
    "        name = 'stage2_0_maxpooling'\n",
    "    )(tensor)"
   ]
  },
  {
   "cell_type": "code",
   "execution_count": 30,
   "metadata": {},
   "outputs": [],
   "source": [
    "def build_resnet_34_block(input_layer, num_cnn = 3, channel = 64, block_num = 2, residual = True) : \n",
    "    x = input_layer\n",
    "    y = input_layer\n",
    "    \n",
    "    for cnn_num in range(num_cnn) :\n",
    "        y = conv_block(y, channel, 2 if cnn_num == 0 and block_num > 2 else 1, 3, block_num, cnn_num, 1)\n",
    "        y = conv_block(y, channel, 1, 3, block_num, cnn_num, 2)\n",
    "        \n",
    "        if cnn_num == 0 : \n",
    "            x = conv_block(x, channel, 2 if block_num > 2 else 1, 1, block_num, cnn_num)\n",
    "            \n",
    "        if residual : \n",
    "            y = keras.layers.Add()([x, y])\n",
    "    \n",
    "    return y"
   ]
  },
  {
   "cell_type": "code",
   "execution_count": 31,
   "metadata": {},
   "outputs": [],
   "source": [
    "def build_resnet_34(input_shape = (32, 32, 3),\n",
    "                    num_cnn_list = [3, 4, 6, 3],\n",
    "                    channel_list = [64, 128, 256, 512],\n",
    "                    num_classes = 10,\n",
    "                    residual = True,\n",
    "                    is_50 = False\n",
    "                   ) : \n",
    "    \n",
    "    assert len(num_cnn_list) == len(channel_list)\n",
    "    \n",
    "    input_layer = keras.layers.Input(shape = input_shape)\n",
    "    output = input_layer\n",
    "    \n",
    "    output = build_conv1(output)\n",
    "    output = build_maxpooling2d(output)\n",
    "    \n",
    "    if is_50 :\n",
    "        for i,  (num_cnn, channel) in enumerate(zip(num_cnn_list, channel_list)) : \n",
    "            output = build_resnet50_block(output,\n",
    "                                         num_cnn == num__cnn,\n",
    "                                         channel = channel,\n",
    "                                         block_num = i + 2,\n",
    "                                         residual = residual\n",
    "                                         )\n",
    "            \n",
    "    else :\n",
    "        for i, (num_cnn, channel) in enumerate(zip(num_cnn_list, channel_list)) :\n",
    "            output = build_resnet_34_block(\n",
    "                output,\n",
    "                num_cnn == num_cnn,\n",
    "                channel = channel,\n",
    "                block_num = i + 2,\n",
    "                residual = residual\n",
    "            )\n",
    "            \n",
    "    output = keras.layers.AveragePooling2D(pool_size = (1, 1))(output)\n",
    "    output = keras.layers.Flatten()(output)\n",
    "    output = keras.layers.Dense(num_classes, activation = 'softmax', name = 'fc10')(output)\n",
    "    \n",
    "    model = keras.Model(\n",
    "        inputs = input_layer,\n",
    "        outputs = output\n",
    "    )\n",
    "    \n",
    "    return model"
   ]
  },
  {
   "cell_type": "code",
   "execution_count": 32,
   "metadata": {},
   "outputs": [
    {
     "ename": "TypeError",
     "evalue": "conv_block() takes from 1 to 6 positional arguments but 7 were given",
     "output_type": "error",
     "traceback": [
      "\u001b[0;31m---------------------------------------------------------------------------\u001b[0m",
      "\u001b[0;31mTypeError\u001b[0m                                 Traceback (most recent call last)",
      "\u001b[0;32m<ipython-input-32-4e6e8d6bdcbf>\u001b[0m in \u001b[0;36m<module>\u001b[0;34m\u001b[0m\n\u001b[0;32m----> 1\u001b[0;31m \u001b[0mresnet_34\u001b[0m \u001b[0;34m=\u001b[0m \u001b[0mbuild_resnet_34\u001b[0m\u001b[0;34m(\u001b[0m\u001b[0;34m)\u001b[0m\u001b[0;34m\u001b[0m\u001b[0;34m\u001b[0m\u001b[0m\n\u001b[0m\u001b[1;32m      2\u001b[0m \u001b[0mresnet_34\u001b[0m\u001b[0;34m.\u001b[0m\u001b[0msummary\u001b[0m\u001b[0;34m(\u001b[0m\u001b[0;34m)\u001b[0m\u001b[0;34m\u001b[0m\u001b[0;34m\u001b[0m\u001b[0m\n",
      "\u001b[0;32m<ipython-input-31-0181deb3cf54>\u001b[0m in \u001b[0;36mbuild_resnet_34\u001b[0;34m(input_shape, num_cnn_list, channel_list, num_classes, residual, is_50)\u001b[0m\n\u001b[1;32m     31\u001b[0m                 \u001b[0mchannel\u001b[0m \u001b[0;34m=\u001b[0m \u001b[0mchannel\u001b[0m\u001b[0;34m,\u001b[0m\u001b[0;34m\u001b[0m\u001b[0;34m\u001b[0m\u001b[0m\n\u001b[1;32m     32\u001b[0m                 \u001b[0mblock_num\u001b[0m \u001b[0;34m=\u001b[0m \u001b[0mi\u001b[0m \u001b[0;34m+\u001b[0m \u001b[0;36m2\u001b[0m\u001b[0;34m,\u001b[0m\u001b[0;34m\u001b[0m\u001b[0;34m\u001b[0m\u001b[0m\n\u001b[0;32m---> 33\u001b[0;31m                 \u001b[0mresidual\u001b[0m \u001b[0;34m=\u001b[0m \u001b[0mresidual\u001b[0m\u001b[0;34m\u001b[0m\u001b[0;34m\u001b[0m\u001b[0m\n\u001b[0m\u001b[1;32m     34\u001b[0m             )\n\u001b[1;32m     35\u001b[0m \u001b[0;34m\u001b[0m\u001b[0m\n",
      "\u001b[0;32m<ipython-input-30-0d73f27473ea>\u001b[0m in \u001b[0;36mbuild_resnet_34_block\u001b[0;34m(input_layer, num_cnn, channel, block_num, residual)\u001b[0m\n\u001b[1;32m      4\u001b[0m \u001b[0;34m\u001b[0m\u001b[0m\n\u001b[1;32m      5\u001b[0m     \u001b[0;32mfor\u001b[0m \u001b[0mcnn_num\u001b[0m \u001b[0;32min\u001b[0m \u001b[0mrange\u001b[0m\u001b[0;34m(\u001b[0m\u001b[0mnum_cnn\u001b[0m\u001b[0;34m)\u001b[0m \u001b[0;34m:\u001b[0m\u001b[0;34m\u001b[0m\u001b[0;34m\u001b[0m\u001b[0m\n\u001b[0;32m----> 6\u001b[0;31m         \u001b[0my\u001b[0m \u001b[0;34m=\u001b[0m \u001b[0mconv_block\u001b[0m\u001b[0;34m(\u001b[0m\u001b[0my\u001b[0m\u001b[0;34m,\u001b[0m \u001b[0mchannel\u001b[0m\u001b[0;34m,\u001b[0m \u001b[0;36m2\u001b[0m \u001b[0;32mif\u001b[0m \u001b[0mcnn_num\u001b[0m \u001b[0;34m==\u001b[0m \u001b[0;36m0\u001b[0m \u001b[0;32mand\u001b[0m \u001b[0mblock_num\u001b[0m \u001b[0;34m>\u001b[0m \u001b[0;36m2\u001b[0m \u001b[0;32melse\u001b[0m \u001b[0;36m1\u001b[0m\u001b[0;34m,\u001b[0m \u001b[0;36m3\u001b[0m\u001b[0;34m,\u001b[0m \u001b[0mblock_num\u001b[0m\u001b[0;34m,\u001b[0m \u001b[0mcnn_num\u001b[0m\u001b[0;34m,\u001b[0m \u001b[0;36m1\u001b[0m\u001b[0;34m)\u001b[0m\u001b[0;34m\u001b[0m\u001b[0;34m\u001b[0m\u001b[0m\n\u001b[0m\u001b[1;32m      7\u001b[0m         \u001b[0my\u001b[0m \u001b[0;34m=\u001b[0m \u001b[0mconv_block\u001b[0m\u001b[0;34m(\u001b[0m\u001b[0my\u001b[0m\u001b[0;34m,\u001b[0m \u001b[0mchannel\u001b[0m\u001b[0;34m,\u001b[0m \u001b[0;36m1\u001b[0m\u001b[0;34m,\u001b[0m \u001b[0;36m3\u001b[0m\u001b[0;34m,\u001b[0m \u001b[0mblock_num\u001b[0m\u001b[0;34m,\u001b[0m \u001b[0mcnn_num\u001b[0m\u001b[0;34m,\u001b[0m \u001b[0;36m2\u001b[0m\u001b[0;34m)\u001b[0m\u001b[0;34m\u001b[0m\u001b[0;34m\u001b[0m\u001b[0m\n\u001b[1;32m      8\u001b[0m \u001b[0;34m\u001b[0m\u001b[0m\n",
      "\u001b[0;31mTypeError\u001b[0m: conv_block() takes from 1 to 6 positional arguments but 7 were given"
     ]
    }
   ],
   "source": [
    "resnet_34 = build_resnet_34()\n",
    "resnet_34.summary()"
   ]
  },
  {
   "cell_type": "code",
   "execution_count": 33,
   "metadata": {},
   "outputs": [
    {
     "ename": "NameError",
     "evalue": "name 'build_resent' is not defined",
     "output_type": "error",
     "traceback": [
      "\u001b[0;31m---------------------------------------------------------------------------\u001b[0m",
      "\u001b[0;31mNameError\u001b[0m                                 Traceback (most recent call last)",
      "\u001b[0;32m<ipython-input-33-db65f04dffba>\u001b[0m in \u001b[0;36m<module>\u001b[0;34m\u001b[0m\n\u001b[1;32m      2\u001b[0m \u001b[0;31m# (3 x 3, 64)형태의 레이어가 1블록에 3, 4, 6, 3 개로 총 4개의 블록으로 구성\u001b[0m\u001b[0;34m\u001b[0m\u001b[0;34m\u001b[0m\u001b[0;34m\u001b[0m\u001b[0m\n\u001b[1;32m      3\u001b[0m \u001b[0;34m\u001b[0m\u001b[0m\n\u001b[0;32m----> 4\u001b[0;31m \u001b[0mresnet_34\u001b[0m \u001b[0;34m=\u001b[0m \u001b[0mbuild_resent\u001b[0m\u001b[0;34m(\u001b[0m\u001b[0minput_shape\u001b[0m \u001b[0;34m=\u001b[0m \u001b[0;34m(\u001b[0m\u001b[0;36m32\u001b[0m\u001b[0;34m,\u001b[0m \u001b[0;36m32\u001b[0m\u001b[0;34m,\u001b[0m \u001b[0;36m3\u001b[0m\u001b[0;34m)\u001b[0m\u001b[0;34m,\u001b[0m \u001b[0mis_50\u001b[0m \u001b[0;34m=\u001b[0m \u001b[0;32mFalse\u001b[0m\u001b[0;34m)\u001b[0m\u001b[0;34m\u001b[0m\u001b[0;34m\u001b[0m\u001b[0m\n\u001b[0m\u001b[1;32m      5\u001b[0m \u001b[0;34m\u001b[0m\u001b[0m\n\u001b[1;32m      6\u001b[0m \u001b[0mresent_34\u001b[0m\u001b[0;34m.\u001b[0m\u001b[0msummary\u001b[0m\u001b[0;34m(\u001b[0m\u001b[0;34m)\u001b[0m\u001b[0;34m\u001b[0m\u001b[0;34m\u001b[0m\u001b[0m\n",
      "\u001b[0;31mNameError\u001b[0m: name 'build_resent' is not defined"
     ]
    }
   ],
   "source": [
    "# ResNet - 34\n",
    "# (3 x 3, 64)형태의 레이어가 1블록에 3, 4, 6, 3 개로 총 4개의 블록으로 구성\n",
    "\n",
    "resnet_34 = build_resent(input_shape = (32, 32, 3), is_50 = False)\n",
    "\n",
    "resent_34.summary()"
   ]
  },
  {
   "cell_type": "code",
   "execution_count": null,
   "metadata": {},
   "outputs": [],
   "source": [
    "# "
   ]
  },
  {
   "cell_type": "code",
   "execution_count": null,
   "metadata": {},
   "outputs": [],
   "source": [
    "# ResNet - 50\n",
    "# (1 x 1, 64), (3 x 3, 64), (1 x 1, 64) 형태의 레이어가 1블록에 \n",
    "\n",
    "resnet_50 = build_resnet(input_shape = (32, 32, 3), is_50 = True)\n",
    "\n",
    "resnet_50.summary()"
   ]
  }
 ],
 "metadata": {
  "kernelspec": {
   "display_name": "aiffel",
   "language": "python",
   "name": "aiffel"
  },
  "language_info": {
   "codemirror_mode": {
    "name": "ipython",
    "version": 3
   },
   "file_extension": ".py",
   "mimetype": "text/x-python",
   "name": "python",
   "nbconvert_exporter": "python",
   "pygments_lexer": "ipython3",
   "version": "3.7.9"
  }
 },
 "nbformat": 4,
 "nbformat_minor": 4
}
