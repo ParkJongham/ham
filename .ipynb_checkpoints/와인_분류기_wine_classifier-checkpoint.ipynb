{
 "cells": [
  {
   "cell_type": "code",
   "execution_count": 1,
   "metadata": {},
   "outputs": [],
   "source": [
    "'''\n",
    "데이터 로드\n",
    "데이터 확인 = keys()\n",
    "훈련용 데이터, 학습용 데이터 나누기\n",
    "모델 학습 및 예측하기\n",
    "성능 점검하기\n",
    "'''\n",
    "\n",
    "\n",
    "# load_digits 데이터 가져오기\n",
    "\n",
    "from sklearn.datasets import load_wine\n",
    "from sklearn.model_selection import train_test_split\n",
    "from sklearn.metrics import classification_report\n",
    "from sklearn.metrics import accuracy_score"
   ]
  },
  {
   "cell_type": "code",
   "execution_count": 7,
   "metadata": {},
   "outputs": [
    {
     "name": "stdout",
     "output_type": "stream",
     "text": [
      "['class_0' 'class_1' 'class_2']\n",
      ".. _wine_dataset:\n",
      "\n",
      "Wine recognition dataset\n",
      "------------------------\n",
      "\n",
      "**Data Set Characteristics:**\n",
      "\n",
      "    :Number of Instances: 178 (50 in each of three classes)\n",
      "    :Number of Attributes: 13 numeric, predictive attributes and the class\n",
      "    :Attribute Information:\n",
      " \t\t- Alcohol\n",
      " \t\t- Malic acid\n",
      " \t\t- Ash\n",
      "\t\t- Alcalinity of ash  \n",
      " \t\t- Magnesium\n",
      "\t\t- Total phenols\n",
      " \t\t- Flavanoids\n",
      " \t\t- Nonflavanoid phenols\n",
      " \t\t- Proanthocyanins\n",
      "\t\t- Color intensity\n",
      " \t\t- Hue\n",
      " \t\t- OD280/OD315 of diluted wines\n",
      " \t\t- Proline\n",
      "\n",
      "    - class:\n",
      "            - class_0\n",
      "            - class_1\n",
      "            - class_2\n",
      "\t\t\n",
      "    :Summary Statistics:\n",
      "    \n",
      "    ============================= ==== ===== ======= =====\n",
      "                                   Min   Max   Mean     SD\n",
      "    ============================= ==== ===== ======= =====\n",
      "    Alcohol:                      11.0  14.8    13.0   0.8\n",
      "    Malic Acid:                   0.74  5.80    2.34  1.12\n",
      "    Ash:                          1.36  3.23    2.36  0.27\n",
      "    Alcalinity of Ash:            10.6  30.0    19.5   3.3\n",
      "    Magnesium:                    70.0 162.0    99.7  14.3\n",
      "    Total Phenols:                0.98  3.88    2.29  0.63\n",
      "    Flavanoids:                   0.34  5.08    2.03  1.00\n",
      "    Nonflavanoid Phenols:         0.13  0.66    0.36  0.12\n",
      "    Proanthocyanins:              0.41  3.58    1.59  0.57\n",
      "    Colour Intensity:              1.3  13.0     5.1   2.3\n",
      "    Hue:                          0.48  1.71    0.96  0.23\n",
      "    OD280/OD315 of diluted wines: 1.27  4.00    2.61  0.71\n",
      "    Proline:                       278  1680     746   315\n",
      "    ============================= ==== ===== ======= =====\n",
      "\n",
      "    :Missing Attribute Values: None\n",
      "    :Class Distribution: class_0 (59), class_1 (71), class_2 (48)\n",
      "    :Creator: R.A. Fisher\n",
      "    :Donor: Michael Marshall (MARSHALL%PLU@io.arc.nasa.gov)\n",
      "    :Date: July, 1988\n",
      "\n",
      "This is a copy of UCI ML Wine recognition datasets.\n",
      "https://archive.ics.uci.edu/ml/machine-learning-databases/wine/wine.data\n",
      "\n",
      "The data is the results of a chemical analysis of wines grown in the same\n",
      "region in Italy by three different cultivators. There are thirteen different\n",
      "measurements taken for different constituents found in the three types of\n",
      "wine.\n",
      "\n",
      "Original Owners: \n",
      "\n",
      "Forina, M. et al, PARVUS - \n",
      "An Extendible Package for Data Exploration, Classification and Correlation. \n",
      "Institute of Pharmaceutical and Food Analysis and Technologies,\n",
      "Via Brigata Salerno, 16147 Genoa, Italy.\n",
      "\n",
      "Citation:\n",
      "\n",
      "Lichman, M. (2013). UCI Machine Learning Repository\n",
      "[https://archive.ics.uci.edu/ml]. Irvine, CA: University of California,\n",
      "School of Information and Computer Science. \n",
      "\n",
      ".. topic:: References\n",
      "\n",
      "  (1) S. Aeberhard, D. Coomans and O. de Vel, \n",
      "  Comparison of Classifiers in High Dimensional Settings, \n",
      "  Tech. Rep. no. 92-02, (1992), Dept. of Computer Science and Dept. of  \n",
      "  Mathematics and Statistics, James Cook University of North Queensland. \n",
      "  (Also submitted to Technometrics). \n",
      "\n",
      "  The data was used with many others for comparing various \n",
      "  classifiers. The classes are separable, though only RDA \n",
      "  has achieved 100% correct classification. \n",
      "  (RDA : 100%, QDA 99.4%, LDA 98.9%, 1NN 96.1% (z-transformed data)) \n",
      "  (All results using the leave-one-out technique) \n",
      "\n",
      "  (2) S. Aeberhard, D. Coomans and O. de Vel, \n",
      "  \"THE CLASSIFICATION PERFORMANCE OF RDA\" \n",
      "  Tech. Rep. no. 92-01, (1992), Dept. of Computer Science and Dept. of \n",
      "  Mathematics and Statistics, James Cook University of North Queensland. \n",
      "  (Also submitted to Journal of Chemometrics).\n",
      "\n"
     ]
    }
   ],
   "source": [
    "# sklearn 에서 가져온 digits 데이터를  변수에 저장\n",
    "wine = load_wine()\n",
    "\n",
    "#print(digits.keys())\n",
    "\n",
    "# Feature 데이터 저장\n",
    "wine_data = wine.data\n",
    "#print(wine_data)\n",
    "\n",
    "# Label 데이터 저장\n",
    "wine_label = wine.target\n",
    "#print(wine_label)\n",
    "\n",
    "# Target Names 출력해보기\n",
    "print(wine.target_names)\n",
    "\n",
    "# digits 데이터 Describe \n",
    "print(wine.DESCR)"
   ]
  },
  {
   "cell_type": "code",
   "execution_count": 8,
   "metadata": {},
   "outputs": [],
   "source": [
    "# train 데이터, test 데이터 분리\n",
    "x_train, x_test, y_train, y_test = train_test_split(wine_data, wine_label, test_size = 0.2, random_state = 32)"
   ]
  },
  {
   "cell_type": "code",
   "execution_count": 22,
   "metadata": {},
   "outputs": [
    {
     "name": "stdout",
     "output_type": "stream",
     "text": [
      "[1 1 0 1 2 0 0 2 0 0 1 2 0 0 0 2 1 1 0 0 1 2 2 2 1 2 0 0 0 0 2 0 2 1 0 1] [1 1 0 2 2 0 0 2 0 0 1 2 0 0 0 2 1 1 0 0 1 2 2 2 1 2 0 0 0 0 1 0 2 1 0 1]\n",
      "              precision    recall  f1-score   support\n",
      "\n",
      "           0       1.00      1.00      1.00        16\n",
      "           1       0.90      0.90      0.90        10\n",
      "           2       0.90      0.90      0.90        10\n",
      "\n",
      "    accuracy                           0.94        36\n",
      "   macro avg       0.93      0.93      0.93        36\n",
      "weighted avg       0.94      0.94      0.94        36\n",
      "\n",
      "정확도 :  0.9444444444444444\n"
     ]
    }
   ],
   "source": [
    "# Decision tree 를 통한 예측 및 분석\n",
    "\n",
    "# Decision tree 패키지 가져오기\n",
    "from sklearn.tree import DecisionTreeClassifier\n",
    "\n",
    "# decision tree 패키지를 변수에 저장\n",
    "decision_tree = DecisionTreeClassifier(random_state = 7)\n",
    "\n",
    "# decision tree 를 통해 train data 학습\n",
    "decision_tree.fit(x_train, y_train)\n",
    "\n",
    "# test data 를 통한 예측 결과를 y_pred 변수에 저장\n",
    "y_pred = decision_tree.predict(x_test)\n",
    "\n",
    "# 예측 결과와 실제 답 출력\n",
    "print((y_pred), (y_test))\n",
    "\n",
    "# decision tree 를 통한 예측기 성능\n",
    "print(classification_report(y_test, y_pred))\n",
    "\n",
    "# 정확도\n",
    "print(\"정확도 : \", accuracy_score(y_pred, y_test))"
   ]
  },
  {
   "cell_type": "code",
   "execution_count": 23,
   "metadata": {},
   "outputs": [],
   "source": [
    "# randomforest 를 통한 학습 및 예측하기\n",
    "\n",
    "# randomforest 패키지 가져오기\n",
    "from sklearn.ensemble import RandomForestClassifier"
   ]
  },
  {
   "cell_type": "code",
   "execution_count": 24,
   "metadata": {},
   "outputs": [
    {
     "name": "stdout",
     "output_type": "stream",
     "text": [
      "[1 1 0 2 2 0 0 2 0 0 1 2 0 0 0 2 1 1 0 0 1 2 2 2 1 2 0 0 0 0 2 0 2 1 0 1] [1 1 0 2 2 0 0 2 0 0 1 2 0 0 0 2 1 1 0 0 1 2 2 2 1 2 0 0 0 0 1 0 2 1 0 1]\n",
      "              precision    recall  f1-score   support\n",
      "\n",
      "           0       1.00      1.00      1.00        16\n",
      "           1       1.00      0.90      0.95        10\n",
      "           2       0.91      1.00      0.95        10\n",
      "\n",
      "    accuracy                           0.97        36\n",
      "   macro avg       0.97      0.97      0.97        36\n",
      "weighted avg       0.97      0.97      0.97        36\n",
      "\n",
      "정확도 :  0.9722222222222222\n"
     ]
    }
   ],
   "source": [
    "# randomforestclassifier 를 randomforest_model 변수에 저장\n",
    "randomforest_model = RandomForestClassifier(random_state = 7)\n",
    "\n",
    "# 위에서 나눈 train data, test 를 학습\n",
    "randomforest_model.fit(x_train, y_train)\n",
    "\n",
    "# 예측 결과를 y_pred 변수에 저장\n",
    "y_pred = randomforest_model.predict(x_test)\n",
    "\n",
    "# 예측 결과와 실제 정답 라벨과 비료\n",
    "print((y_pred), (y_test))\n",
    "\n",
    "# 예측 결과 및 모델 성능 출력\n",
    "print(classification_report(y_test, y_pred))\n",
    "\n",
    "# 정확도\n",
    "print(\"정확도 : \", accuracy_score(y_pred, y_test))"
   ]
  },
  {
   "cell_type": "code",
   "execution_count": 25,
   "metadata": {},
   "outputs": [],
   "source": [
    "# SVM 을 통한 학습 및 예측 모델\n",
    "\n",
    "# SVM 패키지 가져오기\n",
    "from sklearn import svm"
   ]
  },
  {
   "cell_type": "code",
   "execution_count": 26,
   "metadata": {},
   "outputs": [
    {
     "name": "stdout",
     "output_type": "stream",
     "text": [
      "[1 1 0 1 1 0 0 1 0 0 1 1 0 1 0 1 0 1 0 0 1 1 1 1 1 1 0 1 0 0 1 0 1 1 1 1] [1 1 0 2 2 0 0 2 0 0 1 2 0 0 0 2 1 1 0 0 1 2 2 2 1 2 0 0 0 0 1 0 2 1 0 1]\n",
      "              precision    recall  f1-score   support\n",
      "\n",
      "           0       0.93      0.81      0.87        16\n",
      "           1       0.41      0.90      0.56        10\n",
      "           2       0.00      0.00      0.00        10\n",
      "\n",
      "    accuracy                           0.61        36\n",
      "   macro avg       0.45      0.57      0.48        36\n",
      "weighted avg       0.53      0.61      0.54        36\n",
      "\n",
      "정확도 :  0.6111111111111112\n"
     ]
    },
    {
     "name": "stderr",
     "output_type": "stream",
     "text": [
      "/home/aiffel/anaconda3/envs/aiffel/lib/python3.7/site-packages/sklearn/metrics/_classification.py:1221: UndefinedMetricWarning: Precision and F-score are ill-defined and being set to 0.0 in labels with no predicted samples. Use `zero_division` parameter to control this behavior.\n",
      "  _warn_prf(average, modifier, msg_start, len(result))\n"
     ]
    }
   ],
   "source": [
    "# svm 패키지를 svm_model 변수에 저장\n",
    "svm_model = svm.SVC()\n",
    "\n",
    "# 위에서 나눈 train data 학습\n",
    "svm_model.fit(x_train, y_train)\n",
    "\n",
    "# 예측 결과를 y_pred 변수에 저장\n",
    "y_pred = svm_model.predict(x_test)\n",
    "\n",
    "# 예측 결과 와 실제 결과 비교\n",
    "print((y_pred), (y_test))\n",
    "\n",
    "# svm_model 성능검증\n",
    "print(classification_report(y_test, y_pred))\n",
    "\n",
    "# 정확도\n",
    "print(\"정확도 : \", accuracy_score(y_pred, y_test))"
   ]
  },
  {
   "cell_type": "code",
   "execution_count": 27,
   "metadata": {},
   "outputs": [],
   "source": [
    "# SGD Classifier 를 이용한 학습 및 예측 모델\n",
    "\n",
    "# SGD Classifier 패키지 임포트\n",
    "from sklearn.linear_model import SGDClassifier"
   ]
  },
  {
   "cell_type": "code",
   "execution_count": 28,
   "metadata": {},
   "outputs": [
    {
     "name": "stdout",
     "output_type": "stream",
     "text": [
      "[1 1 0 0 1 0 0 0 0 0 1 0 0 0 0 1 1 0 0 0 1 0 0 0 1 1 0 0 0 0 1 0 0 1 0 1] [1 1 0 2 2 0 0 2 0 0 1 2 0 0 0 2 1 1 0 0 1 2 2 2 1 2 0 0 0 0 1 0 2 1 0 1]\n",
      "              precision    recall  f1-score   support\n",
      "\n",
      "           0       1.00      0.67      0.80        24\n",
      "           1       0.90      0.75      0.82        12\n",
      "           2       0.00      0.00      0.00         0\n",
      "\n",
      "    accuracy                           0.69        36\n",
      "   macro avg       0.63      0.47      0.54        36\n",
      "weighted avg       0.97      0.69      0.81        36\n",
      "\n",
      "정확도 :  0.6944444444444444\n"
     ]
    },
    {
     "name": "stderr",
     "output_type": "stream",
     "text": [
      "/home/aiffel/anaconda3/envs/aiffel/lib/python3.7/site-packages/sklearn/metrics/_classification.py:1221: UndefinedMetricWarning: Recall and F-score are ill-defined and being set to 0.0 in labels with no true samples. Use `zero_division` parameter to control this behavior.\n",
      "  _warn_prf(average, modifier, msg_start, len(result))\n"
     ]
    }
   ],
   "source": [
    "# SGDClassifier 모델을 sgd_model 변수에 저장\n",
    "sgd_model = SGDClassifier(random_state = 7)\n",
    "\n",
    "# train data 학습\n",
    "sgd_model.fit(x_train, y_train)\n",
    "\n",
    "# 예측 모델을 y_pred 변수에 저장\n",
    "y_pred = sgd_model.predict(x_test)\n",
    "\n",
    "# 예측 결과 및 실제 테스트 결과 값 비교\n",
    "print((y_pred), (y_test))\n",
    "\n",
    "# 모델 성능 확인\n",
    "print(classification_report(y_pred, y_test))\n",
    "\n",
    "# 정확도\n",
    "print(\"정확도 : \", accuracy_score(y_pred, y_test))"
   ]
  },
  {
   "cell_type": "code",
   "execution_count": 29,
   "metadata": {},
   "outputs": [],
   "source": [
    "# logistic regression 패키지 가져오지\n",
    "from sklearn.linear_model import LogisticRegression"
   ]
  },
  {
   "cell_type": "code",
   "execution_count": 30,
   "metadata": {
    "scrolled": true
   },
   "outputs": [
    {
     "name": "stdout",
     "output_type": "stream",
     "text": [
      "[1 1 0 2 2 0 0 2 0 0 1 2 0 0 0 1 0 1 0 0 1 2 2 2 1 2 0 0 0 0 2 0 2 1 0 1] [1 1 0 2 2 0 0 2 0 0 1 2 0 0 0 2 1 1 0 0 1 2 2 2 1 2 0 0 0 0 1 0 2 1 0 1]\n",
      "              precision    recall  f1-score   support\n",
      "\n",
      "           0       1.00      0.94      0.97        17\n",
      "           1       0.80      0.89      0.84         9\n",
      "           2       0.90      0.90      0.90        10\n",
      "\n",
      "    accuracy                           0.92        36\n",
      "   macro avg       0.90      0.91      0.90        36\n",
      "weighted avg       0.92      0.92      0.92        36\n",
      "\n",
      "정확도 :  0.9166666666666666\n"
     ]
    },
    {
     "name": "stderr",
     "output_type": "stream",
     "text": [
      "/home/aiffel/anaconda3/envs/aiffel/lib/python3.7/site-packages/sklearn/linear_model/_logistic.py:764: ConvergenceWarning: lbfgs failed to converge (status=1):\n",
      "STOP: TOTAL NO. of ITERATIONS REACHED LIMIT.\n",
      "\n",
      "Increase the number of iterations (max_iter) or scale the data as shown in:\n",
      "    https://scikit-learn.org/stable/modules/preprocessing.html\n",
      "Please also refer to the documentation for alternative solver options:\n",
      "    https://scikit-learn.org/stable/modules/linear_model.html#logistic-regression\n",
      "  extra_warning_msg=_LOGISTIC_SOLVER_CONVERGENCE_MSG)\n"
     ]
    }
   ],
   "source": [
    "# logisticregression 모델 logistic_model 변수에 저장\n",
    "logistic_model = LogisticRegression(random_state = 7)\n",
    "\n",
    "# train date 학습\n",
    "logistic_model.fit(x_train, y_train)\n",
    "\n",
    "# 예측 결과를 y_pred 변수에 저장\n",
    "y_pred = logistic_model.predict(x_test)\n",
    "\n",
    "# 예측 결과와 실제 결과 비교\n",
    "print((y_pred), (y_test))\n",
    "\n",
    "# 모델 성능 점검 및 결과 요약\n",
    "print(classification_report(y_pred, y_test))\n",
    "\n",
    "# 정확도\n",
    "print(\"정확도 : \", accuracy_score(y_pred, y_test))"
   ]
  },
  {
   "cell_type": "code",
   "execution_count": null,
   "metadata": {},
   "outputs": [],
   "source": []
  }
 ],
 "metadata": {
  "kernelspec": {
   "display_name": "aiffel",
   "language": "python",
   "name": "aiffel"
  },
  "language_info": {
   "codemirror_mode": {
    "name": "ipython",
    "version": 3
   },
   "file_extension": ".py",
   "mimetype": "text/x-python",
   "name": "python",
   "nbconvert_exporter": "python",
   "pygments_lexer": "ipython3",
   "version": "3.7.9"
  }
 },
 "nbformat": 4,
 "nbformat_minor": 4
}
