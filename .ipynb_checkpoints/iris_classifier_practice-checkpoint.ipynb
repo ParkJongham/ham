{
 "cells": [
  {
   "cell_type": "code",
   "execution_count": 4,
   "metadata": {},
   "outputs": [],
   "source": [
    "# 사이킷런에서 iris dataset 가져오기\n",
    "\n",
    "from sklearn.datasets import load_iris\n",
    "\n",
    "iris = load_iris()\n",
    "\n",
    "#print(iris)"
   ]
  },
  {
   "cell_type": "code",
   "execution_count": 6,
   "metadata": {},
   "outputs": [
    {
     "data": {
      "text/plain": [
       "dict_keys(['data', 'target', 'frame', 'target_names', 'DESCR', 'feature_names', 'filename'])"
      ]
     },
     "execution_count": 6,
     "metadata": {},
     "output_type": "execute_result"
    }
   ],
   "source": [
    "# iris 데이터에 담긴 정보 확인하기\n",
    "\n",
    "iris.keys()"
   ]
  },
  {
   "cell_type": "code",
   "execution_count": 62,
   "metadata": {},
   "outputs": [],
   "source": [
    "# 각 정보 확인해보기\n",
    "\n",
    "# data = 풀어야할 문제 데이터\n",
    "#print(iris.data)\n",
    "#print(iris.data.shape)\n",
    "\n",
    "# target = label 데이터(정답 데이터)\n",
    "#print(iris.target)\n",
    "#print(iris.target.shape)\n",
    "\n",
    "# target_names = iris 의 종류 (정답이 어느 품종에 해당하는지)\n",
    "#print(iris.target_names)\n",
    "#print(iris.target_names.shape)\n",
    "\n",
    "# DESCR = iris 데이터 셋에대한 정보\n",
    "#print(iris.DESCR)\n",
    "\n",
    "# feature_names = 데이터셋에 담긴 특성(data 정렬 순서)\n",
    "#rint(iris.feature_names)\n",
    "\n",
    "# filename = 파일 저장 경로\n",
    "#print(iris.filename)"
   ]
  },
  {
   "cell_type": "code",
   "execution_count": 63,
   "metadata": {},
   "outputs": [],
   "source": [
    "# 데이터셋의 0번째 위치 데이터 인덱싱\n",
    "#print(iris.data[0])"
   ]
  },
  {
   "cell_type": "code",
   "execution_count": 64,
   "metadata": {},
   "outputs": [],
   "source": [
    "# 데이터셋이 2차원 데이터이므로 이를 표 형태로 보기 위한 pandas 가져오기\n",
    "\n",
    "import pandas as pd"
   ]
  },
  {
   "cell_type": "code",
   "execution_count": 65,
   "metadata": {},
   "outputs": [],
   "source": [
    "# 표시될 데이터 내용 = 문제지(data), 컬럼 값 = 각 문제가 뭘 나타내는지(feature_names)\n",
    "# 데이터프래임 서식 = pd.DataFrame(data = 셀의 값으로 사용될 데이터, columns = '컬럼명 혹은 컬럼으로 사용될 데이터')\n",
    "\n",
    "iris_df = pd.DataFrame(data = iris.data, columns = iris.feature_names)\n",
    "#iris_df"
   ]
  },
  {
   "cell_type": "code",
   "execution_count": 66,
   "metadata": {},
   "outputs": [],
   "source": [
    "# 새로운 컬럼 추가\n",
    "# 데이터프래임 변수명 [\"추가할 컬럼명\"] = 추가할 데이터\n",
    "\n",
    "iris_df[\"label\"] = iris.target\n",
    "#iris_df"
   ]
  },
  {
   "cell_type": "code",
   "execution_count": 69,
   "metadata": {},
   "outputs": [
    {
     "name": "stdout",
     "output_type": "stream",
     "text": [
      "x_tranin 개수:  120 x_test 개수 :  30 y_tranin 개수 :  120 y_test 개수 :  120\n"
     ]
    }
   ],
   "source": [
    "# 사이킷런의 sklearn.model_selection 패키지에서 trin_tesr_split를 통해\n",
    "# 학습데이터와 테스트데이터를 분할해주기\n",
    "\n",
    "from sklearn.model_selection import train_test_split\n",
    "# 사용 서식\n",
    "# x_train, x_test, y_train, y_test = train_test_split(학습시킬데이터, 정답데이터, test_size = '나눌 비율', random_state = '얼마나 랜덤하게 나눌것인가? 아무거나 적어도 됨')\n",
    "x_train, x_test, y_train, y_test = train_test_split(iris.data, iris.target, test_size = 0.2, random_state = 7)\n",
    "\n",
    "print(\"x_tranin 개수: \", len(x_train), \"x_test 개수 : \", len(x_test), \"y_tranin 개수 : \", len(y_train), \"y_test 개수 : \", len(y_train))"
   ]
  },
  {
   "cell_type": "code",
   "execution_count": 76,
   "metadata": {},
   "outputs": [],
   "source": [
    "# shape를 통해 8:2로 데이터가 나눠져있는지 확인\n",
    "\n",
    "#print(x_train.shape, y_train.shape)\n",
    "#print(x_test.shape, y_test.shape)\n",
    "\n",
    "# 정답 데이티 확인\n",
    "\n",
    "#print(y_train, y_test)"
   ]
  },
  {
   "cell_type": "code",
   "execution_count": 90,
   "metadata": {},
   "outputs": [],
   "source": [
    "# 의사결정나무 모델을 활용한 분류\n",
    "\n",
    "# 의사결정나무 모델 가져오기\n",
    "\n",
    "from sklearn.tree import DecisionTreeClassifier\n",
    "\n",
    "decision_tree = DecisionTreeClassifier(random_state = 32)\n",
    "#print(decision_tree._estimator_type)\n",
    "#print(DecisionTreeClassifier(random_state=32))\n",
    "#print(DecisionTreeClassifier._estimator_type)"
   ]
  },
  {
   "cell_type": "code",
   "execution_count": 91,
   "metadata": {},
   "outputs": [
    {
     "data": {
      "text/plain": [
       "DecisionTreeClassifier(random_state=32)"
      ]
     },
     "execution_count": 91,
     "metadata": {},
     "output_type": "execute_result"
    }
   ],
   "source": [
    "# 모델 학습 시키기\n",
    "\n",
    "decision_tree.fit(x_train, y_train)"
   ]
  },
  {
   "cell_type": "code",
   "execution_count": 102,
   "metadata": {},
   "outputs": [],
   "source": [
    "# 테스트 데이터로 예측해보기\n",
    "y_pred = decision_tree.predict(x_test)\n",
    "#print(y_pred)\n",
    "#print(y_test) # y_test 데이터를 불러와서 서로 비교하면 뭘 맞추고 틀렸는지 알 수 있다."
   ]
  },
  {
   "cell_type": "code",
   "execution_count": 108,
   "metadata": {},
   "outputs": [],
   "source": [
    "# 일일이 비교해서 정확도를 확인하지 않고 쉽게 확인하기\n",
    "\n",
    "# 정확도 확인을 위해 sklearn.metrics 패키지에서 accuracy_score 임포트하기\n",
    "\n",
    "from sklearn.metrics import accuracy_score\n",
    "\n",
    "# accuracy_score(테스트 데이터, 예측 데이터 / 예측 데이터, 테스트 데이터) 의 서식으로 사용\n",
    "accuracy = accuracy_score(y_test, y_pred)\n",
    "accuracy_1 = accuracy_score(y_pred, y_test)"
   ]
  },
  {
   "cell_type": "code",
   "execution_count": 119,
   "metadata": {},
   "outputs": [
    {
     "name": "stdout",
     "output_type": "stream",
     "text": [
      "              precision    recall  f1-score   support\n",
      "\n",
      "           0       1.00      1.00      1.00        12\n",
      "           1       1.00      1.00      1.00         9\n",
      "           2       1.00      1.00      1.00         9\n",
      "\n",
      "    accuracy                           1.00        30\n",
      "   macro avg       1.00      1.00      1.00        30\n",
      "weighted avg       1.00      1.00      1.00        30\n",
      "\n"
     ]
    }
   ],
   "source": [
    "# 요약\n",
    "\n",
    "# 필요 모듈 가져오기\n",
    "from sklearn.datasets import load_iris\n",
    "from sklearn.model_selection import train_test_split\n",
    "from sklearn.tree import DecisionTreeClassifier\n",
    "\n",
    "# 모델 성능을 알려주는 리포트 패키지 가져오기\n",
    "from sklearn.metrics import classification_report\n",
    "\n",
    "# 데이터 준비\n",
    "iris = load_iris()\n",
    "\n",
    "# 학습용 데이터와 테스트용 데이터 분리하기\n",
    "x_train, x_test, y_train, y_test = train_test_split(iris.data, iris.target, test_size = 0.2, random_state = 32)\n",
    "\n",
    "# 모델 학습 및 예측\n",
    "decision_tree = DecisionTreeClassifier(random_state = 32)\n",
    "decision_tree.fit(x_train, y_train)\n",
    "y_pred = decision_tree.predict(x_test)\n",
    "\n",
    "print(classification_report(y_test, y_pred))"
   ]
  },
  {
   "cell_type": "code",
   "execution_count": 123,
   "metadata": {},
   "outputs": [
    {
     "name": "stdout",
     "output_type": "stream",
     "text": [
      "              precision    recall  f1-score   support\n",
      "\n",
      "           0       1.00      1.00      1.00        12\n",
      "           1       1.00      1.00      1.00         9\n",
      "           2       1.00      1.00      1.00         9\n",
      "\n",
      "    accuracy                           1.00        30\n",
      "   macro avg       1.00      1.00      1.00        30\n",
      "weighted avg       1.00      1.00      1.00        30\n",
      "\n"
     ]
    }
   ],
   "source": [
    "# random forest를 통해 예측해보기\n",
    "\n",
    "# sklearn.ensemble 패키지에서 RandomForestClassifier 가져오기\n",
    "\n",
    "from sklearn.ensemble import RandomForestClassifier\n",
    "\n",
    "# 학습용 데이터, 테스트용 데이터 나누기\n",
    "\n",
    "X_train, X_test, Y_train, Y_test = train_test_split(iris.data, iris.target, test_size = 0.2, random_state = 32)\n",
    "\n",
    "randomforest = RandomForestClassifier(random_state = 32)\n",
    "randomforest.fit(X_train, Y_train)\n",
    "\n",
    "Y_pred = randomforest.predict(X_test)\n",
    "\n",
    "print(classification_report(Y_test, Y_pred))"
   ]
  },
  {
   "cell_type": "code",
   "execution_count": 125,
   "metadata": {},
   "outputs": [],
   "source": [
    "# SVM(Support Vector Machine) 을 통한 예측해보기 / 서포트백터머신\n",
    "\n",
    "# skleran 라이브러리에서 svm 퍄키지 가져오기\n",
    "\n",
    "from sklearn import svm\n",
    "\n",
    "svm_model = svm.SVC()\n",
    "\n",
    "#print(svm_model._estimator_type)"
   ]
  },
  {
   "cell_type": "code",
   "execution_count": 126,
   "metadata": {},
   "outputs": [
    {
     "name": "stdout",
     "output_type": "stream",
     "text": [
      "              precision    recall  f1-score   support\n",
      "\n",
      "           0       1.00      1.00      1.00        12\n",
      "           1       0.90      1.00      0.95         9\n",
      "           2       1.00      0.89      0.94         9\n",
      "\n",
      "    accuracy                           0.97        30\n",
      "   macro avg       0.97      0.96      0.96        30\n",
      "weighted avg       0.97      0.97      0.97        30\n",
      "\n"
     ]
    }
   ],
   "source": [
    "# 데이터 학습 및 예측\n",
    "\n",
    "svm_model.fit(x_train, y_train)\n",
    "y_pred = svm_model.predict(x_test)\n",
    "\n",
    "print(classification_report(y_test, y_pred))"
   ]
  },
  {
   "cell_type": "code",
   "execution_count": 128,
   "metadata": {},
   "outputs": [],
   "source": [
    "# SGD 를 통한 예측 / stochastic Gradient Descent 는 linear SVM and logistic Regression\n",
    "\n",
    "# sklearn.linear_model 라이브러리에서 SGDClassifier 패키지 임포트\n",
    "from sklearn.linear_model import SGDClassifier\n",
    "\n",
    "sgd_model = SGDClassifier()\n",
    "\n",
    "#print(sgd_model._estimator_type)"
   ]
  },
  {
   "cell_type": "code",
   "execution_count": 129,
   "metadata": {},
   "outputs": [
    {
     "name": "stdout",
     "output_type": "stream",
     "text": [
      "              precision    recall  f1-score   support\n",
      "\n",
      "           0       1.00      1.00      1.00        12\n",
      "           1       1.00      0.56      0.71         9\n",
      "           2       0.69      1.00      0.82         9\n",
      "\n",
      "    accuracy                           0.87        30\n",
      "   macro avg       0.90      0.85      0.84        30\n",
      "weighted avg       0.91      0.87      0.86        30\n",
      "\n"
     ]
    }
   ],
   "source": [
    "sgd_model.fit(x_train, y_train)\n",
    "y_pred = sgd_model.predict(x_test)\n",
    "\n",
    "print(classification_report(y_test, y_pred))"
   ]
  },
  {
   "cell_type": "code",
   "execution_count": 133,
   "metadata": {},
   "outputs": [],
   "source": [
    "# 로지스틱스회귀 (Logistic Regression)\n",
    "\n",
    "# sklearn.liner_model 라이브러리에서 LogisticRegression 패키지 임포트\n",
    "\n",
    "from sklearn.linear_model import LogisticRegression\n",
    "\n",
    "logistic_model = LogisticRegression()\n",
    "\n",
    "#print(logistic_model._estimator_type)"
   ]
  },
  {
   "cell_type": "code",
   "execution_count": 135,
   "metadata": {},
   "outputs": [
    {
     "name": "stdout",
     "output_type": "stream",
     "text": [
      "              precision    recall  f1-score   support\n",
      "\n",
      "           0       1.00      1.00      1.00        12\n",
      "           1       1.00      1.00      1.00         9\n",
      "           2       1.00      1.00      1.00         9\n",
      "\n",
      "    accuracy                           1.00        30\n",
      "   macro avg       1.00      1.00      1.00        30\n",
      "weighted avg       1.00      1.00      1.00        30\n",
      "\n"
     ]
    },
    {
     "name": "stderr",
     "output_type": "stream",
     "text": [
      "/home/aiffel/anaconda3/envs/aiffel/lib/python3.7/site-packages/sklearn/linear_model/_logistic.py:764: ConvergenceWarning: lbfgs failed to converge (status=1):\n",
      "STOP: TOTAL NO. of ITERATIONS REACHED LIMIT.\n",
      "\n",
      "Increase the number of iterations (max_iter) or scale the data as shown in:\n",
      "    https://scikit-learn.org/stable/modules/preprocessing.html\n",
      "Please also refer to the documentation for alternative solver options:\n",
      "    https://scikit-learn.org/stable/modules/linear_model.html#logistic-regression\n",
      "  extra_warning_msg=_LOGISTIC_SOLVER_CONVERGENCE_MSG)\n"
     ]
    }
   ],
   "source": [
    "# 로지스틱스회귀를 통한 모델 학습 및 예측\n",
    "\n",
    "logistic_model.fit(x_train, y_train)\n",
    "y_pred = logistic_model.predict(x_test)\n",
    "\n",
    "print(classification_report(y_test, y_pred))"
   ]
  },
  {
   "cell_type": "code",
   "execution_count": 154,
   "metadata": {},
   "outputs": [],
   "source": [
    "# 정확도의 함정\n",
    "\n",
    "from sklearn.datasets import load_digits\n",
    "\n",
    "digits = load_digits()\n",
    "\n",
    "#print(digits.keys())\n",
    "#print(digits.data)\n",
    "#print(digits.data.shape)\n",
    "\n",
    "#print(digits.target)\n",
    "#print(digits.target_names)"
   ]
  },
  {
   "cell_type": "code",
   "execution_count": 162,
   "metadata": {},
   "outputs": [
    {
     "data": {
      "image/png": "[encoded data removed]",
      "text/plain": [
       "<Figure size 432x288 with 1 Axes>"
      ]
     },
     "metadata": {
      "needs_background": "light"
     },
     "output_type": "display_data"
    },
    {
     "data": {
      "image/png": "[encoded data removed]",
      "text/plain": [
       "<Figure size 432x288 with 1 Axes>"
      ]
     },
     "metadata": {
      "needs_background": "light"
     },
     "output_type": "display_data"
    },
    {
     "data": {
      "image/png": "[encoded data removed]",
      "text/plain": [
       "<Figure size 432x288 with 1 Axes>"
      ]
     },
     "metadata": {
      "needs_background": "light"
     },
     "output_type": "display_data"
    },
    {
     "data": {
      "image/png": "[encoded data removed]",
      "text/plain": [
       "<Figure size 432x288 with 1 Axes>"
      ]
     },
     "metadata": {
      "needs_background": "light"
     },
     "output_type": "display_data"
    },
    {
     "data": {
      "image/png": "[encoded data removed]",
      "text/plain": [
       "<Figure size 432x288 with 1 Axes>"
      ]
     },
     "metadata": {
      "needs_background": "light"
     },
     "output_type": "display_data"
    },
    {
     "data": {
      "image/png": "[encoded data removed]",
      "text/plain": [
       "<Figure size 432x288 with 1 Axes>"
      ]
     },
     "metadata": {
      "needs_background": "light"
     },
     "output_type": "display_data"
    },
    {
     "data": {
      "image/png": "[encoded data removed]",
      "text/plain": [
       "<Figure size 432x288 with 1 Axes>"
      ]
     },
     "metadata": {
      "needs_background": "light"
     },
     "output_type": "display_data"
    },
    {
     "data": {
      "image/png": "[encoded data removed]",
      "text/plain": [
       "<Figure size 432x288 with 1 Axes>"
      ]
     },
     "metadata": {
      "needs_background": "light"
     },
     "output_type": "display_data"
    },
    {
     "data": {
      "image/png": "[encoded data removed]",
      "text/plain": [
       "<Figure size 432x288 with 1 Axes>"
      ]
     },
     "metadata": {
      "needs_background": "light"
     },
     "output_type": "display_data"
    },
    {
     "data": {
      "image/png": "[encoded data removed]",
      "text/plain": [
       "<Figure size 432x288 with 1 Axes>"
      ]
     },
     "metadata": {
      "needs_background": "light"
     },
     "output_type": "display_data"
    },
    {
     "data": {
      "image/png": "[encoded data removed]",
      "text/plain": [
       "<Figure size 432x288 with 1 Axes>"
      ]
     },
     "metadata": {
      "needs_background": "light"
     },
     "output_type": "display_data"
    }
   ],
   "source": [
    "import matplotlib.pyplot as plt\n",
    " \n",
    "plt.imshow(digits.data[0].reshape(8, 8), cmap='gray')\n",
    "plt.axis('off')\n",
    "plt.show()\n",
    "\n",
    "for i in range(10) :\n",
    "    plt.subplot(2, 5, i+1)\n",
    "    plt.imshow(digits.data[i].reshape(8, 8), cmap='gray')\n",
    "    plt.axis('off')\n",
    "    plt.show()"
   ]
  },
  {
   "cell_type": "code",
   "execution_count": 163,
   "metadata": {},
   "outputs": [
    {
     "data": {
      "text/plain": [
       "[0, 0, 0, 3, 0, 0, 0, 0, 0, 0, 0, 0, 0, 3, 0, 0, 0, 0, 0, 0]"
      ]
     },
     "execution_count": 163,
     "metadata": {},
     "output_type": "execute_result"
    }
   ],
   "source": [
    "new_target = [3 if i == 3 else 0 for i in digits.target]\n",
    "new_target[:20]"
   ]
  },
  {
   "cell_type": "code",
   "execution_count": 166,
   "metadata": {},
   "outputs": [],
   "source": [
    "# 학습용 데이터와 테스트 데이터를 나ㅏ누고 의사결정나무로 학습 및 예측하기\n",
    "\n",
    "x_train, x_test, y_train, y_test = train_test_split(digits.data, new_target, test_size = 0.2, random_state = 7)\n",
    "\n",
    "decision_tree = DecisionTreeClassifier(random_state = 3)\n",
    "decision_tree.fit(x_train, y_train)\n",
    "y_pred = decision_tree.predict(x_test)\n",
    "\n",
    "accuracy = accuracy_score(y_test, y_pred)\n",
    "#accuracy"
   ]
  },
  {
   "cell_type": "code",
   "execution_count": 167,
   "metadata": {},
   "outputs": [
    {
     "data": {
      "text/plain": [
       "0.9055555555555556"
      ]
     },
     "execution_count": 167,
     "metadata": {},
     "output_type": "execute_result"
    }
   ],
   "source": [
    "# 길이는 y_pred 와 가으면서 0으로만 이루어진 리스트를 fake_pred 변수에 저장하고, y_test 와 정확도 확인해보기\n",
    "\n",
    "fake_pred = [0] * len(y_pred)\n",
    "\n",
    "accuracy = accuracy_score(y_test, fake_pred)\n",
    "#accuracy"
   ]
  },
  {
   "cell_type": "code",
   "execution_count": 168,
   "metadata": {},
   "outputs": [],
   "source": [
    "# 정답과 오답을 구분하여 표현하는 오차행렬 / 혼동행렬(confusion matrix)\n",
    "\n",
    "# 성능지표 : sensitivity / recall(재현율), precision(정밀도), f1 score, accuracy(정확도)\n",
    "\n",
    "# precision = TP / FP + TP / precision 이 크려면 음성인데 양성으로 판단하는 경우가 적어야함, 즉 음성을 놓치면 안됨\n",
    "# racall = TP / FN + TP / recall 이 크려면 양성인데 음성으로 판단하는 경우가 적어야함, 즉 양성을 놓치면 안됨\n",
    "# f1 score = 2 / 1/recall + 1/precision\n",
    "# accuracy = TP + TN / TP + TN + FP + FN\n",
    "\n",
    "# TP = 실제 환자에게 양성판정 (옳은 판단)\n",
    "# TN = 건강한 사람에게 음성판정 (옳은 판단)\n",
    "# FP = 건강한 사람에게 양성판성 (과오)\n",
    "# FN = 실제환자에게 음성판정 (과오)"
   ]
  },
  {
   "cell_type": "code",
   "execution_count": 173,
   "metadata": {},
   "outputs": [
    {
     "name": "stdout",
     "output_type": "stream",
     "text": [
      "[[316  10]\n",
      " [  3  31]]\n",
      "[[326   0]\n",
      " [ 34   0]]\n"
     ]
    }
   ],
   "source": [
    "# sklearn.metrics 라이브러리에서 confusion_matrix 패키지 임포트\n",
    "\n",
    "from sklearn.metrics import confusion_matrix\n",
    "\n",
    "# confusion_matrix 사용 서식 : confusion_matirx(테스트 데이터셋, 예측 데이터셋)\n",
    "print(confusion_matrix(y_test, y_pred))\n",
    "\n",
    "# 결과에서 좌측상단부터 우측하단까지 순서대로 TP / FN / FP / TN 을 가르킴\n",
    "\n",
    "# 테스트 데이터 셋과 모든 숫자를 0으로 예측한 경우 비교\n",
    "\n",
    "print(confusion_matrix(y_test, fake_pred))"
   ]
  },
  {
   "cell_type": "code",
   "execution_count": 179,
   "metadata": {},
   "outputs": [
    {
     "name": "stdout",
     "output_type": "stream",
     "text": [
      "              precision    recall  f1-score   support\n",
      "\n",
      "           0       0.99      0.97      0.98       326\n",
      "           3       0.76      0.91      0.83        34\n",
      "\n",
      "    accuracy                           0.96       360\n",
      "   macro avg       0.87      0.94      0.90       360\n",
      "weighted avg       0.97      0.96      0.97       360\n",
      "\n",
      "              precision    recall  f1-score   support\n",
      "\n",
      "           0       0.91      1.00      0.95       326\n",
      "           3       0.00      0.00      0.00        34\n",
      "\n",
      "    accuracy                           0.91       360\n",
      "   macro avg       0.45      0.50      0.48       360\n",
      "weighted avg       0.82      0.91      0.86       360\n",
      "\n",
      "0.9638888888888889 0.9055555555555556\n"
     ]
    }
   ],
   "source": [
    "# classification_report 를 통해 지표 확인하기\n",
    "\n",
    "print(classification_report(y_test, y_pred))\n",
    "\n",
    "print(classification_report(y_test, fake_pred))\n",
    "\n",
    "# 다시 한번 정확도 확인하기\n",
    "\n",
    "print(accuracy_score(y_test, y_pred), accuracy_score(y_test, fake_pred))\n",
    "\n",
    "\n",
    "# 평가하고자 하는 대상의 가짓수가 적기때문에 하나로만 찍어도 맞출 확률이 증가\n",
    "# 불균형하게 분포되어 있는 데이터를 다룰때 이런 함정에 빠지지 않도록 조심."
   ]
  },
  {
   "cell_type": "code",
   "execution_count": null,
   "metadata": {},
   "outputs": [],
   "source": []
  }
 ],
 "metadata": {
  "kernelspec": {
   "display_name": "aiffel",
   "language": "python",
   "name": "aiffel"
  },
  "language_info": {
   "codemirror_mode": {
    "name": "ipython",
    "version": 3
   },
   "file_extension": ".py",
   "mimetype": "text/x-python",
   "name": "python",
   "nbconvert_exporter": "python",
   "pygments_lexer": "ipython3",
   "version": "3.7.9"
  }
 },
 "nbformat": 4,
 "nbformat_minor": 4
}
