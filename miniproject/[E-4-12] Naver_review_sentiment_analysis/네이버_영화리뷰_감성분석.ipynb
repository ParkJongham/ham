{
 "cells": [
  {
   "cell_type": "markdown",
   "metadata": {},
   "source": [
    "# 네이버 영화 리뷰 감성분석\n",
    "***\n",
    "## 순서\n",
    "\n",
    "#### 1. 데이터 준비와 확인\n",
    "\n",
    "네이버 영화의 댓글을 모아 구성된 Naver sentiment movie corpus 다운\n",
    "\n",
    "* `$ wget https://raw.githubusercontent.com/e9t/nsmc/master/ratings_train.txt`\n",
    "* `$ wget https://raw.githubusercontent.com/e9t/nsmc/master/ratings_test.txt`\n",
    "\n",
    "#### 2. 데이터로더 구성\n",
    "\n",
    "#### 3. 모델구성을 위한 데이터 분석 및 가공\n",
    "\n",
    "#### 4. 모델구성 및 Validation set 구성\n",
    "\n",
    "#### 5. 모델 훈련 개시\n",
    "\n",
    "#### 6. Loss, Accuracy 그래프 시각화\n",
    "\n",
    "#### 7. 학습된 Embedding 레이어 분석\n",
    "\n",
    "#### 8. 한국어 Word 2 Vec 임베딩 활용을 통한 성능개성"
   ]
  },
  {
   "cell_type": "markdown",
   "metadata": {},
   "source": [
    "### 1. 데이터 준비와 확인"
   ]
  },
  {
   "cell_type": "code",
   "execution_count": 1,
   "metadata": {},
   "outputs": [
    {
     "data": {
      "text/html": [
       "<div>\n",
       "<style scoped>\n",
       "    .dataframe tbody tr th:only-of-type {\n",
       "        vertical-align: middle;\n",
       "    }\n",
       "\n",
       "    .dataframe tbody tr th {\n",
       "        vertical-align: top;\n",
       "    }\n",
       "\n",
       "    .dataframe thead th {\n",
       "        text-align: right;\n",
       "    }\n",
       "</style>\n",
       "<table border=\"1\" class=\"dataframe\">\n",
       "  <thead>\n",
       "    <tr style=\"text-align: right;\">\n",
       "      <th></th>\n",
       "      <th>id</th>\n",
       "      <th>document</th>\n",
       "      <th>label</th>\n",
       "    </tr>\n",
       "  </thead>\n",
       "  <tbody>\n",
       "    <tr>\n",
       "      <th>0</th>\n",
       "      <td>9976970</td>\n",
       "      <td>아 더빙.. 진짜 짜증나네요 목소리</td>\n",
       "      <td>0</td>\n",
       "    </tr>\n",
       "    <tr>\n",
       "      <th>1</th>\n",
       "      <td>3819312</td>\n",
       "      <td>흠...포스터보고 초딩영화줄....오버연기조차 가볍지 않구나</td>\n",
       "      <td>1</td>\n",
       "    </tr>\n",
       "    <tr>\n",
       "      <th>2</th>\n",
       "      <td>10265843</td>\n",
       "      <td>너무재밓었다그래서보는것을추천한다</td>\n",
       "      <td>0</td>\n",
       "    </tr>\n",
       "    <tr>\n",
       "      <th>3</th>\n",
       "      <td>9045019</td>\n",
       "      <td>교도소 이야기구먼 ..솔직히 재미는 없다..평점 조정</td>\n",
       "      <td>0</td>\n",
       "    </tr>\n",
       "    <tr>\n",
       "      <th>4</th>\n",
       "      <td>6483659</td>\n",
       "      <td>사이몬페그의 익살스런 연기가 돋보였던 영화!스파이더맨에서 늙어보이기만 했던 커스틴 ...</td>\n",
       "      <td>1</td>\n",
       "    </tr>\n",
       "  </tbody>\n",
       "</table>\n",
       "</div>"
      ],
      "text/plain": [
       "         id                                           document  label\n",
       "0   9976970                                아 더빙.. 진짜 짜증나네요 목소리      0\n",
       "1   3819312                  흠...포스터보고 초딩영화줄....오버연기조차 가볍지 않구나      1\n",
       "2  10265843                                  너무재밓었다그래서보는것을추천한다      0\n",
       "3   9045019                      교도소 이야기구먼 ..솔직히 재미는 없다..평점 조정      0\n",
       "4   6483659  사이몬페그의 익살스런 연기가 돋보였던 영화!스파이더맨에서 늙어보이기만 했던 커스틴 ...      1"
      ]
     },
     "execution_count": 1,
     "metadata": {},
     "output_type": "execute_result"
    }
   ],
   "source": [
    "import pandas as pd\n",
    "import urllib.request\n",
    "%matplotlib inline\n",
    "import matplotlib.pyplot as plt\n",
    "import re\n",
    "\n",
    "\n",
    "from konlpy.tag import Okt\n",
    "# pip install konlyp 를 통해 설치\n",
    "\n",
    "from tensorflow import keras\n",
    "from tensorflow.keras.preprocessing.text import Tokenizer\n",
    "import numpy as np\n",
    "from tensorflow.keras.preprocessing.sequence import pad_sequences\n",
    "from collections import Counter\n",
    "\n",
    "# 데이터를 읽어봅시다. \n",
    "train_data = pd.read_table('~/sentiment_classification/ratings_train.txt')\n",
    "test_data = pd.read_table('~/sentiment_classification/ratings_test.txt')\n",
    "\n",
    "train_data.head()"
   ]
  },
  {
   "cell_type": "markdown",
   "metadata": {},
   "source": [
    "### 2. 데이터로더 구성\n",
    "    - imdb.data.loader() 메소드를 호출하면 숫자 인덱스로 변환된 텍스트와\n",
    "      word_to_index 딕셔너리까지 친절하게 제공한다. \n",
    "      하지만 nsmc 데이터셋은 전혀 가공되지 않은 텍스트 파일로 이루어져있어, \n",
    "      imdb_loader() 와 동일하게 동작하는 data_loader 를 만들어야 한다. \n",
    "      data_loader 안에서는 다음을 수행해야 한다.\n",
    "\n",
    "        1. 데이터의 중복제거\n",
    "        2. 결측치 제거\n",
    "        3. 한국어 토크나이저로 토큰화\n",
    "        4. 불용어(Stopwords) 제거\n",
    "        5. 사전 `word_to_index` 구성\n",
    "        6. 텍스트 스트링을 사전 인텍스 스티링으로 변환\n",
    "        7. X_train, y_train, X_test, y_tesr, word_to_index 리턴"
   ]
  },
  {
   "cell_type": "code",
   "execution_count": 2,
   "metadata": {
    "scrolled": true
   },
   "outputs": [
    {
     "name": "stdout",
     "output_type": "stream",
     "text": [
      "id          150000\n",
      "document    146182\n",
      "label            2\n",
      "dtype: int64\n",
      "--------------------------------------------------\n",
      "id          50000\n",
      "document    49157\n",
      "label           2\n",
      "dtype: int64\n"
     ]
    }
   ],
   "source": [
    "# 데이터 중복 확인\n",
    "\n",
    "# id는 150000개 인데, document 는 146182개면, document 에서 약 4000개의 자료가 중복\n",
    "print(train_data.nunique())\n",
    "print(\"-\"*50)\n",
    "\n",
    "# 위와 마찬가지로 약 1000개의 데이터가 중복\n",
    "print(test_data.nunique())"
   ]
  },
  {
   "cell_type": "code",
   "execution_count": 3,
   "metadata": {},
   "outputs": [
    {
     "name": "stdout",
     "output_type": "stream",
     "text": [
      "훈련 샘플 개수 :146182, 테스트 개수 : 49157\n"
     ]
    }
   ],
   "source": [
    "from konlpy.tag import Mecab\n",
    "\n",
    "tokenizer = Mecab()\n",
    "\n",
    "# 불용어\n",
    "stopwords = ['의','가','이','은','들','는','좀','잘','걍','과','도','를','으로','자','에','와','한','하다']\n",
    "\n",
    "def load_data(train_data, test_data, num_words=10000):\n",
    "    # 위에서 확인한 document 컬럼 값의 중복을 제거하고 저장\n",
    "    train_data.drop_duplicates(subset=['document'], inplace=True)\n",
    "    # 결측치 제거\n",
    "    train_data = train_data.dropna(how = 'any') \n",
    "    test_data.drop_duplicates(subset=['document'], inplace=True)\n",
    "    test_data = test_data.dropna(how = 'any') \n",
    "\n",
    "    X_train = []\n",
    "    for sentence in train_data['document']:\n",
    "        temp_X = tokenizer.morphs(sentence) # 토큰화\n",
    "        temp_X = [word for word in temp_X if not word in stopwords] # 불용어 제거\n",
    "        X_train.append(temp_X)\n",
    "\n",
    "    X_test = []\n",
    "    for sentence in test_data['document']:\n",
    "        temp_X = tokenizer.morphs(sentence) # 토큰화\n",
    "        temp_X = [word for word in temp_X if not word in stopwords] # 불용어 제거\n",
    "        X_test.append(temp_X)\n",
    "\n",
    "    words = np.concatenate(X_train).tolist()\n",
    "    counter = Counter(words)\n",
    "    counter = counter.most_common(10000-4)\n",
    "    vocab = ['<PAD>', '<BOS>', '<UNK>', '<UNUSED>'] + [key for key, _ in counter]\n",
    "    word_to_index = {word:index for index, word in enumerate(vocab)}\n",
    "\n",
    "    def wordlist_to_indexlist(wordlist):\n",
    "        return [word_to_index[word] if word in word_to_index else word_to_index['<UNK>'] for word in wordlist]\n",
    "\n",
    "    X_train = list(map(wordlist_to_indexlist, X_train))\n",
    "    X_test = list(map(wordlist_to_indexlist, X_test))\n",
    "\n",
    "    return X_train, np.array(list(train_data['label'])), X_test, np.array(list(test_data['label'])), word_to_index\n",
    "\n",
    "X_train, y_train, X_test, y_test, word_to_index = load_data(train_data, test_data)\n",
    "\n",
    "# 훈련 데이터 셋, 테스트 데이터 셋 확인\n",
    "print(\"훈련 샘플 개수 :{}, 테스트 개수 : {}\".format(len(X_train),len(X_test)))"
   ]
  },
  {
   "cell_type": "code",
   "execution_count": 4,
   "metadata": {
    "scrolled": true
   },
   "outputs": [],
   "source": [
    "index_to_word = {index : word for word, index in word_to_index.items()}"
   ]
  },
  {
   "cell_type": "code",
   "execution_count": 5,
   "metadata": {},
   "outputs": [],
   "source": [
    "# 문장 1개를 활용할 딕셔너리와 함께 주면, 단어 인덱스 리스트 벡터로 변환해 주는 함수입니다. \n",
    "# 단, 모든 문장은 <BOS>로 시작하는 것으로 합니다. \n",
    "def get_encoded_sentence(sentence, word_to_index):\n",
    "    return [word_to_index['<BOS>']]+[word_to_index[word] if word in word_to_index else word_to_index['<UNK>'] for word in sentence.split()]\n",
    "\n",
    "# 여러 개의 문장 리스트를 한꺼번에 단어 인덱스 리스트 벡터로 encode해 주는 함수입니다. \n",
    "def get_encoded_sentences(sentences, word_to_index):\n",
    "    return [get_encoded_sentence(sentence, word_to_index) for sentence in sentences]\n",
    "\n",
    "# 숫자 벡터로 encode된 문장을 원래대로 decode하는 함수입니다. \n",
    "def get_decoded_sentence(encoded_sentence, index_to_word):\n",
    "    return ' '.join(index_to_word[index] if index in index_to_word else '<UNK>' for index in encoded_sentence[1:])  #[1:]를 통해 <BOS>를 제외\n",
    "\n",
    "# 여러개의 숫자 벡터로 encode된 문장을 한꺼번에 원래대로 decode하는 함수입니다. \n",
    "def get_decoded_sentences(encoded_sentences, index_to_word):\n",
    "    return [get_decoded_sentence(encoded_sentence, index_to_word) for encoded_sentence in encoded_sentences]"
   ]
  },
  {
   "cell_type": "markdown",
   "metadata": {},
   "source": [
    "***\n",
    "### 3. 모델구성을 위한 데이터 분석 및 가공\n",
    "***\n",
    "\n",
    " * 데이터셋 내 문장 길이 분포\n",
    " * 적절한 최대 문장 길이 지정\n",
    " * keras.preprocessing.sequence.pad_squences 을 활용한 패딩 추가"
   ]
  },
  {
   "cell_type": "code",
   "execution_count": 6,
   "metadata": {},
   "outputs": [
    {
     "name": "stdout",
     "output_type": "stream",
     "text": [
      "더 빙 . . 진짜 짜증 나 네요 목소리\n",
      "라벨:  0\n"
     ]
    }
   ],
   "source": [
    "# encode 된 텍스트의 decode 확인\n",
    "print(get_decoded_sentence(X_train[0], index_to_word))\n",
    "print('라벨: ', y_train[0])  # 1번째 리뷰데이터의 라벨"
   ]
  },
  {
   "cell_type": "code",
   "execution_count": 7,
   "metadata": {},
   "outputs": [
    {
     "name": "stdout",
     "output_type": "stream",
     "text": [
      "문장길이 평균 :  15.96940191154864\n",
      "문장길이 최대 :  116\n",
      "문장길이 표준편차 :  12.843571191092\n",
      "pad_sequences maxlen :   67\n",
      "전체 문장의 0.99755809131817%가 maxlen 설정값 이내에 포함됩니다.\n"
     ]
    }
   ],
   "source": [
    "# 데이터 셋 내 문장길이 분포\n",
    "total_data_text = list(X_train) + list(X_test)\n",
    "\n",
    "num_tokens = [len(tokens) for tokens in total_data_text]\n",
    "num_tokens = np.array(num_tokens)\n",
    "\n",
    "# 문장 길이 평균, 최대, 표준편차 확인\n",
    "print(\"문장길이 평균 : \", np.mean(num_tokens))\n",
    "print(\"문장길이 최대 : \", np.max(num_tokens))\n",
    "print(\"문장길이 표준편차 : \", np.std(num_tokens))\n",
    "\n",
    "# 적절한 최대 문장 길이 지정\n",
    "# 최대길이\n",
    "max_tokens = np.mean(num_tokens) + 4 * np.std(num_tokens)\n",
    "maxlen = int(max_tokens)\n",
    "\n",
    "print('pad_sequences maxlen :  ', maxlen)\n",
    "print('전체 문장의 {}%가 maxlen 설정값 이내에 포함됩니다.' .format(np.sum(num_tokens < max_tokens) / len(num_tokens)))"
   ]
  },
  {
   "cell_type": "markdown",
   "metadata": {},
   "source": [
    "### 4. 모델구성 및 validation set 구성"
   ]
  },
  {
   "cell_type": "code",
   "execution_count": 8,
   "metadata": {},
   "outputs": [
    {
     "name": "stdout",
     "output_type": "stream",
     "text": [
      "(146182, 67)\n",
      "(146182, 67)\n"
     ]
    }
   ],
   "source": [
    "x_train = keras.preprocessing.sequence.pad_sequences(X_train, value = word_to_index[\"<PAD>\"], padding = 'pre', maxlen = maxlen)\n",
    "\n",
    "x_test = keras.preprocessing.sequence.pad_sequences(X_test, value = word_to_index[\"<PAD>\"], padding = 'pre', maxlen = maxlen)\n",
    "\n",
    "print(x_train.shape)\n",
    "\n",
    "x_train = keras.preprocessing.sequence.pad_sequences(x_train, value = word_to_index[\"<PAD>\"], padding = 'pre', maxlen = maxlen)\n",
    "\n",
    "x_test = keras.preprocessing.sequence.pad_sequences(x_test, value = word_to_index[\"<PAD>\"], padding = 'pre', maxlen = maxlen)\n",
    "\n",
    "print(x_train.shape)"
   ]
  },
  {
   "cell_type": "code",
   "execution_count": 9,
   "metadata": {},
   "outputs": [
    {
     "name": "stdout",
     "output_type": "stream",
     "text": [
      "Model: \"sequential\"\n",
      "_________________________________________________________________\n",
      "Layer (type)                 Output Shape              Param #   \n",
      "=================================================================\n",
      "embedding (Embedding)        (None, None, 16)          160000    \n",
      "_________________________________________________________________\n",
      "lstm (LSTM)                  (None, 8)                 800       \n",
      "_________________________________________________________________\n",
      "dense (Dense)                (None, 8)                 72        \n",
      "_________________________________________________________________\n",
      "dense_1 (Dense)              (None, 1)                 9         \n",
      "=================================================================\n",
      "Total params: 160,881\n",
      "Trainable params: 160,881\n",
      "Non-trainable params: 0\n",
      "_________________________________________________________________\n"
     ]
    }
   ],
   "source": [
    "# RNN 모델 구성\n",
    "\n",
    "vocab_size = 10000\n",
    "\n",
    "word_vector_dim = 16\n",
    "\n",
    "model = keras.Sequential()\n",
    "\n",
    "model.add(keras.layers.Embedding(vocab_size, word_vector_dim, input_shape = (None,)))\n",
    "model.add(keras.layers.LSTM(8))\n",
    "model.add(keras.layers.Dense(8, activation = 'relu'))\n",
    "model.add(keras.layers.Dense(1, activation = 'sigmoid'))\n",
    "\n",
    "model.summary()"
   ]
  },
  {
   "cell_type": "code",
   "execution_count": 10,
   "metadata": {},
   "outputs": [
    {
     "name": "stdout",
     "output_type": "stream",
     "text": [
      "(136182, 67)\n",
      "(136182,)\n"
     ]
    }
   ],
   "source": [
    "# CNN 을 통한 텍스트 데이터 분석\n",
    "\n",
    "# 검증용 데이터 셋 분리\n",
    "x_val = x_train[:10000]\n",
    "y_val = y_train[:10000]\n",
    "\n",
    "\n",
    "# 검증용 데이터 셋을 제외한 나머지\n",
    "partial_x_train = x_train[10000:]\n",
    "partial_y_train = y_train[10000:]\n",
    "\n",
    "print(partial_x_train.shape)\n",
    "print(partial_y_train.shape)"
   ]
  },
  {
   "cell_type": "markdown",
   "metadata": {},
   "source": [
    "### 5. 모델 훈련 개시"
   ]
  },
  {
   "cell_type": "code",
   "execution_count": 11,
   "metadata": {},
   "outputs": [
    {
     "name": "stdout",
     "output_type": "stream",
     "text": [
      "Epoch 1/20\n",
      "266/266 [==============================] - 2s 8ms/step - loss: 0.5506 - accuracy: 0.7589 - val_loss: 0.4706 - val_accuracy: 0.8442\n",
      "Epoch 2/20\n",
      "266/266 [==============================] - 2s 7ms/step - loss: 0.4401 - accuracy: 0.8526 - val_loss: 0.4326 - val_accuracy: 0.8481\n",
      "Epoch 3/20\n",
      "266/266 [==============================] - 2s 8ms/step - loss: 0.3969 - accuracy: 0.8657 - val_loss: 0.4094 - val_accuracy: 0.8508\n",
      "Epoch 4/20\n",
      "266/266 [==============================] - 2s 7ms/step - loss: 0.3669 - accuracy: 0.8736 - val_loss: 0.3948 - val_accuracy: 0.8527\n",
      "Epoch 5/20\n",
      "266/266 [==============================] - 2s 7ms/step - loss: 0.3232 - accuracy: 0.8804 - val_loss: 0.3480 - val_accuracy: 0.8514\n",
      "Epoch 6/20\n",
      "266/266 [==============================] - 2s 7ms/step - loss: 0.2907 - accuracy: 0.8857 - val_loss: 0.3475 - val_accuracy: 0.8514\n",
      "Epoch 7/20\n",
      "266/266 [==============================] - 2s 7ms/step - loss: 0.2748 - accuracy: 0.8933 - val_loss: 0.3462 - val_accuracy: 0.8547\n",
      "Epoch 8/20\n",
      "266/266 [==============================] - 2s 7ms/step - loss: 0.2622 - accuracy: 0.8988 - val_loss: 0.3519 - val_accuracy: 0.8546\n",
      "Epoch 9/20\n",
      "266/266 [==============================] - 2s 7ms/step - loss: 0.2507 - accuracy: 0.9032 - val_loss: 0.3485 - val_accuracy: 0.8579\n",
      "Epoch 10/20\n",
      "266/266 [==============================] - 2s 7ms/step - loss: 0.2393 - accuracy: 0.9085 - val_loss: 0.3549 - val_accuracy: 0.8562\n",
      "Epoch 11/20\n",
      "266/266 [==============================] - 2s 7ms/step - loss: 0.2295 - accuracy: 0.9131 - val_loss: 0.3634 - val_accuracy: 0.8577\n",
      "Epoch 12/20\n",
      "266/266 [==============================] - 2s 8ms/step - loss: 0.2197 - accuracy: 0.9181 - val_loss: 0.3660 - val_accuracy: 0.8549\n",
      "Epoch 13/20\n",
      "266/266 [==============================] - 2s 8ms/step - loss: 0.2109 - accuracy: 0.9214 - val_loss: 0.3721 - val_accuracy: 0.8535\n",
      "Epoch 14/20\n",
      "266/266 [==============================] - 2s 6ms/step - loss: 0.2020 - accuracy: 0.9259 - val_loss: 0.3891 - val_accuracy: 0.8511\n",
      "Epoch 15/20\n",
      "266/266 [==============================] - 2s 7ms/step - loss: 0.1945 - accuracy: 0.9292 - val_loss: 0.3990 - val_accuracy: 0.8532\n",
      "Epoch 16/20\n",
      "266/266 [==============================] - 2s 7ms/step - loss: 0.1879 - accuracy: 0.9322 - val_loss: 0.4052 - val_accuracy: 0.8500\n",
      "Epoch 17/20\n",
      "266/266 [==============================] - 2s 7ms/step - loss: 0.1798 - accuracy: 0.9354 - val_loss: 0.4239 - val_accuracy: 0.8504\n",
      "Epoch 18/20\n",
      "266/266 [==============================] - 2s 7ms/step - loss: 0.1737 - accuracy: 0.9379 - val_loss: 0.4273 - val_accuracy: 0.8508\n",
      "Epoch 19/20\n",
      "266/266 [==============================] - 2s 7ms/step - loss: 0.1682 - accuracy: 0.9402 - val_loss: 0.4350 - val_accuracy: 0.8479\n",
      "Epoch 20/20\n",
      "266/266 [==============================] - 2s 6ms/step - loss: 0.1626 - accuracy: 0.9425 - val_loss: 0.4488 - val_accuracy: 0.8466\n"
     ]
    }
   ],
   "source": [
    "model.compile(optimizer = 'adam', loss = 'binary_crossentropy', metrics = ['accuracy'])\n",
    "\n",
    "# 훈련 횟수\n",
    "epochs = 20\n",
    "\n",
    "history = model.fit(partial_x_train, partial_y_train, epochs = epochs, batch_size = 512, validation_data = (x_val, y_val), verbose = 1)"
   ]
  },
  {
   "cell_type": "code",
   "execution_count": 12,
   "metadata": {},
   "outputs": [
    {
     "name": "stdout",
     "output_type": "stream",
     "text": [
      "1537/1537 - 6s - loss: 0.4461 - accuracy: 0.8427\n",
      "[0.44614091515541077, 0.8426674008369446]\n"
     ]
    }
   ],
   "source": [
    "# 테스트 셋 평가\n",
    "\n",
    "result = model.evaluate(x_test, y_test, verbose = 2)\n",
    "\n",
    "print(result)"
   ]
  },
  {
   "cell_type": "markdown",
   "metadata": {},
   "source": [
    "### 6. Loss, Accuracy 그래프 시각화"
   ]
  },
  {
   "cell_type": "code",
   "execution_count": 13,
   "metadata": {},
   "outputs": [
    {
     "name": "stdout",
     "output_type": "stream",
     "text": [
      "dict_keys(['loss', 'accuracy', 'val_loss', 'val_accuracy'])\n"
     ]
    }
   ],
   "source": [
    "# 모델 학습 중 트레인 데이터 셋 / 검증용 데이터 셋의 loss, accuracy 등을 \n",
    "# 매 echo 마다 history 에 저장\n",
    "history_dict = history.history\n",
    "\n",
    "# 매 echo 에 따른 그래프를 그릴 수 있는 항목들\n",
    "print(history_dict.keys())"
   ]
  },
  {
   "cell_type": "code",
   "execution_count": 14,
   "metadata": {},
   "outputs": [
    {
     "data": {
      "image/png": "[encoded data removed]",
      "text/plain": [
       "<Figure size 432x288 with 1 Axes>"
      ]
     },
     "metadata": {
      "needs_background": "light"
     },
     "output_type": "display_data"
    }
   ],
   "source": [
    "import matplotlib.pyplot as plt\n",
    "\n",
    "acc = history_dict['accuracy']\n",
    "val_acc = history_dict['val_accuracy']\n",
    "loss = history_dict['loss']\n",
    "val_loss = history_dict['val_loss']\n",
    "\n",
    "epochs = range(1, len(acc) + 1)\n",
    "\n",
    "plt.plot(epochs, loss, 'bo', label = 'Training loss')\n",
    "\n",
    "plt.plot(epochs, loss, 'b', label = 'Validation loss')\n",
    "plt.title('Training and validation loss')\n",
    "plt.xlabel('Epochs')\n",
    "plt.ylabel('Loss')\n",
    "plt.legend()\n",
    "\n",
    "plt.show()"
   ]
  },
  {
   "cell_type": "markdown",
   "metadata": {},
   "source": [
    "### 7. 학습된 Embedding 레이어 분석"
   ]
  },
  {
   "cell_type": "code",
   "execution_count": 15,
   "metadata": {},
   "outputs": [
    {
     "data": {
      "image/png": "[encoded data removed]",
      "text/plain": [
       "<Figure size 432x288 with 1 Axes>"
      ]
     },
     "metadata": {
      "needs_background": "light"
     },
     "output_type": "display_data"
    }
   ],
   "source": [
    "# 시각화한 그림을 초기화\n",
    "plt.clf()   \n",
    "\n",
    "plt.plot(epochs, acc, 'bo', label='Training acc')\n",
    "plt.plot(epochs, val_acc, 'b', label='Validation acc')\n",
    "plt.title('Training and validation accuracy')\n",
    "plt.xlabel('Epochs')\n",
    "plt.ylabel('Accuracy')\n",
    "plt.legend()\n",
    "\n",
    "plt.show()"
   ]
  },
  {
   "cell_type": "markdown",
   "metadata": {},
   "source": [
    "### 8. 한국어 Word2Vec 임베딩 활용하여 성능개선"
   ]
  },
  {
   "cell_type": "code",
   "execution_count": 16,
   "metadata": {},
   "outputs": [
    {
     "name": "stdout",
     "output_type": "stream",
     "text": [
      "(10000, 16)\n"
     ]
    }
   ],
   "source": [
    "# 워드임베딩 기법의 레이어\n",
    "embedding_layer = model.layers[0]\n",
    "weights = embedding_layer.get_weights()[0]\n",
    "\n",
    "print(weights.shape)"
   ]
  },
  {
   "cell_type": "code",
   "execution_count": 17,
   "metadata": {},
   "outputs": [],
   "source": [
    "import os\n",
    "\n",
    "# 학습한 Embedding 파라미터를 파일에 써서 저장\n",
    "word2vec_file_path = os.getenv(\"HOME\") + '/sentiment_classification/word2vec2.txt'\n",
    "f = open(word2vec_file_path, 'w')\n",
    "\n",
    "# 몇개의 벡터를 어떤 사이즈로 기재할지\n",
    "f.write('{} {}\\n'.format(vocab_size-4, word_vector_dim))\n",
    "\n",
    "# 단어 개수만큼 워드 벡터를 파일에 기록\n",
    "vectors = model.get_weights()[0]\n",
    "\n",
    "for i in range(4, vocab_size) :\n",
    "    f.write('{} {}\\n'.format(index_to_word[i], ' '.join(map(str, list(vectors[i, :])))))\n",
    "f.close()"
   ]
  },
  {
   "cell_type": "code",
   "execution_count": 18,
   "metadata": {},
   "outputs": [
    {
     "data": {
      "text/plain": [
       "array([-1.45300344e-01, -1.13786131e-01,  9.68942791e-02, -1.10815205e-01,\n",
       "       -1.22662380e-01, -1.96091714e-05, -1.87297404e-01,  1.64646089e-01,\n",
       "       -1.22267328e-01,  5.32656573e-02, -3.21798436e-02, -9.45048109e-02,\n",
       "       -6.07900545e-02, -1.41873091e-01,  6.53253496e-02, -1.15974098e-01],\n",
       "      dtype=float32)"
      ]
     },
     "execution_count": 18,
     "metadata": {},
     "output_type": "execute_result"
    }
   ],
   "source": [
    "from gensim.models.word2vec import Word2VecKeyedVectors\n",
    "\n",
    "word_vectors = Word2VecKeyedVectors.load_word2vec_format(word2vec_file_path, binary = False)\n",
    "vector = word_vectors['행복']\n",
    "vector"
   ]
  },
  {
   "cell_type": "code",
   "execution_count": 19,
   "metadata": {},
   "outputs": [
    {
     "data": {
      "text/plain": [
       "[('히트', 0.9588608741760254),\n",
       " ('제라드', 0.9521467685699463),\n",
       " ('다음', 0.9484010338783264),\n",
       " ('돌아보', 0.9477354884147644),\n",
       " ('동전', 0.9463576674461365),\n",
       " ('신자', 0.9451375007629395),\n",
       " ('명목', 0.9445298910140991),\n",
       " ('괘', 0.9434614181518555),\n",
       " ('압도', 0.9432272911071777),\n",
       " ('자격', 0.9421231746673584)]"
      ]
     },
     "execution_count": 19,
     "metadata": {},
     "output_type": "execute_result"
    }
   ],
   "source": [
    "word_vectors.similar_by_word(\"행복\")"
   ]
  },
  {
   "cell_type": "code",
   "execution_count": 20,
   "metadata": {},
   "outputs": [
    {
     "name": "stderr",
     "output_type": "stream",
     "text": [
      "/home/aiffel/anaconda3/envs/aiffel/lib/python3.7/site-packages/ipykernel_launcher.py:7: DeprecationWarning: Call to deprecated `__getitem__` (Method will be removed in 4.0.0, use self.wv.__getitem__() instead).\n",
      "  import sys\n"
     ]
    },
    {
     "data": {
      "text/plain": [
       "array([-1.3740246 , -1.7353463 ,  3.3915305 , -2.569253  , -1.4016607 ,\n",
       "        1.4556127 ,  0.9414557 ,  1.9207907 ,  0.16471806,  0.4838317 ,\n",
       "       -0.8547181 ,  2.0879807 ,  0.86741775,  0.87539405, -0.09962013,\n",
       "        0.22928311, -1.1858722 ,  0.00858838,  1.4999928 , -0.16196461,\n",
       "       -0.35184434, -0.92390764,  1.0849575 ,  0.3025011 ,  2.7021565 ,\n",
       "       -1.0263684 ,  0.32864776, -0.76589465, -2.510981  , -0.66225356,\n",
       "        2.8434615 ,  0.50130975, -1.021874  , -1.4366034 ,  1.1110784 ,\n",
       "        0.5812605 , -0.5830406 , -0.5785423 ,  1.3634988 ,  2.3074338 ,\n",
       "       -1.4314893 ,  0.45745876,  1.1073523 , -3.2135262 , -0.2898375 ,\n",
       "       -1.1622221 ,  1.2369208 , -0.7622987 , -0.37757635,  1.1376442 ,\n",
       "        0.01065568, -0.69105595,  1.5159112 ,  1.1534518 , -1.0119992 ,\n",
       "       -0.5757404 ,  1.1349088 , -1.1289831 ,  0.13004152,  2.0451715 ,\n",
       "       -0.23940353,  1.3604902 ,  0.72700524,  0.32545742,  1.0612459 ,\n",
       "        0.42252553,  1.1442151 ,  2.8774905 ,  2.4377263 , -1.340305  ,\n",
       "        0.12629706, -0.07772489, -0.59053177, -0.19007324,  0.1396541 ,\n",
       "       -1.8655105 ,  0.9401054 ,  0.5150856 ,  0.7795373 , -0.86505556,\n",
       "        0.11842118, -1.8303713 ,  1.337177  , -1.0102932 , -0.37180334,\n",
       "        0.00893255, -0.49141577, -1.05802   , -2.5987291 ,  0.9731856 ,\n",
       "        0.34080654, -2.5973568 ,  1.0046519 , -1.3914212 , -0.6504351 ,\n",
       "       -0.9010805 , -1.1341541 ,  0.75565654,  1.2941337 ,  0.0880572 ,\n",
       "       -1.0341461 , -0.1750075 , -0.01880708, -1.0835075 , -2.0333962 ,\n",
       "        1.1372623 ,  1.0626172 , -1.8369784 , -2.2662086 , -3.382057  ,\n",
       "        1.6751666 , -0.2988223 , -0.25563756, -1.5594274 ,  0.6313433 ,\n",
       "       -1.2667153 , -1.6857744 , -1.0949599 ,  0.7742313 , -0.6095523 ,\n",
       "        3.19503   ,  0.13200459,  1.7937473 , -2.8782516 ,  1.3821276 ,\n",
       "        2.2895143 ,  0.0741943 , -0.41046414,  1.438796  ,  0.19373988,\n",
       "        1.4294034 ,  1.5025262 ,  1.4849502 ,  1.5754777 ,  2.7793512 ,\n",
       "       -0.6885003 , -0.30154693, -1.708323  ,  1.1030879 , -2.2597387 ,\n",
       "        1.1909146 ,  2.4399316 ,  0.3990314 ,  0.904154  ,  0.5454401 ,\n",
       "       -1.3235748 , -0.64812386,  0.22390233,  0.9657619 , -0.47360668,\n",
       "       -0.10278235, -1.0679734 , -0.91414386,  0.92069   ,  0.3549338 ,\n",
       "        0.32858834,  0.84870636,  3.596926  , -1.6651102 ,  0.23658653,\n",
       "        1.0515738 ,  0.40531915, -0.773514  , -0.93460965, -0.3946274 ,\n",
       "       -1.5657727 ,  1.183652  ,  2.5277    ,  0.57700926,  1.7051374 ,\n",
       "       -1.8249958 , -2.0328498 ,  0.6617798 ,  0.85747904,  0.31782728,\n",
       "       -1.1660796 ,  0.32923874,  2.2055087 , -0.12782003,  2.0455444 ,\n",
       "       -0.1724252 ,  0.46001154,  1.559042  , -1.6152996 , -0.84242785,\n",
       "        0.7553168 ,  0.39734274,  0.07714175,  0.05610155,  0.32837135,\n",
       "        1.0220716 ,  1.3816743 ,  0.8049544 ,  0.28728685, -0.97610044,\n",
       "        0.8861181 , -0.01250968, -1.4845604 , -1.5236791 , -1.5451258 ],\n",
       "      dtype=float32)"
      ]
     },
     "execution_count": 20,
     "metadata": {},
     "output_type": "execute_result"
    }
   ],
   "source": [
    "import gensim\n",
    "\n",
    "word2vec_path = os.getenv(\"HOME\") + '/sentiment_classification/ko.bin'\n",
    "\n",
    "word2vec_model = gensim.models.Word2Vec.load(word2vec_path)\n",
    "\n",
    "vector = word2vec_model['사랑']\n",
    "vector"
   ]
  },
  {
   "cell_type": "code",
   "execution_count": 21,
   "metadata": {},
   "outputs": [
    {
     "data": {
      "text/plain": [
       "[('사랑', 0.6759077310562134),\n",
       " ('기쁨', 0.6493781805038452),\n",
       " ('즐거움', 0.6396492719650269),\n",
       " ('삶', 0.629989743232727),\n",
       " ('젊음', 0.6187378764152527),\n",
       " ('즐겁', 0.6027448177337646),\n",
       " ('인생', 0.6002243161201477),\n",
       " ('존엄', 0.5952589511871338),\n",
       " ('고독', 0.5938762426376343),\n",
       " ('불행', 0.5894461870193481)]"
      ]
     },
     "execution_count": 21,
     "metadata": {},
     "output_type": "execute_result"
    }
   ],
   "source": [
    "# 유사단어를 뽑아 잘 학습되었는지 확인\n",
    "word2vec_model.wv.most_similar(\"행복\")"
   ]
  },
  {
   "cell_type": "code",
   "execution_count": 22,
   "metadata": {},
   "outputs": [
    {
     "name": "stderr",
     "output_type": "stream",
     "text": [
      "/home/aiffel/anaconda3/envs/aiffel/lib/python3.7/site-packages/ipykernel_launcher.py:11: DeprecationWarning: Call to deprecated `__contains__` (Method will be removed in 4.0.0, use self.wv.__contains__() instead).\n",
      "  # This is added back by InteractiveShellApp.init_path()\n",
      "/home/aiffel/anaconda3/envs/aiffel/lib/python3.7/site-packages/ipykernel_launcher.py:12: DeprecationWarning: Call to deprecated `__getitem__` (Method will be removed in 4.0.0, use self.wv.__getitem__() instead).\n",
      "  if sys.path[0] == '':\n"
     ]
    }
   ],
   "source": [
    "# 임베딩 레이어를 교체하여 재학습\n",
    "vocab_size = 10000\n",
    "\n",
    "# 워드 벡터의 차원수\n",
    "word_vector_dim = 200\n",
    "\n",
    "embedding_matrix = np.random.rand(vocab_size, word_vector_dim)\n",
    "\n",
    "# 워드벡터를 단어 하나씩 카피\n",
    "for i in range(4, vocab_size) : \n",
    "    if index_to_word[i] in word2vec_model : \n",
    "        embedding_matrix[i] = word2vec_model[index_to_word[i]]"
   ]
  },
  {
   "cell_type": "code",
   "execution_count": 23,
   "metadata": {},
   "outputs": [
    {
     "name": "stdout",
     "output_type": "stream",
     "text": [
      "Model: \"sequential_1\"\n",
      "_________________________________________________________________\n",
      "Layer (type)                 Output Shape              Param #   \n",
      "=================================================================\n",
      "embedding_1 (Embedding)      (None, 67, 200)           2000000   \n",
      "_________________________________________________________________\n",
      "conv1d (Conv1D)              (None, 61, 16)            22416     \n",
      "_________________________________________________________________\n",
      "max_pooling1d (MaxPooling1D) (None, 12, 16)            0         \n",
      "_________________________________________________________________\n",
      "conv1d_1 (Conv1D)            (None, 6, 16)             1808      \n",
      "_________________________________________________________________\n",
      "global_max_pooling1d (Global (None, 16)                0         \n",
      "_________________________________________________________________\n",
      "dense_2 (Dense)              (None, 8)                 136       \n",
      "_________________________________________________________________\n",
      "dense_3 (Dense)              (None, 1)                 9         \n",
      "=================================================================\n",
      "Total params: 2,024,369\n",
      "Trainable params: 2,024,369\n",
      "Non-trainable params: 0\n",
      "_________________________________________________________________\n"
     ]
    }
   ],
   "source": [
    "from tensorflow.keras.initializers import Constant\n",
    "\n",
    "vocab_size = 10000\n",
    "word_vector_dim = 200\n",
    "\n",
    "# 모델 구성\n",
    "model = keras.Sequential()\n",
    "\n",
    "model.add(keras.layers.Embedding(vocab_size, \n",
    "                                 word_vector_dim, \n",
    "                                 embeddings_initializer=Constant(embedding_matrix),  # 카피한 임베딩을 여기서 활용\n",
    "                                 input_length=maxlen, \n",
    "                                 trainable=True))   # trainable을 True로 주면 Fine-tuning\n",
    "model.add(keras.layers.Conv1D(16, 7, activation='relu'))\n",
    "model.add(keras.layers.MaxPooling1D(5))\n",
    "model.add(keras.layers.Conv1D(16, 7, activation='relu'))\n",
    "model.add(keras.layers.GlobalMaxPooling1D())\n",
    "model.add(keras.layers.Dense(8, activation='relu'))\n",
    "model.add(keras.layers.Dense(1, activation='sigmoid')) \n",
    "\n",
    "model.summary()"
   ]
  },
  {
   "cell_type": "code",
   "execution_count": 29,
   "metadata": {},
   "outputs": [
    {
     "name": "stdout",
     "output_type": "stream",
     "text": [
      "Epoch 1/200\n",
      "266/266 [==============================] - 10s 36ms/step - loss: 0.0177 - accuracy: 0.9919 - val_loss: 2.3816 - val_accuracy: 0.8174\n",
      "Epoch 2/200\n",
      "266/266 [==============================] - 11s 40ms/step - loss: 0.0199 - accuracy: 0.9913 - val_loss: 2.3311 - val_accuracy: 0.8167\n",
      "Epoch 3/200\n",
      "266/266 [==============================] - 11s 43ms/step - loss: 0.0167 - accuracy: 0.9922 - val_loss: 2.3149 - val_accuracy: 0.8198\n",
      "Epoch 4/200\n",
      "266/266 [==============================] - 10s 36ms/step - loss: 0.0165 - accuracy: 0.9923 - val_loss: 2.3976 - val_accuracy: 0.8223\n",
      "Epoch 5/200\n",
      "266/266 [==============================] - 12s 44ms/step - loss: 0.0166 - accuracy: 0.9920 - val_loss: 2.4852 - val_accuracy: 0.8162\n",
      "Epoch 6/200\n",
      "266/266 [==============================] - 13s 50ms/step - loss: 0.0190 - accuracy: 0.9913 - val_loss: 2.4792 - val_accuracy: 0.8217\n",
      "Epoch 7/200\n",
      "266/266 [==============================] - 13s 49ms/step - loss: 0.0191 - accuracy: 0.9914 - val_loss: 2.3982 - val_accuracy: 0.8206\n",
      "Epoch 8/200\n",
      "266/266 [==============================] - 12s 47ms/step - loss: 0.0182 - accuracy: 0.9918 - val_loss: 2.4222 - val_accuracy: 0.8185\n",
      "Epoch 9/200\n",
      "266/266 [==============================] - 11s 43ms/step - loss: 0.0158 - accuracy: 0.9923 - val_loss: 2.3902 - val_accuracy: 0.8197\n",
      "Epoch 10/200\n",
      "266/266 [==============================] - 11s 43ms/step - loss: 0.0157 - accuracy: 0.9924 - val_loss: 2.4291 - val_accuracy: 0.8227\n",
      "Epoch 11/200\n",
      "266/266 [==============================] - 10s 36ms/step - loss: 0.0158 - accuracy: 0.9925 - val_loss: 2.5106 - val_accuracy: 0.8205\n",
      "Epoch 12/200\n",
      "266/266 [==============================] - 11s 40ms/step - loss: 0.0198 - accuracy: 0.9913 - val_loss: 2.4178 - val_accuracy: 0.8179\n",
      "Epoch 13/200\n",
      "266/266 [==============================] - 11s 42ms/step - loss: 0.0206 - accuracy: 0.9909 - val_loss: 2.4451 - val_accuracy: 0.8201\n",
      "Epoch 14/200\n",
      "266/266 [==============================] - 11s 41ms/step - loss: 0.0168 - accuracy: 0.9923 - val_loss: 2.4278 - val_accuracy: 0.8226\n",
      "Epoch 15/200\n",
      "266/266 [==============================] - 11s 42ms/step - loss: 0.0168 - accuracy: 0.9922 - val_loss: 2.4902 - val_accuracy: 0.8245\n",
      "Epoch 16/200\n",
      "266/266 [==============================] - 10s 38ms/step - loss: 0.0159 - accuracy: 0.9923 - val_loss: 2.5669 - val_accuracy: 0.8198\n",
      "Epoch 17/200\n",
      "266/266 [==============================] - 10s 37ms/step - loss: 0.0149 - accuracy: 0.9928 - val_loss: 2.5772 - val_accuracy: 0.8168\n",
      "Epoch 18/200\n",
      "266/266 [==============================] - 11s 41ms/step - loss: 0.0161 - accuracy: 0.9924 - val_loss: 2.6069 - val_accuracy: 0.8161\n",
      "Epoch 19/200\n",
      "266/266 [==============================] - 10s 37ms/step - loss: 0.0159 - accuracy: 0.9924 - val_loss: 2.4959 - val_accuracy: 0.8201\n",
      "Epoch 20/200\n",
      "266/266 [==============================] - 11s 43ms/step - loss: 0.0198 - accuracy: 0.9913 - val_loss: 2.5004 - val_accuracy: 0.8186\n",
      "Epoch 21/200\n",
      "266/266 [==============================] - 11s 41ms/step - loss: 0.0164 - accuracy: 0.9922 - val_loss: 2.5121 - val_accuracy: 0.8217\n",
      "Epoch 22/200\n",
      "266/266 [==============================] - 10s 38ms/step - loss: 0.0154 - accuracy: 0.9926 - val_loss: 2.5354 - val_accuracy: 0.8191\n",
      "Epoch 23/200\n",
      "266/266 [==============================] - 11s 43ms/step - loss: 0.0151 - accuracy: 0.9928 - val_loss: 2.5684 - val_accuracy: 0.8201\n",
      "Epoch 24/200\n",
      "266/266 [==============================] - 11s 42ms/step - loss: 0.0148 - accuracy: 0.9927 - val_loss: 2.5500 - val_accuracy: 0.8203\n",
      "Epoch 25/200\n",
      "266/266 [==============================] - 11s 42ms/step - loss: 0.0152 - accuracy: 0.9926 - val_loss: 2.6067 - val_accuracy: 0.8163\n",
      "Epoch 26/200\n",
      "266/266 [==============================] - 11s 41ms/step - loss: 0.0148 - accuracy: 0.9928 - val_loss: 2.6772 - val_accuracy: 0.8152\n",
      "Epoch 27/200\n",
      "266/266 [==============================] - 11s 42ms/step - loss: 0.0199 - accuracy: 0.9912 - val_loss: 2.5456 - val_accuracy: 0.8178\n",
      "Epoch 28/200\n",
      "266/266 [==============================] - 12s 44ms/step - loss: 0.0192 - accuracy: 0.9914 - val_loss: 2.5640 - val_accuracy: 0.8218\n",
      "Epoch 29/200\n",
      "266/266 [==============================] - 12s 45ms/step - loss: 0.0161 - accuracy: 0.9923 - val_loss: 2.5289 - val_accuracy: 0.8187\n",
      "Epoch 30/200\n",
      "266/266 [==============================] - 11s 43ms/step - loss: 0.0144 - accuracy: 0.9929 - val_loss: 2.5337 - val_accuracy: 0.8206\n",
      "Epoch 31/200\n",
      "266/266 [==============================] - 12s 43ms/step - loss: 0.0135 - accuracy: 0.9931 - val_loss: 2.6209 - val_accuracy: 0.8206\n",
      "Epoch 32/200\n",
      "266/266 [==============================] - 10s 39ms/step - loss: 0.0132 - accuracy: 0.9931 - val_loss: 2.6290 - val_accuracy: 0.8232\n",
      "Epoch 33/200\n",
      "266/266 [==============================] - 11s 42ms/step - loss: 0.0140 - accuracy: 0.9931 - val_loss: 2.6694 - val_accuracy: 0.8215\n",
      "Epoch 34/200\n",
      "266/266 [==============================] - 10s 38ms/step - loss: 0.0246 - accuracy: 0.9901 - val_loss: 2.5704 - val_accuracy: 0.8179\n",
      "Epoch 35/200\n",
      "266/266 [==============================] - 11s 42ms/step - loss: 0.0171 - accuracy: 0.9919 - val_loss: 2.5777 - val_accuracy: 0.8213\n",
      "Epoch 36/200\n",
      "266/266 [==============================] - 11s 40ms/step - loss: 0.0140 - accuracy: 0.9931 - val_loss: 2.5961 - val_accuracy: 0.8198\n",
      "Epoch 37/200\n",
      "266/266 [==============================] - 10s 36ms/step - loss: 0.0129 - accuracy: 0.9934 - val_loss: 2.6326 - val_accuracy: 0.8213\n",
      "Epoch 38/200\n",
      "266/266 [==============================] - 10s 37ms/step - loss: 0.0127 - accuracy: 0.9935 - val_loss: 2.6150 - val_accuracy: 0.8195\n",
      "Epoch 39/200\n",
      "266/266 [==============================] - 12s 46ms/step - loss: 0.0126 - accuracy: 0.9935 - val_loss: 2.6737 - val_accuracy: 0.8195\n",
      "Epoch 40/200\n",
      "266/266 [==============================] - 11s 40ms/step - loss: 0.0127 - accuracy: 0.9936 - val_loss: 2.7063 - val_accuracy: 0.8211\n",
      "Epoch 41/200\n",
      "266/266 [==============================] - 12s 45ms/step - loss: 0.0127 - accuracy: 0.9937 - val_loss: 2.7026 - val_accuracy: 0.8223\n",
      "Epoch 42/200\n",
      "266/266 [==============================] - 10s 37ms/step - loss: 0.0174 - accuracy: 0.9922 - val_loss: 2.6344 - val_accuracy: 0.8212\n",
      "Epoch 43/200\n",
      "266/266 [==============================] - 13s 47ms/step - loss: 0.0302 - accuracy: 0.9888 - val_loss: 2.4245 - val_accuracy: 0.8154\n",
      "Epoch 44/200\n",
      "266/266 [==============================] - 12s 45ms/step - loss: 0.0158 - accuracy: 0.9923 - val_loss: 2.5025 - val_accuracy: 0.8194\n",
      "Epoch 45/200\n",
      "266/266 [==============================] - 12s 46ms/step - loss: 0.0134 - accuracy: 0.9933 - val_loss: 2.5342 - val_accuracy: 0.8190\n",
      "Epoch 46/200\n",
      "266/266 [==============================] - 12s 44ms/step - loss: 0.0125 - accuracy: 0.9936 - val_loss: 2.5556 - val_accuracy: 0.8192\n",
      "Epoch 47/200\n",
      "266/266 [==============================] - 10s 37ms/step - loss: 0.0123 - accuracy: 0.9937 - val_loss: 2.6099 - val_accuracy: 0.8203\n",
      "Epoch 48/200\n",
      "266/266 [==============================] - 12s 45ms/step - loss: 0.0123 - accuracy: 0.9936 - val_loss: 2.6082 - val_accuracy: 0.8211\n",
      "Epoch 49/200\n",
      "266/266 [==============================] - 11s 43ms/step - loss: 0.0123 - accuracy: 0.9936 - val_loss: 2.5967 - val_accuracy: 0.8178\n",
      "Epoch 50/200\n",
      "266/266 [==============================] - 11s 43ms/step - loss: 0.0125 - accuracy: 0.9936 - val_loss: 2.6520 - val_accuracy: 0.8194\n",
      "Epoch 51/200\n",
      "266/266 [==============================] - 12s 43ms/step - loss: 0.0126 - accuracy: 0.9934 - val_loss: 2.6877 - val_accuracy: 0.8183\n",
      "Epoch 52/200\n",
      "266/266 [==============================] - 10s 37ms/step - loss: 0.0269 - accuracy: 0.9897 - val_loss: 2.4406 - val_accuracy: 0.8194\n",
      "Epoch 53/200\n",
      "266/266 [==============================] - 11s 43ms/step - loss: 0.0187 - accuracy: 0.9916 - val_loss: 2.4663 - val_accuracy: 0.8172\n",
      "Epoch 54/200\n",
      "266/266 [==============================] - 12s 45ms/step - loss: 0.0138 - accuracy: 0.9931 - val_loss: 2.5139 - val_accuracy: 0.8197\n",
      "Epoch 55/200\n",
      "266/266 [==============================] - 11s 40ms/step - loss: 0.0126 - accuracy: 0.9935 - val_loss: 2.5438 - val_accuracy: 0.8195\n",
      "Epoch 56/200\n",
      "266/266 [==============================] - 12s 45ms/step - loss: 0.0122 - accuracy: 0.9936 - val_loss: 2.5605 - val_accuracy: 0.8190\n",
      "Epoch 57/200\n"
     ]
    },
    {
     "name": "stdout",
     "output_type": "stream",
     "text": [
      "266/266 [==============================] - 11s 40ms/step - loss: 0.0123 - accuracy: 0.9936 - val_loss: 2.5755 - val_accuracy: 0.8202\n",
      "Epoch 58/200\n",
      "266/266 [==============================] - 11s 42ms/step - loss: 0.0123 - accuracy: 0.9935 - val_loss: 2.6158 - val_accuracy: 0.8183\n",
      "Epoch 59/200\n",
      "266/266 [==============================] - 10s 37ms/step - loss: 0.0122 - accuracy: 0.9937 - val_loss: 2.6489 - val_accuracy: 0.8226\n",
      "Epoch 60/200\n",
      "266/266 [==============================] - 11s 42ms/step - loss: 0.0124 - accuracy: 0.9935 - val_loss: 2.6866 - val_accuracy: 0.8219\n",
      "Epoch 61/200\n",
      "266/266 [==============================] - 11s 42ms/step - loss: 0.0132 - accuracy: 0.9933 - val_loss: 2.6633 - val_accuracy: 0.8211\n",
      "Epoch 62/200\n",
      "266/266 [==============================] - 11s 43ms/step - loss: 0.0274 - accuracy: 0.9897 - val_loss: 2.4952 - val_accuracy: 0.8208\n",
      "Epoch 63/200\n",
      "266/266 [==============================] - 10s 38ms/step - loss: 0.0187 - accuracy: 0.9916 - val_loss: 2.5142 - val_accuracy: 0.8196\n",
      "Epoch 64/200\n",
      "266/266 [==============================] - 12s 45ms/step - loss: 0.0128 - accuracy: 0.9933 - val_loss: 2.5428 - val_accuracy: 0.8192\n",
      "Epoch 65/200\n",
      "266/266 [==============================] - 10s 37ms/step - loss: 0.0119 - accuracy: 0.9937 - val_loss: 2.6146 - val_accuracy: 0.8203\n",
      "Epoch 66/200\n",
      "266/266 [==============================] - 10s 38ms/step - loss: 0.0118 - accuracy: 0.9936 - val_loss: 2.5850 - val_accuracy: 0.8188\n",
      "Epoch 67/200\n",
      "266/266 [==============================] - 10s 38ms/step - loss: 0.0118 - accuracy: 0.9938 - val_loss: 2.6382 - val_accuracy: 0.8196\n",
      "Epoch 68/200\n",
      "266/266 [==============================] - 9s 35ms/step - loss: 0.0118 - accuracy: 0.9938 - val_loss: 2.6588 - val_accuracy: 0.8202\n",
      "Epoch 69/200\n",
      "266/266 [==============================] - 12s 45ms/step - loss: 0.0121 - accuracy: 0.9936 - val_loss: 2.6323 - val_accuracy: 0.8200\n",
      "Epoch 70/200\n",
      "266/266 [==============================] - 11s 42ms/step - loss: 0.0123 - accuracy: 0.9935 - val_loss: 2.6530 - val_accuracy: 0.8188\n",
      "Epoch 71/200\n",
      "266/266 [==============================] - 11s 41ms/step - loss: 0.0171 - accuracy: 0.9922 - val_loss: 2.6219 - val_accuracy: 0.8186\n",
      "Epoch 72/200\n",
      "266/266 [==============================] - 10s 39ms/step - loss: 0.0240 - accuracy: 0.9903 - val_loss: 2.5068 - val_accuracy: 0.8208\n",
      "Epoch 73/200\n",
      "266/266 [==============================] - 11s 43ms/step - loss: 0.0149 - accuracy: 0.9929 - val_loss: 2.5636 - val_accuracy: 0.8196\n",
      "Epoch 74/200\n",
      "266/266 [==============================] - 11s 43ms/step - loss: 0.0124 - accuracy: 0.9936 - val_loss: 2.5939 - val_accuracy: 0.8218\n",
      "Epoch 75/200\n",
      "266/266 [==============================] - 10s 39ms/step - loss: 0.0120 - accuracy: 0.9937 - val_loss: 2.6231 - val_accuracy: 0.8195\n",
      "Epoch 76/200\n",
      "266/266 [==============================] - 10s 37ms/step - loss: 0.0117 - accuracy: 0.9938 - val_loss: 2.6642 - val_accuracy: 0.8211\n",
      "Epoch 77/200\n",
      "266/266 [==============================] - 11s 42ms/step - loss: 0.0117 - accuracy: 0.9938 - val_loss: 2.6662 - val_accuracy: 0.8219\n",
      "Epoch 78/200\n",
      "266/266 [==============================] - 10s 36ms/step - loss: 0.0117 - accuracy: 0.9938 - val_loss: 2.7093 - val_accuracy: 0.8212\n",
      "Epoch 79/200\n",
      "266/266 [==============================] - 11s 43ms/step - loss: 0.0120 - accuracy: 0.9937 - val_loss: 2.6624 - val_accuracy: 0.8225\n",
      "Epoch 80/200\n",
      "266/266 [==============================] - 11s 43ms/step - loss: 0.0120 - accuracy: 0.9936 - val_loss: 2.6537 - val_accuracy: 0.8208\n",
      "Epoch 81/200\n",
      "266/266 [==============================] - 10s 39ms/step - loss: 0.0124 - accuracy: 0.9937 - val_loss: 2.8154 - val_accuracy: 0.8195\n",
      "Epoch 82/200\n",
      "266/266 [==============================] - 12s 46ms/step - loss: 0.0292 - accuracy: 0.9890 - val_loss: 2.5663 - val_accuracy: 0.8181\n",
      "Epoch 83/200\n",
      "266/266 [==============================] - 11s 40ms/step - loss: 0.0141 - accuracy: 0.9930 - val_loss: 2.4821 - val_accuracy: 0.8209\n",
      "Epoch 84/200\n",
      "266/266 [==============================] - 13s 48ms/step - loss: 0.0118 - accuracy: 0.9939 - val_loss: 2.5794 - val_accuracy: 0.8194\n",
      "Epoch 85/200\n",
      "266/266 [==============================] - 10s 39ms/step - loss: 0.0116 - accuracy: 0.9939 - val_loss: 2.5811 - val_accuracy: 0.8203\n",
      "Epoch 86/200\n",
      "266/266 [==============================] - 12s 43ms/step - loss: 0.0114 - accuracy: 0.9938 - val_loss: 2.6164 - val_accuracy: 0.8221\n",
      "Epoch 87/200\n",
      "266/266 [==============================] - 11s 41ms/step - loss: 0.0115 - accuracy: 0.9938 - val_loss: 2.6244 - val_accuracy: 0.8205\n",
      "Epoch 88/200\n",
      "266/266 [==============================] - 10s 37ms/step - loss: 0.0116 - accuracy: 0.9938 - val_loss: 2.6891 - val_accuracy: 0.8201\n",
      "Epoch 89/200\n",
      "266/266 [==============================] - 11s 42ms/step - loss: 0.0117 - accuracy: 0.9939 - val_loss: 2.6884 - val_accuracy: 0.8169\n",
      "Epoch 90/200\n",
      "266/266 [==============================] - 10s 37ms/step - loss: 0.0194 - accuracy: 0.9915 - val_loss: 2.5831 - val_accuracy: 0.8163\n",
      "Epoch 91/200\n",
      "266/266 [==============================] - 10s 36ms/step - loss: 0.0191 - accuracy: 0.9913 - val_loss: 2.5708 - val_accuracy: 0.8204\n",
      "Epoch 92/200\n",
      "266/266 [==============================] - 12s 45ms/step - loss: 0.0134 - accuracy: 0.9931 - val_loss: 2.5790 - val_accuracy: 0.8195\n",
      "Epoch 93/200\n",
      "266/266 [==============================] - 12s 45ms/step - loss: 0.0119 - accuracy: 0.9937 - val_loss: 2.5730 - val_accuracy: 0.8222\n",
      "Epoch 94/200\n",
      "266/266 [==============================] - 11s 42ms/step - loss: 0.0115 - accuracy: 0.9938 - val_loss: 2.6276 - val_accuracy: 0.8195\n",
      "Epoch 95/200\n",
      "266/266 [==============================] - 12s 44ms/step - loss: 0.0114 - accuracy: 0.9939 - val_loss: 2.6443 - val_accuracy: 0.8203\n",
      "Epoch 96/200\n",
      "266/266 [==============================] - 10s 39ms/step - loss: 0.0115 - accuracy: 0.9939 - val_loss: 2.6625 - val_accuracy: 0.8205\n",
      "Epoch 97/200\n",
      "266/266 [==============================] - 10s 38ms/step - loss: 0.0116 - accuracy: 0.9938 - val_loss: 2.6773 - val_accuracy: 0.8205\n",
      "Epoch 98/200\n",
      "266/266 [==============================] - 11s 42ms/step - loss: 0.0116 - accuracy: 0.9939 - val_loss: 2.6691 - val_accuracy: 0.8213\n",
      "Epoch 99/200\n",
      "266/266 [==============================] - 11s 41ms/step - loss: 0.0116 - accuracy: 0.9938 - val_loss: 2.7020 - val_accuracy: 0.8196\n",
      "Epoch 100/200\n",
      "266/266 [==============================] - 10s 39ms/step - loss: 0.0121 - accuracy: 0.9938 - val_loss: 2.6766 - val_accuracy: 0.8226\n",
      "Epoch 101/200\n",
      "266/266 [==============================] - 12s 45ms/step - loss: 0.0227 - accuracy: 0.9907 - val_loss: 2.6321 - val_accuracy: 0.8154\n",
      "Epoch 102/200\n",
      "266/266 [==============================] - 12s 46ms/step - loss: 0.0196 - accuracy: 0.9914 - val_loss: 2.5577 - val_accuracy: 0.8215\n",
      "Epoch 103/200\n",
      "266/266 [==============================] - 12s 46ms/step - loss: 0.0122 - accuracy: 0.9935 - val_loss: 2.5957 - val_accuracy: 0.8196\n",
      "Epoch 104/200\n",
      "266/266 [==============================] - 11s 40ms/step - loss: 0.0114 - accuracy: 0.9939 - val_loss: 2.6075 - val_accuracy: 0.8196\n",
      "Epoch 105/200\n",
      "266/266 [==============================] - 11s 40ms/step - loss: 0.0112 - accuracy: 0.9940 - val_loss: 2.6425 - val_accuracy: 0.8191\n",
      "Epoch 106/200\n",
      "266/266 [==============================] - 12s 47ms/step - loss: 0.0112 - accuracy: 0.9940 - val_loss: 2.6419 - val_accuracy: 0.8201\n",
      "Epoch 107/200\n",
      "266/266 [==============================] - 11s 42ms/step - loss: 0.0112 - accuracy: 0.9940 - val_loss: 2.6600 - val_accuracy: 0.8216\n",
      "Epoch 108/200\n",
      "266/266 [==============================] - 11s 40ms/step - loss: 0.0114 - accuracy: 0.9939 - val_loss: 2.6624 - val_accuracy: 0.8199\n",
      "Epoch 109/200\n",
      "266/266 [==============================] - 10s 39ms/step - loss: 0.0114 - accuracy: 0.9938 - val_loss: 2.7050 - val_accuracy: 0.8189\n",
      "Epoch 110/200\n",
      "266/266 [==============================] - 11s 40ms/step - loss: 0.0116 - accuracy: 0.9938 - val_loss: 2.7334 - val_accuracy: 0.8189\n",
      "Epoch 111/200\n",
      "266/266 [==============================] - 11s 40ms/step - loss: 0.0131 - accuracy: 0.9934 - val_loss: 2.8174 - val_accuracy: 0.8214\n",
      "Epoch 112/200\n",
      "266/266 [==============================] - 10s 37ms/step - loss: 0.0255 - accuracy: 0.9898 - val_loss: 2.5411 - val_accuracy: 0.8216\n",
      "Epoch 113/200\n"
     ]
    },
    {
     "name": "stdout",
     "output_type": "stream",
     "text": [
      "266/266 [==============================] - 10s 36ms/step - loss: 0.0139 - accuracy: 0.9931 - val_loss: 2.5878 - val_accuracy: 0.8185\n",
      "Epoch 114/200\n",
      "266/266 [==============================] - 12s 46ms/step - loss: 0.0116 - accuracy: 0.9938 - val_loss: 2.5876 - val_accuracy: 0.8198\n",
      "Epoch 115/200\n",
      "266/266 [==============================] - 12s 45ms/step - loss: 0.0111 - accuracy: 0.9940 - val_loss: 2.6472 - val_accuracy: 0.8191\n",
      "Epoch 116/200\n",
      "266/266 [==============================] - 11s 40ms/step - loss: 0.0110 - accuracy: 0.9940 - val_loss: 2.6410 - val_accuracy: 0.8191\n",
      "Epoch 117/200\n",
      "266/266 [==============================] - 12s 46ms/step - loss: 0.0111 - accuracy: 0.9940 - val_loss: 2.6395 - val_accuracy: 0.8184\n",
      "Epoch 118/200\n",
      "266/266 [==============================] - 11s 42ms/step - loss: 0.0110 - accuracy: 0.9939 - val_loss: 2.6993 - val_accuracy: 0.8208\n",
      "Epoch 119/200\n",
      "266/266 [==============================] - 13s 48ms/step - loss: 0.0112 - accuracy: 0.9940 - val_loss: 2.6948 - val_accuracy: 0.8199\n",
      "Epoch 120/200\n",
      "266/266 [==============================] - 11s 40ms/step - loss: 0.0113 - accuracy: 0.9939 - val_loss: 2.7220 - val_accuracy: 0.8186\n",
      "Epoch 121/200\n",
      "266/266 [==============================] - 10s 39ms/step - loss: 0.0119 - accuracy: 0.9937 - val_loss: 2.8446 - val_accuracy: 0.8186\n",
      "Epoch 122/200\n",
      "266/266 [==============================] - 10s 39ms/step - loss: 0.0201 - accuracy: 0.9913 - val_loss: 2.6156 - val_accuracy: 0.8186\n",
      "Epoch 123/200\n",
      "266/266 [==============================] - 12s 45ms/step - loss: 0.0161 - accuracy: 0.9922 - val_loss: 2.6723 - val_accuracy: 0.8215\n",
      "Epoch 124/200\n",
      "266/266 [==============================] - 11s 42ms/step - loss: 0.0124 - accuracy: 0.9935 - val_loss: 2.6561 - val_accuracy: 0.8211\n",
      "Epoch 125/200\n",
      "266/266 [==============================] - 11s 40ms/step - loss: 0.0114 - accuracy: 0.9939 - val_loss: 2.6728 - val_accuracy: 0.8224\n",
      "Epoch 126/200\n",
      "266/266 [==============================] - 10s 37ms/step - loss: 0.0109 - accuracy: 0.9939 - val_loss: 2.7518 - val_accuracy: 0.8233\n",
      "Epoch 127/200\n",
      "266/266 [==============================] - 12s 45ms/step - loss: 0.0111 - accuracy: 0.9939 - val_loss: 2.7369 - val_accuracy: 0.8215\n",
      "Epoch 128/200\n",
      "266/266 [==============================] - 11s 41ms/step - loss: 0.0111 - accuracy: 0.9939 - val_loss: 2.7144 - val_accuracy: 0.8215\n",
      "Epoch 129/200\n",
      "266/266 [==============================] - 11s 42ms/step - loss: 0.0111 - accuracy: 0.9939 - val_loss: 2.7720 - val_accuracy: 0.8230\n",
      "Epoch 130/200\n",
      "266/266 [==============================] - 10s 38ms/step - loss: 0.0114 - accuracy: 0.9939 - val_loss: 2.7577 - val_accuracy: 0.8197\n",
      "Epoch 131/200\n",
      "266/266 [==============================] - 11s 42ms/step - loss: 0.0115 - accuracy: 0.9938 - val_loss: 2.7619 - val_accuracy: 0.8221\n",
      "Epoch 132/200\n",
      "266/266 [==============================] - 12s 46ms/step - loss: 0.0175 - accuracy: 0.9921 - val_loss: 2.7819 - val_accuracy: 0.8192\n",
      "Epoch 133/200\n",
      "266/266 [==============================] - 11s 42ms/step - loss: 0.0179 - accuracy: 0.9918 - val_loss: 2.6542 - val_accuracy: 0.8201\n",
      "Epoch 134/200\n",
      "266/266 [==============================] - 11s 42ms/step - loss: 0.0123 - accuracy: 0.9935 - val_loss: 2.5871 - val_accuracy: 0.8208\n",
      "Epoch 135/200\n",
      "266/266 [==============================] - 12s 45ms/step - loss: 0.0111 - accuracy: 0.9938 - val_loss: 2.6363 - val_accuracy: 0.8222\n",
      "Epoch 136/200\n",
      "266/266 [==============================] - 10s 38ms/step - loss: 0.0109 - accuracy: 0.9939 - val_loss: 2.7019 - val_accuracy: 0.8232\n",
      "Epoch 137/200\n",
      "266/266 [==============================] - 10s 39ms/step - loss: 0.0108 - accuracy: 0.9939 - val_loss: 2.6900 - val_accuracy: 0.8230\n",
      "Epoch 138/200\n",
      "266/266 [==============================] - 12s 44ms/step - loss: 0.0109 - accuracy: 0.9939 - val_loss: 2.6973 - val_accuracy: 0.8220\n",
      "Epoch 139/200\n",
      "266/266 [==============================] - 9s 35ms/step - loss: 0.0110 - accuracy: 0.9940 - val_loss: 2.7238 - val_accuracy: 0.8221\n",
      "Epoch 140/200\n",
      "266/266 [==============================] - 11s 41ms/step - loss: 0.0112 - accuracy: 0.9939 - val_loss: 2.6917 - val_accuracy: 0.8239\n",
      "Epoch 141/200\n",
      "266/266 [==============================] - 9s 36ms/step - loss: 0.0115 - accuracy: 0.9937 - val_loss: 2.7563 - val_accuracy: 0.8227\n",
      "Epoch 142/200\n",
      "266/266 [==============================] - 11s 40ms/step - loss: 0.0128 - accuracy: 0.9935 - val_loss: 2.9125 - val_accuracy: 0.8182\n",
      "Epoch 143/200\n",
      "266/266 [==============================] - 9s 36ms/step - loss: 0.0229 - accuracy: 0.9905 - val_loss: 2.6659 - val_accuracy: 0.8188\n",
      "Epoch 144/200\n",
      "266/266 [==============================] - 11s 43ms/step - loss: 0.0129 - accuracy: 0.9933 - val_loss: 2.7378 - val_accuracy: 0.8197\n",
      "Epoch 145/200\n",
      "266/266 [==============================] - 12s 45ms/step - loss: 0.0113 - accuracy: 0.9939 - val_loss: 2.7157 - val_accuracy: 0.8197\n",
      "Epoch 146/200\n",
      "266/266 [==============================] - 12s 45ms/step - loss: 0.0109 - accuracy: 0.9940 - val_loss: 2.7469 - val_accuracy: 0.8200\n",
      "Epoch 147/200\n",
      "266/266 [==============================] - 12s 45ms/step - loss: 0.0109 - accuracy: 0.9941 - val_loss: 2.7679 - val_accuracy: 0.8195\n",
      "Epoch 148/200\n",
      "266/266 [==============================] - 10s 39ms/step - loss: 0.0109 - accuracy: 0.9940 - val_loss: 2.7942 - val_accuracy: 0.8208\n",
      "Epoch 149/200\n",
      "266/266 [==============================] - 11s 41ms/step - loss: 0.0109 - accuracy: 0.9940 - val_loss: 2.7445 - val_accuracy: 0.8189\n",
      "Epoch 150/200\n",
      "266/266 [==============================] - 11s 41ms/step - loss: 0.0110 - accuracy: 0.9940 - val_loss: 2.8214 - val_accuracy: 0.8194\n",
      "Epoch 151/200\n",
      "266/266 [==============================] - 10s 39ms/step - loss: 0.0111 - accuracy: 0.9939 - val_loss: 2.8058 - val_accuracy: 0.8189\n",
      "Epoch 152/200\n",
      "266/266 [==============================] - 12s 44ms/step - loss: 0.0119 - accuracy: 0.9937 - val_loss: 2.8919 - val_accuracy: 0.8199\n",
      "Epoch 153/200\n",
      "266/266 [==============================] - 11s 40ms/step - loss: 0.0179 - accuracy: 0.9922 - val_loss: 2.8377 - val_accuracy: 0.8156\n",
      "Epoch 154/200\n",
      "266/266 [==============================] - 11s 41ms/step - loss: 0.0157 - accuracy: 0.9925 - val_loss: 2.6998 - val_accuracy: 0.8186\n",
      "Epoch 155/200\n",
      "266/266 [==============================] - 12s 44ms/step - loss: 0.0117 - accuracy: 0.9938 - val_loss: 2.6964 - val_accuracy: 0.8193\n",
      "Epoch 156/200\n",
      "266/266 [==============================] - 11s 43ms/step - loss: 0.0108 - accuracy: 0.9940 - val_loss: 2.7758 - val_accuracy: 0.8208\n",
      "Epoch 157/200\n",
      "266/266 [==============================] - 11s 43ms/step - loss: 0.0110 - accuracy: 0.9939 - val_loss: 2.7862 - val_accuracy: 0.8205\n",
      "Epoch 158/200\n",
      "266/266 [==============================] - 11s 41ms/step - loss: 0.0108 - accuracy: 0.9940 - val_loss: 2.7540 - val_accuracy: 0.8201\n",
      "Epoch 159/200\n",
      "266/266 [==============================] - 12s 44ms/step - loss: 0.0109 - accuracy: 0.9940 - val_loss: 2.7638 - val_accuracy: 0.8170\n",
      "Epoch 160/200\n",
      "266/266 [==============================] - 11s 42ms/step - loss: 0.0109 - accuracy: 0.9939 - val_loss: 2.8124 - val_accuracy: 0.8195\n",
      "Epoch 161/200\n",
      "266/266 [==============================] - 11s 41ms/step - loss: 0.0110 - accuracy: 0.9939 - val_loss: 2.8100 - val_accuracy: 0.8194\n",
      "Epoch 162/200\n",
      "266/266 [==============================] - 12s 46ms/step - loss: 0.0110 - accuracy: 0.9940 - val_loss: 2.8432 - val_accuracy: 0.8215\n",
      "Epoch 163/200\n",
      "266/266 [==============================] - 10s 39ms/step - loss: 0.0174 - accuracy: 0.9919 - val_loss: 2.7599 - val_accuracy: 0.8188\n",
      "Epoch 164/200\n",
      "266/266 [==============================] - 10s 37ms/step - loss: 0.0149 - accuracy: 0.9927 - val_loss: 2.7683 - val_accuracy: 0.8188\n",
      "Epoch 165/200\n",
      "266/266 [==============================] - 12s 45ms/step - loss: 0.0116 - accuracy: 0.9938 - val_loss: 2.7647 - val_accuracy: 0.8194\n",
      "Epoch 166/200\n",
      "266/266 [==============================] - 10s 39ms/step - loss: 0.0110 - accuracy: 0.9939 - val_loss: 2.7581 - val_accuracy: 0.8193\n",
      "Epoch 167/200\n",
      "266/266 [==============================] - 11s 42ms/step - loss: 0.0108 - accuracy: 0.9940 - val_loss: 2.8131 - val_accuracy: 0.8169\n",
      "Epoch 168/200\n",
      "266/266 [==============================] - 10s 37ms/step - loss: 0.0107 - accuracy: 0.9939 - val_loss: 2.8488 - val_accuracy: 0.8193\n"
     ]
    },
    {
     "name": "stdout",
     "output_type": "stream",
     "text": [
      "Epoch 169/200\n",
      "266/266 [==============================] - 10s 37ms/step - loss: 0.0108 - accuracy: 0.9939 - val_loss: 2.9049 - val_accuracy: 0.8196\n",
      "Epoch 170/200\n",
      "266/266 [==============================] - 12s 44ms/step - loss: 0.0108 - accuracy: 0.9941 - val_loss: 2.8703 - val_accuracy: 0.8174\n",
      "Epoch 171/200\n",
      "266/266 [==============================] - 11s 43ms/step - loss: 0.0110 - accuracy: 0.9940 - val_loss: 2.8682 - val_accuracy: 0.8186\n",
      "Epoch 172/200\n",
      "266/266 [==============================] - 11s 42ms/step - loss: 0.0109 - accuracy: 0.9939 - val_loss: 2.8556 - val_accuracy: 0.8179\n",
      "Epoch 173/200\n",
      "266/266 [==============================] - 11s 40ms/step - loss: 0.0110 - accuracy: 0.9942 - val_loss: 2.8991 - val_accuracy: 0.8195\n",
      "Epoch 174/200\n",
      "266/266 [==============================] - 12s 44ms/step - loss: 0.0113 - accuracy: 0.9938 - val_loss: 2.8580 - val_accuracy: 0.8156\n",
      "Epoch 175/200\n",
      "266/266 [==============================] - 10s 39ms/step - loss: 0.0112 - accuracy: 0.9939 - val_loss: 2.9354 - val_accuracy: 0.8193\n",
      "Epoch 176/200\n",
      "266/266 [==============================] - 11s 41ms/step - loss: 0.0185 - accuracy: 0.9921 - val_loss: 2.7412 - val_accuracy: 0.8181\n",
      "Epoch 177/200\n",
      "266/266 [==============================] - 12s 43ms/step - loss: 0.0167 - accuracy: 0.9922 - val_loss: 2.6638 - val_accuracy: 0.8219\n",
      "Epoch 178/200\n",
      "266/266 [==============================] - 11s 42ms/step - loss: 0.0118 - accuracy: 0.9938 - val_loss: 2.7188 - val_accuracy: 0.8234\n",
      "Epoch 179/200\n",
      "266/266 [==============================] - 12s 46ms/step - loss: 0.0109 - accuracy: 0.9940 - val_loss: 2.7556 - val_accuracy: 0.8245\n",
      "Epoch 180/200\n",
      "266/266 [==============================] - 11s 41ms/step - loss: 0.0107 - accuracy: 0.9941 - val_loss: 2.7513 - val_accuracy: 0.8235\n",
      "Epoch 181/200\n",
      "266/266 [==============================] - 10s 38ms/step - loss: 0.0106 - accuracy: 0.9940 - val_loss: 2.8140 - val_accuracy: 0.8238\n",
      "Epoch 182/200\n",
      "266/266 [==============================] - 12s 44ms/step - loss: 0.0105 - accuracy: 0.9940 - val_loss: 2.8268 - val_accuracy: 0.8232\n",
      "Epoch 183/200\n",
      "266/266 [==============================] - 12s 46ms/step - loss: 0.0107 - accuracy: 0.9940 - val_loss: 2.8158 - val_accuracy: 0.8236\n",
      "Epoch 184/200\n",
      "266/266 [==============================] - 11s 42ms/step - loss: 0.0105 - accuracy: 0.9941 - val_loss: 2.8249 - val_accuracy: 0.8224\n",
      "Epoch 185/200\n",
      "266/266 [==============================] - 11s 42ms/step - loss: 0.0109 - accuracy: 0.9938 - val_loss: 2.7819 - val_accuracy: 0.8210\n",
      "Epoch 186/200\n",
      "266/266 [==============================] - 10s 38ms/step - loss: 0.0152 - accuracy: 0.9928 - val_loss: 2.7938 - val_accuracy: 0.8190\n",
      "Epoch 187/200\n",
      "266/266 [==============================] - 11s 41ms/step - loss: 0.0155 - accuracy: 0.9924 - val_loss: 2.7295 - val_accuracy: 0.8206\n",
      "Epoch 188/200\n",
      "266/266 [==============================] - 12s 45ms/step - loss: 0.0114 - accuracy: 0.9938 - val_loss: 2.9115 - val_accuracy: 0.8183\n",
      "Epoch 189/200\n",
      "266/266 [==============================] - 11s 42ms/step - loss: 0.0109 - accuracy: 0.9940 - val_loss: 2.8000 - val_accuracy: 0.8199\n",
      "Epoch 190/200\n",
      "266/266 [==============================] - 11s 43ms/step - loss: 0.0105 - accuracy: 0.9941 - val_loss: 2.8117 - val_accuracy: 0.8199\n",
      "Epoch 191/200\n",
      "266/266 [==============================] - 11s 40ms/step - loss: 0.0105 - accuracy: 0.9941 - val_loss: 2.8418 - val_accuracy: 0.8205\n",
      "Epoch 192/200\n",
      "266/266 [==============================] - 10s 39ms/step - loss: 0.0106 - accuracy: 0.9940 - val_loss: 2.8894 - val_accuracy: 0.8208\n",
      "Epoch 193/200\n",
      "266/266 [==============================] - 11s 39ms/step - loss: 0.0108 - accuracy: 0.9939 - val_loss: 2.8555 - val_accuracy: 0.8178\n",
      "Epoch 194/200\n",
      "266/266 [==============================] - 10s 36ms/step - loss: 0.0113 - accuracy: 0.9939 - val_loss: 2.8735 - val_accuracy: 0.8176\n",
      "Epoch 195/200\n",
      "266/266 [==============================] - 12s 45ms/step - loss: 0.0151 - accuracy: 0.9927 - val_loss: 2.8616 - val_accuracy: 0.8194\n",
      "Epoch 196/200\n",
      "266/266 [==============================] - 11s 42ms/step - loss: 0.0123 - accuracy: 0.9934 - val_loss: 2.8664 - val_accuracy: 0.8194\n",
      "Epoch 197/200\n",
      "266/266 [==============================] - 10s 38ms/step - loss: 0.0110 - accuracy: 0.9940 - val_loss: 2.8849 - val_accuracy: 0.8204\n",
      "Epoch 198/200\n",
      "266/266 [==============================] - 11s 42ms/step - loss: 0.0106 - accuracy: 0.9941 - val_loss: 2.9446 - val_accuracy: 0.8218\n",
      "Epoch 199/200\n",
      "266/266 [==============================] - 10s 38ms/step - loss: 0.0105 - accuracy: 0.9941 - val_loss: 2.9190 - val_accuracy: 0.8198\n",
      "Epoch 200/200\n",
      "266/266 [==============================] - 11s 41ms/step - loss: 0.0106 - accuracy: 0.9941 - val_loss: 2.9271 - val_accuracy: 0.8198\n"
     ]
    }
   ],
   "source": [
    "# 학습 진행\n",
    "model.compile(optimizer = 'adam',\n",
    "             loss = 'binary_crossentropy',\n",
    "             metrics = ['accuracy'])\n",
    "\n",
    "# 학습 횟 수\n",
    "epochs = 200\n",
    "\n",
    "history = model.fit(partial_x_train,\n",
    "                    partial_y_train,\n",
    "                    epochs = epochs,\n",
    "                    batch_size = 512,\n",
    "                    validation_data = (x_val, y_val),\n",
    "                    verbose = 1)"
   ]
  },
  {
   "cell_type": "code",
   "execution_count": 30,
   "metadata": {},
   "outputs": [
    {
     "name": "stdout",
     "output_type": "stream",
     "text": [
      "1537/1537 - 7s - loss: 2.9116 - accuracy: 0.8195\n",
      "[2.911559581756592, 0.8195374011993408]\n"
     ]
    }
   ],
   "source": [
    "# 테스트셋을 통한 모델 평가\n",
    "results = model.evaluate(x_test,  y_test, verbose=2)\n",
    "\n",
    "print(results)"
   ]
  },
  {
   "cell_type": "code",
   "execution_count": 31,
   "metadata": {},
   "outputs": [
    {
     "name": "stdout",
     "output_type": "stream",
     "text": [
      "dict_keys(['loss', 'accuracy', 'val_loss', 'val_accuracy'])\n"
     ]
    }
   ],
   "source": [
    "# Loss, Acurracy 시각화\n",
    "\n",
    "# 모델 학습 중 트레인 데이터 셋 / 검증용 데이터 셋의 loss, accuracy 등을 \n",
    "# 매 echo 마다 history 에 저장\n",
    "history_dict = history.history\n",
    "\n",
    "# 매 echo 에 따른 그래프를 그릴 수 있는 항목들\n",
    "print(history_dict.keys())"
   ]
  },
  {
   "cell_type": "code",
   "execution_count": 32,
   "metadata": {},
   "outputs": [
    {
     "data": {
      "image/png": "[encoded data removed]",
      "text/plain": [
       "<Figure size 432x288 with 1 Axes>"
      ]
     },
     "metadata": {
      "needs_background": "light"
     },
     "output_type": "display_data"
    }
   ],
   "source": [
    "# Loss, Acurracy\n",
    "acc = history_dict['accuracy']\n",
    "val_acc = history_dict['val_accuracy']\n",
    "loss = history_dict['loss']\n",
    "val_loss = history_dict['val_loss']\n",
    "\n",
    "epochs = range(1, len(acc) + 1)\n",
    "\n",
    "plt.plot(epochs, loss, 'bo', label = 'Training loss')\n",
    "\n",
    "plt.plot(epochs, loss, 'b', label = 'Validation loss')\n",
    "plt.title('Training and validation loss')\n",
    "plt.xlabel('Epochs')\n",
    "plt.ylabel('Loss')\n",
    "plt.legend()\n",
    "\n",
    "plt.show()"
   ]
  },
  {
   "cell_type": "code",
   "execution_count": 33,
   "metadata": {},
   "outputs": [
    {
     "data": {
      "image/png": "[encoded data removed]",
      "text/plain": [
       "<Figure size 432x288 with 1 Axes>"
      ]
     },
     "metadata": {
      "needs_background": "light"
     },
     "output_type": "display_data"
    }
   ],
   "source": [
    "# 시각화한 그림을 초기화\n",
    "plt.clf()   \n",
    "\n",
    "plt.plot(epochs, acc, 'bo', label='Training acc')\n",
    "plt.plot(epochs, val_acc, 'b', label='Validation acc')\n",
    "plt.title('Training and validation accuracy')\n",
    "plt.xlabel('Epochs')\n",
    "plt.ylabel('Accuracy')\n",
    "plt.legend()\n",
    "\n",
    "plt.show()"
   ]
  },
  {
   "cell_type": "markdown",
   "metadata": {},
   "source": [
    "### 회고"
   ]
  },
  {
   "cell_type": "code",
   "execution_count": null,
   "metadata": {},
   "outputs": [],
   "source": []
  }
 ],
 "metadata": {
  "kernelspec": {
   "display_name": "aiffel",
   "language": "python",
   "name": "aiffel"
  },
  "language_info": {
   "codemirror_mode": {
    "name": "ipython",
    "version": 3
   },
   "file_extension": ".py",
   "mimetype": "text/x-python",
   "name": "python",
   "nbconvert_exporter": "python",
   "pygments_lexer": "ipython3",
   "version": "3.7.9"
  }
 },
 "nbformat": 4,
 "nbformat_minor": 4
}
