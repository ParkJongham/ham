{
 "cells": [
  {
   "cell_type": "code",
   "execution_count": 9,
   "metadata": {},
   "outputs": [
    {
     "name": "stdout",
     "output_type": "stream",
     "text": [
      "[8.8, 8.9, 8.7, 9.2, 9.3, 9.7, 9.9, 9.5]\n"
     ]
    }
   ],
   "source": [
    "# 081 별 표현식\n",
    "\n",
    "'''\n",
    "기본적으로 데이터 언패킹은 좌변의 변수와 우변 데이터 개수가 같아야 합니다. \n",
    "하지만 star expression을 사용하면 변수의 개수가 달라도 데이터 언패킹을 할 수 있습니다.\n",
    "튜플에 저장된 데이터 중에서 앞에 있는 두 개의 데이터만 필요할 경우 \n",
    "나머지 데이터의 언패킹 코드를 작성할 필요가 없습니다.\n",
    "\n",
    ">> a, b, *c = (0, 1, 2, 3, 4, 5)\n",
    ">> a\n",
    "0\n",
    ">> b\n",
    "1\n",
    ">> c\n",
    "[2, 3, 4, 5]\n",
    "\n",
    "다음과 같이 10개의 값이 저장된 scores 리스트가 있을 때, \n",
    "start expression을 사용하여 좌측 8개의 값을 valid_score 변수에 바인딩하여라.\n",
    "'''\n",
    "\n",
    "scores = [8.8, 8.9, 8.7, 9.2, 9.3, 9.7, 9.9, 9.5, 7.8, 9.4]\n",
    "\n",
    "*valid_score, _, _ = scores\n",
    "\n",
    "print(valid_score)\n",
    "\n",
    "# 인자 '_' 는 값을 무시하고 싶을 떄 사용한다. \n",
    "# 즉, valid_score, a, b 로 사용해도 되지만, 언더바를 사용해도 무관하다."
   ]
  },
  {
   "cell_type": "code",
   "execution_count": 5,
   "metadata": {},
   "outputs": [
    {
     "name": "stdout",
     "output_type": "stream",
     "text": [
      "[8.7, 9.2, 9.3, 9.7, 9.9, 9.5, 7.8, 9.4]\n"
     ]
    }
   ],
   "source": [
    "# 082\n",
    "\n",
    "# 다음과 같이 10개의 값이 저장된 scores 리스트가 있을 때, \n",
    "# start expression 을 사용하여 우측 8개의 값을 valid_score 변수에 바인딩\n",
    "\n",
    "scores = [8.8, 8.9, 8.7, 9.2, 9.3, 9.7, 9.9, 9.5, 7.8, 9.4]\n",
    "\n",
    "a, b, *valid_score = scores\n",
    "\n",
    "print(valid_score)"
   ]
  },
  {
   "cell_type": "code",
   "execution_count": 12,
   "metadata": {},
   "outputs": [
    {
     "name": "stdout",
     "output_type": "stream",
     "text": [
      "[8.9, 8.7, 9.2, 9.3, 9.7, 9.9, 9.5, 7.8]\n"
     ]
    }
   ],
   "source": [
    "# 083\n",
    "\n",
    "# 다음과 같이 10개의 값이 저장된 scores 리스트가 있을 때, \n",
    "# start expression 을 사용하여 가운데 있는 8개의 값을 \n",
    "# valid_score 변수에 바인딩\n",
    "\n",
    "scores = [8.8, 8.9, 8.7, 9.2, 9.3, 9.7, 9.9, 9.5, 7.8, 9.4]\n",
    "\n",
    "_, *valid_score, _ = scores\n",
    "\n",
    "print(valid_score)"
   ]
  },
  {
   "cell_type": "code",
   "execution_count": 13,
   "metadata": {},
   "outputs": [
    {
     "name": "stdout",
     "output_type": "stream",
     "text": [
      "{} <class 'dict'>\n"
     ]
    }
   ],
   "source": [
    "# 084 비어있는 딕셔너리\n",
    "\n",
    "# temp 이름의 비어있는 딕셔너리를 만들라.\n",
    "\n",
    "temp = {}\n",
    "\n",
    "print(temp, type(temp))"
   ]
  },
  {
   "cell_type": "code",
   "execution_count": 14,
   "metadata": {},
   "outputs": [
    {
     "name": "stdout",
     "output_type": "stream",
     "text": [
      "{'메로나': 1000, '폴라포': 1200, '빵빠레': 1800}\n"
     ]
    }
   ],
   "source": [
    "# 085 \n",
    "\n",
    "# 다음 아이스크림 이름과 희망 가격을 딕셔너리로 구성\n",
    "\n",
    "'''\n",
    "\n",
    "이름    희망 가격\n",
    "메로나   1000\n",
    "폴라포   1200\n",
    "빵빠레   1800\n",
    "'''\n",
    "\n",
    "icecreams = {'메로나' : 1000, '폴라포' : 1200, '빵빠레' : 1800}\n",
    "\n",
    "print(icecreams)"
   ]
  },
  {
   "cell_type": "code",
   "execution_count": 15,
   "metadata": {},
   "outputs": [
    {
     "name": "stdout",
     "output_type": "stream",
     "text": [
      "{'메로나': 1000, '폴라포': 1200, '빵빠레': 1800, '죠스바': 1200, '월드콘': 1500}\n"
     ]
    }
   ],
   "source": [
    "# 086\n",
    "\n",
    "# 085 번의 딕셔너리에 아래 아이스크림 가격정보를 추가하라\n",
    "\n",
    "'''\n",
    "이름    희망 가격\n",
    "죠스바   1200\n",
    "월드콘   1500\n",
    "'''\n",
    "\n",
    "icecreams['죠스바'] = 1200\n",
    "icecreams['월드콘'] = 1500\n",
    "\n",
    "print(icecreams)"
   ]
  },
  {
   "cell_type": "code",
   "execution_count": 17,
   "metadata": {},
   "outputs": [
    {
     "name": "stdout",
     "output_type": "stream",
     "text": [
      "메로나 가격 : 1000\n"
     ]
    }
   ],
   "source": [
    "# 087\n",
    "\n",
    "# 다음 딕셔너리를 사용하여 메로나 가격을 출력하다\n",
    "\n",
    "ice = {'메로나': 1000,\n",
    "       '폴로포': 1200,\n",
    "       '빵빠레': 1800,\n",
    "       '죠스바': 1200,\n",
    "       '월드콘': 1500}\n",
    "\n",
    "print(\"메로나 가격 :\", ice['메로나'])"
   ]
  },
  {
   "cell_type": "code",
   "execution_count": 18,
   "metadata": {},
   "outputs": [
    {
     "name": "stdout",
     "output_type": "stream",
     "text": [
      "{'메로나': 1300, '폴로포': 1200, '빵빠레': 1800, '죠스바': 1200, '월드콘': 1500}\n"
     ]
    }
   ],
   "source": [
    "# 088\n",
    "\n",
    "# 다음 딕셔너리에서 메로나의 가격을 1300으로 수정\n",
    "\n",
    "ice = {'메로나': 1000,\n",
    "       '폴로포': 1200,\n",
    "       '빵빠레': 1800,\n",
    "       '죠스바': 1200,\n",
    "       '월드콘': 1500}\n",
    "\n",
    "ice['메로나'] = 1300\n",
    "\n",
    "print(ice)"
   ]
  },
  {
   "cell_type": "code",
   "execution_count": 19,
   "metadata": {},
   "outputs": [
    {
     "name": "stdout",
     "output_type": "stream",
     "text": [
      "{'폴로포': 1200, '빵빠레': 1800, '죠스바': 1200, '월드콘': 1500}\n"
     ]
    }
   ],
   "source": [
    "# 089\n",
    "\n",
    "# 다음 딕셔너리에서 메로나를 삭제\n",
    "\n",
    "ice = {'메로나': 1000,\n",
    "       '폴로포': 1200,\n",
    "       '빵빠레': 1800,\n",
    "       '죠스바': 1200,\n",
    "       '월드콘': 1500}\n",
    "\n",
    "del ice['메로나']\n",
    "\n",
    "print(ice)"
   ]
  },
  {
   "cell_type": "code",
   "execution_count": 22,
   "metadata": {},
   "outputs": [
    {
     "ename": "KeyError",
     "evalue": "'누가바'",
     "output_type": "error",
     "traceback": [
      "\u001b[0;31m---------------------------------------------------------------------------\u001b[0m",
      "\u001b[0;31mKeyError\u001b[0m                                  Traceback (most recent call last)",
      "\u001b[0;32m<ipython-input-22-e264477869ce>\u001b[0m in \u001b[0;36m<module>\u001b[0;34m\u001b[0m\n\u001b[1;32m      4\u001b[0m \u001b[0;34m\u001b[0m\u001b[0m\n\u001b[1;32m      5\u001b[0m \u001b[0micecream\u001b[0m \u001b[0;34m=\u001b[0m \u001b[0;34m{\u001b[0m\u001b[0;34m'폴라포'\u001b[0m\u001b[0;34m:\u001b[0m \u001b[0;36m1200\u001b[0m\u001b[0;34m,\u001b[0m \u001b[0;34m'빵빠레'\u001b[0m\u001b[0;34m:\u001b[0m \u001b[0;36m1800\u001b[0m\u001b[0;34m,\u001b[0m \u001b[0;34m'월드콘'\u001b[0m\u001b[0;34m:\u001b[0m \u001b[0;36m1500\u001b[0m\u001b[0;34m,\u001b[0m \u001b[0;34m'메로나'\u001b[0m\u001b[0;34m:\u001b[0m \u001b[0;36m1000\u001b[0m\u001b[0;34m}\u001b[0m\u001b[0;34m\u001b[0m\u001b[0;34m\u001b[0m\u001b[0m\n\u001b[0;32m----> 6\u001b[0;31m \u001b[0micecream\u001b[0m\u001b[0;34m[\u001b[0m\u001b[0;34m'누가바'\u001b[0m\u001b[0;34m]\u001b[0m\u001b[0;34m\u001b[0m\u001b[0;34m\u001b[0m\u001b[0m\n\u001b[0m\u001b[1;32m      7\u001b[0m \u001b[0;34m\u001b[0m\u001b[0m\n\u001b[1;32m      8\u001b[0m \u001b[0;31m# 딕셔너리는 '폴라포', '빵빠레', '월드콘' 같은 key 값으로 호출이되는데\u001b[0m\u001b[0;34m\u001b[0m\u001b[0;34m\u001b[0m\u001b[0;34m\u001b[0m\u001b[0m\n",
      "\u001b[0;31mKeyError\u001b[0m: '누가바'"
     ]
    }
   ],
   "source": [
    "# 090\n",
    "\n",
    "# 다음 코드에서 에러가 발생한 원인을 설명\n",
    "\n",
    "icecream = {'폴라포': 1200, '빵빠레': 1800, '월드콘': 1500, '메로나': 1000}\n",
    "icecream['누가바']\n",
    "\n",
    "# 딕셔너리는 '폴라포', '빵빠레', '월드콘' 같은 key 값으로 호출이되는데 \n",
    "# 없는 key 값을 호출했기 때문에 에러가 난다."
   ]
  },
  {
   "cell_type": "code",
   "execution_count": null,
   "metadata": {},
   "outputs": [],
   "source": []
  }
 ],
 "metadata": {
  "kernelspec": {
   "display_name": "aiffel",
   "language": "python",
   "name": "aiffel"
  },
  "language_info": {
   "codemirror_mode": {
    "name": "ipython",
    "version": 3
   },
   "file_extension": ".py",
   "mimetype": "text/x-python",
   "name": "python",
   "nbconvert_exporter": "python",
   "pygments_lexer": "ipython3",
   "version": "3.7.9"
  }
 },
 "nbformat": 4,
 "nbformat_minor": 4
}
