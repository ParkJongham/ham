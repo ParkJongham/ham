{
 "cells": [
  {
   "cell_type": "code",
   "execution_count": 2,
   "metadata": {},
   "outputs": [
    {
     "ename": "NameError",
     "evalue": "name 'result' is not defined",
     "output_type": "error",
     "traceback": [
      "\u001b[0;31m---------------------------------------------------------------------------\u001b[0m",
      "\u001b[0;31mNameError\u001b[0m                                 Traceback (most recent call last)",
      "\u001b[0;32m<ipython-input-2-c5ca5599a0fc>\u001b[0m in \u001b[0;36m<module>\u001b[0;34m\u001b[0m\n\u001b[1;32m      7\u001b[0m \u001b[0;34m\u001b[0m\u001b[0m\n\u001b[1;32m      8\u001b[0m \u001b[0mn_plus_1\u001b[0m\u001b[0;34m(\u001b[0m\u001b[0;36m3\u001b[0m\u001b[0;34m)\u001b[0m     \u001b[0;31m# 4가 출력\u001b[0m\u001b[0;34m\u001b[0m\u001b[0;34m\u001b[0m\u001b[0m\n\u001b[0;32m----> 9\u001b[0;31m \u001b[0mprint\u001b[0m\u001b[0;34m(\u001b[0m\u001b[0mresult\u001b[0m\u001b[0;34m)\u001b[0m   \u001b[0;31m# 에러발생 result 라는 변수는 함수 안에서만 작동하는 변수\u001b[0m\u001b[0;34m\u001b[0m\u001b[0;34m\u001b[0m\u001b[0m\n\u001b[0m",
      "\u001b[0;31mNameError\u001b[0m: name 'result' is not defined"
     ]
    }
   ],
   "source": [
    "# 231\n",
    "\n",
    "# 아래 코드를 실핼한 결과를 예상.\n",
    "\n",
    "def n_plus_1 (n) : \n",
    "    result = n+1\n",
    "    \n",
    "n_plus_1(3)    \n",
    "print(result)   # 에러발생 result 라는 변수는 함수 안에서만 작동하는 변수"
   ]
  },
  {
   "cell_type": "code",
   "execution_count": 7,
   "metadata": {},
   "outputs": [
    {
     "name": "stdout",
     "output_type": "stream",
     "text": [
      "www.naver.com\n"
     ]
    }
   ],
   "source": [
    "# 232\n",
    "\n",
    "# 문자열 하나를 입력받아 인터넷 주소를 반환하는 make_url 함수를 정의\n",
    "\n",
    "def make_url(str) : \n",
    "    print('www.'+str+\".com\")\n",
    "    \n",
    "make_url(\"naver\")"
   ]
  },
  {
   "cell_type": "code",
   "execution_count": 11,
   "metadata": {},
   "outputs": [
    {
     "data": {
      "text/plain": [
       "['a', 'b', 'c', 'd']"
      ]
     },
     "execution_count": 11,
     "metadata": {},
     "output_type": "execute_result"
    }
   ],
   "source": [
    "# 233\n",
    "\n",
    "# 문자열을 입력받아 각 문자들로 구성된 리스트를 반환하는 make_list 함수를 정의\n",
    "\n",
    "def make_list(str) :\n",
    "    list = []\n",
    "    for i in str : \n",
    "        list.append(i)\n",
    "    return list\n",
    "    \n",
    "make_list(\"abcd\")"
   ]
  },
  {
   "cell_type": "code",
   "execution_count": 12,
   "metadata": {},
   "outputs": [
    {
     "data": {
      "text/plain": [
       "[4, 6, 8]"
      ]
     },
     "execution_count": 12,
     "metadata": {},
     "output_type": "execute_result"
    }
   ],
   "source": [
    "# 234\n",
    "\n",
    "# 숫자로 구성된 하나의 리스트를 입력받아,\n",
    "# 짝수들을 추출하여 리스트로 반환하는\n",
    "# pickup_even 함수를 구현\n",
    "\n",
    "def pickup_even(list) : \n",
    "    res = []\n",
    "    for i in list : \n",
    "        if i % 2 == 0 : \n",
    "            res.append(i)\n",
    "    return res\n",
    "\n",
    "pickup_even([3,4,5,6,7,8])"
   ]
  },
  {
   "cell_type": "code",
   "execution_count": 15,
   "metadata": {},
   "outputs": [
    {
     "data": {
      "text/plain": [
       "1234567"
      ]
     },
     "execution_count": 15,
     "metadata": {},
     "output_type": "execute_result"
    }
   ],
   "source": [
    "# 235\n",
    "\n",
    "# 콤마가 포함된 문자열 숫자를 입력받아 정수로 변환하는 convert_int 함수를 정의.\n",
    "\n",
    "def convert_int(str):\n",
    "    return int(str.replace(',',''))\n",
    "\n",
    "convert_int(\"1,234,567\")"
   ]
  },
  {
   "cell_type": "code",
   "execution_count": 16,
   "metadata": {},
   "outputs": [
    {
     "name": "stdout",
     "output_type": "stream",
     "text": [
      "22\n"
     ]
    }
   ],
   "source": [
    "# 236\n",
    "\n",
    "# 아래 코드의 실행 결과를 예측.\n",
    "\n",
    "def 함수(num) :\n",
    "    return num + 4\n",
    "\n",
    "a = 함수(10)   # 14가 출력\n",
    "b = 함수(a)    # 18이 출력\n",
    "c = 함수(b)    # 22가 출력\n",
    "print(c)      # 22가 출력"
   ]
  },
  {
   "cell_type": "code",
   "execution_count": 20,
   "metadata": {},
   "outputs": [
    {
     "name": "stdout",
     "output_type": "stream",
     "text": [
      "22\n"
     ]
    }
   ],
   "source": [
    "# 237\n",
    "\n",
    "# 아래 코드의 실행 결과를 예측.\n",
    "\n",
    "def 함수(num) :\n",
    "    return num + 4\n",
    "\n",
    "c = 함수(함수(함수(10)))    # 10+4+4+4가 되어 22가 출력\n",
    "print(c)"
   ]
  },
  {
   "cell_type": "code",
   "execution_count": 18,
   "metadata": {},
   "outputs": [
    {
     "name": "stdout",
     "output_type": "stream",
     "text": [
      "140\n"
     ]
    }
   ],
   "source": [
    "# 238\n",
    "\n",
    "# 아래 코드의 실행 결과를 예측.\n",
    "\n",
    "def 함수1(num) : \n",
    "    return num + 4\n",
    "\n",
    "def 함수2(num) : \n",
    "    return num * 10\n",
    "\n",
    "a = 함수1(10)  # 14가 출력\n",
    "c = 함수2(a)   # 140이 출력\n",
    "print(c)      # 140이 출력"
   ]
  },
  {
   "cell_type": "code",
   "execution_count": 23,
   "metadata": {},
   "outputs": [
    {
     "name": "stdout",
     "output_type": "stream",
     "text": [
      "16\n"
     ]
    }
   ],
   "source": [
    "# 239\n",
    "\n",
    "# 아래 코드의 실행 결과를 예측.\n",
    "\n",
    "def 함수1(num) : \n",
    "    return num + 4\n",
    "    \n",
    "def 함수2(num) : \n",
    "    num = num + 2\n",
    "    return 함수1(num)\n",
    "\n",
    "c = 함수2(10)    # 16이 출력\n",
    "print(c)"
   ]
  },
  {
   "cell_type": "code",
   "execution_count": 25,
   "metadata": {},
   "outputs": [
    {
     "name": "stdout",
     "output_type": "stream",
     "text": [
      "28\n"
     ]
    }
   ],
   "source": [
    "# 240\n",
    "\n",
    "# 아래 코드의 실행 결과를 예측\n",
    "\n",
    "def 함수0(num) :\n",
    "    return num * 2\n",
    "\n",
    "def 함수1(num) :\n",
    "    return 함수0(num + 2)\n",
    "\n",
    "def 함수2(num) :\n",
    "    num = num + 10\n",
    "    return 함수1(num)\n",
    "\n",
    "c = 함수2(2)    # 28가 출력\n",
    "print(c)"
   ]
  }
 ],
 "metadata": {
  "kernelspec": {
   "display_name": "Python 3",
   "language": "python",
   "name": "python3"
  },
  "language_info": {
   "codemirror_mode": {
    "name": "ipython",
    "version": 3
   },
   "file_extension": ".py",
   "mimetype": "text/x-python",
   "name": "python",
   "nbconvert_exporter": "python",
   "pygments_lexer": "ipython3",
   "version": "3.8.5"
  }
 },
 "nbformat": 4,
 "nbformat_minor": 4
}
