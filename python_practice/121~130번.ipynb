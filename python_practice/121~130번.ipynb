{
 "cells": [
  {
   "cell_type": "code",
   "execution_count": 6,
   "metadata": {},
   "outputs": [
    {
     "name": "stdout",
     "output_type": "stream",
     "text": [
      "입력 :a\n",
      "A\n"
     ]
    }
   ],
   "source": [
    "# 121\n",
    "\n",
    "# 사용자로부터 문자 한개를 입력 받고, 소문자일 경우 대문자로,\n",
    "# 대문자일 경우 소문자로 변경하여 출력\n",
    "\n",
    "# 힌트-1 : islower() 함수는 문자의 소문자 여부를 판별합니다. \n",
    "# 만약 소문자일 경우 True, 대문자일 경우 False를 반환합니다. \n",
    "# 힌트-2 : upper() 함수는 대문자로, lower() 함수는 소문자로 변경합니다.\n",
    "\n",
    "user = input(\"입력 :\")\n",
    "\n",
    "if user.islower() :\n",
    "    user = user.upper()\n",
    "    print(user)\n",
    "\n",
    "else :  \n",
    "    user = user.lower()\n",
    "    print(user)"
   ]
  },
  {
   "cell_type": "code",
   "execution_count": 7,
   "metadata": {},
   "outputs": [
    {
     "name": "stdout",
     "output_type": "stream",
     "text": [
      "점수 :90\n",
      "Grade : A\n"
     ]
    }
   ],
   "source": [
    "# 122\n",
    "\n",
    "# 점수 구간에 해당하는 학점이 아래와 같이 정의되어 있다.\n",
    "# 사용자로부터 score 를 입력받아 학점을 출력\n",
    "\n",
    "'''\n",
    "점수   학점\n",
    "81~100  A\n",
    "61~80   B\n",
    "41~60   C\n",
    "21~40   D\n",
    "0~20    E\n",
    "'''\n",
    "\n",
    "score = int(input(\"점수 :\"))\n",
    "\n",
    "if 80 < score <= 100 :\n",
    "    print('Grade : A')\n",
    "\n",
    "elif 60 < score <= 80 :\n",
    "    print(\"Grade : B\")\n",
    "    \n",
    "elif 40 < score <= 60 : \n",
    "    print(\"Grade : C\")\n",
    "    \n",
    "elif 20 < score <= 40 :\n",
    "    print(\"Grade : D\")\n",
    "    \n",
    "else :\n",
    "    print(\"Grade : E\")"
   ]
  },
  {
   "cell_type": "code",
   "execution_count": 8,
   "metadata": {},
   "outputs": [
    {
     "name": "stdout",
     "output_type": "stream",
     "text": [
      "입력 : 12 달러\n",
      "14004.0 원\n"
     ]
    }
   ],
   "source": [
    "# 123\n",
    "\n",
    "# 사용자로부터 달러, 엔, 유로, 또는 위안 금액을 입력받은 후 \n",
    "# 이를 원으로 변환하는 프로그램을 작성하라. \n",
    "# 각 통화별 환율은 다음과 같다. \n",
    "# 사용자는 100 달러, 1000 엔, 13 유로, 100 위안과 같이 \n",
    "# 금액과 통화명 사이에 공백을 넣어 입력한다고 가정한다.\n",
    "# 사용자로부터 달러, 엔, 유로, 또는 위안 금액을 입력받은 후\n",
    "# 이를 원으로 변환하는 프로그램을 작성하라. \n",
    "# 각 통화별 환율은 다음과 같다. \n",
    "# 사용자는 100 달러, 1000 엔, 13 유로, 100 위안과 같이 \n",
    "# 금액과 통화명 사이에 공백을 넣어 입력한다고 가정한다\n",
    "\n",
    "'''\n",
    "통화명    환율\n",
    "달러      1167\n",
    "엔       1.096\n",
    "유로      1268\n",
    "위안       171\n",
    "'''\n",
    "\n",
    "user = input(\"입력 : \")\n",
    "\n",
    "환율 = {\"달러\" : 1167, \"엔\" :1.096, \"유로\" : 1268, \"위안\" : 171}\n",
    "\n",
    "num, currency = user.split()\n",
    "\n",
    "print(float(num) * 환율[currency], \"원\")"
   ]
  },
  {
   "cell_type": "code",
   "execution_count": 10,
   "metadata": {},
   "outputs": [
    {
     "name": "stdout",
     "output_type": "stream",
     "text": [
      "입력 1 : 12\n",
      "입력 2 : 11\n",
      "입력 3 : 20\n",
      "20\n"
     ]
    }
   ],
   "source": [
    "# 124\n",
    "\n",
    "# 사용자로부터 세 개의 숫자를 입력 받은 후 가장 큰 숫자를 출력\n",
    "\n",
    "input_1 = int(input(\"입력 1 : \"))\n",
    "input_2 = int(input(\"입력 2 : \"))\n",
    "input_3 = int(input(\"입력 3 : \"))\n",
    "\n",
    "\n",
    "if input_1 > input_2 and input_1 > input_3 : \n",
    "    pirnt(input_1)\n",
    "    \n",
    "elif input_2 > input_1 and input_2 > input_3 : \n",
    "    print(input_2)\n",
    "    \n",
    "else : \n",
    "    print(input_3)"
   ]
  },
  {
   "cell_type": "code",
   "execution_count": 11,
   "metadata": {},
   "outputs": [
    {
     "name": "stdout",
     "output_type": "stream",
     "text": [
      "Phone Number :010-1111-1111\n",
      "당신은알수없음사용자 입니다.\n"
     ]
    }
   ],
   "source": [
    "# 125 \n",
    "\n",
    "# 휴대폰 번호 앞자리에 따라 통신사는 아래와 같이 구분된다.\n",
    "# 사용자로부터 휴대전화 번호를 입력 받고,\n",
    "# 통신사를 출력하는 프로개름을 작성\n",
    "\n",
    "'''\n",
    "\n",
    "번호    통신사\n",
    "011     SKT\n",
    "016      KT\n",
    "019     LGU\n",
    "010    알수없음\n",
    "'''\n",
    "\n",
    "phone = input(\"Phone Number :\")\n",
    "\n",
    "통신사 = {\"SKT\" : '011', \"KT\" : '016', \"LGU\" : '019', \"알수없음\" : '010'}\n",
    "\n",
    "phone = phone.split(\"-\")[0]\n",
    "\n",
    "if phone == \"011\" : \n",
    "    agency = \"SKT\"\n",
    "\n",
    "elif phone == \"016\" : \n",
    "    agency = \"KT\"\n",
    "    \n",
    "elif phone == \"019\" : \n",
    "    agency = \"LGU\"\n",
    "\n",
    "else : \n",
    "    agency = \"알수없음\"\n",
    "    \n",
    "print(\"당신은\" + agency + \"사용자 입니다.\")"
   ]
  },
  {
   "cell_type": "code",
   "execution_count": 12,
   "metadata": {},
   "outputs": [
    {
     "name": "stdout",
     "output_type": "stream",
     "text": [
      "우편번호를 입력하세요 : 01111\n",
      "강북구\n"
     ]
    }
   ],
   "source": [
    "# 126\n",
    "\n",
    "# 우편번호는 5자리로 구성되는데, 앞의 세자리는 구를 나타낸다.\n",
    "# 예를 들어, 강북구의 경우 010, 011, 012 세자리로 시작한다.\n",
    "# 사용자로부터 5자리 우편번호를 입력반도 구극 판별하라.\n",
    "\n",
    "'''\n",
    "\n",
    "-     0       1      2      3       4       5      6      7       8      9\n",
    "01  강북구  강북구  강북구  도봉구  도봉구  도봉구  노원구  노원구  노원구  노원구\n",
    "'''\n",
    "\n",
    "city = input('우편번호를 입력하세요 : ')\n",
    "city = city[2]\n",
    "\n",
    "if city in ['0', '1', '2'] : \n",
    "    print(\"강북구\")\n",
    "    \n",
    "elif city in ['3', '4', '5'] : \n",
    "    print(\"도봉구\")\n",
    "    \n",
    "elif city in ['6', '7', '8', '9'] : \n",
    "    print(\"노원구\")"
   ]
  },
  {
   "cell_type": "code",
   "execution_count": 13,
   "metadata": {},
   "outputs": [
    {
     "name": "stdout",
     "output_type": "stream",
     "text": [
      "주민등록번호를 입력하세요 : 123456-1234567\n",
      "여자\n"
     ]
    }
   ],
   "source": [
    "# 127\n",
    "\n",
    "# 주미등록번호 뒷 7자리 중 첫째 자리는 성별을 나타낸다.\n",
    "# 1, 3 은 남자, 2, 4 는 여자를 의미한다.\n",
    "# 사용자로부터 13자리의 주민등록번호를 입력받은 후 \n",
    "# 성별을 출력하는 프로그램을 작성\n",
    "\n",
    "personer_num = input(\"주민등록번호를 입력하세요 : \")\n",
    "\n",
    "personer_num = personer_num[7]\n",
    "\n",
    "if personer_num == 1 or personer_num == 3 : \n",
    "    print(\"남자\")\n",
    "\n",
    "else :\n",
    "    print(\"여자\")"
   ]
  },
  {
   "cell_type": "code",
   "execution_count": 14,
   "metadata": {},
   "outputs": [
    {
     "name": "stdout",
     "output_type": "stream",
     "text": [
      "주미등록번호를 입력하세요 : 123456-1234567\n",
      "당신의 출생지는 부산입니다.\n"
     ]
    }
   ],
   "source": [
    "# 128\n",
    "\n",
    "# 주민등록번호의 뒷 자리 7자리 중 두번쨰와 세번째는 지역코드를 의미한다.\n",
    "# 주미드록번호를 입력 받은 후 \n",
    "# 출생지가 서울인지 아닌지 판단하는 코드를 작성\n",
    "\n",
    "'''\n",
    "지역코드   출생지\n",
    "00 ~ 08    서울\n",
    "09 ~ 12    부산\n",
    "'''\n",
    "\n",
    "born = input(\"주미등록번호를 입력하세요 : \")\n",
    "\n",
    "born = born.split(\"-\")[-1]\n",
    "\n",
    "born = int(born[1:3])\n",
    "\n",
    "if 0 <= born <= 8 :\n",
    "    print(\"당신의 출생지는 서울입니다.\")\n",
    "    \n",
    "else :\n",
    "    print(\"당신의 출생지는 부산입니다.\")"
   ]
  },
  {
   "cell_type": "code",
   "execution_count": 10,
   "metadata": {},
   "outputs": [
    {
     "name": "stdout",
     "output_type": "stream",
     "text": [
      "주미등록 번호 유gy성 검사: 123456-1234567\n",
      "유효하지 않은 주민등록번호 입니다.\n"
     ]
    }
   ],
   "source": [
    "# 129\n",
    "\n",
    "# 주민등록번호는 13자리로 구성되는데 마지막 자리수는 \n",
    "# 주민등록번호의 유효성을 체크하는데 사용된다. \n",
    "# 먼저 앞에서부터 12자리의 숫자에 2, 3, 4, 5, 6, 7, 8, 9, 2, 3, 4, 5를 \n",
    "# 차례로 곱한 뒤 그 값을 전부 더한다. \n",
    "# 연산 결과 값을 11로 나누면 나머지가 나오는데 \n",
    "# 11에서 나머지를 뺀 값이 주민등록번호의 마지막 번호가 된다.\n",
    "# 위와 같이 821010-1635210에 대해서 계산을 해보면 \n",
    "# 마지막 자리는 4가 되어야 함을 알 수 있다. \n",
    "\n",
    "# 즉, 821010-1635210은 유효하지 않은 주민등록번호임을 알 수 있다.\n",
    "# 다음과 같이 사용자로부터 주민등록번호를 입력받은 후 \n",
    "# 주민등록번호가 유효한지를 출력하는 프로그램을 작성하라.\n",
    "\n",
    "'''\n",
    "  8 2 1 0 1 0 - 1 6 3 5 2 1 0\n",
    "x 2 3 4 5 6 7   8 9 2 3 4 5 \n",
    "-----------------------------\n",
    "1차 계산: (8*2 + 2*3 + 1*4 + 0*5 + 1*6 + 0*7 + 1*8 + 6*9 + 3*2 + 5*3 + 2*4 + 1*5) = (128 % 11) = 7\n",
    "2차 계산: 11 -7 = 4\n",
    "'''\n",
    "\n",
    "num = input(\"주미등록 번호 유gy성 검사: \")\n",
    "\n",
    "# 1차 계산\n",
    "cal_1 = int(num[0]) * 2 + int(num[1]) * 3 + int(num[2]) * 4 + int(num[3]) * 5 + int(num[4]) * 6 + \\\n",
    "        int(num[5]) * 7 + int(num[7]) * 8 + int(num[8]) * 9 + int(num[9]) * 2 + int(num[10])* 3 + \\\n",
    "        int(num[11])* 4 + int(num[12]) * 5\n",
    "\n",
    "cal_2 = 11 - cal_1\n",
    "\n",
    "cal_2 = str(cal_2)\n",
    "\n",
    "if num[-1] == cal_2[-1] : \n",
    "    print(\"유효한 주민등록번호 입니다.\")\n",
    "    \n",
    "else :\n",
    "    print(\"유효하지 않은 주민등록번호 입니다.\")"
   ]
  },
  {
   "cell_type": "code",
   "execution_count": 19,
   "metadata": {},
   "outputs": [
    {
     "name": "stdout",
     "output_type": "stream",
     "text": [
      "상승장\n"
     ]
    }
   ],
   "source": [
    "# 130\n",
    "\n",
    "# 아래코드는 비트코인의 가격 정보를 딕셔너리로 가져오는 코드이다.\n",
    "\n",
    "import requests\n",
    "btc = requests.get(\"https://api.bithumb.com/public/ticker/\").json()['data']\n",
    "\n",
    "# btc 딕셔너리 안에는 시가, 종가, 최고가, 최저가 등이 저장되어 있다. \n",
    "# 최고가와 최저가의 차이를 변동폭으로 정의할 때 \n",
    "# (시가 + 변동폭)이 최고가 보다 높을 경우 \"상승장\", \n",
    "# 그렇지 않은 경우 \"하락장\" 문자열을 출력하라.\n",
    "\n",
    "'''\n",
    "Key Name               Description\n",
    "opening_price    최근 24시간 내 시작 거래금액\n",
    "closing_price    최근 24시간 내 마지막 거래금액\n",
    "min_price        최근 24시간 내 최저 거래금액\n",
    "max_price        최근 24시간 내 최고 거래금액\n",
    "'''\n",
    "\n",
    "\n",
    "\n",
    "변동폭 = float(btc['max_price']) -float(btc['min_price'])\n",
    "\n",
    "\n",
    "시가 = float(btc['opening_price'])\n",
    "\n",
    "최고가 = float(btc['max_price'])\n",
    "\n",
    "if (시가 + 변동폭) > 최고가 : \n",
    "    print(\"상승장\")\n",
    "\n",
    "else : \n",
    "    print(\"하락장\")"
   ]
  }
 ],
 "metadata": {
  "kernelspec": {
   "display_name": "aiffel",
   "language": "python",
   "name": "aiffel"
  },
  "language_info": {
   "codemirror_mode": {
    "name": "ipython",
    "version": 3
   },
   "file_extension": ".py",
   "mimetype": "text/x-python",
   "name": "python",
   "nbconvert_exporter": "python",
   "pygments_lexer": "ipython3",
   "version": "3.7.9"
  }
 },
 "nbformat": 4,
 "nbformat_minor": 4
}
