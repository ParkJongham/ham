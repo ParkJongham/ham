{
 "cells": [
  {
   "cell_type": "code",
   "execution_count": 18,
   "metadata": {},
   "outputs": [
    {
     "name": "stdout",
     "output_type": "stream",
     "text": [
      "['닥터 스트레인지', '스플릿', '럭키'] <class 'list'>\n"
     ]
    }
   ],
   "source": [
    "# 051 리스트 생성\n",
    "\n",
    "# 2016년 11월 영화 예매 순위 기준 top3 는 다음과 같다. \n",
    "# 영화 제목을 movie_rank 이름의 리스트에 저장. 순위 정보는 저장하지 않는다.\n",
    "\n",
    "'''\n",
    "순위   영화\n",
    "\n",
    " 1     닥터 스트레인지\n",
    " 2     스플릿\n",
    " 3     럭키\n",
    "'''\n",
    "\n",
    "movie_rank = ['닥터 스트레인지', '스플릿', '럭키']\n",
    "print(movie_rank, type(movie_rank))"
   ]
  },
  {
   "cell_type": "code",
   "execution_count": 19,
   "metadata": {},
   "outputs": [
    {
     "name": "stdout",
     "output_type": "stream",
     "text": [
      "['닥터 스트레인지', '스플릿', '럭키']\n",
      "['닥터 스트레인지', '스플릿', '럭키', '베트맨']\n"
     ]
    }
   ],
   "source": [
    "# 052 리스트에 원소 추가\n",
    "\n",
    "# 051 번에서 만든 movie_rank 리스트에 \"베트맨\" 을 추가하라\n",
    "print(movie_rank)\n",
    "\n",
    "movie_rank.append(\"베트맨\")\n",
    "\n",
    "print(movie_rank)"
   ]
  },
  {
   "cell_type": "code",
   "execution_count": 23,
   "metadata": {},
   "outputs": [
    {
     "name": "stdout",
     "output_type": "stream",
     "text": [
      "['닥터 스트레인지', '슈퍼맨', '스플릿', '럭키', '베트맨']\n"
     ]
    }
   ],
   "source": [
    "# 053 \n",
    "\n",
    "# movie_rank 리스트에 아래와 같이 4개의 영화 제목이 바인딩되어있다.\n",
    "# \"슈퍼맨\" 을 \"닥처 스트레인지\" 와 \"스플릿\" 사이에 추가\n",
    "\n",
    "movie_rank = ['닥터 스트레인지', '스플릿', '럭키', '베트맨']\n",
    "\n",
    "# insert(추가하고자 하는 인덱스, 추가하려는 데이터 값)\n",
    "movie_rank.insert(1, \"슈퍼맨\")\n",
    "\n",
    "print(movie_rank)"
   ]
  },
  {
   "cell_type": "code",
   "execution_count": 26,
   "metadata": {},
   "outputs": [
    {
     "name": "stdout",
     "output_type": "stream",
     "text": [
      "['닥터 스트레인지', '슈퍼맨', '스플릿', '베트맨']\n"
     ]
    }
   ],
   "source": [
    "# 054\n",
    "\n",
    "# movie_rank 리스트에서 '럭키' 를 삭제\n",
    "\n",
    "movie_rank = ['닥터 스트레인지', '슈퍼맨', '스플릿', '럭키', '베트맨']\n",
    "\n",
    "# del 함수 사용, 삭제하려는 데이터의 인덱스를 사용하여 삭제\n",
    "del movie_rank[3]\n",
    "\n",
    "print(movie_rank)"
   ]
  },
  {
   "cell_type": "code",
   "execution_count": 28,
   "metadata": {},
   "outputs": [
    {
     "name": "stdout",
     "output_type": "stream",
     "text": [
      "['닥터 스트레인지', '스플릿']\n"
     ]
    }
   ],
   "source": [
    "# 055\n",
    "\n",
    "# movie_rank 리스트에서 '스플릿' 과 '베트맨' 을 삭제\n",
    "\n",
    "movie_rank = ['닥터 스트레인지', '슈퍼맨', '스플릿', '베트맨']\n",
    "\n",
    "del movie_rank[::-2]\n",
    "\n",
    "print(movie_rank)"
   ]
  },
  {
   "cell_type": "code",
   "execution_count": 30,
   "metadata": {},
   "outputs": [
    {
     "name": "stdout",
     "output_type": "stream",
     "text": [
      "['c', 'c++', 'JAVA', 'Python', 'Go', 'C#']\n"
     ]
    }
   ],
   "source": [
    "# 056\n",
    "\n",
    "# lang1 과 lang2 리스트가 있을 때, lnag1 과 lang2 의 원소를\n",
    "# 모두 갖고 있는 langs 리스트를 만들어라\n",
    "\n",
    "lang1 = [\"c\", \"c++\", \"JAVA\"]\n",
    "lang2 = [\"Python\", \"Go\", \"C#\"]\n",
    "\n",
    "langs = lang1 + lang2\n",
    "\n",
    "print(langs)"
   ]
  },
  {
   "cell_type": "code",
   "execution_count": 32,
   "metadata": {},
   "outputs": [
    {
     "name": "stdout",
     "output_type": "stream",
     "text": [
      "max :  7\n",
      "min :  1\n"
     ]
    }
   ],
   "source": [
    "# 057\n",
    "\n",
    "# 다음 리스트에서 최대값과 최소값을 출력\n",
    "# max(), min() 함수 활용\n",
    "\n",
    "nums = [1, 2, 3, 4, 5, 6, 7]\n",
    "\n",
    "print(\"max : \", max(nums))\n",
    "print(\"min : \", min(nums))"
   ]
  },
  {
   "cell_type": "code",
   "execution_count": 33,
   "metadata": {},
   "outputs": [
    {
     "name": "stdout",
     "output_type": "stream",
     "text": [
      "15\n"
     ]
    }
   ],
   "source": [
    "# 058\n",
    "\n",
    "# 다음 리스트의 합을 출력\n",
    "\n",
    "nums = [1, 2, 3, 4, 5]\n",
    "\n",
    "print(sum(nums))"
   ]
  },
  {
   "cell_type": "code",
   "execution_count": 36,
   "metadata": {},
   "outputs": [
    {
     "name": "stdout",
     "output_type": "stream",
     "text": [
      "12\n"
     ]
    }
   ],
   "source": [
    "# 059\n",
    "\n",
    "# 다음 리스트에 저장된 데이터의 개수를 출력\n",
    "\n",
    "cook = [\"피자\", \"김밥\", \"만두\", \"양념치킨\", \"족발\", \"피자\", \"김치만두\", \"쫄면\", \"쏘세지\", \"라면\", \"팥빙수\", \"김치전\"]\n",
    "\n",
    "print(len(cook))"
   ]
  },
  {
   "cell_type": "code",
   "execution_count": null,
   "metadata": {},
   "outputs": [],
   "source": [
    "# 060\n",
    "\n",
    "# 다음 리스트의 평균을 출력\n",
    "\n",
    "nums = [1, 2, 3, 4, 5]\n",
    "\n",
    "print(sum(nums) / len(nums))"
   ]
  }
 ],
 "metadata": {
  "kernelspec": {
   "display_name": "aiffel",
   "language": "python",
   "name": "aiffel"
  },
  "language_info": {
   "codemirror_mode": {
    "name": "ipython",
    "version": 3
   },
   "file_extension": ".py",
   "mimetype": "text/x-python",
   "name": "python",
   "nbconvert_exporter": "python",
   "pygments_lexer": "ipython3",
   "version": "3.7.9"
  }
 },
 "nbformat": 4,
 "nbformat_minor": 4
}
