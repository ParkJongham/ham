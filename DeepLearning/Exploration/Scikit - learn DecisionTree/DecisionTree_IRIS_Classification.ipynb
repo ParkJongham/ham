{
 "cells": [
  {
   "cell_type": "code",
   "execution_count": 2,
   "metadata": {
    "executionInfo": {
     "elapsed": 1066,
     "status": "ok",
     "timestamp": 1617167371217,
     "user": {
      "displayName": "박종함",
      "photoUrl": "",
      "userId": "06487387803497715759"
     },
     "user_tz": -540
    },
    "id": "YCKSWTA1rmcA"
   },
   "outputs": [],
   "source": [
    "# 필요 라이브러리 임포트\n",
    "\n",
    "from sklearn.datasets import load_iris\n",
    "from sklearn.model_selection import train_test_split\n",
    "from sklearn.tree import DecisionTreeClassifier\n",
    "from sklearn.metrics import classification_report"
   ]
  },
  {
   "cell_type": "code",
   "execution_count": 3,
   "metadata": {
    "executionInfo": {
     "elapsed": 1141,
     "status": "ok",
     "timestamp": 1617167373311,
     "user": {
      "displayName": "박종함",
      "photoUrl": "",
      "userId": "06487387803497715759"
     },
     "user_tz": -540
    },
    "id": "x-AOrRrerx1P"
   },
   "outputs": [],
   "source": [
    "# 데이터 준비\n",
    "\n",
    "iris = load_iris()\n",
    "iris_data = iris.data\n",
    "iris_label = iris.target"
   ]
  },
  {
   "cell_type": "code",
   "execution_count": 4,
   "metadata": {
    "executionInfo": {
     "elapsed": 1067,
     "status": "ok",
     "timestamp": 1617167386467,
     "user": {
      "displayName": "박종함",
      "photoUrl": "",
      "userId": "06487387803497715759"
     },
     "user_tz": -540
    },
    "id": "dr5RImxbr89e"
   },
   "outputs": [],
   "source": [
    "# train, test 데이터 분리\n",
    "\n",
    "x_train, x_test, y_train, y_test = train_test_split(iris_data, iris_label, test_size = 0.2, random_state = 7)"
   ]
  },
  {
   "cell_type": "code",
   "execution_count": 5,
   "metadata": {
    "colab": {
     "base_uri": "https://localhost:8080/"
    },
    "executionInfo": {
     "elapsed": 1180,
     "status": "ok",
     "timestamp": 1617167406028,
     "user": {
      "displayName": "박종함",
      "photoUrl": "",
      "userId": "06487387803497715759"
     },
     "user_tz": -540
    },
    "id": "aMbzGRrisAKd",
    "outputId": "73cc689d-476b-4baa-ccc3-13b1cbe07610"
   },
   "outputs": [
    {
     "name": "stdout",
     "output_type": "stream",
     "text": [
      "              precision    recall  f1-score   support\n",
      "\n",
      "           0       1.00      1.00      1.00         7\n",
      "           1       0.91      0.83      0.87        12\n",
      "           2       0.83      0.91      0.87        11\n",
      "\n",
      "    accuracy                           0.90        30\n",
      "   macro avg       0.91      0.91      0.91        30\n",
      "weighted avg       0.90      0.90      0.90        30\n",
      "\n"
     ]
    }
   ],
   "source": [
    "# 모델 학습 및 예측\n",
    "\n",
    "decision_tree = DecisionTreeClassifier(random_state=32)\n",
    "decision_tree.fit(x_train, y_train)\n",
    "\n",
    "y_pred = decision_tree.predict(x_test)\n",
    "\n",
    "print(classification_report(y_test, y_pred))"
   ]
  },
  {
   "cell_type": "code",
   "execution_count": null,
   "metadata": {
    "id": "1H3aS3CosE8I"
   },
   "outputs": [],
   "source": []
  }
 ],
 "metadata": {
  "colab": {
   "authorship_tag": "ABX9TyNJFIG0k/e/2wgd6KIgqD+u",
   "collapsed_sections": [],
   "name": "DecisionTree_IRIS_Classification.ipynb",
   "provenance": []
  },
  "kernelspec": {
   "display_name": "Python 3",
   "language": "python",
   "name": "python3"
  },
  "language_info": {
   "codemirror_mode": {
    "name": "ipython",
    "version": 3
   },
   "file_extension": ".py",
   "mimetype": "text/x-python",
   "name": "python",
   "nbconvert_exporter": "python",
   "pygments_lexer": "ipython3",
   "version": "3.7.9"
  }
 },
 "nbformat": 4,
 "nbformat_minor": 1
}
