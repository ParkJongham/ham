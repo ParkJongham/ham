{
 "cells": [
  {
   "cell_type": "markdown",
   "metadata": {},
   "source": [
    "# 126. Valid Palindrome\n",
    "\n",
    "- Given a string, determine if it is a palindrome, considering only alphanumeric characters and ignoring cases.\n",
    "\n",
    "- Note: For the purpose of this problem, we define empty string as valid palindrome.\n",
    "\n",
    "***\n",
    "``` \n",
    "Example 1:\n",
    "\n",
    "Input: \"A man, a plan, a canal: Panama\"\n",
    "Output: true\n",
    "Example 2:\n",
    "\n",
    "Input: \"race a car\"\n",
    "Output: false\n",
    "```\n",
    "*** \n",
    "\n",
    "```\n",
    "Constraints:\n",
    "\n",
    "s consists only of printable ASCII characters.\n",
    "```"
   ]
  },
  {
   "cell_type": "code",
   "execution_count": 80,
   "metadata": {
    "scrolled": true
   },
   "outputs": [],
   "source": [
    "class Solution:\n",
    "    def isPalindrome(self, s: str) -> bool:\n",
    "        # 문장의 요소들을 하나씩 출력\n",
    "        for i in s : \n",
    "            # 회문 : 문장의 앞으로, 뒤로 읽어도 같다\n",
    "            # 따라서 앞, 뒤에서 각각 슬라이싱했을 경우 같아야 함.\n",
    "            if i.lower()[::1] == i.lower()[::-1] : \n",
    "                return True"
   ]
  }
 ],
 "metadata": {
  "kernelspec": {
   "display_name": "aiffel",
   "language": "python",
   "name": "aiffel"
  },
  "language_info": {
   "codemirror_mode": {
    "name": "ipython",
    "version": 3
   },
   "file_extension": ".py",
   "mimetype": "text/x-python",
   "name": "python",
   "nbconvert_exporter": "python",
   "pygments_lexer": "ipython3",
   "version": "3.7.9"
  }
 },
 "nbformat": 4,
 "nbformat_minor": 4
}
