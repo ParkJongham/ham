{
 "cells": [
  {
   "cell_type": "markdown",
   "metadata": {},
   "source": [
    "# 561. Array Partition I\n",
    "***\n",
    "Given an integer array nums of 2n integers, group these integers into n pairs (a1, b1), (a2, b2), ..., (an, bn) such that the sum of min(ai, bi) for all i is maximized. Return the maximized sum.\n",
    "***\n",
    " \n",
    "\n",
    "Example 1:\n",
    "```\n",
    "Input: nums = [1,4,3,2]\n",
    "Output: 4\n",
    "Explanation: All possible pairings (ignoring the ordering of elements) are:\n",
    "1. (1, 4), (2, 3) -> min(1, 4) + min(2, 3) = 1 + 2 = 3\n",
    "2. (1, 3), (2, 4) -> min(1, 3) + min(2, 4) = 1 + 2 = 3\n",
    "3. (1, 2), (3, 4) -> min(1, 2) + min(3, 4) = 1 + 3 = 4\n",
    "So the maximum possible sum is 4.\n",
    "```\n",
    "Example 2:\n",
    "```\n",
    "Input: nums = [6,2,6,5,1,2]\n",
    "Output: 9\n",
    "Explanation: The optimal pairing is (2, 1), (2, 5), (6, 6). min(2, 1) + min(2, 5) + min(6, 6) = 1 + 2 + 6 = 9.\n",
    "``` \n",
    "\n",
    "Constraints:\n",
    "```\n",
    "1 <= n <= 104\n",
    "nums.length == 2 * n\n",
    "-104 <= nums[i] <= 104\n",
    "```\n",
    "***"
   ]
  },
  {
   "cell_type": "code",
   "execution_count": null,
   "metadata": {},
   "outputs": [],
   "source": [
    "class Solution:\n",
    "    def arrayPairSum(self, nums: List[int]) -> int:\n",
    "        \n",
    "        # 합을 구할 sum 변수 생성\n",
    "        sum = 0\n",
    "        \n",
    "        # 오름차순 정렬 \n",
    "        # (2개씩 짝을 지어 각 짝의 합이 가장 큰 경우 = 오름차순 정렬 시)\n",
    "        nums.sort()\n",
    "        \n",
    "        # enumerate 를 통해 nums 의 인덱스와 벨류 값을 각각 i, n에 저장\n",
    "        for i, n in enumerate(nums) : \n",
    "            # 각 짝의 min 값의 합 = 1, 3, ... 번째 값의 합\n",
    "            # 즉, 0번 인덱스, 2번 인덱스, 4번 인덱스... 의 값의 합\n",
    "            # 각 인덱스를 2로 나누었을 때 나머지가 0\n",
    "            if i % 2 == 0 : \n",
    "                \n",
    "                # n + sum 값을 sum 변수에 저장\n",
    "                sum += n\n",
    "        \n",
    "        return sum"
   ]
  },
  {
   "cell_type": "code",
   "execution_count": null,
   "metadata": {},
   "outputs": [],
   "source": []
  }
 ],
 "metadata": {
  "kernelspec": {
   "display_name": "aiffel",
   "language": "python",
   "name": "aiffel"
  },
  "language_info": {
   "codemirror_mode": {
    "name": "ipython",
    "version": 3
   },
   "file_extension": ".py",
   "mimetype": "text/x-python",
   "name": "python",
   "nbconvert_exporter": "python",
   "pygments_lexer": "ipython3",
   "version": "3.7.9"
  }
 },
 "nbformat": 4,
 "nbformat_minor": 4
}
