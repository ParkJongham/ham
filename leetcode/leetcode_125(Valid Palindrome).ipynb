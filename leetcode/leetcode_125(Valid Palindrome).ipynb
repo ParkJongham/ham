{
 "cells": [
  {
   "cell_type": "code",
   "execution_count": 80,
   "metadata": {
    "scrolled": true
   },
   "outputs": [],
   "source": [
    "class Solution:\n",
    "    def isPalindrome(self, s: str) -> bool:\n",
    "        # 문장의 요소들을 하나씩 출력\n",
    "        for i in s : \n",
    "            # 회문 : 문장의 앞으로, 뒤로 읽어도 같다\n",
    "            # 따라서 앞, 뒤에서 각각 슬라이싱했을 경우 같아야 함.\n",
    "            if i.lower()[::1] == i.lower()[::-1] : \n",
    "                return True"
   ]
  },
  {
   "cell_type": "code",
   "execution_count": null,
   "metadata": {},
   "outputs": [],
   "source": []
  }
 ],
 "metadata": {
  "kernelspec": {
   "display_name": "aiffel",
   "language": "python",
   "name": "aiffel"
  },
  "language_info": {
   "codemirror_mode": {
    "name": "ipython",
    "version": 3
   },
   "file_extension": ".py",
   "mimetype": "text/x-python",
   "name": "python",
   "nbconvert_exporter": "python",
   "pygments_lexer": "ipython3",
   "version": "3.7.9"
  }
 },
 "nbformat": 4,
 "nbformat_minor": 4
}
