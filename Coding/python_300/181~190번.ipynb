{
 "cells": [
  {
   "cell_type": "code",
   "execution_count": 2,
   "metadata": {},
   "outputs": [
    {
     "data": {
      "text/plain": [
       "[['101호', '102호'], ['201호', '202호'], ['301호', '302호']]"
      ]
     },
     "execution_count": 2,
     "metadata": {},
     "output_type": "execute_result"
    }
   ],
   "source": [
    "# 181\n",
    "\n",
    "# 아래 표에서 하나의 행을 하나의 리스트로, \n",
    "# 총 3개의 리스트를 갖는 이차원 리스트 apart를 정의.\n",
    "\n",
    "'''\n",
    "101호    102호\n",
    "201호    202호\n",
    "301호    302호\n",
    "'''\n",
    "apart = [[\"101호\", \"102호\"], [\"201호\", \"202호\"], [\"301호\", \"302호\"]]\n",
    "apart"
   ]
  },
  {
   "cell_type": "code",
   "execution_count": 4,
   "metadata": {},
   "outputs": [
    {
     "data": {
      "text/plain": [
       "[['시가', 100, 200, 300], ['종가', 80, 210, 330]]"
      ]
     },
     "execution_count": 4,
     "metadata": {},
     "output_type": "execute_result"
    }
   ],
   "source": [
    "# 182\n",
    "\n",
    "# 아래 표에서 하나의 열을 하나의 리스트로, \n",
    "# 총 2개의 리스트를 갖는 이차원 리스트 stock을 정의.\n",
    "\n",
    "'''\n",
    "시가   종가\n",
    "100    80\n",
    "200    210\n",
    "300    330\n",
    "'''\n",
    "\n",
    "stock = [['시가', 100, 200, 300], ['종가', 80, 210, 330]]\n",
    "stock"
   ]
  },
  {
   "cell_type": "code",
   "execution_count": 5,
   "metadata": {},
   "outputs": [
    {
     "data": {
      "text/plain": [
       "{'시가': [100, 200, 300], '종가': [80, 210, 330]}"
      ]
     },
     "execution_count": 5,
     "metadata": {},
     "output_type": "execute_result"
    }
   ],
   "source": [
    "# 183\n",
    "\n",
    "# 아래 표를 stock 이름의 딕셔너리로 표현.\n",
    "# 시가를 key로 저장하고, 나머지 같은 열의 데이터를 리스트로 저장해서 value로 저장. \n",
    "# 종가 역시 key로 저장하고 나머지 같은 열의 데이터를 리스트로 저장해서 value로 저장.\n",
    "\n",
    "'''\n",
    "시가   종가\n",
    "100    80\n",
    "200    210\n",
    "300    330\n",
    "'''\n",
    "\n",
    "stock = {\"시가\" : [100, 200, 300], \"종가\" : [80, 210, 330]}\n",
    "stock"
   ]
  },
  {
   "cell_type": "code",
   "execution_count": 15,
   "metadata": {},
   "outputs": [
    {
     "data": {
      "text/plain": [
       "{'10/10': [80, 110, 70, 90], '10/11': [210, 230, 190, 200]}"
      ]
     },
     "execution_count": 15,
     "metadata": {},
     "output_type": "execute_result"
    }
   ],
   "source": [
    "# 184\n",
    "\n",
    "# 아래 표를 stock 이라는 이름의 딕셔너리로 표현. \n",
    "# 날짜를 key로 저장하고, \n",
    "# 나머지 같은 행의 데이터를 리스트로 저장해서 value로 저장한다. 첫 열이 날짜이다.\n",
    "\n",
    "'''\n",
    "10/10   80   110   70   90\n",
    "10/11   210  230   190  200\n",
    "'''\n",
    "\n",
    "stock = {\"10/10\" : [80, 110, 70, 90], '10/11' : [210, 230, 190, 200]}\n",
    "stock"
   ]
  },
  {
   "cell_type": "code",
   "execution_count": 14,
   "metadata": {},
   "outputs": [
    {
     "name": "stdout",
     "output_type": "stream",
     "text": [
      "101 호\n",
      "102 호\n",
      "201 호\n",
      "202 호\n",
      "301 호\n",
      "302 호\n"
     ]
    }
   ],
   "source": [
    "# 185\n",
    "\n",
    "# 리스트에 저장된 데이터를 아래와 같이 출력.\n",
    "\n",
    "'''\n",
    "101 호\n",
    "102 호\n",
    "201 호\n",
    "202 호\n",
    "301 호\n",
    "302 호\n",
    "'''\n",
    "\n",
    "apart = [ [101, 102], [201, 202], [301, 302] ]\n",
    "\n",
    "for i in apart :\n",
    "    for j in i :\n",
    "        print(j, \"호\")"
   ]
  },
  {
   "cell_type": "code",
   "execution_count": 16,
   "metadata": {},
   "outputs": [
    {
     "name": "stdout",
     "output_type": "stream",
     "text": [
      "301 호\n",
      "302 호\n",
      "201 호\n",
      "202 호\n",
      "101 호\n",
      "102 호\n"
     ]
    }
   ],
   "source": [
    "# 186\n",
    "\n",
    "# 리스트에 저장된 데이터를 아래와 같이 출력.\n",
    "\n",
    "apart = [ [101, 102], [201, 202], [301, 302] ]\n",
    "\n",
    "for i in apart[::-1] :\n",
    "    for j in i :\n",
    "        print(j, \"호\")"
   ]
  },
  {
   "cell_type": "code",
   "execution_count": 19,
   "metadata": {},
   "outputs": [
    {
     "name": "stdout",
     "output_type": "stream",
     "text": [
      "302 호\n",
      "301 호\n",
      "202 호\n",
      "201 호\n",
      "102 호\n",
      "101 호\n"
     ]
    }
   ],
   "source": [
    "# 187\n",
    "\n",
    "# 리스트에 저장된 데이터를 아래와 같이 출력.\n",
    "\n",
    "'''\n",
    "302 호\n",
    "301 호\n",
    "202 호\n",
    "201 호\n",
    "102 호\n",
    "101 호\n",
    "'''\n",
    "\n",
    "apart = [ [101, 102], [201, 202], [301, 302] ]\n",
    "\n",
    "for i in apart[::-1] :\n",
    "    for j in i[::-1] :\n",
    "        print(j, '호')     "
   ]
  },
  {
   "cell_type": "code",
   "execution_count": 20,
   "metadata": {},
   "outputs": [
    {
     "name": "stdout",
     "output_type": "stream",
     "text": [
      "101 호\n",
      "-----\n",
      "102 호\n",
      "-----\n",
      "201 호\n",
      "-----\n",
      "202 호\n",
      "-----\n",
      "301 호\n",
      "-----\n",
      "302 호\n",
      "-----\n"
     ]
    }
   ],
   "source": [
    "# 188\n",
    "\n",
    "# 리스트에 저장된 데이터를 아래와 같이 출력.\n",
    "\n",
    "'''\n",
    "101 호\n",
    "-----\n",
    "102 호\n",
    "-----\n",
    "201 호\n",
    "-----\n",
    "202 호\n",
    "-----\n",
    "301 호\n",
    "-----\n",
    "302 호\n",
    "-----\n",
    "'''\n",
    "\n",
    "apart = [ [101, 102], [201, 202], [301, 302] ]\n",
    "\n",
    "for i in apart :\n",
    "    for j in i :\n",
    "        print(j, \"호\")\n",
    "        print(\"-----\")"
   ]
  },
  {
   "cell_type": "code",
   "execution_count": 23,
   "metadata": {},
   "outputs": [
    {
     "name": "stdout",
     "output_type": "stream",
     "text": [
      "101 호\n",
      "102 호\n",
      "-----\n",
      "201 호\n",
      "202 호\n",
      "-----\n",
      "301 호\n",
      "302 호\n",
      "-----\n"
     ]
    }
   ],
   "source": [
    "# 189\n",
    "\n",
    "# 리스트에 저장된 데이터를 아래와 같이 출력.\n",
    "\n",
    "'''\n",
    "101 호\n",
    "102 호\n",
    "-----\n",
    "201 호\n",
    "202 호\n",
    "-----\n",
    "301 호\n",
    "302 호\n",
    "-----\n",
    "'''\n",
    "\n",
    "apart = [ [101, 102], [201, 202], [301, 302] ]\n",
    "\n",
    "for i in apart :\n",
    "    for j in i :\n",
    "        print(j, \"호\")\n",
    "    print(\"-----\")"
   ]
  },
  {
   "cell_type": "code",
   "execution_count": 24,
   "metadata": {},
   "outputs": [
    {
     "name": "stdout",
     "output_type": "stream",
     "text": [
      "101 호\n",
      "102 호\n",
      "201 호\n",
      "202 호\n",
      "301 호\n",
      "302 호\n",
      "-----\n"
     ]
    }
   ],
   "source": [
    "# 190\n",
    "\n",
    "# 리스트에 저장된 데이터를 아래와 같이 출력.\n",
    "\n",
    "'''\n",
    "101 호\n",
    "102 호\n",
    "201 호\n",
    "202 호\n",
    "301 호\n",
    "302 호\n",
    "-----\n",
    "'''\n",
    "\n",
    "apart = [ [101, 102], [201, 202], [301, 302] ]\n",
    "\n",
    "for i in apart :\n",
    "    for j in i :\n",
    "        print(j, \"호\")\n",
    "print(\"-----\")"
   ]
  }
 ],
 "metadata": {
  "kernelspec": {
   "display_name": "aiffel",
   "language": "python",
   "name": "aiffel"
  },
  "language_info": {
   "codemirror_mode": {
    "name": "ipython",
    "version": 3
   },
   "file_extension": ".py",
   "mimetype": "text/x-python",
   "name": "python",
   "nbconvert_exporter": "python",
   "pygments_lexer": "ipython3",
   "version": "3.7.9"
  }
 },
 "nbformat": 4,
 "nbformat_minor": 4
}
