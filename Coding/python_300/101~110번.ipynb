{
 "cells": [
  {
   "cell_type": "code",
   "execution_count": 1,
   "metadata": {},
   "outputs": [],
   "source": [
    "# 101\n",
    "\n",
    "# 파이썬에서 True 혹은 False 를 갖는 데이터 타입은 무엇인가?\n",
    "\n",
    "# 정답 : bool 타입"
   ]
  },
  {
   "cell_type": "code",
   "execution_count": 2,
   "metadata": {},
   "outputs": [
    {
     "name": "stdout",
     "output_type": "stream",
     "text": [
      "False\n"
     ]
    }
   ],
   "source": [
    "# 102\n",
    "\n",
    "# 아래 코드의 출력 결과를 예상\n",
    "\n",
    "print(3==5)\n",
    "\n",
    "# False 가 출력, 3과 5는 같지 않기 때문에"
   ]
  },
  {
   "cell_type": "code",
   "execution_count": 4,
   "metadata": {},
   "outputs": [
    {
     "name": "stdout",
     "output_type": "stream",
     "text": [
      "True\n"
     ]
    }
   ],
   "source": [
    "# 103\n",
    "\n",
    "# 아래 코드의 출력 결과를 예상\n",
    "\n",
    "print(3<5)\n",
    "\n",
    "# True 가 출력"
   ]
  },
  {
   "cell_type": "code",
   "execution_count": 5,
   "metadata": {},
   "outputs": [
    {
     "name": "stdout",
     "output_type": "stream",
     "text": [
      "True\n"
     ]
    }
   ],
   "source": [
    "# 104\n",
    "\n",
    "# 아래 코드의 결과를 예상\n",
    "\n",
    "x = 4\n",
    "\n",
    "print(1<x<5)\n",
    "\n",
    "# True 가 출력"
   ]
  },
  {
   "cell_type": "code",
   "execution_count": 7,
   "metadata": {},
   "outputs": [
    {
     "name": "stdout",
     "output_type": "stream",
     "text": [
      "True\n"
     ]
    }
   ],
   "source": [
    "# 105\n",
    "\n",
    "# 아래 코드의 결과를 예상\n",
    "\n",
    "print((3 == 3) and (4 != 3))\n",
    "\n",
    "# True 가 출력, 3과 3은 같으며, 4와 3은 같지 않기 때문"
   ]
  },
  {
   "cell_type": "code",
   "execution_count": 8,
   "metadata": {},
   "outputs": [
    {
     "name": "stdout",
     "output_type": "stream",
     "text": [
      "Hi, there.\n"
     ]
    }
   ],
   "source": [
    "# 106\n",
    "\n",
    "# 아래 코드의 출력 결과를 예상\n",
    "\n",
    "if 4 < 3 : \n",
    "    print(\"Hello World\")\n",
    "else :\n",
    "    print(\"Hi, there.\")\n",
    "    \n",
    "# Hi there. 가 출력"
   ]
  },
  {
   "cell_type": "code",
   "execution_count": 10,
   "metadata": {},
   "outputs": [],
   "source": [
    "# 107\n",
    "\n",
    "# 아래 코드의 출력 결과를 예상\n",
    "\n",
    "if 4 < 3 :\n",
    "    print(\"Hello World\")\n",
    "    \n",
    "# 아무것도 출력되지 않음"
   ]
  },
  {
   "cell_type": "code",
   "execution_count": 11,
   "metadata": {},
   "outputs": [
    {
     "name": "stdout",
     "output_type": "stream",
     "text": [
      "Hi, there.\n"
     ]
    }
   ],
   "source": [
    "# 108\n",
    "\n",
    "# 아래 코드의 출력 결과를 예상\n",
    "\n",
    "if 4 < 3 :\n",
    "    print(\"Hello World.\")\n",
    "    \n",
    "else :\n",
    "    print(\"Hi, there.\")\n",
    "    \n",
    "# Hi, there. 가 출력"
   ]
  },
  {
   "cell_type": "code",
   "execution_count": 13,
   "metadata": {},
   "outputs": [
    {
     "name": "stdout",
     "output_type": "stream",
     "text": [
      "1\n",
      "2\n",
      "4\n"
     ]
    }
   ],
   "source": [
    "# 109\n",
    "\n",
    "# 아래 코드의 출력 결과를 예상\n",
    "\n",
    "if True :\n",
    "    print (\"1\")\n",
    "    print (\"2\")\n",
    "else :\n",
    "    print(\"3\")\n",
    "print(\"4\")\n",
    "\n",
    "# 1,2,4가 출력됨, if 조건문에서 참 값을 줘서 1,2 가 출력되고, \n",
    "# 마지막에 4를 호출했기에 4가 출력"
   ]
  },
  {
   "cell_type": "code",
   "execution_count": 14,
   "metadata": {},
   "outputs": [
    {
     "name": "stdout",
     "output_type": "stream",
     "text": [
      "3\n",
      "5\n"
     ]
    }
   ],
   "source": [
    "# 110\n",
    "\n",
    "# 아래 코드의 출력 결과를 예상\n",
    "\n",
    "if True :\n",
    "    if False:\n",
    "        print(\"1\")\n",
    "        print(\"2\")\n",
    "    else:\n",
    "        print(\"3\")\n",
    "else :\n",
    "    print(\"4\")\n",
    "print(\"5\")\n",
    "\n",
    "# 3, 5 가 출력, if 참 갑을 줬는데, 또 다른 조건문으로 거짓이면 1, 2 출력, \n",
    "# 아니면 3을 출력이기에 3이 출력\n",
    "# 마지막 5을 출력해서 5가 출력"
   ]
  }
 ],
 "metadata": {
  "kernelspec": {
   "display_name": "aiffel",
   "language": "python",
   "name": "aiffel"
  },
  "language_info": {
   "codemirror_mode": {
    "name": "ipython",
    "version": 3
   },
   "file_extension": ".py",
   "mimetype": "text/x-python",
   "name": "python",
   "nbconvert_exporter": "python",
   "pygments_lexer": "ipython3",
   "version": "3.7.9"
  }
 },
 "nbformat": 4,
 "nbformat_minor": 4
}
