{
 "cells": [
  {
   "cell_type": "code",
   "execution_count": 3,
   "metadata": {},
   "outputs": [
    {
     "name": "stdout",
     "output_type": "stream",
     "text": [
      "{'메로나': [300, 20], '비비빅': [400, 3], '죠스바': [250, 100]}\n"
     ]
    }
   ],
   "source": [
    "# 091 딕셔너리 생성\n",
    "\n",
    "# 아래 표에서, 아이스크림 이름을 키 값으로, \n",
    "# (가격, 재고) 리스트를 딕셔너리의 값으로 저장하라.\n",
    "\n",
    "'''\n",
    "이름    가격   재고\n",
    "메로나   300    20\n",
    "비비빅   400     3\n",
    "죠스바   250   100\n",
    "'''\n",
    "\n",
    "inventory = {\"메로나\" : [300, 20], \"비비빅\" : [400, 3], \"죠스바\" : [250, 100]}\n",
    "\n",
    "print(inventory)"
   ]
  },
  {
   "cell_type": "code",
   "execution_count": 4,
   "metadata": {},
   "outputs": [
    {
     "name": "stdout",
     "output_type": "stream",
     "text": [
      "300 원\n"
     ]
    }
   ],
   "source": [
    "# 092 딕셔너리 인덱싱\n",
    "\n",
    "# 091번의 inventory 딕셔너리에서 메로나의 가격을 출력\n",
    "\n",
    "print(\"{} 원\".format(inventory['메로나'][0]))"
   ]
  },
  {
   "cell_type": "code",
   "execution_count": 5,
   "metadata": {},
   "outputs": [
    {
     "name": "stdout",
     "output_type": "stream",
     "text": [
      "20 개\n"
     ]
    }
   ],
   "source": [
    "# 093 딕셔너리 인덱싱\n",
    "\n",
    "# inventory 딕셔너리에서 메로나의 재고를 화면에 출력\n",
    "\n",
    "print(\"{} 개\".format(inventory['메로나'][1]))"
   ]
  },
  {
   "cell_type": "code",
   "execution_count": 6,
   "metadata": {},
   "outputs": [
    {
     "name": "stdout",
     "output_type": "stream",
     "text": [
      "{'메로나': [300, 20], '비비빅': [400, 3], '죠스바': [250, 100], '월드콘': [500, 7]}\n"
     ]
    }
   ],
   "source": [
    "# 094 딕셔너리 추가\n",
    "\n",
    "# inventory 딕셔너리에 아래 데이터를 추가\n",
    "\n",
    "'''\n",
    "이름   가격   재고\n",
    "월드콘  500     7\n",
    "'''\n",
    "\n",
    "inventory['월드콘'] = [500, 7]\n",
    "\n",
    "print(inventory)"
   ]
  },
  {
   "cell_type": "code",
   "execution_count": 10,
   "metadata": {},
   "outputs": [
    {
     "name": "stdout",
     "output_type": "stream",
     "text": [
      "['탱크보이', '폴라포', '빵빠레', '월드콘', '메로나'] <class 'list'>\n"
     ]
    }
   ],
   "source": [
    "# 095 딕셔너리 keys() 메서드\n",
    "\n",
    "# 다음 딕셔너리에서 values 값으로만 구성된 리스트를 생성\n",
    "\n",
    "icecream = {'탱크보이': 1200, '폴라포': 1200, '빵빠레': 1800, '월드콘': 1500, '메로나': 1000}\n",
    "\n",
    "icecream_ls = list(icecream.keys())\n",
    "\n",
    "print(icecream_ls, type(icecream_ls))"
   ]
  },
  {
   "cell_type": "code",
   "execution_count": 11,
   "metadata": {},
   "outputs": [
    {
     "name": "stdout",
     "output_type": "stream",
     "text": [
      "[1200, 1200, 1800, 1500, 1000] <class 'list'>\n"
     ]
    }
   ],
   "source": [
    "# 096 딕셔너리 values() 메서드\n",
    "\n",
    "# 다음 딕셔너리에서 values 값만으로 구성된 리스트를 생성\n",
    "\n",
    "icecream = {'탱크보이': 1200, '폴라포': 1200, '빵빠레': 1800, '월드콘': 1500, '메로나': 1000}\n",
    "\n",
    "icecream_ls = list(icecream.values())\n",
    "\n",
    "print(icecream_ls, type(icecream_ls))"
   ]
  },
  {
   "cell_type": "code",
   "execution_count": 14,
   "metadata": {},
   "outputs": [
    {
     "name": "stdout",
     "output_type": "stream",
     "text": [
      "6700\n"
     ]
    }
   ],
   "source": [
    "# 097 딕셔너리 values() 메서드\n",
    "\n",
    "# icecream 딕셔너리에서 아이스크림 판매 금액의 총 합을 출력\n",
    "\n",
    "icecream = {'탱크보이': 1200, '폴라포': 1200, '빵빠레': 1800, '월드콘': 1500, '메로나': 1000}\n",
    "\n",
    "icecream_s = sum(icecream.values())\n",
    "\n",
    "print(icecream_s)"
   ]
  },
  {
   "cell_type": "code",
   "execution_count": 16,
   "metadata": {},
   "outputs": [
    {
     "name": "stdout",
     "output_type": "stream",
     "text": [
      "{'탱크보이': 1200, '폴라포': 1200, '빵빠레': 1800, '월드콘': 1500, '메로나': 1000, '팥빙수': 2700, '아맛나': 1000}\n"
     ]
    }
   ],
   "source": [
    "# 098 딕셔너리 update 메서드\n",
    "\n",
    "# 아래의 new_product 딕셔너리를 다음 icecream 딕셔너리에 추가\n",
    "\n",
    "icecream = {'탱크보이': 1200, '폴라포': 1200, '빵빠레': 1800, '월드콘': 1500, '메로나': 1000}\n",
    "\n",
    "new_product = {'팥빙수':2700, '아맛나':1000}\n",
    "\n",
    "icecream.update(new_product)\n",
    "\n",
    "print(icecream)"
   ]
  },
  {
   "cell_type": "code",
   "execution_count": 21,
   "metadata": {},
   "outputs": [
    {
     "name": "stdout",
     "output_type": "stream",
     "text": [
      "{'apple': 300, 'pear': 250, 'peach': 400}\n"
     ]
    }
   ],
   "source": [
    "# 099 zip 과 dict\n",
    "\n",
    "# 라애 두 개의 튜플을 하나의 딕셔너리로 변환\n",
    "# keys 를 key 로, vals 를 값으로\n",
    "\n",
    "keys = (\"apple\", \"pear\", \"peach\")\n",
    "vals = (300, 250, 400)\n",
    "\n",
    "result = dict(zip(keys, vals))\n",
    "\n",
    "print(result)"
   ]
  },
  {
   "cell_type": "code",
   "execution_count": 23,
   "metadata": {},
   "outputs": [
    {
     "name": "stdout",
     "output_type": "stream",
     "text": [
      "{'09/05': 10500, '09/06': 10300, '09/07': 10100, '09/08': 10800, '09/09': 11000}\n"
     ]
    }
   ],
   "source": [
    "# 100 zip 과 dict\n",
    "\n",
    "# date 와 close_price 두 개의 리스트를 딕셔너리로 생성\n",
    "\n",
    "date = ['09/05', '09/06', '09/07', '09/08', '09/09']\n",
    "close_price = [10500, 10300, 10100, 10800, 11000]\n",
    "\n",
    "close_table = dict(zip(date, close_price))\n",
    "\n",
    "print(close_table)"
   ]
  }
 ],
 "metadata": {
  "kernelspec": {
   "display_name": "aiffel",
   "language": "python",
   "name": "aiffel"
  },
  "language_info": {
   "codemirror_mode": {
    "name": "ipython",
    "version": 3
   },
   "file_extension": ".py",
   "mimetype": "text/x-python",
   "name": "python",
   "nbconvert_exporter": "python",
   "pygments_lexer": "ipython3",
   "version": "3.7.9"
  }
 },
 "nbformat": 4,
 "nbformat_minor": 4
}
