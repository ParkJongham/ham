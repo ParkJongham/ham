{
 "cells": [
  {
   "cell_type": "code",
   "execution_count": 1,
   "metadata": {},
   "outputs": [
    {
     "name": "stdout",
     "output_type": "stream",
     "text": [
      "2021-03-01 15:53:51.484805\n"
     ]
    }
   ],
   "source": [
    "# 241\n",
    "\n",
    "# 현재시간\n",
    "# datetime 모듈을 사용해서 현재 시간을 화면에 출력\n",
    "\n",
    "import datetime\n",
    "now = datetime.datetime.now()\n",
    "print(now)"
   ]
  },
  {
   "cell_type": "code",
   "execution_count": 2,
   "metadata": {},
   "outputs": [
    {
     "name": "stdout",
     "output_type": "stream",
     "text": [
      "2021-03-01 15:54:40.001268 <class 'datetime.datetime'>\n"
     ]
    }
   ],
   "source": [
    "# 242\n",
    "\n",
    "# 현재시간의 타입\n",
    "# datetime 모듈의 now 함수의 리턴 값의 탑입을 화면에 출력.\n",
    "\n",
    "import datetime\n",
    "now = datetime.datetime.now()\n",
    "print(now, type(now))"
   ]
  },
  {
   "cell_type": "code",
   "execution_count": 4,
   "metadata": {},
   "outputs": [
    {
     "name": "stdout",
     "output_type": "stream",
     "text": [
      "15:55:59\n"
     ]
    }
   ],
   "source": [
    "# 243\n",
    "\n",
    "# strftime\n",
    "# 현재시간을 얻어온 후 다음과 같은 포멧으로 시간을 출력.\n",
    "# strftime 메서드를 사용.\n",
    "\n",
    "import datetime\n",
    "now = datetime.datetime.now()\n",
    "print(now.strftime(\"%H:%M:%S\"))\n",
    "\n",
    "# strftime 은 현재 시간의 출력 포멧은 시간/분/초로 나누는 것"
   ]
  },
  {
   "cell_type": "code",
   "execution_count": 8,
   "metadata": {},
   "outputs": [
    {
     "name": "stdout",
     "output_type": "stream",
     "text": [
      "2021-03-01 00:00:00 <class 'datetime.datetime'>\n"
     ]
    }
   ],
   "source": [
    "# 244\n",
    "\n",
    "# strptime\n",
    "# datetime.datetime.strptime 메서드를 사용하면 문자열의 형식의 시간을\n",
    "# datetime.datetime 타입의 시간 값으로 만들어준다.\n",
    "# \"2020-05-04\" 의 문자열을 시간 타입으로 변환.\n",
    "\n",
    "import datetime\n",
    "day = \"2021-03-01\"\n",
    "day = datetime.datetime.strptime(day, \"%Y-%m-%d\")\n",
    "print(day, type(day))"
   ]
  },
  {
   "cell_type": "code",
   "execution_count": 9,
   "metadata": {},
   "outputs": [
    {
     "name": "stdout",
     "output_type": "stream",
     "text": [
      "2021-03-01 16:01:32.327468\n",
      "2021-03-01 16:01:33.331440\n",
      "2021-03-01 16:01:34.332087\n",
      "2021-03-01 16:01:35.335306\n",
      "2021-03-01 16:01:36.336818\n",
      "2021-03-01 16:01:37.341650\n"
     ]
    },
    {
     "ename": "KeyboardInterrupt",
     "evalue": "",
     "output_type": "error",
     "traceback": [
      "\u001b[0;31m---------------------------------------------------------------------------\u001b[0m",
      "\u001b[0;31mKeyboardInterrupt\u001b[0m                         Traceback (most recent call last)",
      "\u001b[0;32m<ipython-input-9-ba34648c3c04>\u001b[0m in \u001b[0;36m<module>\u001b[0;34m\u001b[0m\n\u001b[1;32m     11\u001b[0m     \u001b[0mnow\u001b[0m \u001b[0;34m=\u001b[0m \u001b[0mdatetime\u001b[0m\u001b[0;34m.\u001b[0m\u001b[0mdatetime\u001b[0m\u001b[0;34m.\u001b[0m\u001b[0mnow\u001b[0m\u001b[0;34m(\u001b[0m\u001b[0;34m)\u001b[0m\u001b[0;34m\u001b[0m\u001b[0;34m\u001b[0m\u001b[0m\n\u001b[1;32m     12\u001b[0m     \u001b[0mprint\u001b[0m\u001b[0;34m(\u001b[0m\u001b[0mnow\u001b[0m\u001b[0;34m)\u001b[0m\u001b[0;34m\u001b[0m\u001b[0;34m\u001b[0m\u001b[0m\n\u001b[0;32m---> 13\u001b[0;31m     \u001b[0mtime\u001b[0m\u001b[0;34m.\u001b[0m\u001b[0msleep\u001b[0m\u001b[0;34m(\u001b[0m\u001b[0;36m1\u001b[0m\u001b[0;34m)\u001b[0m\u001b[0;34m\u001b[0m\u001b[0;34m\u001b[0m\u001b[0m\n\u001b[0m",
      "\u001b[0;31mKeyboardInterrupt\u001b[0m: "
     ]
    }
   ],
   "source": [
    "# 246\n",
    "\n",
    "# sleep 함수\n",
    "# time 모듈, datetime 모듈을 사용해서 \n",
    "# 1초에 한 번 현재 시간을 출력하는 코드를 작성.\n",
    "\n",
    "import time\n",
    "import datetime\n",
    "\n",
    "while True : \n",
    "    now = datetime.datetime.now()\n",
    "    print(now)\n",
    "    time.sleep(1)\n",
    "    \n",
    "# 실행 시 매 1초마다 계속 출력되는 무한루프에 빠짐"
   ]
  },
  {
   "cell_type": "code",
   "execution_count": 10,
   "metadata": {},
   "outputs": [],
   "source": [
    "# 247\n",
    "\n",
    "# 모듈 임포트\n",
    "# 모둘을 임포트 하는 4가지 방식에 대해 설명\n",
    "\n",
    "# 1. import 모듈명 \n",
    "# 2. from 모듈명 import 사용하려는 모듈명\n",
    "# 3. import 모듈명  *\n",
    "# 4. import 모듈명 as 사용하고자 하는 모듈명   # 모듈명을 내가 원하는 이름으로 불러오기"
   ]
  },
  {
   "cell_type": "code",
   "execution_count": 12,
   "metadata": {},
   "outputs": [
    {
     "name": "stdout",
     "output_type": "stream",
     "text": [
      "/Users/haami._./Desktop/ParkJongham_git/workplace/ham/python_practice\n"
     ]
    }
   ],
   "source": [
    "# 248\n",
    "\n",
    "# os 모듈\n",
    "# os 모듈의  getcwd 함수를 호출하여 \n",
    "# 현재 디렉토리의 경로를 화면에 출력\n",
    "\n",
    "import os\n",
    "now = os.getcwd()\n",
    "print(now)"
   ]
  },
  {
   "cell_type": "code",
   "execution_count": 20,
   "metadata": {},
   "outputs": [
    {
     "ename": "FileNotFoundError",
     "evalue": "[Errno 2] No such file or directory: '텍스트 파일의 현재 경로/현재 파일 이름' -> '텍트스 파일의 현재 경로/바꿀 파일 이름'",
     "output_type": "error",
     "traceback": [
      "\u001b[0;31m---------------------------------------------------------------------------\u001b[0m",
      "\u001b[0;31mFileNotFoundError\u001b[0m                         Traceback (most recent call last)",
      "\u001b[0;32m<ipython-input-20-c9051b7ce0f3>\u001b[0m in \u001b[0;36m<module>\u001b[0;34m\u001b[0m\n\u001b[1;32m      6\u001b[0m \u001b[0;34m\u001b[0m\u001b[0m\n\u001b[1;32m      7\u001b[0m \u001b[0;32mfrom\u001b[0m \u001b[0mos\u001b[0m \u001b[0;32mimport\u001b[0m \u001b[0mrename\u001b[0m\u001b[0;34m\u001b[0m\u001b[0;34m\u001b[0m\u001b[0m\n\u001b[0;32m----> 8\u001b[0;31m \u001b[0mos\u001b[0m\u001b[0;34m.\u001b[0m\u001b[0mrename\u001b[0m\u001b[0;34m(\u001b[0m\u001b[0;34m\"텍스트 파일의 현재 경로/현재 파일 이름\"\u001b[0m\u001b[0;34m,\u001b[0m \u001b[0;34m\"텍트스 파일의 현재 경로/바꿀 파일 이름\"\u001b[0m\u001b[0;34m)\u001b[0m\u001b[0;34m\u001b[0m\u001b[0;34m\u001b[0m\u001b[0m\n\u001b[0m",
      "\u001b[0;31mFileNotFoundError\u001b[0m: [Errno 2] No such file or directory: '텍스트 파일의 현재 경로/현재 파일 이름' -> '텍트스 파일의 현재 경로/바꿀 파일 이름'"
     ]
    }
   ],
   "source": [
    "# 249\n",
    "\n",
    "# rename 함수\n",
    "# 바탕화면에 텍스트 파일을 하나 생성한 후 os 모듈의  rename 함수를 호출하여\n",
    "# 해당 파일의 이름을 변경.\n",
    "\n",
    "from os import rename\n",
    "os.rename(\"텍스트 파일의 현재 경로/현재 파일 이름\", \"텍트스 파일의 현재 경로/바꿀 파일 이름\")"
   ]
  },
  {
   "cell_type": "code",
   "execution_count": 23,
   "metadata": {},
   "outputs": [
    {
     "name": "stdout",
     "output_type": "stream",
     "text": [
      "0.0\n",
      "0.1\n",
      "0.2\n",
      "0.30000000000000004\n",
      "0.4\n",
      "0.5\n",
      "0.6000000000000001\n",
      "0.7000000000000001\n",
      "0.8\n",
      "0.9\n",
      "1.0\n",
      "1.1\n",
      "1.2000000000000002\n",
      "1.3\n",
      "1.4000000000000001\n",
      "1.5\n",
      "1.6\n",
      "1.7000000000000002\n",
      "1.8\n",
      "1.9000000000000001\n",
      "2.0\n",
      "2.1\n",
      "2.2\n",
      "2.3000000000000003\n",
      "2.4000000000000004\n",
      "2.5\n",
      "2.6\n",
      "2.7\n",
      "2.8000000000000003\n",
      "2.9000000000000004\n",
      "3.0\n",
      "3.1\n",
      "3.2\n",
      "3.3000000000000003\n",
      "3.4000000000000004\n",
      "3.5\n",
      "3.6\n",
      "3.7\n",
      "3.8000000000000003\n",
      "3.9000000000000004\n",
      "4.0\n",
      "4.1000000000000005\n",
      "4.2\n",
      "4.3\n",
      "4.4\n",
      "4.5\n",
      "4.6000000000000005\n",
      "4.7\n",
      "4.800000000000001\n",
      "4.9\n"
     ]
    }
   ],
   "source": [
    "# 250\n",
    "\n",
    "# numpy\n",
    "# numpy 모듈의 arnage 함수를 사용해서\n",
    "# 0.0 부터 5.0까지 0.1 씩 증가하는 값을 화면에 출력\n",
    "\n",
    "import numpy as np\n",
    "for i in np.arange(0, 5, 0.1) : \n",
    "    print(i)"
   ]
  },
  {
   "cell_type": "code",
   "execution_count": null,
   "metadata": {},
   "outputs": [],
   "source": []
  }
 ],
 "metadata": {
  "kernelspec": {
   "display_name": "Python 3",
   "language": "python",
   "name": "python3"
  },
  "language_info": {
   "codemirror_mode": {
    "name": "ipython",
    "version": 3
   },
   "file_extension": ".py",
   "mimetype": "text/x-python",
   "name": "python",
   "nbconvert_exporter": "python",
   "pygments_lexer": "ipython3",
   "version": "3.8.5"
  }
 },
 "nbformat": 4,
 "nbformat_minor": 4
}
