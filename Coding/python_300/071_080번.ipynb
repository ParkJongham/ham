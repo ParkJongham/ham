{
 "cells": [
  {
   "cell_type": "code",
   "execution_count": 1,
   "metadata": {},
   "outputs": [
    {
     "name": "stdout",
     "output_type": "stream",
     "text": [
      "<class 'tuple'>\n"
     ]
    }
   ],
   "source": [
    "# 71~80번\n",
    "\n",
    "\n",
    "# my_variable 이름의 비어있는 튜플을 생성\n",
    "\n",
    "my_variable = ()\n",
    "\n",
    "print(type(my_variable))"
   ]
  },
  {
   "cell_type": "code",
   "execution_count": 2,
   "metadata": {},
   "outputs": [
    {
     "name": "stdout",
     "output_type": "stream",
     "text": [
      "('닥터 스트레인지', '스플릿', '럭키') <class 'tuple'>\n"
     ]
    }
   ],
   "source": [
    "# 072\n",
    "\n",
    "# 201년 11월 영화 예매 순위 기준 top3는 다음과 같다.\n",
    "# 영화 제목을 movie_rank 이름의 튜플에 저장 (순위 정보는 저장하지 않는다.)\n",
    "\n",
    "'''\n",
    "\n",
    "순위  영화\n",
    "1    닥터 스트레인지\n",
    "2    스플릿\n",
    "3    럭키\n",
    "'''\n",
    "\n",
    "movie_rank = ('닥터 스트레인지', '스플릿', '럭키')\n",
    "\n",
    "print(movie_rank, type(movie_rank))"
   ]
  },
  {
   "cell_type": "code",
   "execution_count": 3,
   "metadata": {},
   "outputs": [
    {
     "name": "stdout",
     "output_type": "stream",
     "text": [
      "1 <class 'int'>\n"
     ]
    }
   ],
   "source": [
    "# 073\n",
    "\n",
    "# 숫자 1이 저장된 튜플을 생성\n",
    "\n",
    "tp = (1)\n",
    "\n",
    "print(tp, type(tp))"
   ]
  },
  {
   "cell_type": "code",
   "execution_count": 4,
   "metadata": {},
   "outputs": [
    {
     "ename": "TypeError",
     "evalue": "'tuple' object does not support item assignment",
     "output_type": "error",
     "traceback": [
      "\u001b[0;31m---------------------------------------------------------------------------\u001b[0m",
      "\u001b[0;31mTypeError\u001b[0m                                 Traceback (most recent call last)",
      "\u001b[0;32m<ipython-input-4-20c08f5cce03>\u001b[0m in \u001b[0;36m<module>\u001b[0;34m\u001b[0m\n\u001b[1;32m     12\u001b[0m '''\n\u001b[1;32m     13\u001b[0m \u001b[0mt\u001b[0m \u001b[0;34m=\u001b[0m \u001b[0;34m(\u001b[0m\u001b[0;36m1\u001b[0m\u001b[0;34m,\u001b[0m \u001b[0;36m2\u001b[0m\u001b[0;34m,\u001b[0m \u001b[0;36m3\u001b[0m\u001b[0;34m)\u001b[0m\u001b[0;34m\u001b[0m\u001b[0;34m\u001b[0m\u001b[0m\n\u001b[0;32m---> 14\u001b[0;31m \u001b[0mt\u001b[0m\u001b[0;34m[\u001b[0m\u001b[0;36m0\u001b[0m\u001b[0;34m]\u001b[0m \u001b[0;34m=\u001b[0m \u001b[0;34m'a'\u001b[0m\u001b[0;34m\u001b[0m\u001b[0;34m\u001b[0m\u001b[0m\n\u001b[0m\u001b[1;32m     15\u001b[0m \u001b[0;34m\u001b[0m\u001b[0m\n\u001b[1;32m     16\u001b[0m \u001b[0;31m# 튜플은 데이터 변환이 불가능하다. 따라서 오류가 난다.\u001b[0m\u001b[0;34m\u001b[0m\u001b[0;34m\u001b[0m\u001b[0;34m\u001b[0m\u001b[0m\n",
      "\u001b[0;31mTypeError\u001b[0m: 'tuple' object does not support item assignment"
     ]
    }
   ],
   "source": [
    "# 074\n",
    "\n",
    "# 다음 코드를 실행해보고 오류가 발생하는 원인을 설명\n",
    "\n",
    "'''\n",
    ">> t = (1, 2, 3)\n",
    ">> t[0] = 'a'\n",
    "Traceback (most recent call last):\n",
    "  File \"<pyshell#46>\", line 1, in <module>\n",
    "    t[0] = 'a'\n",
    "TypeError: 'tuple' object does not support item assignment\n",
    "'''\n",
    "t = (1, 2, 3)\n",
    "t[0] = 'a'\n",
    "\n",
    "# 튜플은 데이터 변환이 불가능하다. 따라서 오류가 난다."
   ]
  },
  {
   "cell_type": "code",
   "execution_count": 5,
   "metadata": {},
   "outputs": [
    {
     "name": "stdout",
     "output_type": "stream",
     "text": [
      "<class 'tuple'>\n"
     ]
    }
   ],
   "source": [
    "# 075\n",
    "\n",
    "# 다음 t 에는 1, 2, 3, 4 데이터가 바인딩되 있다.\n",
    "# t 가 바인딩하는 데이터 타입은?\n",
    "\n",
    "t = 1, 2, 3, 4\n",
    "\n",
    "print(type(t))\n",
    "\n",
    "# 괄호가 없어도 튜플 데이터 타입으로 생성된다."
   ]
  },
  {
   "cell_type": "code",
   "execution_count": 6,
   "metadata": {},
   "outputs": [
    {
     "name": "stdout",
     "output_type": "stream",
     "text": [
      "('A', 'b', 'c')\n"
     ]
    }
   ],
   "source": [
    "# 076\n",
    "\n",
    "# 변수 t에는 다음 값이 저장되어 있다.\n",
    "# 변수 t 가 ('A', 'b', 'c') 튜플이 되도록 수정\n",
    "\n",
    "t = ('a', 'b', 'c')\n",
    "\n",
    "t = ('A', 'b', 'c')\n",
    "\n",
    "print(t)\n",
    "\n",
    "# 튜블원 인덱싱을 통한 데이터 변경이나 capitalize 가 불가능하다. \n",
    "# capitalize 는 문자열에서 가능"
   ]
  },
  {
   "cell_type": "code",
   "execution_count": 7,
   "metadata": {},
   "outputs": [
    {
     "name": "stdout",
     "output_type": "stream",
     "text": [
      "['삼성전자', 'LG전자', 'SK Hynix'] <class 'list'>\n"
     ]
    }
   ],
   "source": [
    "# 077\n",
    "\n",
    "# 다음 튜플을 리스트로 변환\n",
    "\n",
    "interest = ('삼성전자', 'LG전자', 'SK Hynix')\n",
    "\n",
    "interest_lst = list(interest)\n",
    "\n",
    "print(interest_lst, type(interest_lst))"
   ]
  },
  {
   "cell_type": "code",
   "execution_count": 8,
   "metadata": {},
   "outputs": [
    {
     "name": "stdout",
     "output_type": "stream",
     "text": [
      "('삼성전자', 'LG전자', 'SK Hynix') <class 'tuple'>\n"
     ]
    }
   ],
   "source": [
    "# 078 \n",
    "\n",
    "# 다음 리스트를 튜플로 변경\n",
    "\n",
    "interest= ['삼성전자', 'LG전자', 'SK Hynix']\n",
    "\n",
    "interest_tp = tuple(interest)\n",
    "\n",
    "print(interest_tp, type(interest_tp))"
   ]
  },
  {
   "cell_type": "code",
   "execution_count": 9,
   "metadata": {},
   "outputs": [
    {
     "name": "stdout",
     "output_type": "stream",
     "text": [
      "apple banana cake\n",
      "a :  apple\n",
      "b :  banana\n",
      "c :  cake\n"
     ]
    }
   ],
   "source": [
    "# 079 튜플 언패킹\n",
    "\n",
    "# 다음 코드의 실행 결과를 예상\n",
    "\n",
    "temp = ('apple', 'banana', 'cake')\n",
    "\n",
    "a, b, c = temp\n",
    "\n",
    "print(a, b, c)\n",
    "print(\"a : \", a)\n",
    "print(\"b : \", b)\n",
    "print(\"c : \", c)"
   ]
  },
  {
   "cell_type": "code",
   "execution_count": 2,
   "metadata": {},
   "outputs": [
    {
     "name": "stdout",
     "output_type": "stream",
     "text": [
      "(2, 4, 6, 8, 10, 12, 14, 16, 18, 20, 22, 24, 26, 28, 30, 32, 34, 36, 38, 40, 42, 44, 46, 48, 50, 52, 54, 56, 58, 60, 62, 64, 66, 68, 70, 72, 74, 76, 78, 80, 82, 84, 86, 88, 90, 92, 94, 96, 98) <class 'tuple'>\n"
     ]
    }
   ],
   "source": [
    "# 080 range 함수\n",
    "\n",
    "# 1부터 99까지의 정수 중 짝수만 저장된 튜플을 생성\n",
    "\n",
    "tp = tuple(range(2, 100, 2))\n",
    "\n",
    "print(tp, type(tp))"
   ]
  }
 ],
 "metadata": {
  "kernelspec": {
   "display_name": "Python 3",
   "language": "python",
   "name": "python3"
  },
  "language_info": {
   "codemirror_mode": {
    "name": "ipython",
    "version": 3
   },
   "file_extension": ".py",
   "mimetype": "text/x-python",
   "name": "python",
   "nbconvert_exporter": "python",
   "pygments_lexer": "ipython3",
   "version": "3.8.5"
  }
 },
 "nbformat": 4,
 "nbformat_minor": 4
}
