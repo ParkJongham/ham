{
 "cells": [
  {
   "cell_type": "code",
   "execution_count": 1,
   "metadata": {},
   "outputs": [
    {
     "name": "stdout",
     "output_type": "stream",
     "text": [
      "32100\n",
      "32150\n",
      "32000\n",
      "32500\n"
     ]
    }
   ],
   "source": [
    "# 171\n",
    "\n",
    "# 아래와 같이 리스트의 데이터를 출력.\n",
    "# 단, for문과 range문을 사용.\n",
    "\n",
    "'''\n",
    "32100\n",
    "32150\n",
    "32000\n",
    "32500\n",
    "'''\n",
    "\n",
    "price_list = [32100, 32150, 32000, 32500]\n",
    "\n",
    "for i in range(4) : \n",
    "    print(price_list[i])"
   ]
  },
  {
   "cell_type": "code",
   "execution_count": 2,
   "metadata": {},
   "outputs": [
    {
     "name": "stdout",
     "output_type": "stream",
     "text": [
      "0 32100\n",
      "1 32150\n",
      "2 32000\n",
      "3 32500\n"
     ]
    }
   ],
   "source": [
    "# 172\n",
    "\n",
    "# 아래와 같이 리스트의 데이터를 출력\n",
    "# 단 for문과 range문을 사용.\n",
    "\n",
    "'''\n",
    "0 32100\n",
    "1 32150\n",
    "2 32000\n",
    "3 32500\n",
    "'''\n",
    "\n",
    "price_list = [32100, 32150, 32000, 32500]\n",
    "\n",
    "for i in range(4) :\n",
    "    print(i, price_list[i])"
   ]
  },
  {
   "cell_type": "code",
   "execution_count": 3,
   "metadata": {},
   "outputs": [
    {
     "name": "stdout",
     "output_type": "stream",
     "text": [
      "3 32100\n",
      "2 32150\n",
      "1 32000\n",
      "0 32500\n"
     ]
    }
   ],
   "source": [
    "# 173\n",
    "\n",
    "# 아래와 같이 리스트의 데이터를 출력하라. \n",
    "# 단, for문과 range문을 사용.\n",
    "\n",
    "'''\n",
    "3 32100\n",
    "2 32150\n",
    "1 32000\n",
    "0 32500\n",
    "'''\n",
    "\n",
    "price_list = [32100, 32150, 32000, 32500]\n",
    "\n",
    "for i in range(4) : \n",
    "    print(3-i, price_list[i])"
   ]
  },
  {
   "cell_type": "code",
   "execution_count": 4,
   "metadata": {},
   "outputs": [
    {
     "name": "stdout",
     "output_type": "stream",
     "text": [
      "100 32150\n",
      "110 32000\n",
      "120 32500\n"
     ]
    }
   ],
   "source": [
    "# 174\n",
    "\n",
    "# 아래와 같이 리스트의 데이터를 출력하라. \n",
    "# 단, for문과 range문을 사용.\n",
    "\n",
    "'''\n",
    "100 32150\n",
    "110 32000\n",
    "120 32500\n",
    "'''\n",
    "\n",
    "price_list = [32100, 32150, 32000, 32500]\n",
    "\n",
    "for i in range(1, 4) : \n",
    "    print(90 + 10 * i, price_list[i])"
   ]
  },
  {
   "cell_type": "code",
   "execution_count": 5,
   "metadata": {},
   "outputs": [
    {
     "name": "stdout",
     "output_type": "stream",
     "text": [
      "가 나\n",
      "나 다\n",
      "다 라\n"
     ]
    }
   ],
   "source": [
    "# 175\n",
    "\n",
    "# my_list를 아래와 같이 출력.\n",
    "\n",
    "'''\n",
    "가 나\n",
    "나 다\n",
    "다 라\n",
    "'''\n",
    "\n",
    "my_list = [\"가\", \"나\", \"다\", \"라\"]\n",
    "\n",
    "for i in range(1, len(my_list)) : \n",
    "    print(my_list[i-1], my_list[i])"
   ]
  },
  {
   "cell_type": "code",
   "execution_count": 6,
   "metadata": {},
   "outputs": [
    {
     "name": "stdout",
     "output_type": "stream",
     "text": [
      "가 나 다\n",
      "나 다 라\n",
      "다 라 마\n"
     ]
    }
   ],
   "source": [
    "# 176\n",
    "\n",
    "# 리스트를 아래와 같이 출력.\n",
    "\n",
    "'''\n",
    "가 나 다\n",
    "나 다 라\n",
    "다 라 마\n",
    "'''\n",
    "\n",
    "my_list = [\"가\", \"나\", \"다\", \"라\", \"마\"]\n",
    "\n",
    "for i in range(2, len(my_list)) :\n",
    "    print(my_list[i-2], my_list[i-1], my_list[i])"
   ]
  },
  {
   "cell_type": "code",
   "execution_count": 7,
   "metadata": {},
   "outputs": [
    {
     "name": "stdout",
     "output_type": "stream",
     "text": [
      "라 다\n",
      "다 나\n",
      "나 가\n"
     ]
    }
   ],
   "source": [
    "# 177\n",
    "\n",
    "# 반복문과 range 함수를 사용해서 my_list를 아래와 같이 출력.\n",
    "\n",
    "'''\n",
    "라 다\n",
    "다 나\n",
    "나 가\n",
    "'''\n",
    "\n",
    "my_list = [\"가\", \"나\", \"다\", \"라\"]\n",
    "\n",
    "for i in range(len(my_list) - 1) :\n",
    "    print(my_list[len(my_list) - 1 - i], my_list[len(my_list) - 2 - i])    "
   ]
  },
  {
   "cell_type": "code",
   "execution_count": 11,
   "metadata": {},
   "outputs": [
    {
     "name": "stdout",
     "output_type": "stream",
     "text": [
      "100\n",
      "200\n",
      "400\n",
      "200\n"
     ]
    }
   ],
   "source": [
    "# 178\n",
    "\n",
    "# 리스트에는 네 개의 정수가 저장되어 있다. \n",
    "# 각각의 데이터에 대해서 자신과 우측값과의 차분값을 화면에 출력.\n",
    "\n",
    "'''\n",
    "100\n",
    "200\n",
    "400\n",
    "'''\n",
    "\n",
    "my_list = [100, 200, 400, 800]\n",
    "\n",
    "for i in range(len(my_list) - 1):\n",
    "    print(abs(my_list[i+1] - my_list[i]))"
   ]
  },
  {
   "cell_type": "code",
   "execution_count": 13,
   "metadata": {},
   "outputs": [
    {
     "name": "stdout",
     "output_type": "stream",
     "text": [
      "233.33333333333334\n",
      "466.6666666666667\n",
      "733.3333333333334\n",
      "1033.3333333333333\n"
     ]
    }
   ],
   "source": [
    "# 179\n",
    "\n",
    "# 리스트에는 6일 간의 종가 데이터가 저장되어 있다. \n",
    "# 종가 데이터의 3일 이동 평균을 계산하고 이를 화면에 출력.\n",
    "\n",
    "'''\n",
    "첫 번째 줄에는 100, 200, 400의 평균값이 출력된다. \n",
    "두 번째 줄에는 200, 400, 800의 평균값이 출력된다. \n",
    "같은 방식으로 나머지 데이터의 평균을 출력한다.\n",
    "\n",
    "233.33333333333334\n",
    "466.6666666666667\n",
    "733.3333333333334\n",
    "1033.3333333333333\n",
    "'''\n",
    "\n",
    "my_list = [100, 200, 400, 800, 1000, 1300]\n",
    "\n",
    "for i in range(len(my_list) - 2) :\n",
    "    print((my_list[i] + my_list[i + 1] + my_list[i + 2]) / 3)"
   ]
  },
  {
   "cell_type": "code",
   "execution_count": 23,
   "metadata": {},
   "outputs": [
    {
     "name": "stdout",
     "output_type": "stream",
     "text": [
      "[50, 100, 30, 80, 0]\n"
     ]
    }
   ],
   "source": [
    "# 180\n",
    "\n",
    "# 리스트에 5일간의 저가, 고가 정보가 저장돼 있다. \n",
    "# 고가와 저가의 차를 변동폭이라고 정의할 때, \n",
    "# low, high 두 개의 리스트를 사용해서 \n",
    "# 5일간의 변동폭을 volatility 리스트에 저장.\n",
    "\n",
    "low_prices  = [100, 200, 400, 800, 1000]\n",
    "high_prices = [150, 300, 430, 880, 1000]\n",
    "\n",
    "volatility = []\n",
    "for i in range(len(low_prices)) :\n",
    "    volatility.append(high_prices[i] - low_prices[i])    \n",
    "\n",
    "print(volatility)"
   ]
  }
 ],
 "metadata": {
  "kernelspec": {
   "display_name": "aiffel",
   "language": "python",
   "name": "aiffel"
  },
  "language_info": {
   "codemirror_mode": {
    "name": "ipython",
    "version": 3
   },
   "file_extension": ".py",
   "mimetype": "text/x-python",
   "name": "python",
   "nbconvert_exporter": "python",
   "pygments_lexer": "ipython3",
   "version": "3.7.9"
  }
 },
 "nbformat": 4,
 "nbformat_minor": 4
}
