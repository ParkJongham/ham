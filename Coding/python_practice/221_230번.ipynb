{
 "cells": [
  {
   "cell_type": "code",
   "execution_count": 3,
   "metadata": {},
   "outputs": [
    {
     "name": "stdout",
     "output_type": "stream",
     "text": [
      "nohtyp\n"
     ]
    }
   ],
   "source": [
    "# 221\n",
    "\n",
    "# 입력된 문자열을 역순으로 출력하는\n",
    "# print_reverse 함수를 정의\n",
    "\n",
    "def print_reverse(a) : \n",
    "    print(a[::-1])\n",
    "\n",
    "print_reverse('python')"
   ]
  },
  {
   "cell_type": "code",
   "execution_count": 7,
   "metadata": {},
   "outputs": [
    {
     "data": {
      "text/plain": [
       "2.0"
      ]
     },
     "execution_count": 7,
     "metadata": {},
     "output_type": "execute_result"
    }
   ],
   "source": [
    "# 222\n",
    "\n",
    "# 성적 리스트를 입력 받아 평균을 출력하는 \n",
    "# print_score 함수를 정의\n",
    "\n",
    "def print_score(score_list) :\n",
    "    return sum(score_list)/len(score)\n",
    "\n",
    "score = [1,2,3]\n",
    "print_score(score)"
   ]
  },
  {
   "cell_type": "code",
   "execution_count": 13,
   "metadata": {},
   "outputs": [
    {
     "data": {
      "text/plain": [
       "[2, 10, 12]"
      ]
     },
     "execution_count": 13,
     "metadata": {},
     "output_type": "execute_result"
    }
   ],
   "source": [
    "# 223\n",
    "\n",
    "# 하나의 리스트를 입력받아 짝수만 화면에 출력하는\n",
    "# print_even 함수를 정의\n",
    "\n",
    "def print_even(num_list) :\n",
    "    res = []\n",
    "    for i in num_list : \n",
    "        if i%2 == 0 : \n",
    "            res.append(i)\n",
    "    return res\n",
    "    \n",
    "num = [1,3,2,10,12,11,15]\n",
    "print_even(num)"
   ]
  },
  {
   "cell_type": "code",
   "execution_count": 19,
   "metadata": {},
   "outputs": [
    {
     "name": "stdout",
     "output_type": "stream",
     "text": [
      "이름\n",
      "나이\n",
      "성별\n"
     ]
    }
   ],
   "source": [
    "# 224\n",
    "\n",
    "# 하나의 딕셔너리를 입력받아 딕셔너리의 key 값을 화면에 출력하는\n",
    "# print_keys 함수를 정의\n",
    "\n",
    "def print_keys(dic) : \n",
    "    for keys in dic.keys() : \n",
    "        print(keys)\n",
    "        \n",
    "print_keys({\"이름\":\"김말똥\", \"나이\":30, \"성별\":0})"
   ]
  },
  {
   "cell_type": "code",
   "execution_count": 22,
   "metadata": {},
   "outputs": [
    {
     "name": "stdout",
     "output_type": "stream",
     "text": [
      "[100, 130, 100, 100]\n"
     ]
    }
   ],
   "source": [
    "# 225\n",
    "\n",
    "# my_dict 에는 날짜를 키값으로 OHLC 가 리스트로 저장.\n",
    "# my_dict 와 날짜 키값을 입력받아 OHLC 리스트를 출력하는\n",
    "# print_value_by_key 함수를 정의.\n",
    "\n",
    "my_dict = {\"10/26\" : [100, 130, 100, 100],\n",
    "           \"10/27\" : [10, 12, 10, 11]}\n",
    "\n",
    "def print_value_by_key(dic, key) : \n",
    "    print(dic[key])\n",
    "    \n",
    "print_value_by_key  (my_dict, \"10/26\")"
   ]
  },
  {
   "cell_type": "code",
   "execution_count": 38,
   "metadata": {},
   "outputs": [
    {
     "name": "stdout",
     "output_type": "stream",
     "text": [
      "아이엠어보\n",
      "이유알어걸\n",
      "\n"
     ]
    }
   ],
   "source": [
    "# 226\n",
    "\n",
    "# 입력 문자열을 한 줄에 다섯 글자씩 출력하는 \n",
    "# print_5xn(string) 함수를 작성.\n",
    "\n",
    "def print_5xn(string):\n",
    "    len_str = int(len(string)/5)   # 문자열을 나누고자 하는 길이만큼 나눠준다.\n",
    "    for i in range(len_str+1) :    # 나눈 값에 1을 더한 만큼 반복 (나누면 내림이 되기 때문에)\n",
    "        print(string[i*5:i*5+5])   # 나누고자 하는 수만큼 곱한 인덱스 번호부터 해당 인덱스 + 나누고자 하는 길이만큼까지 슬라이싱\n",
    "    \n",
    "print_5xn(\"아이엠어보이유알어걸\")"
   ]
  },
  {
   "cell_type": "code",
   "execution_count": 52,
   "metadata": {},
   "outputs": [
    {
     "name": "stdout",
     "output_type": "stream",
     "text": [
      "아이엠\n",
      "어보이\n",
      "유알어\n",
      "걸\n"
     ]
    }
   ],
   "source": [
    "# 227\n",
    "\n",
    "# 문자열과 한줄에 출력될 글자 수를 입력 받아 \n",
    "# 글자 수 만큼 출력하는\n",
    "# print_mnx(string) 함수를 작성.\n",
    "\n",
    "def print_mxn(string, num) : \n",
    "    len_str = int(len(string)/num)\n",
    "    for i in range(len_str+1) : \n",
    "        print(string[i*num : i*num+num])\n",
    "    \n",
    "print_mxn(\"아이엠어보이유알어걸\", 3)"
   ]
  },
  {
   "cell_type": "code",
   "execution_count": 55,
   "metadata": {},
   "outputs": [
    {
     "name": "stdout",
     "output_type": "stream",
     "text": [
      "100000\n"
     ]
    }
   ],
   "source": [
    "# 228\n",
    "\n",
    "# 연봉을 입력받아 월급을 계산하는 \n",
    "# calc_monthly_salary(annual_salary) 함수를 정의\n",
    "# 회사는 연봉을 12개월로 나누어 분할 지급하며, 이 때 1원 미만은 버림한다.\n",
    "\n",
    "def calc_monthly_salary(annual_salary) : \n",
    "    print(int(annual_salary/12))\n",
    "        \n",
    "calc_monthly_salary(1200000)\n",
    "\n",
    "# int 자료형은 소수점 이하 값을 무조건 버림하기 때문에 int로 형변환만 시켜주면 된다."
   ]
  },
  {
   "cell_type": "code",
   "execution_count": 58,
   "metadata": {},
   "outputs": [
    {
     "name": "stdout",
     "output_type": "stream",
     "text": [
      "왼쪽 :  100\n",
      "오른쪽 :  200\n"
     ]
    }
   ],
   "source": [
    "# 229 \n",
    "\n",
    "# 아래 코드의 실행 결과를 예측.\n",
    "\n",
    "def my_print(a, b) : \n",
    "    print(\"왼쪽 : \", a)\n",
    "    print(\"오른쪽 : \", b)\n",
    "    \n",
    "my_print(a = 100, b = 200) # 왼쪽 : 100 / 오른쪽 : 200 이 출력"
   ]
  },
  {
   "cell_type": "code",
   "execution_count": 59,
   "metadata": {},
   "outputs": [
    {
     "name": "stdout",
     "output_type": "stream",
     "text": [
      "왼쪽 :  200\n",
      "오른쪽 :  100\n"
     ]
    }
   ],
   "source": [
    "# 230\n",
    "\n",
    "# 아래 코드의 실행 결과를 예측.\n",
    "\n",
    "def my_print(a, b) : \n",
    "    print(\"왼쪽 : \", a)\n",
    "    print(\"오른쪽 : \", b)\n",
    "    \n",
    "my_print(b = 100, a = 200) # 왼쪽 : 200 / 오른쪽 : 100 이 출력"
   ]
  }
 ],
 "metadata": {
  "kernelspec": {
   "display_name": "Python 3",
   "language": "python",
   "name": "python3"
  },
  "language_info": {
   "codemirror_mode": {
    "name": "ipython",
    "version": 3
   },
   "file_extension": ".py",
   "mimetype": "text/x-python",
   "name": "python",
   "nbconvert_exporter": "python",
   "pygments_lexer": "ipython3",
   "version": "3.8.5"
  }
 },
 "nbformat": 4,
 "nbformat_minor": 4
}
