{
 "cells": [
  {
   "cell_type": "code",
   "execution_count": 3,
   "metadata": {},
   "outputs": [],
   "source": [
    "# 261\n",
    "\n",
    "# stock 클래스 생성\n",
    "\n",
    "# 주식 종목에 대한 정보를 저장하는 stock 클래스 정의.\n",
    "# 클래스는 속성과 매서드를 갖고 있지않다.\n",
    "\n",
    "class Stock() : \n",
    "    pass"
   ]
  },
  {
   "cell_type": "code",
   "execution_count": 10,
   "metadata": {},
   "outputs": [
    {
     "name": "stdout",
     "output_type": "stream",
     "text": [
      "삼성전자\n",
      "005930\n"
     ]
    }
   ],
   "source": [
    "# 262\n",
    "\n",
    "# 생성자\n",
    "\n",
    "# stock 클래스의 객체가 생성될 때 종목명과 종목코드를 입력 받을 수 있도록\n",
    "# 생성자를 정의\n",
    "\n",
    "\n",
    "class Stock:\n",
    "    def __init__(self, name, code):\n",
    "        self.name = name\n",
    "        self.code = code\n",
    "\n",
    "삼성 = Stock(\"삼성전자\", \"005930\")\n",
    "print(삼성.name)\n",
    "print(삼성.code)"
   ]
  },
  {
   "cell_type": "code",
   "execution_count": 7,
   "metadata": {},
   "outputs": [
    {
     "name": "stdout",
     "output_type": "stream",
     "text": [
      "삼성전자\n"
     ]
    }
   ],
   "source": [
    "# 263\n",
    "\n",
    "# 메서드\n",
    "\n",
    "# 객체에 종목명을 입력할 수 있는 set_name 메서드를 추가.\n",
    "\n",
    "class Stock : \n",
    "    def __init__(self, name, code) : \n",
    "        self.name = name\n",
    "        self.code = code\n",
    "        \n",
    "    def set_name(self, name) : \n",
    "        self.name = name\n",
    "        \n",
    "a = Stock(None, None)\n",
    "a.set_name(\"삼성전자\") \n",
    "print(a.name)"
   ]
  },
  {
   "cell_type": "code",
   "execution_count": 12,
   "metadata": {},
   "outputs": [
    {
     "name": "stdout",
     "output_type": "stream",
     "text": [
      "005930\n"
     ]
    }
   ],
   "source": [
    "# 264\n",
    "\n",
    "# 객체에 종목코드를 입력할 수 있는 set_code 메서드를 추가.\n",
    "\n",
    "class Stock:\n",
    "    def __init__(self, name, code) : \n",
    "        self.name = name\n",
    "        self.code = name\n",
    "        \n",
    "    def set_name(self, name) : \n",
    "        self.name = name\n",
    "        \n",
    "    def set_code (self, code) : \n",
    "        self.code = code\n",
    "        \n",
    "a = Stock(None, None)\n",
    "a.set_code(\"005930\")\n",
    "print(a.code)"
   ]
  },
  {
   "cell_type": "code",
   "execution_count": 14,
   "metadata": {},
   "outputs": [
    {
     "name": "stdout",
     "output_type": "stream",
     "text": [
      "삼성전자\n",
      "005930\n",
      "삼성전자\n",
      "005930\n"
     ]
    }
   ],
   "source": [
    "# 265\n",
    "\n",
    "# 메서드\n",
    "\n",
    "# 종목명과 종목코드를 리턴하는 get_name, get_name 메서드를 추가.\n",
    "# 해당 메서드를 사용하여 종목명과 종목코드를 얻고 이를 출력.\n",
    "\n",
    "class Stock : \n",
    "    def __init__(self, name, code) : \n",
    "        self.name = name\n",
    "        self.code = code\n",
    "        \n",
    "    def set_name(self, name) : \n",
    "        self.name = name\n",
    "        \n",
    "    def set_code(self, code) : \n",
    "        self.code = code\n",
    "    \n",
    "    def get_name(self) : \n",
    "        return self.name\n",
    "        \n",
    "    def get_code(self) : \n",
    "        return self.code\n",
    "    \n",
    "삼성 = Stock(\"삼성전자\", \"005930\")\n",
    "print(삼성.name)\n",
    "print(삼성.code)\n",
    "print(삼성.get_name())\n",
    "print(삼성.get_code())"
   ]
  },
  {
   "cell_type": "code",
   "execution_count": 15,
   "metadata": {},
   "outputs": [],
   "source": [
    "# 266\n",
    "\n",
    "# 객체의 속성값 업데이트\n",
    "\n",
    "# 생성자에게 종목명, 종목코드, PER, PBR, 배당수익률을 입력 받을 수 있도록\n",
    "# 생성자를 수정. PER, PBR, 배당수익률은 float 타입.\n",
    "\n",
    "class Stock : \n",
    "    def __init__(self, name, code, per, pbr, 배당수익률) : \n",
    "        self.name = name\n",
    "        self.code = code\n",
    "        self.per = per\n",
    "        self.pbr = pbr\n",
    "        self.배당수익률 = 배당수익률\n",
    "        \n",
    "    def set_name(self, name) : \n",
    "        self.name = name\n",
    "        \n",
    "    def set_code(self, code) : \n",
    "        self.code = code\n",
    "    \n",
    "    def get_name(self) : \n",
    "        return self.name\n",
    "        \n",
    "    def get_code(self) : \n",
    "        return self.code"
   ]
  },
  {
   "cell_type": "code",
   "execution_count": 21,
   "metadata": {},
   "outputs": [
    {
     "name": "stdout",
     "output_type": "stream",
     "text": [
      "종목명 :  삼성전자 종목코드 :  005930 PER :  15.79 PBR :  1.33 배당수익률 :  2.83\n"
     ]
    }
   ],
   "source": [
    "# 267\n",
    "\n",
    "# 객체 생성\n",
    "\n",
    "# 266번에서 정의한 생성자를 통해 다음 정보를 갖는 객체를 생성\n",
    "\n",
    "'''\n",
    "항목       정보\n",
    "종목명     삼성전자\n",
    "종목코드   005930\n",
    "PER      15.79\n",
    "PBR      1.33\n",
    "배당수익률  2.83\n",
    "'''\n",
    "\n",
    "class Stock : \n",
    "    def __init__(self, name, code, per, pbr, 배당수익률) : \n",
    "        self.name = name\n",
    "        self.code = code\n",
    "        self.per = per\n",
    "        self.pbr = pbr\n",
    "        self.배당수익률 = 배당수익률\n",
    "        \n",
    "    def set_name(self, name) : \n",
    "        self.name = name\n",
    "        \n",
    "    def set_code(self, code) : \n",
    "        self.code = code\n",
    "    \n",
    "    def get_name(self) : \n",
    "        return self.name\n",
    "        \n",
    "    def get_code(self) : \n",
    "        return self.code\n",
    "    \n",
    "\n",
    "삼성 = Stock(\"삼성전자\", \"005930\", 15.79, 1.33, 2.83)\n",
    "print(\"종목명 : \", 삼성.name,\n",
    "      \"종목코드 : \", 삼성.code, \n",
    "      \"PER : \", 삼성.per,\n",
    "      \"PBR : \", 삼성.pbr, \n",
    "      \"배당수익률 : \", 삼성.배당수익률)"
   ]
  },
  {
   "cell_type": "code",
   "execution_count": 22,
   "metadata": {},
   "outputs": [],
   "source": [
    "# 268\n",
    "\n",
    "# 객체의 속성 수정\n",
    "\n",
    "# PER, PBR, 배당수익률은 변경될 수 있는 값.\n",
    "# 이 값을 변경할 떄 사용하는 set_per, set_pbr, set_dividend 메서드를 추가.\n",
    "\n",
    "class Stock:\n",
    "    def __init__(self, name, code, per, pbr, dividend):\n",
    "        self.name = name\n",
    "        self.code = code\n",
    "        self.per = per\n",
    "        self.pbr = pbr\n",
    "        self.dividend = dividend\n",
    "\n",
    "    def set_name(self, name):\n",
    "        self.name = name\n",
    "\n",
    "    def set_code(self, code):\n",
    "        self.code = code\n",
    "\n",
    "    def get_name(self):\n",
    "        return self.name\n",
    "\n",
    "    def get_code(self):\n",
    "        return self.code\n",
    "\n",
    "    def set_per(self, per):\n",
    "        self.per = per\n",
    "\n",
    "    def set_pbr(self, pbr):\n",
    "        self.pbr = pbr\n",
    "\n",
    "    def set_dividend(self, dividend):\n",
    "        self.dividend = dividend"
   ]
  },
  {
   "cell_type": "code",
   "execution_count": 23,
   "metadata": {},
   "outputs": [
    {
     "name": "stdout",
     "output_type": "stream",
     "text": [
      "12.75\n"
     ]
    }
   ],
   "source": [
    "# 269\n",
    "\n",
    "# 267번에서 생성한 객체에 set_per 메서드를 호출하여 \n",
    "# per 값을 12. 그러나 75로 수정.\n",
    "\n",
    "삼성 = Stock(\"삼성전자\", \"005930\", 15.79, 1.33, 2.83)\n",
    "삼성.set_per(12.75)\n",
    "print(삼성.per)"
   ]
  },
  {
   "cell_type": "code",
   "execution_count": 24,
   "metadata": {},
   "outputs": [
    {
     "name": "stdout",
     "output_type": "stream",
     "text": [
      "005930 15.79\n",
      "005380 8.7\n",
      "066570 317.34\n"
     ]
    }
   ],
   "source": [
    "# 270\n",
    "\n",
    "# 여러 종목의 객체 생성\n",
    "\n",
    "# 아래의 표를 참조하여 3종목에 대해 객체를 생성하고 이를 파이썬 리스트에 저장.\n",
    "# 파이썬 리스트에 저장된 각 종목에 대해 for 루프를 통해 \n",
    "# 종목코드와 PER을 출력.\n",
    "\n",
    "'''\n",
    "\n",
    "종목명     종목코드     PER        PBR      배당수익률\n",
    "삼성전자   005930     15.79      1.33      2.83\n",
    "현대차     005380     8.70       0.35      4.27\n",
    "LG전자    066570     317.34      0.69      1.37\n",
    "'''\n",
    "종목 = []\n",
    "\n",
    "삼성 = Stock(\"삼성전자\", \"005930\", 15.79, 1.33, 2.83)\n",
    "현대 = Stock(\"현대차\", \"005380\", 8.70, 0.35, 4.27)\n",
    "LG = Stock(\"LG전자\", '066570', 317.34, 0.69, 1.37)\n",
    "\n",
    "종목.append(삼성)\n",
    "종목.append(현대)\n",
    "종목.append(LG)\n",
    "\n",
    "for i in 종목 : \n",
    "    print(i.code, i.per)"
   ]
  },
  {
   "cell_type": "code",
   "execution_count": null,
   "metadata": {},
   "outputs": [],
   "source": []
  }
 ],
 "metadata": {
  "kernelspec": {
   "display_name": "Python 3",
   "language": "python",
   "name": "python3"
  },
  "language_info": {
   "codemirror_mode": {
    "name": "ipython",
    "version": 3
   },
   "file_extension": ".py",
   "mimetype": "text/x-python",
   "name": "python",
   "nbconvert_exporter": "python",
   "pygments_lexer": "ipython3",
   "version": "3.8.5"
  }
 },
 "nbformat": 4,
 "nbformat_minor": 4
}
