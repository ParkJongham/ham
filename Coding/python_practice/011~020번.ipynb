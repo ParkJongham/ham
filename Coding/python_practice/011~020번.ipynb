{
 "cells": [
  {
   "cell_type": "code",
   "execution_count": 1,
   "metadata": {},
   "outputs": [
    {
     "data": {
      "text/plain": [
       "500000"
      ]
     },
     "execution_count": 1,
     "metadata": {},
     "output_type": "execute_result"
    }
   ],
   "source": [
    "# 파이썬 변수\n",
    "# 011\n",
    "\n",
    "# 1. 삼성전자라는 변수로 50,000원을 바인딩\n",
    "# 2. 삼성전자 주식 10주를 보유하고 있을 때 총 평가액을 출력\n",
    "\n",
    "삼성전자 = 50000\n",
    "총평가액 = 삼성전자 * 10\n",
    "총평가액"
   ]
  },
  {
   "cell_type": "code",
   "execution_count": 3,
   "metadata": {},
   "outputs": [
    {
     "name": "stdout",
     "output_type": "stream",
     "text": [
      "298000000000000 <class 'int'>\n",
      "50000 <class 'int'>\n",
      "15.79 <class 'float'>\n"
     ]
    }
   ],
   "source": [
    "# 012\n",
    "\n",
    "# 1. 삼성전자의 일부 투자정보\n",
    "# 2. 변수를 사용해서 시가총액, 현재가, PER 등을 바인딩\n",
    "\n",
    "시가총액 = 298000000000000\n",
    "현재가 = 50000\n",
    "PER =  15.79\n",
    "\n",
    "print(시가총액, type(시가총액))\n",
    "print(현재가, type(현재가))\n",
    "print(PER, type(PER))"
   ]
  },
  {
   "cell_type": "code",
   "execution_count": 7,
   "metadata": {},
   "outputs": [
    {
     "name": "stdout",
     "output_type": "stream",
     "text": [
      "hello! python\n"
     ]
    }
   ],
   "source": [
    "# 문자열 출력\n",
    "# 013\n",
    "\n",
    "# 1. 변수 s 와 t 에는 각각 문자열이 바인딩 되어있다.\n",
    "\n",
    "s = \"hello\"\n",
    "t = \"python\"\n",
    "\n",
    "# 2. 두 변수를 이용하여 \"hello python\" 와 같이 출력\n",
    "print(s + '! ' + t)"
   ]
  },
  {
   "cell_type": "code",
   "execution_count": 9,
   "metadata": {},
   "outputs": [
    {
     "name": "stdout",
     "output_type": "stream",
     "text": [
      "8\n"
     ]
    }
   ],
   "source": [
    "# 파이썬을 이용한 값 계산\n",
    "\n",
    "# 014\n",
    "\n",
    "# 2 + 2 * 3 의 결과는?\n",
    "print(2 + 2 * 3)"
   ]
  },
  {
   "cell_type": "code",
   "execution_count": 13,
   "metadata": {},
   "outputs": [
    {
     "name": "stdout",
     "output_type": "stream",
     "text": [
      "132 <class 'str'>\n"
     ]
    }
   ],
   "source": [
    "# type 함수\n",
    "\n",
    "# 015\n",
    "# a = \"132\" 의 값 타입을 판별\n",
    "a = '132'\n",
    "print(a, type(a))"
   ]
  },
  {
   "cell_type": "code",
   "execution_count": 16,
   "metadata": {},
   "outputs": [
    {
     "name": "stdout",
     "output_type": "stream",
     "text": [
      "<class 'str'>\n",
      "<class 'int'>\n"
     ]
    }
   ],
   "source": [
    "# 문자열을 정수로 변환\n",
    "\n",
    "# 016\n",
    "# num_str = \"720\" 을 정수형으로 변환\n",
    "num_str = \"720\"\n",
    "print(type(num_str))\n",
    "\n",
    "num_int = int(num_str)\n",
    "print(type(num_int))"
   ]
  },
  {
   "cell_type": "code",
   "execution_count": 20,
   "metadata": {},
   "outputs": [
    {
     "name": "stdout",
     "output_type": "stream",
     "text": [
      "<class 'int'>\n",
      "<class 'str'>\n"
     ]
    }
   ],
   "source": [
    "# 정수를 문자열 100으로 변환\n",
    "\n",
    "# 017\n",
    "# num = 100 을 정수에서 문자열로 변환\n",
    "num = 100\n",
    "print(type(num))\n",
    "\n",
    "num_str = str(num)\n",
    "print(type(num_str))"
   ]
  },
  {
   "cell_type": "code",
   "execution_count": 22,
   "metadata": {},
   "outputs": [
    {
     "name": "stdout",
     "output_type": "stream",
     "text": [
      "<class 'str'>\n",
      "<class 'float'>\n"
     ]
    }
   ],
   "source": [
    "# 문자열을 실수호 변환\n",
    "\n",
    "# 018\n",
    "\n",
    "# 문자열 \"15.97\" 를 실수 (float) 타입으로 변환\n",
    "a = \"15.97\"\n",
    "print(type(a))\n",
    "\n",
    "a = float(a)\n",
    "print(type(a))"
   ]
  },
  {
   "cell_type": "code",
   "execution_count": 25,
   "metadata": {},
   "outputs": [
    {
     "name": "stdout",
     "output_type": "stream",
     "text": [
      "<class 'str'>\n",
      "<class 'float'>\n",
      "2018.0 2019.0 2020.0\n"
     ]
    }
   ],
   "source": [
    "# 문자열을 정수로 변환\n",
    "\n",
    "# 019\n",
    "\n",
    "# year 변수에 문자열 타입의 연도를 바인딩하고 있다. 이를 정수로 변환 후 최근 3년의 연도를 화면에 출력\n",
    "year = \"2020\"\n",
    "print(type(year))\n",
    "\n",
    "year = float(year)\n",
    "print(type(year))\n",
    "print(year -2, year - 1, year)"
   ]
  },
  {
   "cell_type": "code",
   "execution_count": 28,
   "metadata": {},
   "outputs": [
    {
     "data": {
      "text/plain": [
       "1749024"
      ]
     },
     "execution_count": 28,
     "metadata": {},
     "output_type": "execute_result"
    }
   ],
   "source": [
    "# 파이썬 계산\n",
    "\n",
    "# 020\n",
    "\n",
    "# 에어컨이 월 48,584 원에 무이자 36개월의 조건으로 홈쇼핑에서 판매되고 있다. \n",
    "# 총 금액을 계산 후 이를 출력\n",
    "에어컨_월요금 = 48584\n",
    "무이자_개월수 = 36\n",
    "총금액 = 에어컨_월요금 * 무이자_개월수\n",
    "총금액"
   ]
  }
 ],
 "metadata": {
  "kernelspec": {
   "display_name": "aiffel",
   "language": "python",
   "name": "aiffel"
  },
  "language_info": {
   "codemirror_mode": {
    "name": "ipython",
    "version": 3
   },
   "file_extension": ".py",
   "mimetype": "text/x-python",
   "name": "python",
   "nbconvert_exporter": "python",
   "pygments_lexer": "ipython3",
   "version": "3.7.9"
  }
 },
 "nbformat": 4,
 "nbformat_minor": 4
}
