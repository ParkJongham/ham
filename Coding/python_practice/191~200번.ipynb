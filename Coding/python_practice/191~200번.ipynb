{
 "cells": [
  {
   "cell_type": "code",
   "execution_count": 1,
   "metadata": {},
   "outputs": [
    {
     "name": "stdout",
     "output_type": "stream",
     "text": [
      "2002.8000000000002\n",
      "3054.27\n",
      "2052.8700000000003\n",
      "1982.7720000000002\n",
      "7510.500000000001\n",
      "2052.8700000000003\n",
      "2052.8700000000003\n",
      "1982.7720000000002\n",
      "15471.630000000001\n",
      "15071.070000000002\n",
      "15571.77\n",
      "14920.86\n"
     ]
    }
   ],
   "source": [
    "# 191\n",
    "\n",
    "# data에는 매수한 종목들의 OHLC (open/high/low/close) 가격 정보가 바인딩 되어있다.\n",
    "# 수수료를 0.014 %로 가정할 때, 각 가격에 수수료를 포함한 가격을 한라인에 하나씩 출력.\n",
    "\n",
    "data = [\n",
    "    [ 2000,  3050,  2050,  1980],\n",
    "    [ 7500,  2050,  2050,  1980],\n",
    "    [15450, 15050, 15550, 14900]\n",
    "]\n",
    "\n",
    "for i in data :\n",
    "    for j in i :\n",
    "        print(j*1.0014)"
   ]
  },
  {
   "cell_type": "code",
   "execution_count": 2,
   "metadata": {},
   "outputs": [
    {
     "name": "stdout",
     "output_type": "stream",
     "text": [
      "2002.8000000000002\n",
      "3054.27\n",
      "2052.8700000000003\n",
      "1982.7720000000002\n",
      "----\n",
      "7510.500000000001\n",
      "2052.8700000000003\n",
      "2052.8700000000003\n",
      "1982.7720000000002\n",
      "----\n",
      "15471.630000000001\n",
      "15071.070000000002\n",
      "15571.77\n",
      "14920.86\n",
      "----\n"
     ]
    }
   ],
   "source": [
    "# 192\n",
    "\n",
    "# 191번의 출력 결과에 행단위로 \"----\" 구분자를 추가.\n",
    "\n",
    "data = [\n",
    "    [ 2000,  3050,  2050,  1980],\n",
    "    [ 7500,  2050,  2050,  1980],\n",
    "    [15450, 15050, 15550, 14900]\n",
    "]\n",
    "\n",
    "for i in data :\n",
    "    for j in i :\n",
    "        print(j*1.0014)\n",
    "    print('-'*4)"
   ]
  },
  {
   "cell_type": "code",
   "execution_count": 3,
   "metadata": {},
   "outputs": [
    {
     "name": "stdout",
     "output_type": "stream",
     "text": [
      "[2002.8000000000002, 3054.27, 2052.8700000000003, 1982.7720000000002, 7510.500000000001, 2052.8700000000003, 2052.8700000000003, 1982.7720000000002, 15471.630000000001, 15071.070000000002, 15571.77, 14920.86]\n"
     ]
    }
   ],
   "source": [
    "# 193\n",
    "\n",
    "# 192 번 문제의 결괏값을 result 이름의 리스트에 1차원 배열로 저장.\n",
    "\n",
    "'''\n",
    ">> print(result)\n",
    "[2000.28, 3050.427, 2050.2870000000003, 1980.2772, 7501.05, 2050.2870000000003, \n",
    "2050.2870000000003, ...]\n",
    "'''\n",
    "\n",
    "res = []\n",
    "for i in data :\n",
    "    for j in i :\n",
    "        res.append(j*1.0014)\n",
    "\n",
    "print(res)"
   ]
  },
  {
   "cell_type": "code",
   "execution_count": 4,
   "metadata": {},
   "outputs": [
    {
     "name": "stdout",
     "output_type": "stream",
     "text": [
      "[[2002.8000000000002, 3054.27, 2052.8700000000003, 1982.7720000000002], [7510.500000000001, 2052.8700000000003, 2052.8700000000003, 1982.7720000000002], [15471.630000000001, 15071.070000000002, 15571.77, 14920.86]]\n"
     ]
    }
   ],
   "source": [
    "# 194\n",
    "\n",
    "# 191번 문제의 결괏값을 result 이름의 리스트에 2차원 배열로 저장.\n",
    "# 장 포맷은 아래와 같다. 각 행에 대한 데이터끼리 리스트에 저장.\n",
    "\n",
    "'''\n",
    ">> print(result)\n",
    "[\n",
    " [2000.28, 3050.427, 2050.2870000000003, 1980.2772],\n",
    " [7501.05, 2050.2870000000003, 2050.2870000000003, 1980.2772],\n",
    " [15452.163, 15052.107, 15552.177, 14902.086000000001]\n",
    "]\n",
    "'''\n",
    "\n",
    "res = []\n",
    "for i in data :\n",
    "    sub = []\n",
    "    for j in i :\n",
    "        sub.append(j*1.0014)\n",
    "    res.append(sub)\n",
    "print(res)"
   ]
  },
  {
   "cell_type": "code",
   "execution_count": 5,
   "metadata": {},
   "outputs": [
    {
     "name": "stdout",
     "output_type": "stream",
     "text": [
      "100\n",
      "190\n",
      "310\n"
     ]
    }
   ],
   "source": [
    "# 195\n",
    "\n",
    "# ohlc 리스트에는 시가(open), 고가 (high), 저가 (low) , 종가(close)가 날짜별로 저장.\n",
    "# 화면에 종가데이터를 출력.\n",
    "\n",
    "ohlc = [[\"open\", \"high\", \"low\", \"close\"],\n",
    "        [100, 110, 70, 100],\n",
    "        [200, 210, 180, 190],\n",
    "        [300, 310, 300, 310]]\n",
    "\n",
    "for i in ohlc[1:] :\n",
    "    print(i[3])"
   ]
  },
  {
   "cell_type": "code",
   "execution_count": 6,
   "metadata": {},
   "outputs": [
    {
     "name": "stdout",
     "output_type": "stream",
     "text": [
      "190\n",
      "310\n"
     ]
    }
   ],
   "source": [
    "# 196\n",
    "\n",
    "# ohlc 리스트에는 시가(open), 고가 (high), 저가 (low) , 종가(close)가 날짜별로 저장.\n",
    "# 종가가 150원보다 큰경우에만 종가를 출력\n",
    "\n",
    "ohlc = [[\"open\", \"high\", \"low\", \"close\"],\n",
    "        [100, 110, 70, 100],\n",
    "        [200, 210, 180, 190],\n",
    "        [300, 310, 300, 310]]\n",
    "\n",
    "for i in ohlc[1:] :\n",
    "    if i[3] > 150 :\n",
    "        print(i[3])"
   ]
  },
  {
   "cell_type": "code",
   "execution_count": 8,
   "metadata": {},
   "outputs": [
    {
     "name": "stdout",
     "output_type": "stream",
     "text": [
      "100\n",
      "310\n"
     ]
    }
   ],
   "source": [
    "# 197\n",
    "\n",
    "# ohlc 리스트에는 시가(open), 고가 (high), 저가 (low) , 종가(close)가 날짜별로 저장.\n",
    "# 종가가 시가 보다 크거나 같은 경우에만 종가를 출력\n",
    "\n",
    "ohlc = [[\"open\", \"high\", \"low\", \"close\"],\n",
    "        [100, 110, 70, 100],\n",
    "        [200, 210, 180, 190],\n",
    "        [300, 310, 300, 310]]\n",
    "\n",
    "for i in ohlc[1:] :\n",
    "    if i[3] >= i[0] :\n",
    "        print(i[3])"
   ]
  },
  {
   "cell_type": "code",
   "execution_count": 9,
   "metadata": {},
   "outputs": [
    {
     "name": "stdout",
     "output_type": "stream",
     "text": [
      "[40, 30, 10]\n"
     ]
    }
   ],
   "source": [
    "# 198\n",
    "\n",
    "# ohlc 리스트에는 시가(open), 고가 (high), 저가 (low) , 종가(close)가 날짜별로 저장.\n",
    "# 고가와 저가의 차이를 변동폭으로 정의할 때 변동폭을 volatility 이름의 리스트에 저장.\n",
    "\n",
    "ohlc = [[\"open\", \"high\", \"low\", \"close\"],\n",
    "        [100, 110, 70, 100],\n",
    "        [200, 210, 180, 190],\n",
    "        [300, 310, 300, 310]]\n",
    "\n",
    "volatility = []\n",
    "\n",
    "for i in ohlc[1:] : \n",
    "    volatility.append(i[1] - i[2])\n",
    "\n",
    "print(volatility)"
   ]
  },
  {
   "cell_type": "code",
   "execution_count": 11,
   "metadata": {},
   "outputs": [
    {
     "name": "stdout",
     "output_type": "stream",
     "text": [
      "10\n"
     ]
    }
   ],
   "source": [
    "# 199\n",
    "\n",
    "# 리스트에는 3일 간의 ohlc 데이터가 저장. \n",
    "# 종가가 시가보다 높은 날의 변동성 (고가 - 저가)을 화면에 출력.\n",
    "\n",
    "ohlc = [[\"open\", \"high\", \"low\", \"close\"],\n",
    "        [100, 110, 70, 100],\n",
    "        [200, 210, 180, 190],\n",
    "        [300, 310, 300, 310]]\n",
    "\n",
    "\n",
    "for i in ohlc[1:] : \n",
    "    if i[3] > i[0] : \n",
    "        print(i[1] - i[2])"
   ]
  },
  {
   "cell_type": "code",
   "execution_count": 16,
   "metadata": {},
   "outputs": [
    {
     "data": {
      "text/plain": [
       "0"
      ]
     },
     "execution_count": 16,
     "metadata": {},
     "output_type": "execute_result"
    }
   ],
   "source": [
    "# 200\n",
    "\n",
    "# 리스트에는 3일 간의 ohlc 데이터가 저장.\n",
    "# 시가에 매수해서 종가에 매도 했을 경우 총 수익금을 계산\n",
    "\n",
    "ohlc = [[\"open\", \"high\", \"low\", \"close\"],\n",
    "        [100, 110, 70, 100],\n",
    "        [200, 210, 180, 190],\n",
    "        [300, 310, 300, 310]]\n",
    "\n",
    "profit = 0\n",
    "for i in ohlc[1:] : \n",
    "    profit += (i[3] - i[0])\n",
    "    \n",
    "profit"
   ]
  }
 ],
 "metadata": {
  "kernelspec": {
   "display_name": "aiffel",
   "language": "python",
   "name": "aiffel"
  },
  "language_info": {
   "codemirror_mode": {
    "name": "ipython",
    "version": 3
   },
   "file_extension": ".py",
   "mimetype": "text/x-python",
   "name": "python",
   "nbconvert_exporter": "python",
   "pygments_lexer": "ipython3",
   "version": "3.7.9"
  }
 },
 "nbformat": 4,
 "nbformat_minor": 4
}
