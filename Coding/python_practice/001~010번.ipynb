{
 "cells": [
  {
   "cell_type": "code",
   "execution_count": 2,
   "metadata": {},
   "outputs": [
    {
     "name": "stdout",
     "output_type": "stream",
     "text": [
      "Hello World\n"
     ]
    }
   ],
   "source": [
    "# print 기초\n",
    "# 001. 화면에 Hello World 문자열을 출력하세요\n",
    "\n",
    "print(\"Hello World\")"
   ]
  },
  {
   "cell_type": "code",
   "execution_count": 3,
   "metadata": {},
   "outputs": [
    {
     "name": "stdout",
     "output_type": "stream",
     "text": [
      "Mary's cosmetics\n"
     ]
    }
   ],
   "source": [
    "# 002. 화면에 Mary's cosmetics 을 출력하세요 (중간에 ' 가 있음에 주의)\n",
    "\n",
    "print(\"Mary's cosmetics\")"
   ]
  },
  {
   "cell_type": "code",
   "execution_count": 4,
   "metadata": {},
   "outputs": [
    {
     "name": "stdout",
     "output_type": "stream",
     "text": [
      "신씨가 소리질렀다. \"도둑이야\".\n"
     ]
    }
   ],
   "source": [
    "# 003. 화면에 [신씨가 소리질렀다. \"도둑이야\".] 를 출력하세요 (중간데 \" 가 있음에 주의)\n",
    "\n",
    "print('신씨가 소리질렀다. \"도둑이야\".')"
   ]
  },
  {
   "cell_type": "code",
   "execution_count": 5,
   "metadata": {},
   "outputs": [
    {
     "name": "stdout",
     "output_type": "stream",
     "text": [
      "\"C:\\Windos\"\n"
     ]
    }
   ],
   "source": [
    "# 004. 화면에 [\"C:\\Windowd\"] 를 출력하세요\n",
    "\n",
    "print('\"C:\\Windos\"')"
   ]
  },
  {
   "cell_type": "code",
   "execution_count": 9,
   "metadata": {},
   "outputs": [
    {
     "name": "stdout",
     "output_type": "stream",
     "text": [
      "안녕하세요. \n",
      "만나서\t\t반갑습니다.\n"
     ]
    }
   ],
   "source": [
    "# 005. print(\"안녕하세요. \\n만나서\\t\\t반갑습니다.\") 를 출력해보고 \\n 과 \\t 의 역할을 설명\n",
    "\n",
    "print(\"안녕하세요. \\n만나서\\t\\t반갑습니다.\")\n",
    "\n",
    "# \\n 은 줄바꿈, \\t 는 탭(4칸 들여쓰기)"
   ]
  },
  {
   "cell_type": "code",
   "execution_count": 11,
   "metadata": {},
   "outputs": [
    {
     "name": "stdout",
     "output_type": "stream",
     "text": [
      "오늘은 일요일\n"
     ]
    }
   ],
   "source": [
    "# 006. print(\"오늘은\", \"일요일\") 의 결과를 예측\n",
    "\n",
    "print(\"오늘은\", \"일요일\")\n",
    "      \n",
    "# \"오늘은 일요일\" 로 이어서 출력됨"
   ]
  },
  {
   "cell_type": "code",
   "execution_count": 14,
   "metadata": {},
   "outputs": [
    {
     "name": "stdout",
     "output_type": "stream",
     "text": [
      "naver;kakao;sk;samung\n"
     ]
    }
   ],
   "source": [
    "# 007.print() 함수를 이용하여, [naver;kakao;sk;samsung] 를 출력하세요\n",
    "\n",
    "print(\"naver\", \"kakao\", \"sk\", \"samung\", sep = \";\")\n",
    "\n",
    "# 마지막에 sep = \";\" 를 입력하여 출력하게 되면 각 인자 사이에 ; 가 삽입된다."
   ]
  },
  {
   "cell_type": "code",
   "execution_count": 15,
   "metadata": {},
   "outputs": [
    {
     "name": "stdout",
     "output_type": "stream",
     "text": [
      "naver/kakao/sk/samsung\n"
     ]
    }
   ],
   "source": [
    "# 008. print() 함수를 이용하여, [naver/kakao/sk/samsung] 을 출력하세요\n",
    "\n",
    "print(\"naver\", \"kakao\", \"sk\", \"samsung\", sep = \"/\")\n",
    "\n",
    "# 007번 문제와 동일하게 sep = \"/\" 를 이용하여 출력한다."
   ]
  },
  {
   "cell_type": "code",
   "execution_count": 21,
   "metadata": {},
   "outputs": [
    {
     "name": "stdout",
     "output_type": "stream",
     "text": [
      "firstsecond\n"
     ]
    }
   ],
   "source": [
    "# 009. print(\"first\");print(\"second\") 코드를 수정하여 줄바꿈 없이 출력하세요.\n",
    "# (힌트 : end\") print함수는 두 번 사용하고, 세미콜론은 한줄에 여러 개의 명령을 작성하기위해 사용\n",
    "\n",
    "print(\"first\", end = \"\");print(\"second\")\n",
    "\n",
    "# end 를 활용하면 그 뒤의 출력값과 이어서 출력하게 된다. 이는 줄 바꿈을 하지 않는다는 것."
   ]
  },
  {
   "cell_type": "code",
   "execution_count": 22,
   "metadata": {},
   "outputs": [
    {
     "name": "stdout",
     "output_type": "stream",
     "text": [
      "1.6666666666666667\n"
     ]
    }
   ],
   "source": [
    "# 010. 5/3 의 결과를 화면에 출력\n",
    "\n",
    "print(5/3)\n",
    "\n",
    "# 출력하고 싶은 값을 인자로 작성"
   ]
  }
 ],
 "metadata": {
  "kernelspec": {
   "display_name": "Python 3",
   "language": "python",
   "name": "python3"
  },
  "language_info": {
   "codemirror_mode": {
    "name": "ipython",
    "version": 3
   },
   "file_extension": ".py",
   "mimetype": "text/x-python",
   "name": "python",
   "nbconvert_exporter": "python",
   "pygments_lexer": "ipython3",
   "version": "3.7.9"
  }
 },
 "nbformat": 4,
 "nbformat_minor": 4
}
