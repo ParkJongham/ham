{
 "cells": [
  {
   "cell_type": "code",
   "execution_count": 5,
   "metadata": {},
   "outputs": [
    {
     "name": "stdout",
     "output_type": "stream",
     "text": [
      "110\n",
      "210\n",
      "310\n"
     ]
    }
   ],
   "source": [
    "# 141\n",
    "\n",
    "# 다음과 같이 판매가가 저장된 리스트가 있을 때 부가세가 포함된 가격을 for 문을 사용해서 화면에 출력하라. 단 부가세는 10원으로 가정\n",
    "\n",
    "리스트 = [100, 200, 300]\n",
    "\n",
    "for i in 리스트 : \n",
    "    print(i + 10)"
   ]
  },
  {
   "cell_type": "code",
   "execution_count": 6,
   "metadata": {},
   "outputs": [
    {
     "name": "stdout",
     "output_type": "stream",
     "text": [
      "오늘의 메뉴 :  김밥\n",
      "오늘의 메뉴 :  라면\n",
      "오늘의 메뉴 :  튀김\n"
     ]
    }
   ],
   "source": [
    "# 142 \n",
    "\n",
    "# for 문을 사용해서 리스트에 저장된 값을 다음과 같이 출력.\n",
    "\n",
    "'''\n",
    "오늘의 메뉴: 김밥\n",
    "오늘의 메뉴: 라면\n",
    "오늘의 메뉴: 튀김\n",
    "'''\n",
    "리스트 = ['김밥', '라면', '튀김']\n",
    "\n",
    "for i in 리스트 : \n",
    "    print(\"오늘의 메뉴 : \", i)"
   ]
  },
  {
   "cell_type": "code",
   "execution_count": 8,
   "metadata": {},
   "outputs": [
    {
     "name": "stdout",
     "output_type": "stream",
     "text": [
      "6\n",
      "4\n",
      "4\n"
     ]
    }
   ],
   "source": [
    "# 143\n",
    "\n",
    "# 리스트에 주식 종목 이름이 저장되어 있다.\n",
    "# 저장된 문자열의 길이를 다음과 같이 출력.\n",
    "\n",
    "'''\n",
    "6\n",
    "4\n",
    "4\n",
    "'''\n",
    "리스트 = ['SK하이닉스', '삼성전자', 'LG전자']\n",
    "\n",
    "for i in 리스트 : \n",
    "    print(len(i))"
   ]
  },
  {
   "cell_type": "code",
   "execution_count": 9,
   "metadata": {},
   "outputs": [
    {
     "name": "stdout",
     "output_type": "stream",
     "text": [
      "dog 3\n",
      "cat 3\n",
      "parrot 6\n"
     ]
    }
   ],
   "source": [
    "# 144\n",
    "\n",
    "# 리스트에 동물이름이 문자여롤 저장되어 있다.\n",
    "# 동물 이름과 글자수를 다음과 같이 출력.\n",
    "\n",
    "'''\n",
    "dog 3\n",
    "cat 3\n",
    "parrot 6\n",
    "'''\n",
    "\n",
    "리스트 = ['dog', 'cat', 'parrot']\n",
    "\n",
    "for i in 리스트 : \n",
    "    print(i, len(i))"
   ]
  },
  {
   "cell_type": "code",
   "execution_count": 10,
   "metadata": {},
   "outputs": [
    {
     "name": "stdout",
     "output_type": "stream",
     "text": [
      "d\n",
      "c\n",
      "p\n"
     ]
    }
   ],
   "source": [
    "# 145\n",
    "\n",
    "# 리스트에 동물 이름이 저장되어 있다.\n",
    "# for문을 사용해서 동물 이름의 철 글자만 출력.\n",
    "\n",
    "리스트 = ['dog', 'cat', 'parrot']\n",
    "\n",
    "for i in 리스트 : \n",
    "    print(i[0])"
   ]
  },
  {
   "cell_type": "code",
   "execution_count": 14,
   "metadata": {},
   "outputs": [
    {
     "name": "stdout",
     "output_type": "stream",
     "text": [
      "3 x 1\n",
      "3 x 2\n",
      "3 x 3\n"
     ]
    }
   ],
   "source": [
    "# 146\n",
    "\n",
    "# 리스트에 세 개의 숫자가 저장되어 있다.\n",
    "# for문을 사용해서 다음과 같이 출력.\n",
    "\n",
    "'''\n",
    "3 x 1\n",
    "3 x 2\n",
    "3 x 3\n",
    "'''\n",
    "리스트 = [1, 2, 3]\n",
    "for i in 리스트 : \n",
    "    print(3, \"x\", i)"
   ]
  },
  {
   "cell_type": "code",
   "execution_count": 15,
   "metadata": {},
   "outputs": [
    {
     "name": "stdout",
     "output_type": "stream",
     "text": [
      "3 x 1 = 3\n",
      "3 x 2 = 6\n",
      "3 x 3 = 9\n"
     ]
    }
   ],
   "source": [
    "# 147\n",
    "\n",
    "# 리스트에 세 개의 숫자가 저장되어 있다.\n",
    "# for문을 사용해서 다음과 같이 출력.\n",
    "\n",
    "'''\n",
    "3 x 1 = 3\n",
    "3 x 2 = 6\n",
    "3 x 3 = 9\n",
    "'''\n",
    "\n",
    "리스트 = [1, 2, 3]\n",
    "\n",
    "for i in 리스트 :\n",
    "    print(3, \"x\", i, \"=\", 3*i)"
   ]
  },
  {
   "cell_type": "code",
   "execution_count": 18,
   "metadata": {},
   "outputs": [
    {
     "name": "stdout",
     "output_type": "stream",
     "text": [
      "나\n",
      "다\n",
      "라\n"
     ]
    }
   ],
   "source": [
    "# 148\n",
    "\n",
    "# 리스트에는 네 개의 문자열이 저장되어 있다.\n",
    "# for문을 사용해 다음과 같이 출력.\n",
    "\n",
    "'''\n",
    "나\n",
    "다\n",
    "라\n",
    "'''\n",
    "\n",
    "리스트 =['가', '나', '다', '라']\n",
    "\n",
    "for i in 리스트[1:] : \n",
    "    print(i)"
   ]
  },
  {
   "cell_type": "code",
   "execution_count": 21,
   "metadata": {},
   "outputs": [
    {
     "name": "stdout",
     "output_type": "stream",
     "text": [
      "가\n",
      "다\n"
     ]
    }
   ],
   "source": [
    "# 149\n",
    "\n",
    "# 리스트에는 네 개의 문자열이 저장되어 있다.\n",
    "# for문을 사용해서 다음과 같이 출력.\n",
    "\n",
    "'''\n",
    "가\n",
    "다\n",
    "'''\n",
    "\n",
    "리스트 = ['가', '나', '다', '라']\n",
    "\n",
    "for i in 리스트[::2] : \n",
    "    print(i)"
   ]
  },
  {
   "cell_type": "code",
   "execution_count": 23,
   "metadata": {},
   "outputs": [
    {
     "name": "stdout",
     "output_type": "stream",
     "text": [
      "라\n",
      "다\n",
      "나\n",
      "가\n"
     ]
    }
   ],
   "source": [
    "# 150\n",
    "\n",
    "# 리스트에는 네 개의 문자열이 저장되어 있다.\n",
    "# for문을 사용해서 다음과 같이 출력.\n",
    "\n",
    "'''\n",
    "라\n",
    "다\n",
    "나\n",
    "가\n",
    "'''\n",
    "리스트 = ['가', '나', '다', '라']\n",
    "\n",
    "for i in 리스트[::-1] : \n",
    "    print(i)"
   ]
  }
 ],
 "metadata": {
  "kernelspec": {
   "display_name": "Python 3",
   "language": "python",
   "name": "python3"
  },
  "language_info": {
   "codemirror_mode": {
    "name": "ipython",
    "version": 3
   },
   "file_extension": ".py",
   "mimetype": "text/x-python",
   "name": "python",
   "nbconvert_exporter": "python",
   "pygments_lexer": "ipython3",
   "version": "3.8.5"
  }
 },
 "nbformat": 4,
 "nbformat_minor": 4
}
