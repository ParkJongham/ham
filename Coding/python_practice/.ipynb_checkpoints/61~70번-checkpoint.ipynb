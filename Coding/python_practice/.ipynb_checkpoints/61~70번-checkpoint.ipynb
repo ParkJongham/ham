{
 "cells": [
  {
   "cell_type": "code",
   "execution_count": 1,
   "metadata": {},
   "outputs": [
    {
     "name": "stdout",
     "output_type": "stream",
     "text": [
      "[100, 130, 140, 150, 160, 170]\n"
     ]
    }
   ],
   "source": [
    "# 060\n",
    "\n",
    "# price 변수에는 날짜와 종가 정보가 저장돼 있다. \n",
    "# 날짜 정보를 제외하고 가격 정보만을 출력 (힌트 : 슬라이싱)\n",
    "\n",
    "price = ['20180728', 100, 130, 140, 150, 160, 170]\n",
    "\n",
    "print(price[1:])"
   ]
  },
  {
   "cell_type": "code",
   "execution_count": 3,
   "metadata": {},
   "outputs": [
    {
     "name": "stdout",
     "output_type": "stream",
     "text": [
      "[1, 3, 5, 7, 9]\n"
     ]
    }
   ],
   "source": [
    "# 062\n",
    "\n",
    "# 슬라이싱을 사용해서 홀수만 출fur.\n",
    "\n",
    "nums = [1, 2, 3, 4, 5, 6, 7, 8, 9, 10]\n",
    "\n",
    "print(nums[::2])"
   ]
  },
  {
   "cell_type": "code",
   "execution_count": 4,
   "metadata": {},
   "outputs": [
    {
     "name": "stdout",
     "output_type": "stream",
     "text": [
      "[2, 4, 6, 8, 10]\n"
     ]
    }
   ],
   "source": [
    "# 063\n",
    "\n",
    "# 슬라이싱을 사용해서 짝수만 출력.\n",
    "\n",
    "nums = [1, 2, 3, 4, 5, 6, 7, 8, 9, 10]\n",
    "\n",
    "print(nums[1::2])"
   ]
  },
  {
   "cell_type": "code",
   "execution_count": 5,
   "metadata": {},
   "outputs": [
    {
     "name": "stdout",
     "output_type": "stream",
     "text": [
      "[5, 4, 3, 2, 1]\n"
     ]
    }
   ],
   "source": [
    "# 064\n",
    "\n",
    "# 슬라이싱을 사용해서 리스트의 숫자를 역 방향으로 출력\n",
    "\n",
    "nums = [1, 2, 3, 4, 5]\n",
    "\n",
    "print(nums[::-1])"
   ]
  },
  {
   "cell_type": "code",
   "execution_count": 17,
   "metadata": {},
   "outputs": [
    {
     "name": "stdout",
     "output_type": "stream",
     "text": [
      "삼성전자 Naver\n"
     ]
    }
   ],
   "source": [
    "# 065\n",
    "\n",
    "# nterest 리스트에는 아래의 데이터가 바인딩되어 있다.\n",
    "# interest 리스트를 사용하여 아래와 같이 화면에 출력하라.\n",
    "'''\n",
    "출력 예시:\n",
    "\n",
    "삼성전자 Naver\n",
    "'''\n",
    "\n",
    "interest = ['삼성전자', 'LG전자', 'Naver']\n",
    "\n",
    "print(interest[0], interest[2])"
   ]
  },
  {
   "cell_type": "code",
   "execution_count": 19,
   "metadata": {},
   "outputs": [
    {
     "name": "stdout",
     "output_type": "stream",
     "text": [
      "삼성전자 LG전자 Naver SK하이닉스 미래에셋대우\n"
     ]
    }
   ],
   "source": [
    "# 066 Join 메서드\n",
    "\n",
    "# interest 리스트에는 아래의 데이터가 바인딩되어 있다.\n",
    "# interest 리스트를 사용하여 아래와 같이 화면에 출력.\n",
    "'''\n",
    "출력 예시:\n",
    "\n",
    "삼성전자 LG전자 Naver SK하이닉스 미래에셋대우\n",
    "'''\n",
    "\n",
    "interest = ['삼성전자', 'LG전자', 'Naver', 'SK하이닉스', '미래에셋대우']\n",
    "\n",
    "print(\" \".join(interest))"
   ]
  },
  {
   "cell_type": "code",
   "execution_count": 23,
   "metadata": {},
   "outputs": [
    {
     "name": "stdout",
     "output_type": "stream",
     "text": [
      "삼성전자/LG전자/Naver/SK하이닉스/미래에셋대우\n"
     ]
    }
   ],
   "source": [
    "# 067 join 메서드\n",
    "\n",
    "# interest 리스트에는 아래의 데이터가 바인딩되어 있다.\n",
    "# interest 리스트를 사용하여 아래와 같이 화면에 출력.\n",
    "'''\n",
    "출력 예시:\n",
    "\n",
    "삼성전자/LG전자/Naver/SK하이닉스/미래에셋대우\n",
    "''' \n",
    "interest = ['삼성전자', 'LG전자', 'Naver', 'SK하이닉스', '미래에셋대우']\n",
    "\n",
    "print(\"/\".join(interest))"
   ]
  },
  {
   "cell_type": "code",
   "execution_count": 21,
   "metadata": {},
   "outputs": [
    {
     "name": "stdout",
     "output_type": "stream",
     "text": [
      "삼성전자\n",
      "LG전자\n",
      "Naver\n",
      "SK하이닉스\n",
      "미래에셋대우\n"
     ]
    }
   ],
   "source": [
    "# 068 join 메서드\n",
    "\n",
    "# interest 리스트에는 아래의 데이터가 바인딩되어 있다.\n",
    "# join() 메서드를 사용해서 interest 리스트를 아래와 같이 화면에 출력.\n",
    "'''\n",
    "출력 예시:\n",
    "\n",
    "삼성전자\n",
    "LG전자\n",
    "Naver\n",
    "SK하이닉스\n",
    "미래에셋대우\n",
    "'''\n",
    "interest = ['삼성전자', 'LG전자', 'Naver', 'SK하이닉스', '미래에셋대우']\n",
    "\n",
    "print(\"\\n\".join(interest))\n"
   ]
  },
  {
   "cell_type": "code",
   "execution_count": 22,
   "metadata": {},
   "outputs": [
    {
     "name": "stdout",
     "output_type": "stream",
     "text": [
      "['삼성전자', 'LG전자', 'Naver']\n"
     ]
    }
   ],
   "source": [
    "# 069 문자열 split 메서드\n",
    "\n",
    "# 회사 이름이 슬래시 ('/')로 구분되어 하나의 문자열로 저장되어 있다.\n",
    "# 이를 interest 이름의 리스트로 분리 저장.\n",
    "\n",
    "string = \"삼성전자/LG전자/Naver\"\n",
    "\n",
    "print(string.split('/'))"
   ]
  },
  {
   "cell_type": "code",
   "execution_count": 27,
   "metadata": {},
   "outputs": [
    {
     "name": "stdout",
     "output_type": "stream",
     "text": [
      "[1, 2, 3, 4, 5, 9, 10]\n",
      "[1, 2, 3, 4, 5, 9, 10]\n"
     ]
    }
   ],
   "source": [
    "# 070 리스트 정렬\n",
    "\n",
    "# 리스트에 있는 값을 오름차순으로 정렬\n",
    "\n",
    "data = [2, 4, 3, 1, 5, 10, 9]\n",
    "\n",
    "data.sort()\n",
    "\n",
    "print(data)\n",
    "\n",
    "print(sorted(data))\n"
   ]
  }
 ],
 "metadata": {
  "kernelspec": {
   "display_name": "aiffel",
   "language": "python",
   "name": "aiffel"
  },
  "language_info": {
   "codemirror_mode": {
    "name": "ipython",
    "version": 3
   },
   "file_extension": ".py",
   "mimetype": "text/x-python",
   "name": "python",
   "nbconvert_exporter": "python",
   "pygments_lexer": "ipython3",
   "version": "3.7.9"
  }
 },
 "nbformat": 4,
 "nbformat_minor": 4
}
