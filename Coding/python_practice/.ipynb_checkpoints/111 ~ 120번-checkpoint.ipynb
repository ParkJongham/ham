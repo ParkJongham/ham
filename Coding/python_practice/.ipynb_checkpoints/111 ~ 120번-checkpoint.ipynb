{
 "cells": [
  {
   "cell_type": "code",
   "execution_count": 2,
   "metadata": {},
   "outputs": [
    {
     "name": "stdout",
     "output_type": "stream",
     "text": [
      "입력 : 안녕하세요\n",
      "안녕하세요안녕하세요\n"
     ]
    }
   ],
   "source": [
    "# 111\n",
    "\n",
    "# 사용자로부터 입력받은 문자열을 두 번 출력해라.\n",
    "# 아래는 사용자가 \"안녕하세요\" 를 입력한 경우의 출력 결과이다.\n",
    "\n",
    "'''\n",
    ">> 안녕하세요\n",
    "안녕하세요안녕하세요\n",
    "'''\n",
    "\n",
    "user = input(\"입력 : \")\n",
    "\n",
    "print(user *2)"
   ]
  },
  {
   "cell_type": "code",
   "execution_count": 4,
   "metadata": {},
   "outputs": [
    {
     "name": "stdout",
     "output_type": "stream",
     "text": [
      "입력 : 5\n",
      "15\n"
     ]
    }
   ],
   "source": [
    "# 112\n",
    "\n",
    "# 사용자로부터 하나의 숫자를 입력받고, 입력 받은 숫자에 10을 더해 출력\n",
    "\n",
    "user = input(\"입력 : \")\n",
    "\n",
    "print(int(user) + 10)"
   ]
  },
  {
   "cell_type": "code",
   "execution_count": 8,
   "metadata": {},
   "outputs": [
    {
     "name": "stdout",
     "output_type": "stream",
     "text": [
      "입력 : 5\n",
      "홀수\n"
     ]
    }
   ],
   "source": [
    "# 113\n",
    "\n",
    "# 사용자로부터 하나의 숫자를 입력 받고 짝수/홀수를 판별하라.\n",
    "\n",
    "user = input(\"입력 : \")\n",
    "\n",
    "if int(user) % 2 == 0 :\n",
    "    print('짝수')\n",
    "    \n",
    "else : \n",
    "    print('홀수')"
   ]
  },
  {
   "cell_type": "code",
   "execution_count": 13,
   "metadata": {},
   "outputs": [
    {
     "name": "stdout",
     "output_type": "stream",
     "text": [
      "입력 : 10\n",
      "30\n"
     ]
    }
   ],
   "source": [
    "# 114\n",
    "\n",
    "# 사용자로부터 값을 입력받은 후 해당 값에 20을 더한 값을 출력\n",
    "# 단 사용자가 입력한 값과 20을 더한 계산 값이 255를 초과하는 경우 255를 출력\n",
    "\n",
    "user = input(\"입력 : \")\n",
    "\n",
    "if int(user) :\n",
    "    if int(user) + 20 > 255 :\n",
    "        print(255)\n",
    "        \n",
    "    else : \n",
    "        print(int(user) + 20)"
   ]
  },
  {
   "cell_type": "code",
   "execution_count": 17,
   "metadata": {},
   "outputs": [
    {
     "name": "stdout",
     "output_type": "stream",
     "text": [
      "입력 :40\n",
      "20\n"
     ]
    }
   ],
   "source": [
    "# 115\n",
    "\n",
    "# 사용자로부터 하나의 값을 입력받은 후 해당 값에 20을 뺀 갚을 출력\n",
    "# 단 출력 값의 범위는 0~255 이다.\n",
    "\n",
    "user = input(\"입력 :\")\n",
    "\n",
    "if int(user) :\n",
    "    if int(user) < 0 : \n",
    "        print(0)\n",
    "    if int(user) > 255 :\n",
    "        print(255)\n",
    "    else :\n",
    "        print(int(user) - 20)"
   ]
  },
  {
   "cell_type": "code",
   "execution_count": 19,
   "metadata": {},
   "outputs": [
    {
     "name": "stdout",
     "output_type": "stream",
     "text": [
      "입력 :03:10\n",
      "정각이 아닙니다.\n"
     ]
    }
   ],
   "source": [
    "# 116\n",
    "\n",
    "# 사용자로부터 입력 받은 시간이 정각인지 판별\n",
    "\n",
    "'''\n",
    ">> 현재시간:02:00\n",
    "정각 입니다.\n",
    "\n",
    ">> 현재시간:03:10\n",
    "정각이 아닙니다\n",
    "'''\n",
    "\n",
    "user = input(\"입력 :\")\n",
    "\n",
    "if user[-2:] == \"00\" : \n",
    "    print(\"정각입니다.\")\n",
    "\n",
    "else : \n",
    "    print(\"정각이 아닙니다.\")"
   ]
  },
  {
   "cell_type": "code",
   "execution_count": 21,
   "metadata": {},
   "outputs": [
    {
     "name": "stdout",
     "output_type": "stream",
     "text": [
      "좋아하는 과일은? 수박\n",
      "오답입니다.\n"
     ]
    }
   ],
   "source": [
    "# 117\n",
    "\n",
    "# 사용자로 입력받은 단어가 아래 fruit 리스트에 포함되어 있는지를 확인\n",
    "# 포함되어 있다면 \"정답입니다.\" 아니라면 \"오답입니다\" 를 출력\n",
    "\n",
    "\n",
    "'''\n",
    ">> 좋아하는 과일은? 사과\n",
    "정답입니다.\n",
    "'''\n",
    "\n",
    "fruit = ['사과', '포도', '홍시']\n",
    "    \n",
    "user = input(\"좋아하는 과일은? \")\n",
    "\n",
    "if user in fruit : \n",
    "    print(\"정답입니다.\")\n",
    "    \n",
    "else : \n",
    "    print(\"오답입니다.\")"
   ]
  },
  {
   "cell_type": "code",
   "execution_count": 22,
   "metadata": {},
   "outputs": [
    {
     "name": "stdout",
     "output_type": "stream",
     "text": [
      "투자 종목 : Microsoft\n",
      "투자 경고 종목입니다.\n"
     ]
    }
   ],
   "source": [
    "# 118\n",
    "\n",
    "# 투자 경고 종목 리스트가 있을 때 사용자로부터 종목명을 입력 받은 후 \n",
    "# 해당 종목이 투자 경고 종목이라면 '투자 경고 종목입니다'를 \n",
    "# 아니면 \"투자 경고 종목이 아닙니다.\"를 출력하는 프로그램을 작성\n",
    "\n",
    "warn_investment_list = [\"Microsoft\", \"Google\", \"Naver\", \"Kakao\", \"SAMSUNG\", \"LG\"]\n",
    "\n",
    "user = input(\"투자 종목 : \")\n",
    "\n",
    "if user in warn_investment_list :\n",
    "    print(\"투자 경고 종목입니다.\")\n",
    "    \n",
    "else : \n",
    "    print(\"투자 경고 종목이 아닙니다.\")"
   ]
  },
  {
   "cell_type": "code",
   "execution_count": 29,
   "metadata": {},
   "outputs": [
    {
     "name": "stdout",
     "output_type": "stream",
     "text": [
      "dict_keys(['봄', '여름', '가을'])\n",
      "좋아하는 계절은 : 겨울\n",
      "오답입니다.\n"
     ]
    }
   ],
   "source": [
    "# 119\n",
    "\n",
    "# 아래와 같이 fruit 딕셔너리가 정의되어 있다.\n",
    "# 사용자가 입력한 값이 딕셔너리 키 (key) 값에 포함되어 있다면\n",
    "# \"정답입니다.\", 아닐 경우 \"오답입니다.\" 출력\n",
    "\n",
    "'''\n",
    ">> 제가좋아하는계절은: 봄\n",
    "정답입니다.\n",
    "'''\n",
    "\n",
    "fruit = {\"봄\" : \"딸기\", \"여름\" : \"토마토\", \"가을\" : \"사과\"}\n",
    "\n",
    "print(fruit.keys())\n",
    "\n",
    "user = input(\"좋아하는 계절은 : \")\n",
    "\n",
    "\n",
    "if user in fruit.keys() :\n",
    "    print(\"정답입니다.\")\n",
    "\n",
    "else : \n",
    "    print(\"오답입니다.\")"
   ]
  },
  {
   "cell_type": "code",
   "execution_count": 30,
   "metadata": {},
   "outputs": [
    {
     "name": "stdout",
     "output_type": "stream",
     "text": [
      "좋아하는 과일은? 수박\n",
      "오답입니다.\n"
     ]
    }
   ],
   "source": [
    "# 120\n",
    "\n",
    "# 아래와 같이 fruit 딕셔너리가 정의되어 있다.\n",
    "# 사용자가 입력한 값이 딕셔너리 값(value) 에 포함되어 있다면\n",
    "# \"정답입니다.\" , 아닐 경우 \"오답입니다.\" 를 출력\n",
    "\n",
    "'''\n",
    ">> 좋아하는과일은? 한라봉\n",
    "오답입니다.\n",
    "'''\n",
    "\n",
    "fruit = {\"봄\" : \"딸기\", \"여름\" : \"토마토\", \"가을\" : \"사과\"}\n",
    "\n",
    "user = input(\"좋아하는 과일은? \")\n",
    "\n",
    "if user in fruit.values() : \n",
    "    print(\"정답입니다.\")\n",
    "\n",
    "else : \n",
    "    print(\"오답입니다.\")"
   ]
  }
 ],
 "metadata": {
  "kernelspec": {
   "display_name": "aiffel",
   "language": "python",
   "name": "aiffel"
  },
  "language_info": {
   "codemirror_mode": {
    "name": "ipython",
    "version": 3
   },
   "file_extension": ".py",
   "mimetype": "text/x-python",
   "name": "python",
   "nbconvert_exporter": "python",
   "pygments_lexer": "ipython3",
   "version": "3.7.9"
  }
 },
 "nbformat": 4,
 "nbformat_minor": 4
}
