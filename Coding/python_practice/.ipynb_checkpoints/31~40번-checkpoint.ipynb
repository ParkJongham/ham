{
 "cells": [
  {
   "cell_type": "code",
   "execution_count": 1,
   "metadata": {},
   "outputs": [
    {
     "name": "stdout",
     "output_type": "stream",
     "text": [
      "34\n"
     ]
    }
   ],
   "source": [
    "# 031 문자열 합치기\n",
    "\n",
    "# 아래 코드의 실행 결과를 예측\n",
    "# 34 가 출력된다.\n",
    "# 문자열 a  + c 는 ac 가되듯이 3+4의 연산이 아니라 3과 4가 이어져 출력된다.\n",
    "\n",
    "a = \"3\"\n",
    "b = \"4\"\n",
    "print(a+b)"
   ]
  },
  {
   "cell_type": "code",
   "execution_count": 2,
   "metadata": {},
   "outputs": [
    {
     "name": "stdout",
     "output_type": "stream",
     "text": [
      "HiHiHi\n"
     ]
    }
   ],
   "source": [
    "# 032 문자열 곱하기\n",
    "\n",
    "# 아래 고드의 실행 결과를 예측\n",
    "# HiHiHi 가 출력된다.\n",
    "\n",
    "print(\"Hi\" * 3)"
   ]
  },
  {
   "cell_type": "code",
   "execution_count": 3,
   "metadata": {},
   "outputs": [
    {
     "name": "stdout",
     "output_type": "stream",
     "text": [
      "--------------------------------------------------------------------------------\n"
     ]
    }
   ],
   "source": [
    "# 033 문자열 곱하기\n",
    "\n",
    "# 화면에 '-' (대쉬) 를 80개 출력\n",
    "\n",
    "print('-'*80)"
   ]
  },
  {
   "cell_type": "code",
   "execution_count": 15,
   "metadata": {},
   "outputs": [
    {
     "name": "stdout",
     "output_type": "stream",
     "text": [
      "python java python java python java python java \n"
     ]
    }
   ],
   "source": [
    "# 034 문자열 곱하기\n",
    "\n",
    "# 변수에 다음과 같은 문자열이 바인딩되어 있다.\n",
    "# 변수에 문자열 더하기와 곱하기를 사용해서 다음과 같이 출력\n",
    "\n",
    "# 실행 : python java python java python java python java\n",
    "\n",
    "a = \"python\"\n",
    "b = \"java\"\n",
    "c = a + ' ' + b + ' '\n",
    "print(c*4)"
   ]
  },
  {
   "cell_type": "code",
   "execution_count": 9,
   "metadata": {},
   "outputs": [
    {
     "name": "stdout",
     "output_type": "stream",
     "text": [
      "이름 : 김민수 나이 : 10\n",
      "이름 : 이철희 나이 : 13\n"
     ]
    }
   ],
   "source": [
    "# 035 문자열 출력\n",
    "\n",
    "# 변수에 다음과 같이 문자열과 정수가 바인딩되어 있을 때 \n",
    "# % formatting 을 사용해서 다음과 같이 출력\n",
    "\n",
    "name1 = \"김민수\"\n",
    "age1 = 10\n",
    "name2 = '이철희'\n",
    "age2 = 13\n",
    "\n",
    "print(\"이름 : %s 나이 : %d\" % (name1, age1))\n",
    "print(\"이름 : %s 나이 : %d\" % (name2, age2))"
   ]
  },
  {
   "cell_type": "code",
   "execution_count": 19,
   "metadata": {},
   "outputs": [
    {
     "name": "stdout",
     "output_type": "stream",
     "text": [
      "이름 : 김민수 나이 : 10\n",
      "이름 : 이철희 나이 : 13\n"
     ]
    }
   ],
   "source": [
    "# 036 문자열 출력\n",
    "\n",
    "# 문자열의 format() 메서드를 사용해서 35번 문제를 다시 풀기\n",
    "\n",
    "name1 = \"김민수\"\n",
    "age1 = 10\n",
    "name2 = '이철희'\n",
    "age2 = 13\n",
    "\n",
    "print(\"이름 : {} 나이 : {}\".format(name1, age1))\n",
    "print(\"이름 : {} 나이 : {}\".format(name2, age2))"
   ]
  },
  {
   "cell_type": "code",
   "execution_count": 22,
   "metadata": {},
   "outputs": [
    {
     "name": "stdout",
     "output_type": "stream",
     "text": [
      "이름 : 김민수 나이 : 10\n",
      "이름 : 이철희 나이 : 13\n"
     ]
    }
   ],
   "source": [
    "# 037\n",
    "\n",
    "# f-string 을 사용하여 35번 문제를 다시 풀기\n",
    "\n",
    "name1 = \"김민수\"\n",
    "age1 = 10\n",
    "name2 = '이철희'\n",
    "age2 = 13\n",
    "\n",
    "# f 띄어쓰고 \" 이름~ 안됨, 무조건 f\" 로 붙여써야한다.\n",
    "print(f\"이름 : {name1} 나이 : {age1}\")\n",
    "print(f\"이름 : {name2} 나이 : {age2}\")"
   ]
  },
  {
   "cell_type": "code",
   "execution_count": 31,
   "metadata": {},
   "outputs": [
    {
     "name": "stdout",
     "output_type": "stream",
     "text": [
      "5969782550\n",
      "5969782550 <class 'int'>\n"
     ]
    }
   ],
   "source": [
    "# 038 컴마제거하기\n",
    "\n",
    "# 삼성전자의 상장주식수가 다음과 같다.\n",
    "# 컴마를 제거한 후 이를 정수 타입으로 변환\n",
    "\n",
    "삼성주식수 = \"5,969,782,550\"\n",
    "삼성주식수 = 삼성주식수.replace(\",\", \"\")\n",
    "print(삼성주식수)\n",
    "\n",
    "삼성주식수 = int(삼성주식수)\n",
    "print(삼성주식수, type(삼성주식수))"
   ]
  },
  {
   "cell_type": "code",
   "execution_count": 36,
   "metadata": {},
   "outputs": [
    {
     "name": "stdout",
     "output_type": "stream",
     "text": [
      "2020/03\n"
     ]
    }
   ],
   "source": [
    "# 039 문자열 슬라이싱\n",
    "\n",
    "# 다음과 같은 문자열에서 '2020/03' 만 출력\n",
    "\n",
    "분기 = \"2020/03(E) (IFRS연결)\"\n",
    "\n",
    "print(분기[:7])"
   ]
  },
  {
   "cell_type": "code",
   "execution_count": 41,
   "metadata": {},
   "outputs": [
    {
     "name": "stdout",
     "output_type": "stream",
     "text": [
      "   삼성전자   \n",
      "삼성전자\n"
     ]
    }
   ],
   "source": [
    "# 040 strip 메서드\n",
    "\n",
    "# 문자열의 좌우의 공백이 있을 때 이를 제거\n",
    "\n",
    "data = \"   삼성전자   \"\n",
    "print(data)\n",
    "\n",
    "data = data.strip()\n",
    "print(data)"
   ]
  }
 ],
 "metadata": {
  "kernelspec": {
   "display_name": "aiffel",
   "language": "python",
   "name": "aiffel"
  },
  "language_info": {
   "codemirror_mode": {
    "name": "ipython",
    "version": 3
   },
   "file_extension": ".py",
   "mimetype": "text/x-python",
   "name": "python",
   "nbconvert_exporter": "python",
   "pygments_lexer": "ipython3",
   "version": "3.7.9"
  }
 },
 "nbformat": 4,
 "nbformat_minor": 4
}
