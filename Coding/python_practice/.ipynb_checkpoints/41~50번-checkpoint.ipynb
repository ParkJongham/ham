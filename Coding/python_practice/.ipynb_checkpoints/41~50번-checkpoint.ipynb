{
 "cells": [
  {
   "cell_type": "code",
   "execution_count": 1,
   "metadata": {},
   "outputs": [
    {
     "name": "stdout",
     "output_type": "stream",
     "text": [
      "BTC_KRW\n"
     ]
    }
   ],
   "source": [
    "# 041 upper 메서드\n",
    "\n",
    "# 다음과 같은 문자열이 있을 때 이를 대문자 BTC_KRW 로 변경\n",
    "\n",
    "ticker = \"btc_krw\"\n",
    "print(ticker.upper())"
   ]
  },
  {
   "cell_type": "code",
   "execution_count": 2,
   "metadata": {},
   "outputs": [
    {
     "name": "stdout",
     "output_type": "stream",
     "text": [
      "btc_krw\n"
     ]
    }
   ],
   "source": [
    "# 042 lower 메서드\n",
    "\n",
    "# 다음과 같은 문자열이 있을 때 이를 문자열 btc_krw 로 변경\n",
    "\n",
    "ticker = 'BTC_KRW'\n",
    "print(ticker.lower())"
   ]
  },
  {
   "cell_type": "code",
   "execution_count": 4,
   "metadata": {},
   "outputs": [
    {
     "name": "stdout",
     "output_type": "stream",
     "text": [
      "Hello\n"
     ]
    }
   ],
   "source": [
    "# 043 capitalize 메서드\n",
    "\n",
    "# 문자열 'hello' 가 있을 때 이를 'Hello' 로 변경\n",
    "\n",
    "a = 'hello'\n",
    "print(a.capitalize())"
   ]
  },
  {
   "cell_type": "code",
   "execution_count": 6,
   "metadata": {},
   "outputs": [
    {
     "name": "stdout",
     "output_type": "stream",
     "text": [
      "True\n"
     ]
    }
   ],
   "source": [
    "# 044 endswith 메서드\n",
    "\n",
    "# 파일 이름이 문자열로 저장되어 있을 때 endswith 메서드를 사용해서 \n",
    "# 파일 이름이 'xlsx' 로 끝나는지 확인\n",
    "\n",
    "file_name = '보고서.xlsx'\n",
    "print(file_name.endswith('xlsx'))"
   ]
  },
  {
   "cell_type": "code",
   "execution_count": 7,
   "metadata": {},
   "outputs": [
    {
     "name": "stdout",
     "output_type": "stream",
     "text": [
      "True\n"
     ]
    }
   ],
   "source": [
    "# 045 endswith 메서드\n",
    "\n",
    "# 파일 이름이 문자열로 저장되어 있을 때 endswith 메서드를 사용해서 \n",
    "# 파일 이름이 'xlsx' 로 끝나는지 확인\n",
    "\n",
    "file_name = \"보고서.xlsx\"\n",
    "print(file_name.endswith('xlsx'))"
   ]
  },
  {
   "cell_type": "code",
   "execution_count": 8,
   "metadata": {},
   "outputs": [
    {
     "name": "stdout",
     "output_type": "stream",
     "text": [
      "True\n"
     ]
    }
   ],
   "source": [
    "# 046 startswith 메서드\n",
    "\n",
    "# 파일 이름이 문자열로 저장되어 있을 때 startswith 메서드를 사용해서\n",
    "# 파일 이름이 '2020' 으로 시작하는지 확인\n",
    "\n",
    "file_name = \"2020_보고서.xlsx\"\n",
    "print(file_name.startswith('2020'))"
   ]
  },
  {
   "cell_type": "code",
   "execution_count": 11,
   "metadata": {},
   "outputs": [
    {
     "name": "stdout",
     "output_type": "stream",
     "text": [
      "['hello', 'world']\n"
     ]
    }
   ],
   "source": [
    "# 047 split 메서드\n",
    "\n",
    "# 다음과 같이 문자열이 있을 때 공백을 기준으로 문자열을 나누기\n",
    "\n",
    "a = \"hello world\"\n",
    "print(a.split())"
   ]
  },
  {
   "cell_type": "code",
   "execution_count": 10,
   "metadata": {},
   "outputs": [
    {
     "name": "stdout",
     "output_type": "stream",
     "text": [
      "['btc', 'krw']\n"
     ]
    }
   ],
   "source": [
    "# 048 split 메서드\n",
    "\n",
    "# 다음과 같이 문자열이 있을 때 btc 와 krw 로 나눠보기\n",
    "\n",
    "ticker = \"btc_krw\"\n",
    "print(ticker.split(\"_\"))"
   ]
  },
  {
   "cell_type": "code",
   "execution_count": 12,
   "metadata": {},
   "outputs": [
    {
     "name": "stdout",
     "output_type": "stream",
     "text": [
      "['2020', '05', '01']\n"
     ]
    }
   ],
   "source": [
    "# 049 split 메서드\n",
    "\n",
    "# 다음과 같이 날짜를 표현하는 문자열이 있을 때\n",
    "# 연도, 월, 일로 나누기\n",
    "\n",
    "data = \"2020-05-01\"\n",
    "print(data.split('-'))"
   ]
  },
  {
   "cell_type": "code",
   "execution_count": 15,
   "metadata": {},
   "outputs": [
    {
     "name": "stdout",
     "output_type": "stream",
     "text": [
      "039490\n"
     ]
    }
   ],
   "source": [
    "# 050 rstrip 메서드\n",
    "\n",
    "# 문자열의 오른쪽에 공백이 있을 때 이를 제거\n",
    "\n",
    "data = '039490     '\n",
    "print(data.rstrip())"
   ]
  }
 ],
 "metadata": {
  "kernelspec": {
   "display_name": "aiffel",
   "language": "python",
   "name": "aiffel"
  },
  "language_info": {
   "codemirror_mode": {
    "name": "ipython",
    "version": 3
   },
   "file_extension": ".py",
   "mimetype": "text/x-python",
   "name": "python",
   "nbconvert_exporter": "python",
   "pygments_lexer": "ipython3",
   "version": "3.7.9"
  }
 },
 "nbformat": 4,
 "nbformat_minor": 4
}
