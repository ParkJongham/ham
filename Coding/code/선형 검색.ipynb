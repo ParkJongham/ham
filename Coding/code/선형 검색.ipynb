{
 "cells": [
  {
   "cell_type": "code",
   "execution_count": 9,
   "metadata": {},
   "outputs": [
    {
     "name": "stdin",
     "output_type": "stream",
     "text": [
      "원소 수를 입력하세요. :  5\n",
      "x[0] :  1\n",
      "x[1] :  2\n",
      "x[2] :  3\n",
      "x[3] :  4\n",
      "x[4] :  5\n",
      "검색할 값을 입력하세요. :  1\n"
     ]
    },
    {
     "name": "stdout",
     "output_type": "stream",
     "text": [
      "검색 값은 x[0]에 있습니다.\n"
     ]
    }
   ],
   "source": [
    "# 1. while 문을 통한 선형 검색\n",
    "\n",
    "from typing import Any, Sequence\n",
    "\n",
    "def seq_search(a : Sequence, key : Any) -> int : \n",
    "    '''시퀀스 a에서 key와 값이 같은 원소를 선형 검색'''\n",
    "    \n",
    "    i = 0\n",
    "    \n",
    "    while True : \n",
    "        # 검색 실패 시 -1을 반환\n",
    "        if i == len(a) : \n",
    "            return -1\n",
    "        \n",
    "        # 검색 성공 시 배열의 인덱스 값을 반환\n",
    "        if a[i] ==key : \n",
    "            return i \n",
    "        \n",
    "        i += 1\n",
    "        \n",
    "if __name__ == '__main__' : \n",
    "    num = int(input('원소 수를 입력하세요. : '))\n",
    "    x = [None] * num\n",
    "    \n",
    "    for i in range(num) : \n",
    "        x[i] = int(input(f'x[{i}] : '))\n",
    "        \n",
    "    ky = int(input('검색할 값을 입력하세요. : '))\n",
    "    \n",
    "    idx = seq_search(x, ky)\n",
    "    \n",
    "    if idx == -1 :\n",
    "        print('검색 값을 갖는 원소가 존재하지 않습니다.')\n",
    "        \n",
    "    else : \n",
    "            print(f'검색 값은 x[{idx}]에 있습니다.')"
   ]
  },
  {
   "cell_type": "code",
   "execution_count": 10,
   "metadata": {},
   "outputs": [
    {
     "name": "stdout",
     "output_type": "stream",
     "text": [
      "실수를 검색합니다.\n",
      "주의 : \"End\"를 입력하면 종료합니다.\n"
     ]
    },
    {
     "name": "stdin",
     "output_type": "stream",
     "text": [
      "x[0] :  1\n",
      "x[1] :  2\n",
      "x[2] :  3\n",
      "x[3] :  4\n",
      "x[4] :  5\n",
      "x[5] :  End\n",
      "검색할 값을 입력하세요. :  3\n"
     ]
    },
    {
     "name": "stdout",
     "output_type": "stream",
     "text": [
      "검색값은 x[2]에 있습니다.\n"
     ]
    }
   ],
   "source": [
    "# 2. 다양한 자료에서 while 을 통한 선형검색\n",
    "\n",
    "print('실수를 검색합니다.')\n",
    "print('주의 : \"End\"를 입력하면 종료합니다.')\n",
    "\n",
    "number = 0\n",
    "x = []\n",
    "\n",
    "while True : \n",
    "    s = input(f'x[{number}] : ')\n",
    "    if s == 'End' : \n",
    "        break\n",
    "        \n",
    "    # 배열 맨 끝에 원소를 추가    \n",
    "    x.append(float(s))\n",
    "    number += 1\n",
    "    \n",
    "ky = float(input('검색할 값을 입력하세요. : '))\n",
    "\n",
    "idx = seq_search(x, ky)\n",
    "\n",
    "if idx == -1 : \n",
    "    print('검색값을 갖는 원소가 존재하지 않습니다.')\n",
    "\n",
    "else : \n",
    "    print(f'검색값은 x[{idx}]에 있습니다.')"
   ]
  },
  {
   "cell_type": "code",
   "execution_count": 11,
   "metadata": {},
   "outputs": [
    {
     "name": "stdin",
     "output_type": "stream",
     "text": [
      "원소 수를 입력하세요. :  2\n",
      "x[0] :  5\n",
      "x[1] :  6\n",
      "검색할 값을 입력하세요. :  7\n"
     ]
    },
    {
     "name": "stdout",
     "output_type": "stream",
     "text": [
      "검색 값을 갖는 원소가 없습니다.\n"
     ]
    }
   ],
   "source": [
    "# 3. 보초법을 통한 선형검색\n",
    "\n",
    "from typing import Any, Sequence\n",
    "import copy\n",
    "\n",
    "def seq_search(seq : Sequence, key : Any) -> int : \n",
    "    '''시퀀스 seq에서 key와 일치하는 원소를 선형 검색'''\n",
    "    \n",
    "    # seq 를 깊은 복사\n",
    "    a = copy.deepcopy(seq)\n",
    "    \n",
    "    # 보초 key 를 추가\n",
    "    a.append(key)\n",
    "    \n",
    "    i = 0\n",
    "    \n",
    "    # 검색에 성공하면 while문 종료\n",
    "    while True : \n",
    "        if a[i] == key : \n",
    "            break\n",
    "        \n",
    "        i += 1\n",
    "    return -1 if i == len(seq) else i\n",
    "\n",
    "if __name__ == '__main__' : \n",
    "    num = int(input('원소 수를 입력하세요. : '))\n",
    "    x = [None] * num\n",
    "    \n",
    "    for i in range(num) : \n",
    "        x[i] = int(input(f'x[{i}] : '))\n",
    "        \n",
    "    ky = int(input('검색할 값을 입력하세요. : '))\n",
    "    \n",
    "    idx = seq_search(x, ky)\n",
    "    \n",
    "    if idx == -1 : \n",
    "        print('검색 값을 갖는 원소가 없습니다.')\n",
    "    \n",
    "    else : \n",
    "        print(f'검색 값은 x[{idx}]에 있습니다.')"
   ]
  },
  {
   "cell_type": "code",
   "execution_count": 5,
   "metadata": {},
   "outputs": [],
   "source": [
    "# 4. for문을 이용한 선형 검색\n",
    "\n",
    "from typing import Any, Sequence\n",
    "\n",
    "def seq_search(a : Sequence, key : Any) -> int : \n",
    "    '''시퀀스 a에서 Key와 같은 원소를 선헝 검색'''\n",
    "    \n",
    "    for i in range(len(a)) : \n",
    "        if a[i] == key :\n",
    "            \n",
    "            # 검색에 성공하여 해당 값의 인덱스를 반환\n",
    "            return i\n",
    "        \n",
    "    # 검색에 실패하여 -1을 반환\n",
    "    return -1"
   ]
  }
 ],
 "metadata": {
  "kernelspec": {
   "display_name": "Python 3",
   "language": "python",
   "name": "python3"
  },
  "language_info": {
   "codemirror_mode": {
    "name": "ipython",
    "version": 3
   },
   "file_extension": ".py",
   "mimetype": "text/x-python",
   "name": "python",
   "nbconvert_exporter": "python",
   "pygments_lexer": "ipython3",
   "version": "3.8.5"
  }
 },
 "nbformat": 4,
 "nbformat_minor": 4
}
