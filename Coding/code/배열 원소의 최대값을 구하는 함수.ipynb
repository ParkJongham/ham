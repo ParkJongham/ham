{
 "cells": [
  {
   "cell_type": "code",
   "execution_count": 3,
   "metadata": {},
   "outputs": [
    {
     "name": "stdout",
     "output_type": "stream",
     "text": [
      "배열의 최대값을 구합니다.\n"
     ]
    },
    {
     "name": "stdin",
     "output_type": "stream",
     "text": [
      "원소 수를 입력하세요. :  4\n",
      "x[0]값을 입력하세요. :  1\n",
      "x[1]값을 입력하세요. :  5\n",
      "x[2]값을 입력하세요. :  3\n",
      "x[3]값을 입력하세요. :  6\n"
     ]
    },
    {
     "name": "stdout",
     "output_type": "stream",
     "text": [
      "최대값은 6입니다.\n"
     ]
    }
   ],
   "source": [
    "from typing import Any, Sequence\n",
    "\n",
    "def max_of(a : Sequence) -> Any : \n",
    "    '''시퀀스형 a원소의 최대값 반환'''\n",
    "    maximum = a[0]\n",
    "    for i in range(1, len(a)) : \n",
    "        if a[i] > maximum : \n",
    "            maximum = a[i]\n",
    "            \n",
    "    return maximum\n",
    "\n",
    "if __name__ == '__main__' : \n",
    "    print('배열의 최대값을 구합니다.')\n",
    "    num = int(input('원소 수를 입력하세요. : '))\n",
    "    x = [None] * num\n",
    "    \n",
    "    for i in range(num) : \n",
    "        x[i] = int(input(f'x[{i}]값을 입력하세요. : '))\n",
    "        \n",
    "    print(f'최대값은 {max_of(x)}입니다.')"
   ]
  },
  {
   "cell_type": "code",
   "execution_count": 6,
   "metadata": {},
   "outputs": [
    {
     "name": "stdout",
     "output_type": "stream",
     "text": [
      "난수의 최대값을 구합니다.\n"
     ]
    },
    {
     "name": "stdin",
     "output_type": "stream",
     "text": [
      "난수의 개수를 입력하세요. :  4\n",
      "난수의 최소값을 입력하세요. :  1\n",
      "난수의 최대값을 입력하세요. :  19\n"
     ]
    },
    {
     "name": "stdout",
     "output_type": "stream",
     "text": [
      "[13, 7, 10, 10]\n",
      "이 가운데 최대값은 13입니다.\n"
     ]
    }
   ],
   "source": [
    "# 배열의 원소값이 난수인 배열의 최대값을 구하는 함수\n",
    "\n",
    "import random\n",
    "\n",
    "print('난수의 최대값을 구합니다.')\n",
    "num = int(input('난수의 개수를 입력하세요. : '))\n",
    "lo = int(input('난수의 최소값을 입력하세요. : '))\n",
    "hi = int(input('난수의 최대값을 입력하세요. : '))\n",
    "x = [None] * num\n",
    "\n",
    "for i in range(num) : \n",
    "    x[i] = random.randint(lo, hi)\n",
    "    \n",
    "print(f'{(x)}')\n",
    "print(f'이 가운데 최대값은 {max_of(x)}입니다.')"
   ]
  }
 ],
 "metadata": {
  "kernelspec": {
   "display_name": "Python 3",
   "language": "python",
   "name": "python3"
  },
  "language_info": {
   "codemirror_mode": {
    "name": "ipython",
    "version": 3
   },
   "file_extension": ".py",
   "mimetype": "text/x-python",
   "name": "python",
   "nbconvert_exporter": "python",
   "pygments_lexer": "ipython3",
   "version": "3.8.5"
  }
 },
 "nbformat": 4,
 "nbformat_minor": 4
}
