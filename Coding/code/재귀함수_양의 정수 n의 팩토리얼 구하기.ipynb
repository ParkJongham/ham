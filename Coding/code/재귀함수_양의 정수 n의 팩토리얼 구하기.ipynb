{
 "cells": [
  {
   "cell_type": "code",
   "execution_count": 1,
   "metadata": {},
   "outputs": [
    {
     "name": "stdout",
     "output_type": "stream",
     "text": [
      "출력할 팩토리얼값을 입력하세요. : 4\n",
      "4의 팩토리얼은 24입니다.\n"
     ]
    }
   ],
   "source": [
    "# 양의 정수 n 의 팩토리얼 구하기\n",
    "\n",
    "def factorial(n : int) -> int : \n",
    "    '''양의 정수 n 의 팩토리얼 값을 재귀적으로 구함'''\n",
    "    \n",
    "    if n > 0 : \n",
    "        return n * factorial(n - 1)\n",
    "    \n",
    "    else : \n",
    "        return 1\n",
    "    \n",
    "\n",
    "if __name__ == '__main__' : \n",
    "    n = int(input('출력할 팩토리얼값을 입력하세요. : '))\n",
    "    print(f'{n}의 팩토리얼은 {factorial(n)}입니다.')"
   ]
  },
  {
   "cell_type": "code",
   "execution_count": null,
   "metadata": {},
   "outputs": [],
   "source": []
  }
 ],
 "metadata": {
  "kernelspec": {
   "display_name": "aiffel",
   "language": "python",
   "name": "aiffel"
  },
  "language_info": {
   "codemirror_mode": {
    "name": "ipython",
    "version": 3
   },
   "file_extension": ".py",
   "mimetype": "text/x-python",
   "name": "python",
   "nbconvert_exporter": "python",
   "pygments_lexer": "ipython3",
   "version": "3.7.9"
  }
 },
 "nbformat": 4,
 "nbformat_minor": 4
}
