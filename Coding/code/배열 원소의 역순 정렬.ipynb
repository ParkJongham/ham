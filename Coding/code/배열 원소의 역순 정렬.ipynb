{
 "cells": [
  {
   "cell_type": "code",
   "execution_count": 2,
   "metadata": {},
   "outputs": [
    {
     "name": "stdout",
     "output_type": "stream",
     "text": [
      "배열의 원소를 역순으로 정렬합니다.\n"
     ]
    },
    {
     "name": "stdin",
     "output_type": "stream",
     "text": [
      "원소 수를 입력하세요. :  5\n",
      "x[0]값을 입력하세요. :  1\n",
      "x[1]값을 입력하세요. :  2\n",
      "x[2]값을 입력하세요. :  6\n",
      "x[3]값을 입력하세요. :  7\n",
      "x[4]값을 입력하세요. :  8\n"
     ]
    },
    {
     "name": "stdout",
     "output_type": "stream",
     "text": [
      "배열 원소를 역순으로 정렬했습니다.\n",
      "x[0] = 8\n",
      "x[1] = 7\n",
      "x[2] = 6\n",
      "x[3] = 2\n",
      "x[4] = 1\n"
     ]
    }
   ],
   "source": [
    "from typing import Any, MutableSequence\n",
    "\n",
    "def reverse_array(a : MutableSequence) -> None : \n",
    "    '''뮤터블 시퀀스 a의 원소를 역순으로 정렬'''\n",
    "    n = len(a)\n",
    "    for i in range(n//2) : \n",
    "        a[i], a[n-i-1] = a[n-1-i], a[i]\n",
    "        \n",
    "if __name__ == '__main__' : \n",
    "    print('배열의 원소를 역순으로 정렬합니다.')\n",
    "    nx = int(input('원소 수를 입력하세요. : '))\n",
    "    x = [None] * nx\n",
    "    \n",
    "    for i in range(nx) : \n",
    "        x[i] = int(input(f'x[{i}]값을 입력하세요. : '))\n",
    "        \n",
    "    reverse_array(x)\n",
    "    \n",
    "    print('배열 원소를 역순으로 정렬했습니다.')\n",
    "    for i in range(nx) : \n",
    "        print(f'x[{i}] = {x[i]}')"
   ]
  },
  {
   "cell_type": "code",
   "execution_count": 9,
   "metadata": {},
   "outputs": [
    {
     "name": "stdout",
     "output_type": "stream",
     "text": [
      "리스트 x :  [1, 2, 3, 4, 5]\n",
      "리스트 x의 역순 정렬 :  [5, 4, 3, 2, 1]\n",
      "리시트 x의 역순 정렬 :  [1, 2, 3, 4, 5]\n"
     ]
    }
   ],
   "source": [
    "# 파이썬 라이브러리를 활용한 리스트 역순 정렬\n",
    "\n",
    "x = [1,2,3,4,5]\n",
    "print('리스트 x : ', x)\n",
    "\n",
    "# 1.\n",
    "x.reverse()\n",
    "print('리스트 x의 역순 정렬 : ', x)\n",
    "\n",
    "# 2.\n",
    "y = list(reversed(x))\n",
    "print('리시트 x의 역순 정렬 : ', y)"
   ]
  }
 ],
 "metadata": {
  "kernelspec": {
   "display_name": "Python 3",
   "language": "python",
   "name": "python3"
  },
  "language_info": {
   "codemirror_mode": {
    "name": "ipython",
    "version": 3
   },
   "file_extension": ".py",
   "mimetype": "text/x-python",
   "name": "python",
   "nbconvert_exporter": "python",
   "pygments_lexer": "ipython3",
   "version": "3.8.5"
  }
 },
 "nbformat": 4,
 "nbformat_minor": 4
}
