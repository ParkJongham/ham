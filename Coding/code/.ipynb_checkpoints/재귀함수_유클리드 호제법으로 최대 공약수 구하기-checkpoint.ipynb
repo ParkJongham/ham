{
 "cells": [
  {
   "cell_type": "code",
   "execution_count": 3,
   "metadata": {},
   "outputs": [
    {
     "name": "stdout",
     "output_type": "stream",
     "text": [
      "두 정숫값의 최대 공약수를 구합니다.\n",
      "첫 번째 정숫값을 입력하세요. : 13546\n",
      "두 번째 정숫값을 입력하세요. : 12548\n",
      "두 정숫값의 최대 공약수는  2 입니다.\n"
     ]
    }
   ],
   "source": [
    "# 유클리드 호제법으로 최대 공약수 구하기\n",
    "\n",
    "def gcd(x : int, y : int) -> int : \n",
    "    '''정숫값 x 와 y 의 최대 공약수를 반환'''\n",
    "    \n",
    "    if y == 0 : \n",
    "        return x\n",
    "    \n",
    "    else :\n",
    "        return gcd(y, x % y)\n",
    "    \n",
    "    \n",
    "if __name__ == '__main__' : \n",
    "    print('두 정숫값의 최대 공약수를 구합니다.')\n",
    "    \n",
    "    x = int(input('첫 번째 정숫값을 입력하세요. : '))\n",
    "    y = int(input('두 번째 정숫값을 입력하세요. : '))\n",
    "    \n",
    "    print(f'두 정숫값의 최대 공약수는  {gcd(x, y)} 입니다.')"
   ]
  },
  {
   "cell_type": "code",
   "execution_count": null,
   "metadata": {},
   "outputs": [],
   "source": []
  }
 ],
 "metadata": {
  "kernelspec": {
   "display_name": "aiffel",
   "language": "python",
   "name": "aiffel"
  },
  "language_info": {
   "codemirror_mode": {
    "name": "ipython",
    "version": 3
   },
   "file_extension": ".py",
   "mimetype": "text/x-python",
   "name": "python",
   "nbconvert_exporter": "python",
   "pygments_lexer": "ipython3",
   "version": "3.7.9"
  }
 },
 "nbformat": 4,
 "nbformat_minor": 4
}
