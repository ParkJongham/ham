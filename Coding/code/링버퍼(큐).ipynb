{
 "cells": [
  {
   "cell_type": "code",
   "execution_count": 1,
   "metadata": {},
   "outputs": [
    {
     "name": "stdin",
     "output_type": "stream",
     "text": [
      "정수를 몇 개 저장할 까요? :  10\n",
      "1번째 정수를 입력하세요. :  15\n",
      "계속 할까요? (Y ... Yes / N ... No) :  Y\n",
      "2번째 정수를 입력하세요. :  17\n",
      "계속 할까요? (Y ... Yes / N ... No) :  Y\n",
      "3번째 정수를 입력하세요. :  85\n",
      "계속 할까요? (Y ... Yes / N ... No) :  N\n"
     ]
    },
    {
     "name": "stdout",
     "output_type": "stream",
     "text": [
      "1번째 = 15\n",
      "2번째 = 17\n",
      "3번째 = 85\n"
     ]
    }
   ],
   "source": [
    "# 원하는 개수(n)만큼 값을 입력받아 마지막 n개를 저장\n",
    "\n",
    "n = int(input('정수를 몇 개 저장할 까요? : '))\n",
    "a = [None] * n    # 입력받은 값을 저장하는 배열\n",
    "\n",
    "cnt = 0    # 정수를 입력받은 개수\n",
    "while True : \n",
    "    a[cnt % n] = int(input((f'{cnt + 1}번째 정수를 입력하세요. : ')))\n",
    "    cnt += 1\n",
    "    \n",
    "    retry = input(f'계속 할까요? (Y ... Yes / N ... No) : ')\n",
    "    if retry in {'N', 'n'} :    # N이나 n을 입력하면 더 이상 값을 받지 않음\n",
    "        break\n",
    "        \n",
    "i = cnt - n\n",
    "if i < 0 : i = 0\n",
    "    \n",
    "while i < cnt : \n",
    "    print(f'{i + 1}번째 = {a[i % n]}')\n",
    "    i += 1"
   ]
  }
 ],
 "metadata": {
  "kernelspec": {
   "display_name": "Python 3",
   "language": "python",
   "name": "python3"
  },
  "language_info": {
   "codemirror_mode": {
    "name": "ipython",
    "version": 3
   },
   "file_extension": ".py",
   "mimetype": "text/x-python",
   "name": "python",
   "nbconvert_exporter": "python",
   "pygments_lexer": "ipython3",
   "version": "3.8.5"
  }
 },
 "nbformat": 4,
 "nbformat_minor": 4
}
