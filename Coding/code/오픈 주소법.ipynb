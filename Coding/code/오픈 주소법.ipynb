{
 "cells": [
  {
   "cell_type": "code",
   "execution_count": 4,
   "metadata": {},
   "outputs": [
    {
     "name": "stdout",
     "output_type": "stream",
     "text": [
      "(1)추가  (2)삭제  (3)검색  (4)덤프  (5)종료"
     ]
    },
    {
     "name": "stdin",
     "output_type": "stream",
     "text": [
      ":  1\n",
      "추가할 키를 입력하세요.:  1\n",
      "추가할 값을 입력하세요.:  수연\n"
     ]
    },
    {
     "name": "stdout",
     "output_type": "stream",
     "text": [
      "(1)추가  (2)삭제  (3)검색  (4)덤프  (5)종료"
     ]
    },
    {
     "name": "stdin",
     "output_type": "stream",
     "text": [
      ":  1\n",
      "추가할 키를 입력하세요.:  5\n",
      "추가할 값을 입력하세요.:  동혁\n"
     ]
    },
    {
     "name": "stdout",
     "output_type": "stream",
     "text": [
      "(1)추가  (2)삭제  (3)검색  (4)덤프  (5)종료"
     ]
    },
    {
     "name": "stdin",
     "output_type": "stream",
     "text": [
      ":  1\n",
      "추가할 키를 입력하세요.:  10\n",
      "추가할 값을 입력하세요.:  예지\n"
     ]
    },
    {
     "name": "stdout",
     "output_type": "stream",
     "text": [
      "(1)추가  (2)삭제  (3)검색  (4)덤프  (5)종료"
     ]
    },
    {
     "name": "stdin",
     "output_type": "stream",
     "text": [
      ":  1\n",
      "추가할 키를 입력하세요.:  12\n",
      "추가할 값을 입력하세요.:  원준\n"
     ]
    },
    {
     "name": "stdout",
     "output_type": "stream",
     "text": [
      "(1)추가  (2)삭제  (3)검색  (4)덤프  (5)종료"
     ]
    },
    {
     "name": "stdin",
     "output_type": "stream",
     "text": [
      ":  1\n",
      "추가할 키를 입력하세요.:  14\n",
      "추가할 값을 입력하세요.:  민서\n"
     ]
    },
    {
     "name": "stdout",
     "output_type": "stream",
     "text": [
      "(1)추가  (2)삭제  (3)검색  (4)덤프  (5)종료"
     ]
    },
    {
     "name": "stdin",
     "output_type": "stream",
     "text": [
      ":  3\n",
      "검색할 키를 입력하세요.:  5\n"
     ]
    },
    {
     "name": "stdout",
     "output_type": "stream",
     "text": [
      "검색한 키를 갖는 값은 동혁입니다.\n",
      "(1)추가  (2)삭제  (3)검색  (4)덤프  (5)종료"
     ]
    },
    {
     "name": "stdin",
     "output_type": "stream",
     "text": [
      ":  4\n"
     ]
    },
    {
     "name": "stdout",
     "output_type": "stream",
     "text": [
      " 0 -- 미등록 --\n",
      " 1 1 (수연)\n",
      " 2 14 (민서)\n",
      " 3 -- 미등록 --\n",
      " 4 -- 미등록 --\n",
      " 5 5 (동혁)\n",
      " 6 -- 미등록 --\n",
      " 7 -- 미등록 --\n",
      " 8 -- 미등록 --\n",
      " 9 -- 미등록 --\n",
      "10 10 (예지)\n",
      "11 -- 미등록 --\n",
      "12 12 (원준)\n",
      "(1)추가  (2)삭제  (3)검색  (4)덤프  (5)종료"
     ]
    },
    {
     "name": "stdin",
     "output_type": "stream",
     "text": [
      ":  2\n",
      "삭제할 키를 입력하세요.:  14\n"
     ]
    },
    {
     "name": "stdout",
     "output_type": "stream",
     "text": [
      "(1)추가  (2)삭제  (3)검색  (4)덤프  (5)종료"
     ]
    },
    {
     "name": "stdin",
     "output_type": "stream",
     "text": [
      ":  4\n"
     ]
    },
    {
     "name": "stdout",
     "output_type": "stream",
     "text": [
      " 0 -- 미등록 --\n",
      " 1 1 (수연)\n",
      " 2 -- 삭제 완료 --\n",
      " 3 -- 미등록 --\n",
      " 4 -- 미등록 --\n",
      " 5 5 (동혁)\n",
      " 6 -- 미등록 --\n",
      " 7 -- 미등록 --\n",
      " 8 -- 미등록 --\n",
      " 9 -- 미등록 --\n",
      "10 10 (예지)\n",
      "11 -- 미등록 --\n",
      "12 12 (원준)\n",
      "(1)추가  (2)삭제  (3)검색  (4)덤프  (5)종료"
     ]
    },
    {
     "name": "stdin",
     "output_type": "stream",
     "text": [
      ":  5\n"
     ]
    }
   ],
   "source": [
    "# 오픈 주소법으로 해시 함수 구현하기\n",
    "\n",
    "from __future__ import annotations\n",
    "from typing import Any, Type\n",
    "from enum import Enum\n",
    "import hashlib\n",
    "\n",
    "# 버킷의 속성\n",
    "class Status(Enum):\n",
    "    OCCUPIED = 0  # 데이터를 저장\n",
    "    EMPTY = 1     # 비어 있음\n",
    "    DELETED = 2   # 삭제 완료\n",
    "\n",
    "class Bucket:\n",
    "    \"\"\"해시를 구성하는 버킷\"\"\"\n",
    "\n",
    "    def __init__(self, key: Any = None, value: Any = None,\n",
    "                       stat: Status = Status.EMPTY) -> None:\n",
    "        \"\"\"초기화\"\"\"\n",
    "        self.key = key      # 키\n",
    "        self.value = value  # 값\n",
    "        self.stat = stat    # 속성\n",
    "\n",
    "    def set(self, key: Any, value: Any, stat: Status) -> None:\n",
    "        \"\"\"모든 필드에 값을 설정\"\"\"\n",
    "        self.key = key      # 키\n",
    "        self.value = value  # 값\n",
    "        self.stat = stat    # 속성\n",
    "\n",
    "    def set_status(self, stat: Status) -> None:\n",
    "        \"\"\"속성을 설정\"\"\"\n",
    "        self.stat = stat\n",
    "\n",
    "class OpenHash:\n",
    "    \"\"\"오픈 주소법을 구현하는 해시 클래스\"\"\"\n",
    "\n",
    "    def __init__(self, capacity: int) -> None:\n",
    "        \"\"\"초기화\"\"\"\n",
    "        self.capacity = capacity                 # 해시 테이블의 크기를 지정\n",
    "        self.table = [Bucket()] * self.capacity  # 해시 테이블\n",
    "\n",
    "    def hash_value(self, key: Any) -> int:\n",
    "        \"\"\"해시값을 구함\"\"\"\n",
    "        if isinstance(key, int):\n",
    "            return key % self.capacity\n",
    "        return(int(hashlib.md5(str(key).encode()).hexdigest(), 16)\n",
    "                % self.capacity)\n",
    "\n",
    "    def rehash_value(self, key: Any) -> int:\n",
    "        \"\"\"재해시값을 구함\"\"\"\n",
    "        return(self.hash_value(key) + 1) % self.capacity\n",
    "\n",
    "    def search_node(self, key: Any) -> Any:\n",
    "        \"\"\"키가 key인 버킷을 검색\"\"\"\n",
    "        hash = self.hash_value(key)  # 검색하는 키의 해시값\n",
    "        p = self.table[hash]         # 버킷을 주목\n",
    "\n",
    "        for i in range(self.capacity):\n",
    "            if p.stat == Status.EMPTY:\n",
    "                break\n",
    "            elif p.stat == Status.OCCUPIED and p.key == key:\n",
    "                return p\n",
    "            hash = self.rehash_value(hash)  # 재해시\n",
    "            p = self.table[hash]\n",
    "        return None\n",
    "\n",
    "    def search(self, key: Any) -> Any:\n",
    "        \"\"\"키가 key인 갖는 원소를 검색하여 값을 반환\"\"\"\n",
    "        p = self.search_node(key)\n",
    "        if p is not None:\n",
    "            return p.value  # 검색 성공\n",
    "        else:\n",
    "            return None     # 검색 실패\n",
    "\n",
    "    def add(self, key: Any, value: Any) -> bool:\n",
    "        \"\"\"키가 key이고 값이 value인 요소를 추가\"\"\"\n",
    "        if self.search(key) is not None:\n",
    "            return False             # 이미 등록된 키\n",
    "\n",
    "        hash = self.hash_value(key)  # 추가하는 키의 해시값\n",
    "        p = self.table[hash]         # 버킷을 주목\n",
    "        for i in range(self.capacity):\n",
    "            if p.stat == Status.EMPTY or p.stat == Status.DELETED:\n",
    "                self.table[hash] = Bucket(key, value, Status.OCCUPIED)\n",
    "                return True\n",
    "            hash = self.rehash_value(hash)  # 재해시\n",
    "            p = self.table[hash]\n",
    "        return False                        # 해시 테이블이 가득 참\n",
    "\n",
    "    def remove(self, key: Any) -> int:\n",
    "        \"\"\"키가 key인 갖는 요소를 삭제\"\"\"\n",
    "        p = self.search_node(key)  # 버킷을 주목\n",
    "        if p is None:\n",
    "            return False           # 이 키는 등록되어 있지 않음\n",
    "        p.set_status(Status.DELETED)\n",
    "        return True\n",
    "\n",
    "    def dump(self) -> None:\n",
    "        \"\"\"해시 테이블을 덤프\"\"\"\n",
    "        for i in range(self.capacity):\n",
    "            print(f'{i:2} ', end='')\n",
    "            if self.table[i].stat == Status.OCCUPIED:\n",
    "                print(f'{self.table[i].key} ({self.table[i].value})')\n",
    "            elif self.table[i].stat == Status.EMPTY:\n",
    "                print('-- 미등록 --')\n",
    "            elif self.table[i] .stat == Status.DELETED:\n",
    "                print('-- 삭제 완료 --')\n",
    "                \n",
    "\n",
    "# 오픈 주소법을 구현하는 해시 클래스 OpenHash 사용\n",
    "\n",
    "from enum import Enum\n",
    "\n",
    "Menu = Enum('Menu', ['추가', '삭제', '검색', '덤프', '종료'])\n",
    "\n",
    "def select_menu() -> Menu:\n",
    "    \"\"\"메뉴 선택\"\"\"\n",
    "    s = [f'({m.value}){m.name}' for m in Menu]\n",
    "    while True:\n",
    "        print(*s, sep = '  ', end='')\n",
    "        n = int(input(': '))\n",
    "        if 1 <=  n <= len(Menu):\n",
    "            return Menu(n)\n",
    "\n",
    "hash = OpenHash(13)  # 크기가 13인 해시 테이블 생성\n",
    "\n",
    "while True:\n",
    "    menu = select_menu()  # 메뉴 선택\n",
    "\n",
    "    if menu == Menu.추가:  # 추가\n",
    "        key = int(input('추가할 키를 입력하세요.: '))\n",
    "        val = input('추가할 값을 입력하세요.: ')\n",
    "        if not hash.add(key, val):\n",
    "            print('추가를 실패했습니다!')\n",
    "\n",
    "    elif menu == Menu.삭제:  # 삭제\n",
    "        key = int(input('삭제할 키를 입력하세요.: '))\n",
    "        if not hash.remove(key):\n",
    "            print('삭제를 실패했습니다!')\n",
    "\n",
    "    elif menu == Menu.검색:  # 검색\n",
    "        key = int(input('검색할 키를 입력하세요.: '))\n",
    "        t = hash.search(key)\n",
    "        if t is not None:\n",
    "            print(f'검색한 키를 갖는 값은 {t}입니다.')\n",
    "        else:\n",
    "            print('검색할 데이터가 없습니다.')\n",
    "\n",
    "    elif menu == Menu.덤프:  # 덤프\n",
    "        hash.dump()\n",
    "\n",
    "    else:  # 종료\n",
    "        break"
   ]
  }
 ],
 "metadata": {
  "kernelspec": {
   "display_name": "Python 3",
   "language": "python",
   "name": "python3"
  },
  "language_info": {
   "codemirror_mode": {
    "name": "ipython",
    "version": 3
   },
   "file_extension": ".py",
   "mimetype": "text/x-python",
   "name": "python",
   "nbconvert_exporter": "python",
   "pygments_lexer": "ipython3",
   "version": "3.8.5"
  }
 },
 "nbformat": 4,
 "nbformat_minor": 4
}
