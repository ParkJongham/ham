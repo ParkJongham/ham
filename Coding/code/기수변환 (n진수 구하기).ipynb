{
 "cells": [
  {
   "cell_type": "code",
   "execution_count": 8,
   "metadata": {},
   "outputs": [
    {
     "name": "stdout",
     "output_type": "stream",
     "text": [
      "10진수를 n진수로 변환합니다.\n"
     ]
    },
    {
     "name": "stdin",
     "output_type": "stream",
     "text": [
      "변환할 값으로 음이 아닌 정수를 입력하세요. :  2\n",
      "어떤 진수로 변환할까요? :  10\n"
     ]
    },
    {
     "name": "stdout",
     "output_type": "stream",
     "text": [
      "10진수로는 2입니다.\n"
     ]
    },
    {
     "name": "stdin",
     "output_type": "stream",
     "text": [
      "한 번 더 변환할까요? (Y ... 예 / N ... 아니오) :  y\n",
      "변환할 값으로 음이 아닌 정수를 입력하세요. :  10\n",
      "어떤 진수로 변환할까요? :  2\n"
     ]
    },
    {
     "name": "stdout",
     "output_type": "stream",
     "text": [
      "2진수로는 1010입니다.\n"
     ]
    },
    {
     "name": "stdin",
     "output_type": "stream",
     "text": [
      "한 번 더 변환할까요? (Y ... 예 / N ... 아니오) :  n\n"
     ]
    }
   ],
   "source": [
    "# 10진수 정수값을 입력받아 2~36진수로 변환\n",
    "\n",
    "def card_conv(x : int, r : int) -> str : \n",
    "    '''정수값 x 를 r 진수로 변환한 뒤 그 수를 나타내는 문자열을 반환'''\n",
    "    \n",
    "    # 변환 후의 문자열\n",
    "    d = ''\n",
    "    dchar = '0123456789ABCDEFGHIJKLMNOPQRSTUVWXYZ'\n",
    "    \n",
    "    while x > 0 : \n",
    "        # 해당하는 문자를 꺼내 결합\n",
    "        d += dchar[x % r]\n",
    "        x //= r\n",
    "    \n",
    "    # 역순으로 반환\n",
    "    return d[::-1]\n",
    "\n",
    "if __name__ == '__main__' : \n",
    "    print('10진수를 n진수로 변환합니다.')\n",
    "    \n",
    "    while True : \n",
    "        while True : \n",
    "            no = int(input('변환할 값으로 음이 아닌 정수를 입력하세요. : '))\n",
    "            if no > 0 : \n",
    "                break\n",
    "            \n",
    "        while True : \n",
    "            cd = int(input('어떤 진수로 변환할까요? : '))\n",
    "            if 2 <= cd <= 36 : \n",
    "                break\n",
    "                \n",
    "        print(f'{cd}진수로는 {card_conv(no, cd)}입니다.')\n",
    "        \n",
    "        retry = input(\"한 번 더 변환할까요? (Y ... 예 / N ... 아니오) : \")\n",
    "        if retry in {\"N\", \"n\"} : \n",
    "            break"
   ]
  }
 ],
 "metadata": {
  "kernelspec": {
   "display_name": "Python 3",
   "language": "python",
   "name": "python3"
  },
  "language_info": {
   "codemirror_mode": {
    "name": "ipython",
    "version": 3
   },
   "file_extension": ".py",
   "mimetype": "text/x-python",
   "name": "python",
   "nbconvert_exporter": "python",
   "pygments_lexer": "ipython3",
   "version": "3.8.5"
  }
 },
 "nbformat": 4,
 "nbformat_minor": 4
}
