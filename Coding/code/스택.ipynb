{
 "cells": [
  {
   "cell_type": "code",
   "execution_count": 1,
   "metadata": {},
   "outputs": [
    {
     "name": "stdout",
     "output_type": "stream",
     "text": [
      "현재 데이터 개수 : 0 / 64\n",
      "(1)푸시 (2)팝 (3)피크 (4)검색 (5)덤프 (6)종료"
     ]
    },
    {
     "name": "stdin",
     "output_type": "stream",
     "text": [
      ":  1\n",
      "데이터를 입력하세요. :  2\n"
     ]
    },
    {
     "name": "stdout",
     "output_type": "stream",
     "text": [
      "현재 데이터 개수 : 1 / 64\n",
      "(1)푸시 (2)팝 (3)피크 (4)검색 (5)덤프 (6)종료"
     ]
    },
    {
     "name": "stdin",
     "output_type": "stream",
     "text": [
      ":  1\n",
      "데이터를 입력하세요. :  3\n"
     ]
    },
    {
     "name": "stdout",
     "output_type": "stream",
     "text": [
      "현재 데이터 개수 : 2 / 64\n",
      "(1)푸시 (2)팝 (3)피크 (4)검색 (5)덤프 (6)종료"
     ]
    },
    {
     "name": "stdin",
     "output_type": "stream",
     "text": [
      ":  1\n",
      "데이터를 입력하세요. :  4\n"
     ]
    },
    {
     "name": "stdout",
     "output_type": "stream",
     "text": [
      "현재 데이터 개수 : 3 / 64\n",
      "(1)푸시 (2)팝 (3)피크 (4)검색 (5)덤프 (6)종료"
     ]
    },
    {
     "name": "stdin",
     "output_type": "stream",
     "text": [
      ":  1\n",
      "데이터를 입력하세요. :  2\n"
     ]
    },
    {
     "name": "stdout",
     "output_type": "stream",
     "text": [
      "현재 데이터 개수 : 4 / 64\n",
      "(1)푸시 (2)팝 (3)피크 (4)검색 (5)덤프 (6)종료"
     ]
    },
    {
     "name": "stdin",
     "output_type": "stream",
     "text": [
      ":  3\n"
     ]
    },
    {
     "name": "stdout",
     "output_type": "stream",
     "text": [
      "피크한 데이터는 2입니다.\n",
      "현재 데이터 개수 : 4 / 64\n",
      "(1)푸시 (2)팝 (3)피크 (4)검색 (5)덤프 (6)종료"
     ]
    },
    {
     "name": "stdin",
     "output_type": "stream",
     "text": [
      ":  4\n",
      "검색할 값을 입력하세요. :  1\n"
     ]
    },
    {
     "name": "stdout",
     "output_type": "stream",
     "text": [
      "검색값을 찾을 수 없습니다.\n",
      "현재 데이터 개수 : 4 / 64\n",
      "(1)푸시 (2)팝 (3)피크 (4)검색 (5)덤프 (6)종료"
     ]
    },
    {
     "name": "stdin",
     "output_type": "stream",
     "text": [
      ":  4\n",
      "검색할 값을 입력하세요. :  2\n"
     ]
    },
    {
     "name": "stdout",
     "output_type": "stream",
     "text": [
      "2개 포함되고, 맨 앞의 위치는 3입니다.\n",
      "현재 데이터 개수 : 4 / 64\n",
      "(1)푸시 (2)팝 (3)피크 (4)검색 (5)덤프 (6)종료"
     ]
    },
    {
     "name": "stdin",
     "output_type": "stream",
     "text": [
      ":  2\n"
     ]
    },
    {
     "name": "stdout",
     "output_type": "stream",
     "text": [
      "팝한 데이터는 2입니다.\n",
      "현재 데이터 개수 : 3 / 64\n",
      "(1)푸시 (2)팝 (3)피크 (4)검색 (5)덤프 (6)종료"
     ]
    },
    {
     "name": "stdin",
     "output_type": "stream",
     "text": [
      ":  5\n"
     ]
    },
    {
     "name": "stdout",
     "output_type": "stream",
     "text": [
      "[2, 3, 4]\n",
      "현재 데이터 개수 : 3 / 64\n",
      "(1)푸시 (2)팝 (3)피크 (4)검색 (5)덤프 (6)종료"
     ]
    },
    {
     "name": "stdin",
     "output_type": "stream",
     "text": [
      ":  3\n"
     ]
    },
    {
     "name": "stdout",
     "output_type": "stream",
     "text": [
      "피크한 데이터는 4입니다.\n",
      "현재 데이터 개수 : 3 / 64\n",
      "(1)푸시 (2)팝 (3)피크 (4)검색 (5)덤프 (6)종료"
     ]
    },
    {
     "name": "stdin",
     "output_type": "stream",
     "text": [
      ":  5\n"
     ]
    },
    {
     "name": "stdout",
     "output_type": "stream",
     "text": [
      "[2, 3, 4]\n",
      "현재 데이터 개수 : 3 / 64\n",
      "(1)푸시 (2)팝 (3)피크 (4)검색 (5)덤프 (6)종료"
     ]
    },
    {
     "name": "stdin",
     "output_type": "stream",
     "text": [
      ":  5\n"
     ]
    },
    {
     "name": "stdout",
     "output_type": "stream",
     "text": [
      "[2, 3, 4]\n",
      "현재 데이터 개수 : 3 / 64\n",
      "(1)푸시 (2)팝 (3)피크 (4)검색 (5)덤프 (6)종료"
     ]
    },
    {
     "name": "stdin",
     "output_type": "stream",
     "text": [
      ":  6\n"
     ]
    }
   ],
   "source": [
    "# 고정 길이 스택 클래스 FixedStack 구현\n",
    "\n",
    "from typing import Any\n",
    "\n",
    "class FixedStack : \n",
    "    '''고정 길이 스택 클래스'''\n",
    "    \n",
    "    class Empty(Exception) : \n",
    "        '''비어 있는 FixedStack에 팝 또는 피크할 때 내보내는 예외처리'''\n",
    "        pass\n",
    "    \n",
    "    class Full(Exception) : \n",
    "        '''가득 찬 FiexedStack에 푸시할 때 내보내는 예외처리'''\n",
    "        pass\n",
    "    \n",
    "    def __init__(self, capacity : int = 256) -> None : \n",
    "        '''스택 초기화'''\n",
    "        \n",
    "        self.stk = [None] * capacity   # 스택 본체\n",
    "        self.capacity = capacity    # 스택의 크기\n",
    "        self.ptr = 0    # 스택 포인터\n",
    "        \n",
    "    def __len__(self) -> int : \n",
    "        '''스택에 쌓여 있는 데이터 개수를 반환'''\n",
    "        return self.ptr\n",
    "    \n",
    "    def is_empty(self) -> bool : \n",
    "        '''스택이 비어있는지 판단'''\n",
    "        return self.ptr <= 0\n",
    "    \n",
    "    def is_full(self) -> bool : \n",
    "        '''스택이 가득 차 있는지 판단'''\n",
    "        return self.ptr >= self.capacity\n",
    "    \n",
    "    def push(self, value : Any) -> None : \n",
    "        '''스택에 value를 푸시 (데이터를 넣음)'''\n",
    "        if self.is_full() :    # 스택이 가득 차 있는 경우\n",
    "            raise FixedStack.Full    # 예외처리 발생\n",
    "        self.stk[self.ptr] = value\n",
    "        self.ptr += 1\n",
    "        \n",
    "    def pop(self) -> Any : \n",
    "        '''스택에서 데이터를 팝(꼭대기 데이터를 꺼냄)'''\n",
    "        if self.is_empty() :    # 스택이 비어있는 경우\n",
    "            raise FixedStack.Empty    # 예외처리 발생\n",
    "        self.ptr -= 1\n",
    "        return self.stk[self.ptr]\n",
    "    \n",
    "    def peek(self) -> Any : \n",
    "        '''스택에서 데이터를 피크 (꼭대기에서 데이터를 들여다봄)'''\n",
    "        if self.is_empty() :    # 스택이 비어 있음\n",
    "            raise FixedStack.Empty    # 예외처리 발생\n",
    "        return self.stk[self.ptr - 1]\n",
    "    \n",
    "    def clear(self) -> Any : \n",
    "        '''스택을 모두 비움 (모든 데이터 삭제)'''\n",
    "        self.ptr = 0\n",
    "        \n",
    "    def find(self, value : Any) -> Any : \n",
    "        '''스택에서 value를 찾아 인덱스를 반환 (없으면 -1을 반환)'''\n",
    "        for i in range(self.ptr -1, -1, -1) :    # 꼭대기 쪽부터 선형 검색\n",
    "            if self.stk[i] == value : \n",
    "                return i    # 검색 성공\n",
    "            return -1    # 검색 실패\n",
    "        \n",
    "    def count(self, value : Any) -> bool : \n",
    "        '''스택에 있는 value의 개수를 반환'''\n",
    "        c = 0\n",
    "        for i in range(self.ptr) :    # 바닥 쪽부터 선형 검색\n",
    "            if self.stk[i] == value :    # 검색 성공\n",
    "                c += 1\n",
    "        return c\n",
    "        \n",
    "    def __contains__(self, value : Any) -> bool : \n",
    "        '''스택에 value가 있는지 판단'''\n",
    "        return self.count(value)\n",
    "    \n",
    "    def dump(self) -> None : \n",
    "        '''덤프 (스택 안의 모든 데이터를 바닥부터 꼭대기 순으로 출력)'''\n",
    "        if self.is_empty() :    # 스택이 비어있음\n",
    "            print('스택이 비어 있습니다.')\n",
    "        else : \n",
    "            print(self.stk[:self.ptr])\n",
    "            \n",
    "            \n",
    "# 고저 길이 스택 클래스(FixedStack)를 사용하기\n",
    "\n",
    "from enum import Enum\n",
    "\n",
    "Menu = Enum('Menu', ['푸시', '팝', '피크', '검색', '덤프', '종료'])\n",
    "\n",
    "def select_menu() -> Menu : \n",
    "    '''메뉴 선택'''\n",
    "    \n",
    "    s = [f'({m.value}){m.name}' for m in Menu]\n",
    "    while True : \n",
    "        print(*s, sep = ' ', end = '')\n",
    "        n = int(input(': '))\n",
    "        if 1 <= n <= len(Menu) : \n",
    "            return Menu(n)\n",
    "        \n",
    "s = FixedStack(64)    # 최대 64개를 푸시할 수 있는 스택\n",
    "\n",
    "while True : \n",
    "    print(f'현재 데이터 개수 : {len(s)} / {s.capacity}')\n",
    "    menu = select_menu()    # 메뉴 선택\n",
    "    \n",
    "    if menu == Menu.푸시 :    # 푸시\n",
    "        x = int(input('데이터를 입력하세요. : '))\n",
    "        try : \n",
    "            s.push(x)\n",
    "        except FixedStack.Full : \n",
    "            print('스택이 가득 차 있습니다.')\n",
    "            \n",
    "    elif menu == Menu.팝 :    # 팝\n",
    "        try : \n",
    "            x = s.pop()\n",
    "            print(f'팝한 데이터는 {x}입니다.')\n",
    "        except FixedStack.Empty : \n",
    "            print('스택이 비어 있습니다.')\n",
    "                  \n",
    "    elif menu == Menu.피크 :    # 피크\n",
    "        try : \n",
    "            x = s.peek()\n",
    "            print(f'피크한 데이터는 {x}입니다.')\n",
    "        except FixedStack.Empty : \n",
    "            print('스택이 비어 있습니다.')\n",
    "                  \n",
    "    elif menu == Menu.검색 :    # 검색\n",
    "        x = int(input('검색할 값을 입력하세요. : '))\n",
    "        if x in s : \n",
    "            print(f'{s.count(x)}개 포함되고, 맨 앞의 위치는 {s.find(x)}입니다.')\n",
    "        else : \n",
    "            print('검색값을 찾을 수 없습니다.')\n",
    "    \n",
    "    elif menu == Menu.덤프 :    # 덤프\n",
    "        s.dump()\n",
    "                \n",
    "    else : \n",
    "        break"
   ]
  }
 ],
 "metadata": {
  "kernelspec": {
   "display_name": "Python 3",
   "language": "python",
   "name": "python3"
  },
  "language_info": {
   "codemirror_mode": {
    "name": "ipython",
    "version": 3
   },
   "file_extension": ".py",
   "mimetype": "text/x-python",
   "name": "python",
   "nbconvert_exporter": "python",
   "pygments_lexer": "ipython3",
   "version": "3.8.5"
  }
 },
 "nbformat": 4,
 "nbformat_minor": 4
}
