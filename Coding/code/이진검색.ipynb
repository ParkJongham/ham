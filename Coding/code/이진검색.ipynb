{
 "cells": [
  {
   "cell_type": "code",
   "execution_count": 6,
   "metadata": {},
   "outputs": [
    {
     "name": "stdin",
     "output_type": "stream",
     "text": [
      "원소 수를 입력하세요. :  4\n"
     ]
    },
    {
     "name": "stdout",
     "output_type": "stream",
     "text": [
      "배열 데이터를 오름차순으로 입력하세요.\n"
     ]
    },
    {
     "name": "stdin",
     "output_type": "stream",
     "text": [
      "x[0] :  12\n",
      "x[1] :  13\n",
      "x[2] :  14\n",
      "x[3] :  15\n",
      "검색할 값을 입력하세요.:  13\n"
     ]
    },
    {
     "name": "stdout",
     "output_type": "stream",
     "text": [
      "검색값은 x[1]에 있습니다.\n"
     ]
    }
   ],
   "source": [
    "# 이진검색 알고리즘\n",
    "\n",
    "from typing import Any, Sequence\n",
    "\n",
    "def bin_search(a : Sequence, key : Any) -> int : \n",
    "    '''시퀀스 a에서 key와 일치하는 원소를 이진검색'''\n",
    "    pl = 0    # 검색 범위 맨 앞 원소의 인덱스\n",
    "    pr = len(a) -1    # 검색 범위 맨 끝 원소 인덱스\n",
    "    \n",
    "    while True : \n",
    "        pc = (pl + pr) // 2    # 중앙 원소의 인덱스\n",
    "        \n",
    "        if a[pc] == key : \n",
    "            return pc    # 검색 성공\n",
    "        elif a[pc] < key : \n",
    "            pl = pc + 1    # 검색 범위를 뒤쪽 절반으로 좁힘\n",
    "        else : \n",
    "            pr = pc - 1    # 검색 범위릘 앞쪽 절반으로 좁힘\n",
    "            \n",
    "        if pl > pr : \n",
    "            break\n",
    "    return -1    # 검색 실패\n",
    "    \n",
    "if __name__ == '__main__' : \n",
    "    num = int(input('원소 수를 입력하세요. : '))\n",
    "    x = [None] * num    # 원소 수가 num인 배열 생성\n",
    "    \n",
    "    print('배열 데이터를 오름차순으로 입력하세요.')\n",
    "    \n",
    "    x[0] = int(input('x[0] : '))\n",
    "    \n",
    "    for i in range(1, num) : \n",
    "        while True : \n",
    "            x[i] = int(input(f'x[{i}] : '))\n",
    "            if x[i] >= x[i - 1] :    # 바로 직전에 입력한 원소값보다 큰 값을 입력\n",
    "                break\n",
    "    \n",
    "    ky = int(input('검색할 값을 입력하세요.: '))    # 검색할 키값 ky 입력\n",
    "    \n",
    "    idx = bin_search(x, ky)    # ky값과 같은 원소를 x에서 검색\n",
    "    \n",
    "    if idx == -1 : \n",
    "        print('검색값을 갖는 원소가 존재하지 않습니다.')\n",
    "    else : \n",
    "        print(f'검색값은 x[{idx}]에 있습니다.')"
   ]
  }
 ],
 "metadata": {
  "kernelspec": {
   "display_name": "Python 3",
   "language": "python",
   "name": "python3"
  },
  "language_info": {
   "codemirror_mode": {
    "name": "ipython",
    "version": 3
   },
   "file_extension": ".py",
   "mimetype": "text/x-python",
   "name": "python",
   "nbconvert_exporter": "python",
   "pygments_lexer": "ipython3",
   "version": "3.8.5"
  }
 },
 "nbformat": 4,
 "nbformat_minor": 4
}
