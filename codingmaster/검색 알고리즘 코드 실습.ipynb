{
 "cells": [
  {
   "cell_type": "code",
   "execution_count": 1,
   "metadata": {},
   "outputs": [
    {
     "ename": "IndentationError",
     "evalue": "expected an indented block (<ipython-input-1-c96e0dd8d525>, line 8)",
     "output_type": "error",
     "traceback": [
      "\u001b[0;36m  File \u001b[0;32m\"<ipython-input-1-c96e0dd8d525>\"\u001b[0;36m, line \u001b[0;32m8\u001b[0m\n\u001b[0;31m    if a[i] == key :  # 검색 성공\u001b[0m\n\u001b[0m    ^\u001b[0m\n\u001b[0;31mIndentationError\u001b[0m\u001b[0;31m:\u001b[0m expected an indented block\n"
     ]
    }
   ],
   "source": [
    "#  112p\n",
    "\n",
    "\n",
    "i = 0\n",
    "while True : \n",
    "    if i == len(a) :  # 검색 실패\n",
    "     \n",
    "    if a[i] == key :  # 검색 성공\n",
    "     \n",
    "    i+=1"
   ]
  },
  {
   "cell_type": "code",
   "execution_count": 5,
   "metadata": {},
   "outputs": [
    {
     "name": "stdin",
     "output_type": "stream",
     "text": [
      "원소 수를 입력하세요. :  10\n",
      "x[0] :  1\n",
      "x[1] :  2\n",
      "x[2] :  3\n",
      "x[3] :  4\n",
      "x[4] :  5\n",
      "x[5] :  6\n",
      "x[6] :  7\n",
      "x[7] :  8\n",
      "x[8] :  9\n",
      "x[9] :  10\n",
      "검색할 값을 입력하세요. :  1\n"
     ]
    },
    {
     "name": "stdout",
     "output_type": "stream",
     "text": [
      "검색값은 x[0]에 있습니다.\n"
     ]
    }
   ],
   "source": [
    "# 실습 3-1 / 113p\n",
    "\n",
    "from typing import Any, Sequence\n",
    "\n",
    "def seq_search(a : Sequence, key = Any) -> int : \n",
    "    '''시퀀스 a에서 key와 값이 같은 원소를 선형 검색'''\n",
    "    \n",
    "    i=0\n",
    "    \n",
    "    while True : \n",
    "        if i ==len(a) : \n",
    "            return -1    # 검색 실패\n",
    "            \n",
    "        if a[i] == key : \n",
    "            return i     # 검색 성공, 배열의 인덱스를 반환\n",
    "        i+=1\n",
    "        \n",
    "if __name__ == '__main__' : \n",
    "    num = int(input(\"원소 수를 입력하세요. : \"))   # num 값을 입력받음\n",
    "    x = [None] * num     # 원소의 수가 num개인 배열을 생성\n",
    "    \n",
    "    for i in range(num) : \n",
    "        x[i] = int(input(f'x[{i}] : '))\n",
    "        \n",
    "    ky = int(input('검색할 값을 입력하세요. : '))    # 검색할 키 ky를 입력받음\n",
    "        \n",
    "    idx = seq_search(x, ky)     # ky와 같은 원소를 x에서 검색\n",
    "        \n",
    "    if idx == -1 : \n",
    "        print('검색값을 갖는 원소가 존재하지 않습니다.')\n",
    "    else : \n",
    "        print(f'검색값은 x[{idx}]에 있습니다.')"
   ]
  },
  {
   "cell_type": "code",
   "execution_count": 6,
   "metadata": {},
   "outputs": [],
   "source": [
    "# 실습 3-2 / 114p\n",
    "\n",
    "from typing import Any, Sequence\n",
    "\n",
    "def seq_search(a : Sequence, key : Any) -> int : \n",
    "    \"\"\"시퀀스 a에서  key와 같은 원소를 선형 검색(for 문)\"\"\"\n",
    "    \n",
    "    for i in range(len(a)) : \n",
    "        if a[i] == key : \n",
    "            return i     # 검색 성공 (인덱스를 반환)\n",
    "    return -1     # 검색 실패 (-1을 반환)"
   ]
  },
  {
   "cell_type": "code",
   "execution_count": 10,
   "metadata": {},
   "outputs": [
    {
     "name": "stdout",
     "output_type": "stream",
     "text": [
      "실수를 검색합니다.\n",
      "주의 : \"End\"를 입력하면 종료합니다.\n"
     ]
    },
    {
     "name": "stdin",
     "output_type": "stream",
     "text": [
      "x[0] :  1\n",
      "x[1] :  3\n",
      "x[2] :  4\n",
      "x[3] :  2\n",
      "x[4] :  6\n",
      "x[5] :  8\n",
      "x[6] :  6\n",
      "x[7] :  3\n",
      "x[8] :  End\n",
      "검색할 값을 입력하세요. :  1\n"
     ]
    },
    {
     "name": "stdout",
     "output_type": "stream",
     "text": [
      "검색값은 x[0]에 있습니다.\n"
     ]
    }
   ],
   "source": [
    "# 실습 3c-1 / 115p\n",
    "\n",
    "from ssearch_while import seq_search\n",
    "\n",
    "print(\"실수를 검색합니다.\")\n",
    "print('주의 : \"End\"를 입력하면 종료합니다.')\n",
    "\n",
    "number = 0\n",
    "x = []\n",
    "\n",
    "while True : \n",
    "    s = input(f'x[{number}] : ')\n",
    "    if s == \"End\" : \n",
    "        break\n",
    "    x.append(float(s))\n",
    "    number += 1\n",
    "    \n",
    "ky = float(input(\"검색할 값을 입력하세요. : \"))\n",
    "\n",
    "idx = seq_search(x, ky)\n",
    "if idx == -1 : \n",
    "    print('검색값을 갖는 원소가 존재하지 않습니다.')\n",
    "else : \n",
    "    print(f'검색값은 x[{idx}]에 있습니다.')"
   ]
  },
  {
   "cell_type": "code",
   "execution_count": 11,
   "metadata": {},
   "outputs": [
    {
     "name": "stdout",
     "output_type": "stream",
     "text": [
      "(4, 7, 5.6, 2, 3.14, 1)에서 5.6의 인덱스는 2입니다.\n",
      "string에서 \"n\"의 인덱스는 4입니다.\n",
      "['DTS', 'AAC', 'FLAC']에서 \"DTS\"의 인덱스는 0입니다.\n"
     ]
    }
   ],
   "source": [
    "# 실습 3c-2 / 116p\n",
    "\n",
    "from ssearch_while import seq_search\n",
    "\n",
    "t = (4,7,5.6,2,3.14,1)\n",
    "s = 'string'\n",
    "a = ['DTS','AAC','FLAC']\n",
    "\n",
    "print(f'{t}에서 5.6의 인덱스는 {seq_search(t, 5.6)}입니다.')\n",
    "print(f'{s}에서 \"n\"의 인덱스는 {seq_search(s, \"n\")}입니다.')\n",
    "print(f'{a}에서 \"DTS\"의 인덱스는 {seq_search(a, \"DTS\")}입니다.')"
   ]
  },
  {
   "cell_type": "code",
   "execution_count": 12,
   "metadata": {},
   "outputs": [
    {
     "name": "stdin",
     "output_type": "stream",
     "text": [
      "원소 수를 입력하세요. :  3\n",
      "x[0]:  1\n",
      "x[1]:  2\n",
      "x[2]:  3\n",
      "검색할 값을 입력하세요. :  2\n"
     ]
    },
    {
     "name": "stdout",
     "output_type": "stream",
     "text": [
      "검색값은 x[1]에 있습니다.\n"
     ]
    }
   ],
   "source": [
    "# 실습 3-3 / 117p\n",
    "\n",
    "from typing import Any, Sequence\n",
    "import copy\n",
    "\n",
    "def seq_search(seq : Sequence, key : Any) -> int : \n",
    "    \"\"\"시퀀스 seq에서 key와 일치하는 원소를 선형 검색 (보초법)\"\"\"\n",
    "    \n",
    "    a = copy.deepcopy(seq)   # seq 를 deepcopy\n",
    "    a.append(key)\n",
    "    \n",
    "    i = 0\n",
    "    while True : \n",
    "        if a[i] == key : \n",
    "            break\n",
    "        i += 1\n",
    "    return -1 if i == len(seq) else i\n",
    "\n",
    "if __name__ == '__main__' : \n",
    "    num = int(input('원소 수를 입력하세요. : '))\n",
    "    x = [None] * num\n",
    "    \n",
    "    for i in range(num) : \n",
    "        x[i] = int(input(f'x[{i}]: '))\n",
    "    \n",
    "    ky = int(input('검색할 값을 입력하세요. : '))\n",
    "    \n",
    "    idx = seq_search(x, ky)\n",
    "    \n",
    "    if idx == -1 : \n",
    "        print('검색값을 갖는 원소가 존재하지 않습니다.')\n",
    "    else : \n",
    "        print(f'검색값은 x[{idx}]에 있습니다.')"
   ]
  },
  {
   "cell_type": "code",
   "execution_count": 15,
   "metadata": {},
   "outputs": [
    {
     "name": "stdin",
     "output_type": "stream",
     "text": [
      "원소 수를 입력하세요. :  5\n"
     ]
    },
    {
     "name": "stdout",
     "output_type": "stream",
     "text": [
      "배열 데이터를 오름차순으로 입력하세요.\n"
     ]
    },
    {
     "name": "stdin",
     "output_type": "stream",
     "text": [
      "x[0] :  1\n",
      "x[1]:  2\n",
      "x[2]:  3\n",
      "x[3]:  4\n",
      "x[4]:  5\n",
      "검색할 값을 입력하세요. :  7\n"
     ]
    },
    {
     "name": "stdout",
     "output_type": "stream",
     "text": [
      "검색값을 갖는 원소가 존재하지 않습니다.\n"
     ]
    }
   ],
   "source": [
    "# 실습 3-4 / 123p\n",
    "\n",
    "from typing import Any, Sequence\n",
    "\n",
    "def bin_search(a : Sequence, key : Any) -> int : \n",
    "    \"\"\"시퀀스 a에서 key와 일치하는 원소를 이진 검색\"\"\"\n",
    "    \n",
    "    pl = 0              # 검색 범위 맨 앞 원소 인덱스\n",
    "    pr = len(a) - 1     # 검색 범위 맨 끝 원소 인덱스\n",
    "    \n",
    "    while True : \n",
    "        pc = (pl+pr) // 2    # 중앙 원소의 인덱스\n",
    "        if a[pc] == key : \n",
    "            return pc\n",
    "        elif a[pc] < key : \n",
    "            pl = pc+1\n",
    "        else :\n",
    "            pr = pc-1\n",
    "        \n",
    "        if pl > pr : \n",
    "            break\n",
    "    return -1       # 검색 실패\n",
    "\n",
    "if __name__ == '__main__' : \n",
    "    num = int(input('원소 수를 입력하세요. : '))  \n",
    "    x = [None] * num\n",
    "    \n",
    "    print('배열 데이터를 오름차순으로 입력하세요.')\n",
    "    \n",
    "    x[0] = int(input('x[0] : '))\n",
    "    \n",
    "    for i in range(1, num) : \n",
    "        while True : \n",
    "            x[i] = int(input(f'x[{i}]: '))\n",
    "            if x[i] >= x[i-1] :       # 바로 직전에 입력한 원소값보다 큰 값을 입력\n",
    "                break\n",
    "                \n",
    "    ky = int(input('검색할 값을 입력하세요. : '))    # 검색할 키값 key 입력\n",
    "    \n",
    "    idx = bin_search(x, ky)\n",
    "    \n",
    "    if idx == -1 : \n",
    "        print('검색값을 갖는 원소가 존재하지 않습니다.')\n",
    "    else : \n",
    "        print(f'검색값은 x[{idx}]에 있습니다.')"
   ]
  },
  {
   "cell_type": "code",
   "execution_count": 16,
   "metadata": {},
   "outputs": [],
   "source": [
    "# 125p\n",
    "\n",
    "def seq_search(a : Sequence, key = Any) -> int : \n",
    "    i = 0\n",
    "    \n",
    "    while i < n : \n",
    "        if a[i] == key : \n",
    "            return i\n",
    "        i+=1\n",
    "        \n",
    "    return -1"
   ]
  },
  {
   "cell_type": "code",
   "execution_count": 17,
   "metadata": {},
   "outputs": [],
   "source": [
    "# 127p\n",
    "\n",
    "def bin_search(a : Sequence, key : Any) -> int : \n",
    "    \"\"\"시퀀스 a에서 key와 일치하는 원소를 이진 검색\"\"\"\n",
    "    \n",
    "    pl = 0\n",
    "    pr = len(a) -1\n",
    "    \n",
    "    while True : \n",
    "        pc = (pl+pr) // 2\n",
    "        if a[pc] == key : \n",
    "            return pc\n",
    "        elif a[pc] < key : \n",
    "            pl = pc + 1\n",
    "        else : \n",
    "            pr = pc - 1\n",
    "            \n",
    "        if pl > pr : \n",
    "            break\n",
    "    return -1"
   ]
  },
  {
   "cell_type": "code",
   "execution_count": 22,
   "metadata": {},
   "outputs": [
    {
     "name": "stdin",
     "output_type": "stream",
     "text": [
      "원소 수를 입력하세요. :  5\n"
     ]
    },
    {
     "name": "stdout",
     "output_type": "stream",
     "text": [
      "배열 데이터를 오름차순으로 입력하세요.\n"
     ]
    },
    {
     "name": "stdin",
     "output_type": "stream",
     "text": [
      "x[0] :  1\n",
      "x[1]:  2\n",
      "x[2]:  3\n",
      "x[3]:  4\n",
      "x[4]:  5\n",
      "검색할 값을 입력하세요. :  5\n"
     ]
    },
    {
     "name": "stdout",
     "output_type": "stream",
     "text": [
      "   |   0   1   2   3   4\n",
      "---+----------------------\n",
      "   | <-+      ->\n",
      "  2|   1   2   3   4   5\n",
      "   |\n",
      "   |             <+  ->\n",
      "  3|   1   2   3   4   5\n",
      "   |\n",
      "   |                 <+->\n",
      "  4|   1   2   3   4   5\n",
      "   |\n",
      "검색값은 x[4]에 있습니다.\n"
     ]
    }
   ],
   "source": [
    "# 실습 3c-3 / 129p\n",
    "\n",
    "from typing import Any, Sequence\n",
    "\n",
    "def bin_search(a : Sequence, key : Any) -> int : \n",
    "    \"\"\"시퀀스 a에서 key와 일치하는 원소를 이진 검색 (실행과정을 출력)\"\"\"\n",
    "    \n",
    "    pl = 0             # 검색 범위 맨 앞 원소 인덱스\n",
    "    pr = len(a) -1     # 검색 범위 맨 끝 원소 인덱스\n",
    "    \n",
    "    print('   |', end='')\n",
    "    for i in range(len(a)) : \n",
    "        print(f'{i:4}', end = '')\n",
    "    print()\n",
    "    print('---+' + (4 * len(a) + 2) * '-')\n",
    "    \n",
    "    while True : \n",
    "        pc = (pl+pr) // 2\n",
    "        \n",
    "        print('   |', end='')\n",
    "        if pl != pc :     # pl원소 위에 <-를 출력\n",
    "            print((pl * 4 + 1) * ' ' + '<-' + ((pc - pl) * 4) * '' + '+', end = '')\n",
    "        else : \n",
    "            print((pc * 4 + 1) * ' ' + '<+', end = '' )\n",
    "            \n",
    "        if pc != pr : \n",
    "            print(((pr - pc) * 4 - 2) * ' ' + '->')\n",
    "        else : \n",
    "            print('->')\n",
    "        print(f'{pc:3}|', end = '')\n",
    "        for i in range(len(a)) : \n",
    "            print(f'{a[i] : 4}', end = '')\n",
    "            \n",
    "        print('\\n   |')\n",
    "        \n",
    "        \n",
    "        pc = (pl+pr) // 2    # 중앙 원소의 인덱스\n",
    "        if a[pc] == key : \n",
    "            return pc\n",
    "        elif a[pc] < key : \n",
    "            pl = pc+1\n",
    "        else :\n",
    "            pr = pc-1\n",
    "        \n",
    "        if pl > pr : \n",
    "            break\n",
    "    return -1       # 검색 실패\n",
    "\n",
    "if __name__ == '__main__' : \n",
    "    num = int(input('원소 수를 입력하세요. : '))  \n",
    "    x = [None] * num\n",
    "    \n",
    "    print('배열 데이터를 오름차순으로 입력하세요.')\n",
    "    \n",
    "    x[0] = int(input('x[0] : '))\n",
    "    \n",
    "    for i in range(1, num) : \n",
    "        while True : \n",
    "            x[i] = int(input(f'x[{i}]: '))\n",
    "            if x[i] >= x[i-1] :       # 바로 직전에 입력한 원소값보다 큰 값을 입력\n",
    "                break\n",
    "                \n",
    "    ky = int(input('검색할 값을 입력하세요. : '))    # 검색할 키값 key 입력\n",
    "    \n",
    "    idx = bin_search(x, ky)\n",
    "    \n",
    "    if idx == -1 : \n",
    "        print('검색값을 갖는 원소가 존재하지 않습니다.')\n",
    "    else : \n",
    "        print(f'검색값은 x[{idx}]에 있습니다.')"
   ]
  },
  {
   "cell_type": "code",
   "execution_count": 23,
   "metadata": {},
   "outputs": [],
   "source": [
    "# 실습 3-5[A] / 134p\n",
    "\n",
    "from __future__ import annotations\n",
    "from typing import Any, Type\n",
    "import hashlib\n",
    "\n",
    "class Node : \n",
    "    \"\"\"해시를 구성하는 노드\"\"\"\n",
    "    \n",
    "    def __init__(self, key : Any, value : Any, next : Node) -> None : \n",
    "        \"\"\"초기화\"\"\"\n",
    "        self.key = key       # 키\n",
    "        self.value = value   # 값\n",
    "        self.next = next     # 뒤쪽 노드를 참조"
   ]
  },
  {
   "cell_type": "code",
   "execution_count": 27,
   "metadata": {},
   "outputs": [],
   "source": [
    "# 실습 3-5[B] / 135p\n",
    "\n",
    "class Chainedhash : \n",
    "    \"\"\"체인법으로 해시 클래스 구현\"\"\"\n",
    "    \n",
    "    def __init__(self, capacity : int) -> None : \n",
    "        \"\"\"초기화\"\"\"\n",
    "        self.capacity = capacity              # 해시 테이블의 크기를 지정\n",
    "        self.table = [None] * self.capacity   # 해시 테이블 (리스트)을 선언\n",
    "        \n",
    "    def hash_value(self, key : Any) -> int : \n",
    "        \"\"\"해시값을 구함\"\"\"\n",
    "        if isinstance(key, int) : \n",
    "            return key % self.capacity\n",
    "        return(int(hashlib.sha256(str(key).encode()).hexdigest(), 16) % self.capacity)"
   ]
  },
  {
   "cell_type": "code",
   "execution_count": 28,
   "metadata": {},
   "outputs": [
    {
     "ename": "IndentationError",
     "evalue": "unexpected indent (<ipython-input-28-4654b8d596f0>, line 3)",
     "output_type": "error",
     "traceback": [
      "\u001b[0;36m  File \u001b[0;32m\"<ipython-input-28-4654b8d596f0>\"\u001b[0;36m, line \u001b[0;32m3\u001b[0m\n\u001b[0;31m    def search(self, key : Any) -> Any :\u001b[0m\n\u001b[0m    ^\u001b[0m\n\u001b[0;31mIndentationError\u001b[0m\u001b[0;31m:\u001b[0m unexpected indent\n"
     ]
    }
   ],
   "source": [
    "# 실습 3-5[C] / 138p\n",
    "\n",
    "    def search(self, key : Any) -> Any :\n",
    "        \"\"\"키가 key인 원소를 검색하여 값을 반환\"\"\"\n",
    "        hash = self.hash_value(key)      # 검색하는 키의 해시값\n",
    "        p = self.table[hash]             # 노드를 주목\n",
    "        \n",
    "        while p is not None : \n",
    "            if p.key == key : \n",
    "                return p.value        # 검색 성공\n",
    "            p = p.next                # 뒤쪽 노드를 주목\n",
    "            \n",
    "        return None                   # 검색 실패\n",
    "    \n",
    "    def add(self, key : Any, value : Any) -> bool : \n",
    "        \"\"\"키가 key이고 값이 value인 원소를 추가\"\"\"\n",
    "        hash = self.hash_value(key)   # 추가하는 key의 해시값\n",
    "        p = self.table[hash]          # 노드를 주목\n",
    "        \n",
    "        while p is not None : \n",
    "            if p.key == key : \n",
    "                return False          # 추가 실패\n",
    "            p = p.next                # 뒤쪽 노드를 주목\n",
    "            \n",
    "        temp = None(key, value, self.table[hash])\n",
    "        self.table[hash] = temp      # 노드를 추가\n",
    "        return True                  # "
   ]
  },
  {
   "cell_type": "code",
   "execution_count": 29,
   "metadata": {},
   "outputs": [
    {
     "ename": "IndentationError",
     "evalue": "unexpected indent (<ipython-input-29-c9b1b7efccd9>, line 3)",
     "output_type": "error",
     "traceback": [
      "\u001b[0;36m  File \u001b[0;32m\"<ipython-input-29-c9b1b7efccd9>\"\u001b[0;36m, line \u001b[0;32m3\u001b[0m\n\u001b[0;31m    def remove(self, key : Any) -> bool :\u001b[0m\n\u001b[0m    ^\u001b[0m\n\u001b[0;31mIndentationError\u001b[0m\u001b[0;31m:\u001b[0m unexpected indent\n"
     ]
    }
   ],
   "source": [
    "# 실습 3-5[D] / 140p\n",
    "\n",
    "    def remove(self, key : Any) -> bool : \n",
    "        \"\"\"키가 key인 원소를 삭제\"\"\"\n",
    "        hash = self.hash_value(key)     # 삭제할 key의 해시값\n",
    "        p = self.table[hash]            # 노드를 주목\n",
    "        pp = None                       # 바로 앞의 노드를 주목\n",
    "        \n",
    "        while p is not None : \n",
    "            if p.key == key :           # key 를 발견하면 아래를 실행\n",
    "                if pp is None : \n",
    "                    self.table[hash] = p.next\n",
    "                else : \n",
    "                    pp.next = p.next\n",
    "                return True             # key 삭제 성공\n",
    "            pp = p\n",
    "            p = p.next                  # 뒤쪽 노드를 주목\n",
    "        return False                    # 삭제 실패 (key가 존재하지 않음)\n",
    "    \n",
    "    def dump(self) -> None : \n",
    "        \"\"\"해시 테이블을 덤프\"\"\"\n",
    "        \n",
    "        for i in range(self.capacity) : \n",
    "            p = self.table[i]\n",
    "            print(i, end='')\n",
    "            while p is not None : \n",
    "                print(f' -> {p.key} ({p.value})', end = '')\n",
    "                p = p.next\n",
    "            print()"
   ]
  },
  {
   "cell_type": "code",
   "execution_count": 33,
   "metadata": {},
   "outputs": [],
   "source": [
    "# 실습 3-5 통합\n",
    "\n",
    "# 체인법으로 해시 함수 구현하기\n",
    "# Do it! 실습 3-5 [A]\n",
    "from __future__ import annotations\n",
    "from typing import Any, Type\n",
    "import hashlib\n",
    "\n",
    "class Node:\n",
    "    \"\"\"해시를 구성하는 노드\"\"\"\n",
    "\n",
    "    def __init__(self, key: Any, value: Any, next: Node) -> None:\n",
    "        \"\"\"초기화\"\"\"\n",
    "        self.key   = key    # 키\n",
    "        self.value = value  # 값\n",
    "        self.next  = next   # 뒤쪽 노드를 참조\n",
    "\n",
    "# Do it! 실습 3-5 [B]\n",
    "class ChainedHash:\n",
    "    \"\"\"체인법을 해시 클래스 구현\"\"\"\n",
    "\n",
    "    def __init__(self, capacity: int) -> None:\n",
    "        \"\"\"초기화\"\"\"\n",
    "        self.capacity = capacity             # 해시 테이블의 크기를 지정\n",
    "        self.table = [None] * self.capacity  # 해시 테이블(리스트)을 선언\n",
    "\n",
    "    def hash_value(self, key: Any) -> int:\n",
    "        \"\"\"해시값을 구함\"\"\"\n",
    "        if isinstance(key, int):\n",
    "            return key % self.capacity\n",
    "        return(int(hashlib.sha256(str(key).encode()).hexdigest(), 16) % self.capacity)\n",
    "\n",
    "# Do it! 실습 3-5[C]\n",
    "    def search(self, key: Any) -> Any:\n",
    "        \"\"\"키가 key인 원소를 검색하여 값을 반환\"\"\"\n",
    "        hash = self.hash_value(key)  # 검색하는 키의 해시값\n",
    "        p = self.table[hash]         # 노드를 노드\n",
    "\n",
    "        while p is not None:\n",
    "            if p.key == key:\n",
    "                 return p.value  # 검색 성공\n",
    "            p = p.next           # 뒤쪽 노드를 주목\n",
    "\n",
    "        return None              # 검색 실패\n",
    "\n",
    "    def add(self, key: Any, value: Any) -> bool:\n",
    "        \"\"\"키가 key이고 값이 value인 원소를 삽입\"\"\"\n",
    "        hash = self.hash_value(key)  # 삽입하는 키의 해시값\n",
    "        p = self.table[hash]         # 주목하는 노드\n",
    "\n",
    "        while p is not None:\n",
    "            if p.key == key:\n",
    "                return False         # 삽입 실패\n",
    "            p = p.next               # 뒤쪽 노드에 주목\n",
    "\n",
    "        temp = Node(key, value, self.table[hash])\n",
    "        self.table[hash] = temp      # 노드를 삽입\n",
    "        return True                  # 삽입 성공\n",
    "\n",
    "# Do it! 실습 3-5[D]\n",
    "    def remove(self, key: Any) -> bool:\n",
    "        \"\"\"키가 key인 원소를 삭제\"\"\"\n",
    "        hash = self.hash_value(key)  # 삭제할 키의 해시값\n",
    "        p = self.table[hash]         # 주목하고 있는 노드\n",
    "        pp = None                    # 바로 앞 주목 노드\n",
    "\n",
    "        while p is not None:\n",
    "            if p.key == key:  # key를 발견하면 아래를 실행\n",
    "                if pp is None:\n",
    "                    self.table[hash] = p.next\n",
    "                else:\n",
    "                    pp.next = p.next\n",
    "                return True  # key 삭제 성공\n",
    "            pp = p\n",
    "            p = p.next       # 뒤쪽 노드에 주목\n",
    "        return False         # 삭제 실패(key가 존재하지 않음)\n",
    "\n",
    "    def dump(self) -> None:\n",
    "        \"\"\"해시 테이블을 덤프\"\"\"\n",
    "        for i in range(self.capacity):\n",
    "            p = self.table[i]\n",
    "            print(i, end='')\n",
    "            while p is not None:\n",
    "                print(f'  → {p.key} ({p.value})', end='')  # 해시 테이블에 있는 키와 값을 출력\n",
    "                p = p.next\n",
    "            print()"
   ]
  },
  {
   "cell_type": "code",
   "execution_count": 32,
   "metadata": {},
   "outputs": [
    {
     "name": "stdout",
     "output_type": "stream",
     "text": [
      "(1)추가  (2)삭제  (3)검색  (4)덤프  (5)종료"
     ]
    },
    {
     "name": "stdin",
     "output_type": "stream",
     "text": [
      ":  추가\n"
     ]
    },
    {
     "ename": "ValueError",
     "evalue": "invalid literal for int() with base 10: '추가'",
     "output_type": "error",
     "traceback": [
      "\u001b[0;31m---------------------------------------------------------------------------\u001b[0m",
      "\u001b[0;31mValueError\u001b[0m                                Traceback (most recent call last)",
      "\u001b[0;32m<ipython-input-32-53fd7ac3ff98>\u001b[0m in \u001b[0;36m<module>\u001b[0;34m\u001b[0m\n\u001b[1;32m     18\u001b[0m \u001b[0;34m\u001b[0m\u001b[0m\n\u001b[1;32m     19\u001b[0m \u001b[0;32mwhile\u001b[0m \u001b[0;32mTrue\u001b[0m \u001b[0;34m:\u001b[0m\u001b[0;34m\u001b[0m\u001b[0;34m\u001b[0m\u001b[0m\n\u001b[0;32m---> 20\u001b[0;31m     \u001b[0mmenu\u001b[0m \u001b[0;34m=\u001b[0m \u001b[0mselect_menu\u001b[0m\u001b[0;34m(\u001b[0m\u001b[0;34m)\u001b[0m    \u001b[0;31m# 메뉴 선택\u001b[0m\u001b[0;34m\u001b[0m\u001b[0;34m\u001b[0m\u001b[0m\n\u001b[0m\u001b[1;32m     21\u001b[0m \u001b[0;34m\u001b[0m\u001b[0m\n\u001b[1;32m     22\u001b[0m     \u001b[0;32mif\u001b[0m \u001b[0mmenu\u001b[0m \u001b[0;34m==\u001b[0m \u001b[0mMenu\u001b[0m\u001b[0;34m.\u001b[0m\u001b[0m추가\u001b[0m \u001b[0;34m:\u001b[0m   \u001b[0;31m# 추가\u001b[0m\u001b[0;34m\u001b[0m\u001b[0;34m\u001b[0m\u001b[0m\n",
      "\u001b[0;32m<ipython-input-32-53fd7ac3ff98>\u001b[0m in \u001b[0;36mselect_menu\u001b[0;34m()\u001b[0m\n\u001b[1;32m     11\u001b[0m     \u001b[0;32mwhile\u001b[0m \u001b[0;32mTrue\u001b[0m \u001b[0;34m:\u001b[0m\u001b[0;34m\u001b[0m\u001b[0;34m\u001b[0m\u001b[0m\n\u001b[1;32m     12\u001b[0m         \u001b[0mprint\u001b[0m\u001b[0;34m(\u001b[0m\u001b[0;34m*\u001b[0m\u001b[0ms\u001b[0m\u001b[0;34m,\u001b[0m \u001b[0msep\u001b[0m \u001b[0;34m=\u001b[0m \u001b[0;34m'  '\u001b[0m\u001b[0;34m,\u001b[0m \u001b[0mend\u001b[0m \u001b[0;34m=\u001b[0m \u001b[0;34m''\u001b[0m\u001b[0;34m)\u001b[0m\u001b[0;34m\u001b[0m\u001b[0;34m\u001b[0m\u001b[0m\n\u001b[0;32m---> 13\u001b[0;31m         \u001b[0mn\u001b[0m \u001b[0;34m=\u001b[0m \u001b[0mint\u001b[0m\u001b[0;34m(\u001b[0m\u001b[0minput\u001b[0m\u001b[0;34m(\u001b[0m\u001b[0;34m': '\u001b[0m\u001b[0;34m)\u001b[0m\u001b[0;34m)\u001b[0m\u001b[0;34m\u001b[0m\u001b[0;34m\u001b[0m\u001b[0m\n\u001b[0m\u001b[1;32m     14\u001b[0m         \u001b[0;32mif\u001b[0m \u001b[0;36m1\u001b[0m \u001b[0;34m<=\u001b[0m \u001b[0mn\u001b[0m \u001b[0;34m<=\u001b[0m \u001b[0mlen\u001b[0m\u001b[0;34m(\u001b[0m\u001b[0mMenu\u001b[0m\u001b[0;34m)\u001b[0m \u001b[0;34m:\u001b[0m\u001b[0;34m\u001b[0m\u001b[0;34m\u001b[0m\u001b[0m\n\u001b[1;32m     15\u001b[0m             \u001b[0;32mreturn\u001b[0m \u001b[0mMenu\u001b[0m\u001b[0;34m(\u001b[0m\u001b[0mn\u001b[0m\u001b[0;34m)\u001b[0m\u001b[0;34m\u001b[0m\u001b[0;34m\u001b[0m\u001b[0m\n",
      "\u001b[0;31mValueError\u001b[0m: invalid literal for int() with base 10: '추가'"
     ]
    }
   ],
   "source": [
    "# 실습 3-6 / 142p\n",
    "\n",
    "from enum import Enum\n",
    "from chained_hash import ChainedHash\n",
    "\n",
    "Menu = Enum('Menu', ['추가','삭제','검색','덤프','종료'])     # 메뉴 선언\n",
    "\n",
    "def select_menu() -> Menu : \n",
    "    \"\"\"메뉴 선택\"\"\"\n",
    "    s = [f'({m.value}){m.name}' for m in Menu]\n",
    "    while True : \n",
    "        print(*s, sep = '  ', end = '')\n",
    "        n = int(input(': '))\n",
    "        if 1 <= n <= len(Menu) : \n",
    "            return Menu(n)\n",
    "        \n",
    "hash = ChainedHash(13)     # 크기가 13인 해시테이블을 생성\n",
    "\n",
    "while True : \n",
    "    menu = select_menu()    # 메뉴 선택\n",
    "    \n",
    "    if menu == Menu.추가 :   # 추가 \n",
    "        key = int(intput('추가할 키를 입력하세요. : '))\n",
    "        val = input('추가할 값을 입력하세요. : ')\n",
    "        if not hash.add(key, val) : \n",
    "            print('추가에 실패했습니다.')\n",
    "            \n",
    "    elif menu == Menu.삭제 : # 삭제\n",
    "        key = int(input('삭제할 키를 입력하세요. : '))\n",
    "        if not hash.remove(key) : \n",
    "            print('삭제를 실패했습니다.')\n",
    "            \n",
    "    elif menu == Menu.검색 :  # 검색\n",
    "        key = int(input('검색할 키를 입력하세요. : '))\n",
    "        t = hash.search(key)\n",
    "        if t is not None : \n",
    "            print(f'검색한 키를 갖는 값은 {t}입니다.')\n",
    "        else : \n",
    "            print('검색할 데이터가 없습니다.')\n",
    "            \n",
    "    elif menu == Menu.덤프 :  # 덤프\n",
    "        hash.dump()\n",
    "        \n",
    "    else :                   # 종료\n",
    "        break"
   ]
  },
  {
   "cell_type": "code",
   "execution_count": 35,
   "metadata": {},
   "outputs": [],
   "source": [
    "# 실습 3-7 / 146p\n",
    "\n",
    "from __future__ import annotations\n",
    "from typing import Any, Type\n",
    "from enum import Enum\n",
    "import hashlib\n",
    "\n",
    "\n",
    "# 버킷의 속성\n",
    "class Status(Enum) : \n",
    "    OCCUPIED = 0    # 데이터를 저장\n",
    "    EMPTY = 1       # 비어 있음\n",
    "    DELETED = 2     # 삭제 완료\n",
    "    \n",
    "class Bucker : \n",
    "    \"\"\"해시를 구성하는 버킷\"\"\"\n",
    "    \n",
    "    def __init__(self, key : Any = None, value : Any = None, stat : Status = Status.EMPTY) -> None : \n",
    "        \"\"\"초기화\"\"\"\n",
    "        self.key = key      # 키\n",
    "        self.value = value  # 값\n",
    "        self.stat = stat    # 속성\n",
    "        \n",
    "        \n",
    "    def set(self, key : Any, value : Any, stat : Status) -> None : \n",
    "        \"\"\"모든 필드에 값을 설정\"\"\"\n",
    "        self.key = key       # 키\n",
    "        self.value = value   # 값\n",
    "        self.stat = stat     # 속성\n",
    "        \n",
    "    \n",
    "    def set_status(self, stat : Status) -> None : \n",
    "        \"\"\"속성을 설정\"\"\"\n",
    "        self.stat = stat     # 속성\n",
    "        \n",
    "class OpenHash : \n",
    "    \"\"\"오픈 주소법으로 구현하는 해시 클래스\"\"\"\n",
    "    \n",
    "    def __init__(self, capacity : int) -> None : \n",
    "        \"\"\"초기화\"\"\"\n",
    "        self.capacity = capacity                  # 해시 테이블의 크기를 지정\n",
    "        self.table = [Bucket()] * self.capacty    # 해시테이블\n",
    "        \n",
    "    def hash_value(self, key : Any) -> int : \n",
    "        \"\"\"해시값을 구함\"\"\"\n",
    "        if isinstance(key, int) : \n",
    "            return key % self.capacity\n",
    "        return(int(hashlib.md5(str(key).encode()).hexdigest(), 16) % self.capacity)\n",
    "    \n",
    "    def rehash_value(self, key : Any) -> int : \n",
    "        \"\"\"재해시값을 구함\"\"\"\n",
    "        return(self.hash_value(key) + 1) % self.capacity\n",
    "    \n",
    "    def search_node(self, key : Any) -> Any : \n",
    "        \"\"\"키가 key 인 버킷을 검색\"\"\"\n",
    "        hash = self.hash_value(key)    # 검색하는 키의 해시값\n",
    "        p = self.table[has]            # 버킷을 주목\n",
    "        \n",
    "        for i in range(self.capacity) : \n",
    "            if p.stat == Status.EMPTY : \n",
    "                break\n",
    "            elif p.stat == Status.OCCUPIED and p.key == key : \n",
    "                return p\n",
    "            hash = self.rehash_value(hash)   # 재해시\n",
    "            p = self.table[hash]\n",
    "        return None\n",
    "    \n",
    "    def search(self, key : Any) -> Any : \n",
    "        \"\"\"키가 key인 원소를 검색하여 값을 반환\"\"\"\n",
    "        p=self.search_node(key)\n",
    "        if p is not None : \n",
    "            return p.value     # 검색 성공\n",
    "        else : \n",
    "            return None        # 검색 실패 \n",
    "        \n",
    "    def add(self, key : Any, value : Any) -> bool : \n",
    "        \"\"\"키가 key이고 값이 value인 원소를 추가\"\"\"\n",
    "        if self.search(key) is not None : \n",
    "            return False      # 이미 등록된 key\n",
    "        \n",
    "        hash = self.hash_value(key)    # 추가하는 키의 해시값\n",
    "        p = self.table[hash]      # 버킷을 주목\n",
    "        for i in rangf(self.capacity) : \n",
    "            if p.stat == Status.EMPTY or p.stat == Status.DELETED : \n",
    "                self.table[hash] = Bucket(key, value, Status.OCCUPIED)\n",
    "                return True\n",
    "            hash = self.rehash_value(hash)    # 재해시\n",
    "            p = self.table[hash]\n",
    "        return False     # 해시 테이블이 가득 참\n",
    "    \n",
    "    \n",
    "    def remove(self, key : Any) -> int : \n",
    "        \"\"\"키가 key인 원소를 삭제\"\"\"\n",
    "        p = self.search_node(key)     # 버킷을 주목\n",
    "        if p is None : \n",
    "            return False    # 이 키는 등록되어 있지 않음\n",
    "        p.set_status(Status.DELETED)\n",
    "        return True\n",
    "    \n",
    "    def dump(self) -> None : \n",
    "        \"\"\"해시 테이블을 덤프\"\"\"\n",
    "        for i in range(self.capacity) : \n",
    "            print(f'{i:2}', end = '')\n",
    "            if self.table[i].stat == Status.OCCUPIED : \n",
    "                print(f'{self.table[i].key} ({self.table[i].value})')\n",
    "            elif self.table[i].stat == Status.EMPTY : \n",
    "                print('---미등록---')\n",
    "            elif self.table[i].stat == Status.DELETED : \n",
    "                print('---삭제 완료---')"
   ]
  },
  {
   "cell_type": "code",
   "execution_count": 40,
   "metadata": {},
   "outputs": [
    {
     "name": "stdout",
     "output_type": "stream",
     "text": [
      "(1)추가 (2)삭제 (3)검색 (4)덤프 (5)종료"
     ]
    },
    {
     "name": "stdin",
     "output_type": "stream",
     "text": [
      ":  1\n",
      "추가할 키를 입력하세요. :  123\n",
      "추가할 값을 입력하세요. :  123\n"
     ]
    },
    {
     "name": "stdout",
     "output_type": "stream",
     "text": [
      "(1)추가 (2)삭제 (3)검색 (4)덤프 (5)종료"
     ]
    },
    {
     "name": "stdin",
     "output_type": "stream",
     "text": [
      ":  123\n"
     ]
    },
    {
     "name": "stdout",
     "output_type": "stream",
     "text": [
      "(1)추가 (2)삭제 (3)검색 (4)덤프 (5)종료"
     ]
    },
    {
     "name": "stdin",
     "output_type": "stream",
     "text": [
      ":  ㅇ\n"
     ]
    },
    {
     "ename": "ValueError",
     "evalue": "invalid literal for int() with base 10: 'ㅇ'",
     "output_type": "error",
     "traceback": [
      "\u001b[0;31m---------------------------------------------------------------------------\u001b[0m",
      "\u001b[0;31mValueError\u001b[0m                                Traceback (most recent call last)",
      "\u001b[0;32m<ipython-input-40-dc618cd3900d>\u001b[0m in \u001b[0;36m<module>\u001b[0;34m\u001b[0m\n\u001b[1;32m     18\u001b[0m \u001b[0;34m\u001b[0m\u001b[0m\n\u001b[1;32m     19\u001b[0m \u001b[0;32mwhile\u001b[0m \u001b[0;32mTrue\u001b[0m \u001b[0;34m:\u001b[0m\u001b[0;34m\u001b[0m\u001b[0;34m\u001b[0m\u001b[0m\n\u001b[0;32m---> 20\u001b[0;31m     \u001b[0mmenu\u001b[0m \u001b[0;34m=\u001b[0m \u001b[0mselect_menu\u001b[0m\u001b[0;34m(\u001b[0m\u001b[0;34m)\u001b[0m   \u001b[0;31m# 메뉴 선택\u001b[0m\u001b[0;34m\u001b[0m\u001b[0;34m\u001b[0m\u001b[0m\n\u001b[0m\u001b[1;32m     21\u001b[0m \u001b[0;34m\u001b[0m\u001b[0m\n\u001b[1;32m     22\u001b[0m     \u001b[0;32mif\u001b[0m \u001b[0mmenu\u001b[0m \u001b[0;34m==\u001b[0m \u001b[0mMenu\u001b[0m\u001b[0;34m.\u001b[0m\u001b[0m추가\u001b[0m \u001b[0;34m:\u001b[0m   \u001b[0;31m# 추가\u001b[0m\u001b[0;34m\u001b[0m\u001b[0;34m\u001b[0m\u001b[0m\n",
      "\u001b[0;32m<ipython-input-40-dc618cd3900d>\u001b[0m in \u001b[0;36mselect_menu\u001b[0;34m()\u001b[0m\n\u001b[1;32m     11\u001b[0m     \u001b[0;32mwhile\u001b[0m \u001b[0;32mTrue\u001b[0m \u001b[0;34m:\u001b[0m\u001b[0;34m\u001b[0m\u001b[0;34m\u001b[0m\u001b[0m\n\u001b[1;32m     12\u001b[0m         \u001b[0mprint\u001b[0m\u001b[0;34m(\u001b[0m\u001b[0;34m*\u001b[0m\u001b[0ms\u001b[0m\u001b[0;34m,\u001b[0m \u001b[0msep\u001b[0m \u001b[0;34m=\u001b[0m \u001b[0;34m' '\u001b[0m\u001b[0;34m,\u001b[0m \u001b[0mend\u001b[0m\u001b[0;34m=\u001b[0m\u001b[0;34m''\u001b[0m\u001b[0;34m)\u001b[0m\u001b[0;34m\u001b[0m\u001b[0;34m\u001b[0m\u001b[0m\n\u001b[0;32m---> 13\u001b[0;31m         \u001b[0mn\u001b[0m \u001b[0;34m=\u001b[0m \u001b[0mint\u001b[0m\u001b[0;34m(\u001b[0m\u001b[0minput\u001b[0m\u001b[0;34m(\u001b[0m\u001b[0;34m': '\u001b[0m\u001b[0;34m)\u001b[0m\u001b[0;34m)\u001b[0m\u001b[0;34m\u001b[0m\u001b[0;34m\u001b[0m\u001b[0m\n\u001b[0m\u001b[1;32m     14\u001b[0m         \u001b[0;32mif\u001b[0m \u001b[0;36m1\u001b[0m \u001b[0;34m<=\u001b[0m \u001b[0mn\u001b[0m \u001b[0;34m<=\u001b[0m \u001b[0mlen\u001b[0m\u001b[0;34m(\u001b[0m\u001b[0mMenu\u001b[0m\u001b[0;34m)\u001b[0m \u001b[0;34m:\u001b[0m\u001b[0;34m\u001b[0m\u001b[0;34m\u001b[0m\u001b[0m\n\u001b[1;32m     15\u001b[0m             \u001b[0;32mreturn\u001b[0m \u001b[0mMenu\u001b[0m\u001b[0;34m(\u001b[0m\u001b[0mn\u001b[0m\u001b[0;34m)\u001b[0m\u001b[0;34m\u001b[0m\u001b[0;34m\u001b[0m\u001b[0m\n",
      "\u001b[0;31mValueError\u001b[0m: invalid literal for int() with base 10: 'ㅇ'"
     ]
    }
   ],
   "source": [
    "# 실습 3-8 / 149p\n",
    "\n",
    "from enum import Enum\n",
    "from open_hash import OpenHash\n",
    "\n",
    "Menu = Enum('Menu', ['추가', '삭제', '검색', '덤프', '종료'])   # 메뉴 선언\n",
    "\n",
    "def select_menu() -> Menu : \n",
    "    \"\"\"메뉴 선택\"\"\"\n",
    "    s = [f'({m.value}){m.name}' for m in Menu]\n",
    "    while True : \n",
    "        print(*s, sep = ' ', end='')\n",
    "        n = int(input(': '))\n",
    "        if 1 <= n <= len(Menu) : \n",
    "            return Menu(n)\n",
    "            \n",
    "hash = OpenHash(13)   # 크기가 13인 해시 테이블 생성\n",
    "\n",
    "while True : \n",
    "    menu = select_menu()   # 메뉴 선택\n",
    "     \n",
    "    if menu == Menu.추가 :   # 추가\n",
    "        key = int(input('추가할 키를 입력하세요. : '))\n",
    "        val = input('추가할 값을 입력하세요. : ')\n",
    "        if not hash.add(key, val) : \n",
    "            print('추가를 실패했습니다!')\n",
    "            \n",
    "    elif menu == Menu.삭제 :  # 삭제\n",
    "        key = int(input('삭제할 키를 입력하세요. : '))\n",
    "        if not hash.remove(key) : \n",
    "            print('삭제를 실패했습니다.')\n",
    "            \n",
    "    elif menu == Menu.검색 :  # 검색\n",
    "        key = int(input('검색할 키를 입력하세요. : '))\n",
    "        t = hash.search(key)\n",
    "        if t is not None : \n",
    "            print(f'검색한 키를 갖은 값은 {t}입니다.')\n",
    "        else : \n",
    "            print('검색할 데이터가 없습니다.')\n",
    "            \n",
    "    elif menu == Menu.덤프 :    # 덤프\n",
    "        hash.dump()\n",
    "    \n",
    "    else :    # 종료\n",
    "        break"
   ]
  },
  {
   "cell_type": "code",
   "execution_count": 2,
   "metadata": {},
   "outputs": [
    {
     "name": "stdin",
     "output_type": "stream",
     "text": [
      "원소 수를 입력하세요. :  2\n"
     ]
    },
    {
     "name": "stdout",
     "output_type": "stream",
     "text": [
      "배열 데이터를 오름차순으로 입력하세요.\n"
     ]
    },
    {
     "name": "stdin",
     "output_type": "stream",
     "text": [
      "x[0] :  1\n",
      "x[1] :  2\n",
      "검색할 값을 입력하세요. :  2\n"
     ]
    },
    {
     "name": "stdout",
     "output_type": "stream",
     "text": [
      "검색값은 x[1]에 있습니다.\n"
     ]
    }
   ],
   "source": [
    "from typing import Any, Sequence\n",
    "\n",
    "def bin_search(a: Sequence, key : Any) -> int : \n",
    "    \"\"\"시퀀스 a에서 key와 일치하는 원소를 이진검색\"\"\"\n",
    "    \n",
    "    pl = 0\n",
    "    pr = len(a)-1\n",
    "    \n",
    "    while True : \n",
    "        pc = (pl+pr) // 2 \n",
    "        if a[pc] == key : \n",
    "            return pc\n",
    "        elif a[pc] < key : \n",
    "            pl = pc+1\n",
    "        else : \n",
    "            pr = pc -1\n",
    "        if pl > pr : \n",
    "            break\n",
    "    return -1\n",
    "\n",
    "if __name__ == '__main__' : \n",
    "    num = int(input('원소 수를 입력하세요. : '))\n",
    "    x = [None]*num\n",
    "    \n",
    "    print('배열 데이터를 오름차순으로 입력하세요.')\n",
    "    \n",
    "    x[0] = int(input('x[0] : '))\n",
    "    \n",
    "    for i in range(1, num) : \n",
    "        while True : \n",
    "            x[i] = int(input(f'x[{i}] : '))\n",
    "            if x[i] >= x[i-1] : \n",
    "                break\n",
    "                \n",
    "    ky = int(input('검색할 값을 입력하세요. : '))\n",
    "    \n",
    "    idx = bin_search(x, ky)\n",
    "    \n",
    "    if idx < 0 : \n",
    "        print('검색값을 갖는 원소가 존재하지 않습니다.')\n",
    "    else : \n",
    "        print(f'검색값은 x[{idx}]에 있습니다.')"
   ]
  },
  {
   "cell_type": "code",
   "execution_count": null,
   "metadata": {},
   "outputs": [],
   "source": [
    "from typing import Any, Sequence\n",
    "\n",
    "def seq_search(a : Sequence, key : Any) -> int : \n",
    "    \n",
    "    i = 0\n",
    "    \n",
    "    while True : \n",
    "        if i ==len(a) :\n",
    "            return -1\n",
    "        if a[i] == key : \n",
    "            return i\n",
    "        \n",
    "        i+=1\n",
    "        \n",
    "if __name__ == '__main__' : \n",
    "    num = int(input('원소의 수를 입력하세요. : '))\n",
    "    x = [None]*num\n",
    "    \n",
    "    for i in range(num) : \n",
    "        x[i] =  int(input(f'x[{i}]: '))\n",
    "    \n",
    "    ky = int(input('검색할 값을 입력하세요. : '))\n",
    "    \n",
    "    idx = seq_search(x, ky)\n",
    "    \n",
    "    if idx == -1 : \n",
    "        print('검색값을 갖는 원소가 존재하지 않습니다.')\n",
    "    else : \n",
    "        print(f'검색값은 x[{idx}]에 있습니다.')"
   ]
  },
  {
   "cell_type": "code",
   "execution_count": 3,
   "metadata": {},
   "outputs": [
    {
     "name": "stdin",
     "output_type": "stream",
     "text": [
      "원소 수를 입력하세요. :  5\n",
      "x[0] :  1\n",
      "x[1] :  2\n",
      "x[2] :  3\n",
      "x[3] :  4\n",
      "x[4] :  5\n",
      "검색할 값을 입력하세요. :  6\n"
     ]
    },
    {
     "name": "stdout",
     "output_type": "stream",
     "text": [
      "검색 값을 갖는 요소가 존재하지 않습니다.\n"
     ]
    }
   ],
   "source": [
    "from typing import Any, Sequence\n",
    "\n",
    "def seq_search(a:Sequence, key:Any) -> int : \n",
    "    \n",
    "    for i in range(len(a)) : \n",
    "        if a[i] == key : \n",
    "            return i\n",
    "        return -1\n",
    "    \n",
    "if __name__ == '__main__' : \n",
    "    num = int(input('원소 수를 입력하세요. : '))\n",
    "    \n",
    "    x = [None]*num\n",
    "    \n",
    "    for i in range(num) : \n",
    "        x[i] = int(input(f'x[{i}] : '))\n",
    "        \n",
    "    ky = int(input('검색할 값을 입력하세요. : '))\n",
    "    \n",
    "    idx = seq_search(x, ky)\n",
    "    \n",
    "    if idx == -1 : \n",
    "        print('검색 값을 갖는 요소가 존재하지 않습니다.')\n",
    "    else : \n",
    "        print(f'검색값은 x[{idx}]에 있습니다.')"
   ]
  },
  {
   "cell_type": "code",
   "execution_count": null,
   "metadata": {},
   "outputs": [],
   "source": []
  }
 ],
 "metadata": {
  "kernelspec": {
   "display_name": "Python 3",
   "language": "python",
   "name": "python3"
  },
  "language_info": {
   "codemirror_mode": {
    "name": "ipython",
    "version": 3
   },
   "file_extension": ".py",
   "mimetype": "text/x-python",
   "name": "python",
   "nbconvert_exporter": "python",
   "pygments_lexer": "ipython3",
   "version": "3.8.5"
  }
 },
 "nbformat": 4,
 "nbformat_minor": 4
}
