{
 "cells": [
  {
   "cell_type": "markdown",
   "metadata": {},
   "source": [
    "# 프로젝트: 뉴스기사 요약해보기\n",
    "***\n",
    "\n",
    "# Step 1. 데이터 수집하기\n",
    "***\n",
    "\n",
    "데이터는 아래 링크에 있는 뉴스 기사 데이터(newssummarymore.csv)를 사용하세요."
   ]
  },
  {
   "cell_type": "code",
   "execution_count": 1,
   "metadata": {},
   "outputs": [
    {
     "name": "stderr",
     "output_type": "stream",
     "text": [
      "[nltk_data] Downloading package stopwords to /home/aiffel/nltk_data...\n",
      "[nltk_data]   Package stopwords is already up-to-date!\n"
     ]
    }
   ],
   "source": [
    "# 라이브러리 import\n",
    "\n",
    "import nltk\n",
    "nltk.download('stopwords')\n",
    "\n",
    "import numpy as np\n",
    "import pandas as pd\n",
    "import os\n",
    "import re\n",
    "import matplotlib.pyplot as plt\n",
    "from nltk.corpus import stopwords\n",
    "from bs4 import BeautifulSoup \n",
    "from tensorflow.keras.preprocessing.text import Tokenizer \n",
    "from tensorflow.keras.preprocessing.sequence import pad_sequences\n",
    "import urllib.request"
   ]
  },
  {
   "cell_type": "code",
   "execution_count": 2,
   "metadata": {},
   "outputs": [],
   "source": [
    "# 데이터 다운\n",
    "\n",
    "urllib.request.urlretrieve(\"https://raw.githubusercontent.com/sunnysai12345/News_Summary/master/news_summary_more.csv\", filename=\"news_summary_more.csv\")\n",
    "data = pd.read_csv('news_summary_more.csv', encoding='iso-8859-1')"
   ]
  },
  {
   "cell_type": "code",
   "execution_count": 3,
   "metadata": {},
   "outputs": [
    {
     "data": {
      "text/html": [
       "<div>\n",
       "<style scoped>\n",
       "    .dataframe tbody tr th:only-of-type {\n",
       "        vertical-align: middle;\n",
       "    }\n",
       "\n",
       "    .dataframe tbody tr th {\n",
       "        vertical-align: top;\n",
       "    }\n",
       "\n",
       "    .dataframe thead th {\n",
       "        text-align: right;\n",
       "    }\n",
       "</style>\n",
       "<table border=\"1\" class=\"dataframe\">\n",
       "  <thead>\n",
       "    <tr style=\"text-align: right;\">\n",
       "      <th></th>\n",
       "      <th>headlines</th>\n",
       "      <th>text</th>\n",
       "    </tr>\n",
       "  </thead>\n",
       "  <tbody>\n",
       "    <tr>\n",
       "      <th>92861</th>\n",
       "      <td>Yogi Adityanath govt renames Agra, Gorakhpur a...</td>\n",
       "      <td>The Yogi Adityanath-led government on Tuesday ...</td>\n",
       "    </tr>\n",
       "    <tr>\n",
       "      <th>15374</th>\n",
       "      <td>Pak govt officer steals Kuwait delegate's wall...</td>\n",
       "      <td>A Pakistani official was caught on Friday stea...</td>\n",
       "    </tr>\n",
       "    <tr>\n",
       "      <th>79783</th>\n",
       "      <td>China our enemy, not Pakistan: SP supremo Mula...</td>\n",
       "      <td>Samajwadi Party supremo Mulayam Singh Yadav sa...</td>\n",
       "    </tr>\n",
       "    <tr>\n",
       "      <th>49013</th>\n",
       "      <td>Anupam Kher's account hacked with 'I Love Paki...</td>\n",
       "      <td>The Twitter accounts of actor Anupam Kher and ...</td>\n",
       "    </tr>\n",
       "    <tr>\n",
       "      <th>45725</th>\n",
       "      <td>24,700 women abduction cases solved in Raj in ...</td>\n",
       "      <td>Rajasthan Home Minister Gulab Chand Kataria on...</td>\n",
       "    </tr>\n",
       "    <tr>\n",
       "      <th>18233</th>\n",
       "      <td>Fixing Facebook is going to take until 2019: M...</td>\n",
       "      <td>Facebook CEO Mark Zuckerberg on Friday said th...</td>\n",
       "    </tr>\n",
       "    <tr>\n",
       "      <th>49135</th>\n",
       "      <td>'World's loneliest bird' Nigel dies next to co...</td>\n",
       "      <td>A gannet called Nigel, who was known as the wo...</td>\n",
       "    </tr>\n",
       "    <tr>\n",
       "      <th>10061</th>\n",
       "      <td>NASA, Autodesk unveil interplanetary lander co...</td>\n",
       "      <td>NASA's Jet Propulsion Laboratory and American ...</td>\n",
       "    </tr>\n",
       "    <tr>\n",
       "      <th>12721</th>\n",
       "      <td>BoredElonMusk is my secret troll account, joke...</td>\n",
       "      <td>Replying to a Twitter account named 'BoredElon...</td>\n",
       "    </tr>\n",
       "    <tr>\n",
       "      <th>13968</th>\n",
       "      <td>Sensex crashes 1,000 points; investors lose Ã¢...</td>\n",
       "      <td>Stock market investors lost as much as Ã¢ÂÂ¹4...</td>\n",
       "    </tr>\n",
       "  </tbody>\n",
       "</table>\n",
       "</div>"
      ],
      "text/plain": [
       "                                               headlines  \\\n",
       "92861  Yogi Adityanath govt renames Agra, Gorakhpur a...   \n",
       "15374  Pak govt officer steals Kuwait delegate's wall...   \n",
       "79783  China our enemy, not Pakistan: SP supremo Mula...   \n",
       "49013  Anupam Kher's account hacked with 'I Love Paki...   \n",
       "45725  24,700 women abduction cases solved in Raj in ...   \n",
       "18233  Fixing Facebook is going to take until 2019: M...   \n",
       "49135  'World's loneliest bird' Nigel dies next to co...   \n",
       "10061  NASA, Autodesk unveil interplanetary lander co...   \n",
       "12721  BoredElonMusk is my secret troll account, joke...   \n",
       "13968  Sensex crashes 1,000 points; investors lose Ã¢...   \n",
       "\n",
       "                                                    text  \n",
       "92861  The Yogi Adityanath-led government on Tuesday ...  \n",
       "15374  A Pakistani official was caught on Friday stea...  \n",
       "79783  Samajwadi Party supremo Mulayam Singh Yadav sa...  \n",
       "49013  The Twitter accounts of actor Anupam Kher and ...  \n",
       "45725  Rajasthan Home Minister Gulab Chand Kataria on...  \n",
       "18233  Facebook CEO Mark Zuckerberg on Friday said th...  \n",
       "49135  A gannet called Nigel, who was known as the wo...  \n",
       "10061  NASA's Jet Propulsion Laboratory and American ...  \n",
       "12721  Replying to a Twitter account named 'BoredElon...  \n",
       "13968  Stock market investors lost as much as Ã¢ÂÂ¹4...  "
      ]
     },
     "execution_count": 3,
     "metadata": {},
     "output_type": "execute_result"
    }
   ],
   "source": [
    "data.sample(10)"
   ]
  },
  {
   "cell_type": "markdown",
   "metadata": {},
   "source": [
    "이 데이터는 기사의 본문에 해당되는 text와 headlines 두 가지 열로 구성되어져 있습니다.\n",
    "\n",
    "추상적 요약을 하는 경우에는 text를 본문, headlines를 이미 요약된 데이터로 삼아서 모델을 학습할 수 있어요. 추출적 요약을 하는 경우에는 오직 text열만을 사용하세요."
   ]
  },
  {
   "cell_type": "markdown",
   "metadata": {},
   "source": [
    "# Step 2. 데이터 전처리하기 (추상적 요약)\n",
    "***\n",
    "\n",
    "실습에서 사용된 전처리를 참고하여 각자 필요하다고 생각하는 전처리를 추가 사용하여 텍스트를 정규화 또는 정제해 보세요. 만약, 불용어 제거를 선택한다면 상대적으로 길이가 짧은 요약 데이터에 대해서도 불용어를 제거하는 것이 좋을지 고민해보세요."
   ]
  },
  {
   "cell_type": "code",
   "execution_count": 4,
   "metadata": {},
   "outputs": [
    {
     "name": "stdout",
     "output_type": "stream",
     "text": [
      "headline 열에서 중복을 베재한 샘플의 수 :  98280\n",
      "Text 열에서 중복을 배제한 샘플의 수 :  98360\n"
     ]
    }
   ],
   "source": [
    "# 중복 샘플과 null 값이 존재하는 샘플 제거\n",
    "\n",
    "print('headline 열에서 중복을 베재한 샘플의 수 : ', data['headlines'].nunique())\n",
    "\n",
    "print('Text 열에서 중복을 배제한 샘플의 수 : ', data['text'].nunique())"
   ]
  },
  {
   "cell_type": "code",
   "execution_count": 5,
   "metadata": {},
   "outputs": [
    {
     "name": "stdout",
     "output_type": "stream",
     "text": [
      "전체 text 수 : 98360\n"
     ]
    }
   ],
   "source": [
    "# 중복 데이터 제거\n",
    "\n",
    "data.drop_duplicates(subset = ['text'], inplace = True)\n",
    "print('전체 text 수 :', (len(data)))"
   ]
  },
  {
   "cell_type": "code",
   "execution_count": 6,
   "metadata": {},
   "outputs": [
    {
     "name": "stdout",
     "output_type": "stream",
     "text": [
      "headlines    0\n",
      "text         0\n",
      "dtype: int64\n"
     ]
    }
   ],
   "source": [
    "# null 값 확인\n",
    "\n",
    "print(data.isnull().sum())"
   ]
  },
  {
   "cell_type": "code",
   "execution_count": 7,
   "metadata": {},
   "outputs": [
    {
     "name": "stdout",
     "output_type": "stream",
     "text": [
      "정규화 사전의 수:  120\n"
     ]
    }
   ],
   "source": [
    "# 텍스트 정규화\n",
    "\n",
    "contractions = {\"ain't\": \"is not\", \"aren't\": \"are not\",\"can't\": \"cannot\", \"'cause\": \"because\", \"could've\": \"could have\", \"couldn't\": \"could not\",\n",
    "                           \"didn't\": \"did not\",  \"doesn't\": \"does not\", \"don't\": \"do not\", \"hadn't\": \"had not\", \"hasn't\": \"has not\", \"haven't\": \"have not\",\n",
    "                           \"he'd\": \"he would\",\"he'll\": \"he will\", \"he's\": \"he is\", \"how'd\": \"how did\", \"how'd'y\": \"how do you\", \"how'll\": \"how will\", \"how's\": \"how is\",\n",
    "                           \"I'd\": \"I would\", \"I'd've\": \"I would have\", \"I'll\": \"I will\", \"I'll've\": \"I will have\",\"I'm\": \"I am\", \"I've\": \"I have\", \"i'd\": \"i would\",\n",
    "                           \"i'd've\": \"i would have\", \"i'll\": \"i will\",  \"i'll've\": \"i will have\",\"i'm\": \"i am\", \"i've\": \"i have\", \"isn't\": \"is not\", \"it'd\": \"it would\",\n",
    "                           \"it'd've\": \"it would have\", \"it'll\": \"it will\", \"it'll've\": \"it will have\",\"it's\": \"it is\", \"let's\": \"let us\", \"ma'am\": \"madam\",\n",
    "                           \"mayn't\": \"may not\", \"might've\": \"might have\",\"mightn't\": \"might not\",\"mightn't've\": \"might not have\", \"must've\": \"must have\",\n",
    "                           \"mustn't\": \"must not\", \"mustn't've\": \"must not have\", \"needn't\": \"need not\", \"needn't've\": \"need not have\",\"o'clock\": \"of the clock\",\n",
    "                           \"oughtn't\": \"ought not\", \"oughtn't've\": \"ought not have\", \"shan't\": \"shall not\", \"sha'n't\": \"shall not\", \"shan't've\": \"shall not have\",\n",
    "                           \"she'd\": \"she would\", \"she'd've\": \"she would have\", \"she'll\": \"she will\", \"she'll've\": \"she will have\", \"she's\": \"she is\",\n",
    "                           \"should've\": \"should have\", \"shouldn't\": \"should not\", \"shouldn't've\": \"should not have\", \"so've\": \"so have\",\"so's\": \"so as\",\n",
    "                           \"this's\": \"this is\",\"that'd\": \"that would\", \"that'd've\": \"that would have\", \"that's\": \"that is\", \"there'd\": \"there would\",\n",
    "                           \"there'd've\": \"there would have\", \"there's\": \"there is\", \"here's\": \"here is\",\"they'd\": \"they would\", \"they'd've\": \"they would have\",\n",
    "                           \"they'll\": \"they will\", \"they'll've\": \"they will have\", \"they're\": \"they are\", \"they've\": \"they have\", \"to've\": \"to have\",\n",
    "                           \"wasn't\": \"was not\", \"we'd\": \"we would\", \"we'd've\": \"we would have\", \"we'll\": \"we will\", \"we'll've\": \"we will have\", \"we're\": \"we are\",\n",
    "                           \"we've\": \"we have\", \"weren't\": \"were not\", \"what'll\": \"what will\", \"what'll've\": \"what will have\", \"what're\": \"what are\",\n",
    "                           \"what's\": \"what is\", \"what've\": \"what have\", \"when's\": \"when is\", \"when've\": \"when have\", \"where'd\": \"where did\", \"where's\": \"where is\",\n",
    "                           \"where've\": \"where have\", \"who'll\": \"who will\", \"who'll've\": \"who will have\", \"who's\": \"who is\", \"who've\": \"who have\",\n",
    "                           \"why's\": \"why is\", \"why've\": \"why have\", \"will've\": \"will have\", \"won't\": \"will not\", \"won't've\": \"will not have\",\n",
    "                           \"would've\": \"would have\", \"wouldn't\": \"would not\", \"wouldn't've\": \"would not have\", \"y'all\": \"you all\",\n",
    "                           \"y'all'd\": \"you all would\",\"y'all'd've\": \"you all would have\",\"y'all're\": \"you all are\",\"y'all've\": \"you all have\",\n",
    "                           \"you'd\": \"you would\", \"you'd've\": \"you would have\", \"you'll\": \"you will\", \"you'll've\": \"you will have\",\n",
    "                           \"you're\": \"you are\", \"you've\": \"you have\"}\n",
    "\n",
    "print(\"정규화 사전의 수: \",len(contractions))"
   ]
  },
  {
   "cell_type": "code",
   "execution_count": 8,
   "metadata": {},
   "outputs": [
    {
     "name": "stdout",
     "output_type": "stream",
     "text": [
      "불용어 개수 : 179\n",
      "['i', 'me', 'my', 'myself', 'we', 'our', 'ours', 'ourselves', 'you', \"you're\", \"you've\", \"you'll\", \"you'd\", 'your', 'yours', 'yourself', 'yourselves', 'he', 'him', 'his', 'himself', 'she', \"she's\", 'her', 'hers', 'herself', 'it', \"it's\", 'its', 'itself', 'they', 'them', 'their', 'theirs', 'themselves', 'what', 'which', 'who', 'whom', 'this', 'that', \"that'll\", 'these', 'those', 'am', 'is', 'are', 'was', 'were', 'be', 'been', 'being', 'have', 'has', 'had', 'having', 'do', 'does', 'did', 'doing', 'a', 'an', 'the', 'and', 'but', 'if', 'or', 'because', 'as', 'until', 'while', 'of', 'at', 'by', 'for', 'with', 'about', 'against', 'between', 'into', 'through', 'during', 'before', 'after', 'above', 'below', 'to', 'from', 'up', 'down', 'in', 'out', 'on', 'off', 'over', 'under', 'again', 'further', 'then', 'once', 'here', 'there', 'when', 'where', 'why', 'how', 'all', 'any', 'both', 'each', 'few', 'more', 'most', 'other', 'some', 'such', 'no', 'nor', 'not', 'only', 'own', 'same', 'so', 'than', 'too', 'very', 's', 't', 'can', 'will', 'just', 'don', \"don't\", 'should', \"should've\", 'now', 'd', 'll', 'm', 'o', 're', 've', 'y', 'ain', 'aren', \"aren't\", 'couldn', \"couldn't\", 'didn', \"didn't\", 'doesn', \"doesn't\", 'hadn', \"hadn't\", 'hasn', \"hasn't\", 'haven', \"haven't\", 'isn', \"isn't\", 'ma', 'mightn', \"mightn't\", 'mustn', \"mustn't\", 'needn', \"needn't\", 'shan', \"shan't\", 'shouldn', \"shouldn't\", 'wasn', \"wasn't\", 'weren', \"weren't\", 'won', \"won't\", 'wouldn', \"wouldn't\"]\n"
     ]
    }
   ],
   "source": [
    "# 불용어 제거\n",
    "# nltk_data/corpora/stopwords 을 불러오기\n",
    "\n",
    "print('불용어 개수 :', len(stopwords.words('english') ))\n",
    "print(stopwords.words('english'))"
   ]
  },
  {
   "cell_type": "code",
   "execution_count": 9,
   "metadata": {},
   "outputs": [],
   "source": [
    "# 데이터 전처리 함수\n",
    "\n",
    "def preprocess_sentence(sentence, remove_stopwords = True) : \n",
    "    # 텍스트 소문자화\n",
    "    sentence = sentence.lower()\n",
    "    \n",
    "    # <br />, <a href = ...> 등의 html 태그 제거\n",
    "    sentence = BeautifulSoup(sentence, \"lxml\").text\n",
    "    \n",
    "    # 괄호로 닫힌 문자열 (...) 제거 Ex) my husband (and myself!) for => my husband for\n",
    "    sentence = re.sub(r'\\([^)]*\\)', '', sentence)\n",
    "    \n",
    "    # 쌍따옴표 \" 제거\n",
    "    sentence = re.sub('\"','', sentence)\n",
    "    \n",
    "    # 약어 정규화\n",
    "    sentence = ' '.join([contractions[t] if t in contractions else t for t in sentence.split(\" \")])\n",
    "    \n",
    "    # 소유격 제거. Ex) roland's -> roland\n",
    "    sentence = re.sub(r\"'s\\b\",\"\",sentence)\n",
    "    \n",
    "    # 영어 외 문자(숫자, 특수문자 등) 공백으로 변환\n",
    "    sentence = re.sub(\"[^a-zA-Z]\", \" \", sentence) \n",
    "    \n",
    "    # m이 3개 이상이면 2개로 변경. Ex) ummmmmmm yeah -> umm yeah\n",
    "    sentence = re.sub('[m]{2,}', 'mm', sentence)\n",
    "    \n",
    "    # 불용어 제거 (Text)\n",
    "    if remove_stopwords:\n",
    "        tokens = ' '.join(word for word in sentence.split() if not word in stopwords.words('english') if len(word) > 1)\n",
    "    # 불용어 미제거 (Summary)\n",
    "    else:\n",
    "        tokens = ' '.join(word for word in sentence.split() if len(word) > 1)\n",
    "    return tokens"
   ]
  },
  {
   "cell_type": "code",
   "execution_count": 10,
   "metadata": {},
   "outputs": [
    {
     "name": "stdout",
     "output_type": "stream",
     "text": [
      "saurav kant alumnus upgrad iiit pg program machine learning artificial intelligence sr systems engineer infosys almost years work experience program upgrad degree career support helped transition data scientist tech mahindra salary hike upgrad online power learning powered lakh careers\n",
      "upgrad learner switches to career in ml al with salary hike\n"
     ]
    }
   ],
   "source": [
    "temp_text = \"Saurav Kant, an alumnus of upGrad and IIIT-B's PG Program in Machine learning and Artificial Intelligence, was a Sr Systems Engineer at Infosys with almost 5 years of work experience. The program and upGrad's 360-degree career support helped him transition to a Data Scientist at Tech Mahindra with 90% salary hike. upGrad's Online Power Learning has powered 3 lakh+ careers.\"\n",
    "temp_summary = 'upGrad learner switches to career in ML & Al with 90% salary hike'\n",
    "\n",
    "print(preprocess_sentence(temp_text))\n",
    "\n",
    "# 불용어를 제거하지 않는다.\n",
    "print(preprocess_sentence(temp_summary, False))  "
   ]
  },
  {
   "cell_type": "code",
   "execution_count": 11,
   "metadata": {},
   "outputs": [
    {
     "data": {
      "text/plain": [
       "['saurav kant alumnus upgrad iiit pg program machine learning artificial intelligence sr systems engineer infosys almost years work experience program upgrad degree career support helped transition data scientist tech mahindra salary hike upgrad online power learning powered lakh careers',\n",
       " 'kunal shah credit card bill payment platform cred gave users chance win free food swiggy one year pranav kaushik delhi techie bagged reward spending cred coins users get one cred coin per rupee bill paid used avail rewards brands like ixigo bookmyshow ubereats cult fit',\n",
       " 'new zealand defeated india wickets fourth odi hamilton thursday win first match five match odi series india lost international match rohit sharma captaincy consecutive victories dating back march match witnessed india getting seventh lowest total odi cricket history',\n",
       " 'aegon life iterm insurance plan customers enjoy tax benefits premiums paid save taxes plan provides life cover age years also customers options insure critical illnesses disability accidental death benefit rider life cover age years',\n",
       " 'speaking sexual harassment allegations rajkumar hirani sonam kapoor said known hirani many years true metoo movement get derailed metoo movement always believe woman case need reserve judgment added hirani accused assistant worked sanju']"
      ]
     },
     "execution_count": 11,
     "metadata": {},
     "output_type": "execute_result"
    }
   ],
   "source": [
    "clean_text = []\n",
    "\n",
    "\n",
    "# 전체 Text 데이터에 대한 전처리 : 10분 이상 시간이 걸릴 수 있습니다. \n",
    "for s in data['text']:\n",
    "    clean_text.append(preprocess_sentence(s))\n",
    "\n",
    "# 전처리 후 출력\n",
    "clean_text[:5]"
   ]
  },
  {
   "cell_type": "code",
   "execution_count": 12,
   "metadata": {},
   "outputs": [
    {
     "data": {
      "text/plain": [
       "['upgrad learner switches to career in ml al with salary hike',\n",
       " 'delhi techie wins free food from swiggy for one year on cred',\n",
       " 'new zealand end rohit sharma led india match winning streak',\n",
       " 'aegon life iterm insurance plan helps customers save tax',\n",
       " 'have known hirani for yrs what if metoo claims are not true sonam']"
      ]
     },
     "execution_count": 12,
     "metadata": {},
     "output_type": "execute_result"
    }
   ],
   "source": [
    "clean_headline = []\n",
    "\n",
    "# 전체 Summary 데이터에 대한 전처리 : 5분 이상 시간이 걸릴 수 있습니다. \n",
    "for s in data['headlines']:\n",
    "    clean_headline.append(preprocess_sentence(s, False))\n",
    "\n",
    "clean_headline[:5]"
   ]
  },
  {
   "cell_type": "code",
   "execution_count": 13,
   "metadata": {},
   "outputs": [
    {
     "data": {
      "text/plain": [
       "headlines    0\n",
       "text         0\n",
       "dtype: int64"
      ]
     },
     "execution_count": 13,
     "metadata": {},
     "output_type": "execute_result"
    }
   ],
   "source": [
    "# null 값이 생겼는지 확인\n",
    "\n",
    "data.isnull().sum()"
   ]
  },
  {
   "cell_type": "code",
   "execution_count": 14,
   "metadata": {},
   "outputs": [
    {
     "name": "stdout",
     "output_type": "stream",
     "text": [
      "텍스트의 최소 길이 : 1\n",
      "텍스트의 최대 길이 : 91\n",
      "텍스트의 평균 길이 : 58.23813542090281\n",
      "headline의 최소 길이 : 1\n",
      "headline의 최대 길이 : 18\n",
      "headline의 평균 길이 : 9.553660024400163\n"
     ]
    },
    {
     "data": {
      "image/png": "[encoded data removed]",
      "text/plain": [
       "<Figure size 432x288 with 2 Axes>"
      ]
     },
     "metadata": {
      "needs_background": "light"
     },
     "output_type": "display_data"
    },
    {
     "data": {
      "image/png": "[encoded data removed]",
      "text/plain": [
       "<Figure size 432x288 with 1 Axes>"
      ]
     },
     "metadata": {
      "needs_background": "light"
     },
     "output_type": "display_data"
    },
    {
     "data": {
      "image/png": "[encoded data removed]",
      "text/plain": [
       "<Figure size 432x288 with 1 Axes>"
      ]
     },
     "metadata": {
      "needs_background": "light"
     },
     "output_type": "display_data"
    }
   ],
   "source": [
    "# 샘플의 최대 길이 정하기\n",
    "\n",
    "# 길이 분포 출력\n",
    "import matplotlib.pyplot as plt\n",
    "\n",
    "text_len = [len(s.split()) for s in data['text']]\n",
    "headline_len = [len(s.split()) for s in data['headlines']]\n",
    "\n",
    "print('텍스트의 최소 길이 : {}'.format(np.min(text_len)))\n",
    "print('텍스트의 최대 길이 : {}'.format(np.max(text_len)))\n",
    "print('텍스트의 평균 길이 : {}'.format(np.mean(text_len)))\n",
    "print('headline의 최소 길이 : {}'.format(np.min(headline_len)))\n",
    "print('headline의 최대 길이 : {}'.format(np.max(headline_len)))\n",
    "print('headline의 평균 길이 : {}'.format(np.mean(headline_len)))\n",
    "\n",
    "plt.subplot(1,2,1)\n",
    "plt.boxplot(headline_len)\n",
    "plt.title('headline')\n",
    "plt.subplot(1,2,2)\n",
    "plt.boxplot(text_len)\n",
    "plt.title('text')\n",
    "plt.tight_layout()\n",
    "plt.show()\n",
    "\n",
    "plt.title('headline')\n",
    "plt.hist(headline_len, bins = 40)\n",
    "plt.xlabel('length of sample')\n",
    "plt.ylabel('number of sample')\n",
    "plt.show()\n",
    "\n",
    "plt.title('text')\n",
    "plt.hist(text_len, bins = 40)\n",
    "plt.xlabel('length of samples')\n",
    "plt.ylabel('number of samples')\n",
    "plt.show()"
   ]
  },
  {
   "cell_type": "code",
   "execution_count": 15,
   "metadata": {},
   "outputs": [],
   "source": [
    "# text, headline 의 최대 길이 정하기\n",
    "\n",
    "# 최대 길이가 길지 않아 다 포함하도록 설정\n",
    "\n",
    "text_max_len = 91\n",
    "headline_max_len = 18"
   ]
  },
  {
   "cell_type": "code",
   "execution_count": 16,
   "metadata": {},
   "outputs": [],
   "source": [
    "# 몇 개의 샘플이 해당되는지 확인하기 위한 함수\n",
    "\n",
    "def below_threshold_len(max_len, nested_list):\n",
    "  cnt = 0\n",
    "  for s in nested_list:\n",
    "    if(len(s.split()) <= max_len):\n",
    "        cnt = cnt + 1\n",
    "  print('전체 샘플 중 길이가 %s 이하인 샘플의 비율: %s'%(max_len, (cnt / len(nested_list))))"
   ]
  },
  {
   "cell_type": "code",
   "execution_count": 17,
   "metadata": {},
   "outputs": [
    {
     "name": "stdout",
     "output_type": "stream",
     "text": [
      "전체 샘플 중 길이가 91 이하인 샘플의 비율: 1.0\n",
      "전체 샘플 중 길이가 18 이하인 샘플의 비율: 1.0\n"
     ]
    }
   ],
   "source": [
    "below_threshold_len(text_max_len, data['text'])\n",
    "below_threshold_len(headline_max_len,  data['headlines'])"
   ]
  },
  {
   "cell_type": "code",
   "execution_count": 18,
   "metadata": {},
   "outputs": [
    {
     "data": {
      "text/html": [
       "<div>\n",
       "<style scoped>\n",
       "    .dataframe tbody tr th:only-of-type {\n",
       "        vertical-align: middle;\n",
       "    }\n",
       "\n",
       "    .dataframe tbody tr th {\n",
       "        vertical-align: top;\n",
       "    }\n",
       "\n",
       "    .dataframe thead th {\n",
       "        text-align: right;\n",
       "    }\n",
       "</style>\n",
       "<table border=\"1\" class=\"dataframe\">\n",
       "  <thead>\n",
       "    <tr style=\"text-align: right;\">\n",
       "      <th></th>\n",
       "      <th>headlines</th>\n",
       "      <th>text</th>\n",
       "      <th>decoder_input</th>\n",
       "      <th>decoder_target</th>\n",
       "    </tr>\n",
       "  </thead>\n",
       "  <tbody>\n",
       "    <tr>\n",
       "      <th>0</th>\n",
       "      <td>upGrad learner switches to career in ML &amp; Al w...</td>\n",
       "      <td>Saurav Kant, an alumnus of upGrad and IIIT-B's...</td>\n",
       "      <td>sostoken Saurav Kant, an alumnus of upGrad and...</td>\n",
       "      <td>Saurav Kant, an alumnus of upGrad and IIIT-B's...</td>\n",
       "    </tr>\n",
       "    <tr>\n",
       "      <th>1</th>\n",
       "      <td>Delhi techie wins free food from Swiggy for on...</td>\n",
       "      <td>Kunal Shah's credit card bill payment platform...</td>\n",
       "      <td>sostoken Kunal Shah's credit card bill payment...</td>\n",
       "      <td>Kunal Shah's credit card bill payment platform...</td>\n",
       "    </tr>\n",
       "    <tr>\n",
       "      <th>2</th>\n",
       "      <td>New Zealand end Rohit Sharma-led India's 12-ma...</td>\n",
       "      <td>New Zealand defeated India by 8 wickets in the...</td>\n",
       "      <td>sostoken New Zealand defeated India by 8 wicke...</td>\n",
       "      <td>New Zealand defeated India by 8 wickets in the...</td>\n",
       "    </tr>\n",
       "    <tr>\n",
       "      <th>3</th>\n",
       "      <td>Aegon life iTerm insurance plan helps customer...</td>\n",
       "      <td>With Aegon Life iTerm Insurance plan, customer...</td>\n",
       "      <td>sostoken With Aegon Life iTerm Insurance plan,...</td>\n",
       "      <td>With Aegon Life iTerm Insurance plan, customer...</td>\n",
       "    </tr>\n",
       "    <tr>\n",
       "      <th>4</th>\n",
       "      <td>Have known Hirani for yrs, what if MeToo claim...</td>\n",
       "      <td>Speaking about the sexual harassment allegatio...</td>\n",
       "      <td>sostoken Speaking about the sexual harassment ...</td>\n",
       "      <td>Speaking about the sexual harassment allegatio...</td>\n",
       "    </tr>\n",
       "  </tbody>\n",
       "</table>\n",
       "</div>"
      ],
      "text/plain": [
       "                                           headlines  \\\n",
       "0  upGrad learner switches to career in ML & Al w...   \n",
       "1  Delhi techie wins free food from Swiggy for on...   \n",
       "2  New Zealand end Rohit Sharma-led India's 12-ma...   \n",
       "3  Aegon life iTerm insurance plan helps customer...   \n",
       "4  Have known Hirani for yrs, what if MeToo claim...   \n",
       "\n",
       "                                                text  \\\n",
       "0  Saurav Kant, an alumnus of upGrad and IIIT-B's...   \n",
       "1  Kunal Shah's credit card bill payment platform...   \n",
       "2  New Zealand defeated India by 8 wickets in the...   \n",
       "3  With Aegon Life iTerm Insurance plan, customer...   \n",
       "4  Speaking about the sexual harassment allegatio...   \n",
       "\n",
       "                                       decoder_input  \\\n",
       "0  sostoken Saurav Kant, an alumnus of upGrad and...   \n",
       "1  sostoken Kunal Shah's credit card bill payment...   \n",
       "2  sostoken New Zealand defeated India by 8 wicke...   \n",
       "3  sostoken With Aegon Life iTerm Insurance plan,...   \n",
       "4  sostoken Speaking about the sexual harassment ...   \n",
       "\n",
       "                                      decoder_target  \n",
       "0  Saurav Kant, an alumnus of upGrad and IIIT-B's...  \n",
       "1  Kunal Shah's credit card bill payment platform...  \n",
       "2  New Zealand defeated India by 8 wickets in the...  \n",
       "3  With Aegon Life iTerm Insurance plan, customer...  \n",
       "4  Speaking about the sexual harassment allegatio...  "
      ]
     },
     "execution_count": 18,
     "metadata": {},
     "output_type": "execute_result"
    }
   ],
   "source": [
    "# 요약 데이터에는 시작 토큰과 종료 토큰을 추가.\n",
    "\n",
    "data['decoder_input'] = data['text'].apply(lambda x : 'sostoken '+ x)\n",
    "data['decoder_target'] = data['text'].apply(lambda x : x + ' eostoken')\n",
    "data.head()"
   ]
  },
  {
   "cell_type": "code",
   "execution_count": 19,
   "metadata": {},
   "outputs": [],
   "source": [
    "# 디코더의 입력과 레이블을 numpy 타입으로 저장\n",
    "\n",
    "encoder_input = np.array(data['text']) # 인코더의 입력\n",
    "decoder_input = np.array(data['decoder_input']) # 디코더의 입력\n",
    "decoder_target = np.array(data['decoder_target']) # 디코더의 레이블"
   ]
  },
  {
   "cell_type": "code",
   "execution_count": 20,
   "metadata": {},
   "outputs": [
    {
     "name": "stdout",
     "output_type": "stream",
     "text": [
      "[ 8513 29423 41284 ... 35618 33326  2122]\n"
     ]
    }
   ],
   "source": [
    "# 데이터 분리\n",
    "\n",
    "indices = np.arange(encoder_input.shape[0])\n",
    "np.random.shuffle(indices)\n",
    "print(indices)"
   ]
  },
  {
   "cell_type": "code",
   "execution_count": 21,
   "metadata": {},
   "outputs": [],
   "source": [
    "# 정수 시퀀스를 이용해 데이터의 샘플 순서를 정의\n",
    "\n",
    "encoder_input = encoder_input[indices]\n",
    "decoder_input = decoder_input[indices]\n",
    "decoder_target = decoder_target[indices]"
   ]
  },
  {
   "cell_type": "code",
   "execution_count": 22,
   "metadata": {},
   "outputs": [
    {
     "name": "stdout",
     "output_type": "stream",
     "text": [
      "테스트 데이터의 수 : 19672\n"
     ]
    }
   ],
   "source": [
    "# 섞인 데이터를 학습용 데이터와 테스트 데이터로 분리, 8:2로 분리\n",
    "\n",
    "n_of_val = int(len(encoder_input)*0.2)\n",
    "print('테스트 데이터의 수 :',n_of_val)"
   ]
  },
  {
   "cell_type": "code",
   "execution_count": 23,
   "metadata": {},
   "outputs": [
    {
     "name": "stdout",
     "output_type": "stream",
     "text": [
      "훈련 데이터의 개수 : 78688\n",
      "훈련 레이블의 개수 : 78688\n",
      "테스트 데이터의 개수 : 19672\n",
      "테스트 레이블의 개수 : 19672\n"
     ]
    }
   ],
   "source": [
    "#  테스트 데이터 갯수를 이용, 전체 데이터를 양분\n",
    "\n",
    "encoder_input_train = encoder_input[:-n_of_val]\n",
    "decoder_input_train = decoder_input[:-n_of_val]\n",
    "decoder_target_train = decoder_target[:-n_of_val]\n",
    "\n",
    "encoder_input_test = encoder_input[-n_of_val:]\n",
    "decoder_input_test = decoder_input[-n_of_val:]\n",
    "decoder_target_test = decoder_target[-n_of_val:]\n",
    "\n",
    "print('훈련 데이터의 개수 :', len(encoder_input_train))\n",
    "print('훈련 레이블의 개수 :',len(decoder_input_train))\n",
    "print('테스트 데이터의 개수 :',len(encoder_input_test))\n",
    "print('테스트 레이블의 개수 :',len(decoder_input_test))"
   ]
  },
  {
   "cell_type": "code",
   "execution_count": 24,
   "metadata": {},
   "outputs": [],
   "source": [
    "# 단어 집합 생성\n",
    "\n",
    "# 토크나이저 정희\n",
    "\n",
    "src_tokenizer = Tokenizer()\n",
    "\n",
    "# 입력된 데이터로부터 단어 집합 생성\n",
    "\n",
    "src_tokenizer.fit_on_texts(encoder_input_train)"
   ]
  },
  {
   "cell_type": "code",
   "execution_count": 25,
   "metadata": {},
   "outputs": [
    {
     "name": "stdout",
     "output_type": "stream",
     "text": [
      "단어 집합(vocabulary)의 크기 : 91307\n",
      "등장 빈도가 6번 이하인 희귀 단어의 수: 66508\n",
      "단어 집합에서 희귀 단어를 제외시킬 경우의 단어 집합의 크기 24799\n",
      "단어 집합에서 희귀 단어의 비율: 72.83997941012188\n",
      "전체 등장 빈도에서 희귀 단어 등장 빈도 비율: 2.725402949991386\n"
     ]
    }
   ],
   "source": [
    "# 빈도수가 7미만인 단어 확인\n",
    "\n",
    "threshold = 7\n",
    "total_cnt = len(src_tokenizer.word_index) # 단어의 수\n",
    "rare_cnt = 0 # 등장 빈도수가 threshold보다 작은 단어의 개수를 카운트\n",
    "total_freq = 0 # 훈련 데이터의 전체 단어 빈도수 총 합\n",
    "rare_freq = 0 # 등장 빈도수가 threshold보다 작은 단어의 등장 빈도수의 총 합\n",
    "\n",
    "# 단어와 빈도수의 쌍(pair)을 key와 value로 받는다.\n",
    "for key, value in src_tokenizer.word_counts.items():\n",
    "    total_freq = total_freq + value\n",
    "\n",
    "    # 단어의 등장 빈도수가 threshold보다 작으면\n",
    "    if(value < threshold):\n",
    "        rare_cnt = rare_cnt + 1\n",
    "        rare_freq = rare_freq + value\n",
    "\n",
    "print('단어 집합(vocabulary)의 크기 :',total_cnt)\n",
    "print('등장 빈도가 %s번 이하인 희귀 단어의 수: %s'%(threshold - 1, rare_cnt))\n",
    "print('단어 집합에서 희귀 단어를 제외시킬 경우의 단어 집합의 크기 %s'%(total_cnt - rare_cnt))\n",
    "print(\"단어 집합에서 희귀 단어의 비율:\", (rare_cnt / total_cnt)*100)\n",
    "print(\"전체 등장 빈도에서 희귀 단어 등장 빈도 비율:\", (rare_freq / total_freq)*100)"
   ]
  },
  {
   "cell_type": "code",
   "execution_count": 26,
   "metadata": {},
   "outputs": [],
   "source": [
    "# 단어 집합의 크기 제한\n",
    "\n",
    "src_vocab = 24000\n",
    "\n",
    "# 단어 집합의 크기를 24,000으로 제한\n",
    "src_tokenizer = Tokenizer(num_words = src_vocab) \n",
    "\n",
    "# 단어 집합 재생성.\n",
    "src_tokenizer.fit_on_texts(encoder_input_train) "
   ]
  },
  {
   "cell_type": "code",
   "execution_count": 27,
   "metadata": {},
   "outputs": [
    {
     "name": "stdout",
     "output_type": "stream",
     "text": [
      "[[41, 3450, 358, 3969, 7, 124, 166, 218, 728, 2, 6310, 165, 35, 458, 66, 12480, 670, 6, 1645, 221, 418, 3284, 2456, 422, 2573, 23, 827, 354, 931, 1320, 6, 754, 2992, 1936, 5, 1, 105, 8503, 448, 6, 211, 6311, 10, 1, 105, 40, 675, 2, 1446, 1, 2993, 9, 965, 878, 9482, 4, 1, 264, 53, 71], [4, 3, 52, 321, 302, 4, 266, 661, 18308, 6312, 3008, 34, 273, 589, 1, 8504, 204, 2027, 34, 819, 84, 44, 3707, 79, 87, 84, 7909, 2, 1, 794, 56, 820, 229, 1, 3008, 319, 6251, 51, 22, 1, 302, 10, 466, 3, 545, 255, 10, 11, 794, 8, 184, 33, 1959, 2, 38, 924, 1, 3008, 1574], [1, 6677, 706, 5, 1, 2118, 702, 1151, 73, 10037, 1096, 7, 54, 11040, 18, 156, 153, 3, 21503, 648, 45, 3373, 7, 155, 1, 11040, 34, 69, 118, 2, 2336, 24, 5776, 11, 56, 10209, 26, 172, 117, 20229, 6, 26, 33, 722, 19, 1683, 1, 702, 869, 18, 136, 107, 1, 54, 6901, 8, 6134, 601, 172, 10409]]\n"
     ]
    }
   ],
   "source": [
    "# 텍스트 시퀀스를 정수 시퀀스로 변환\n",
    "encoder_input_train = src_tokenizer.texts_to_sequences(encoder_input_train) \n",
    "encoder_input_test = src_tokenizer.texts_to_sequences(encoder_input_test)\n",
    "\n",
    "#잘 진행되었는지 샘플 출력\n",
    "print(encoder_input_train[:3])"
   ]
  },
  {
   "cell_type": "code",
   "execution_count": 28,
   "metadata": {},
   "outputs": [],
   "source": [
    "# 전체 단어 집합과 가가 단어에 대한 빈도수 계산 \n",
    "\n",
    "tar_tokenizer = Tokenizer()\n",
    "tar_tokenizer.fit_on_texts(decoder_input_train)"
   ]
  },
  {
   "cell_type": "code",
   "execution_count": 29,
   "metadata": {},
   "outputs": [
    {
     "name": "stdout",
     "output_type": "stream",
     "text": [
      "단어 집합(vocabulary)의 크기 : 91308\n",
      "등장 빈도가 5번 이하인 희귀 단어의 수: 64293\n",
      "단어 집합에서 희귀 단어를 제외시킬 경우의 단어 집합의 크기 27015\n",
      "단어 집합에서 희귀 단어의 비율: 70.4133263240899\n",
      "전체 등장 빈도에서 희귀 단어 등장 빈도 비율: 2.401732164576605\n"
     ]
    }
   ],
   "source": [
    "# 빈도가 6 미만인 단어수 확인\n",
    "\n",
    "threshold = 6\n",
    "total_cnt = len(tar_tokenizer.word_index) # 단어의 수\n",
    "rare_cnt = 0 # 등장 빈도수가 threshold보다 작은 단어의 개수를 카운트\n",
    "total_freq = 0 # 훈련 데이터의 전체 단어 빈도수 총 합\n",
    "rare_freq = 0 # 등장 빈도수가 threshold보다 작은 단어의 등장 빈도수의 총 합\n",
    "\n",
    "# 단어와 빈도수의 쌍(pair)을 key와 value로 받는다.\n",
    "for key, value in tar_tokenizer.word_counts.items():\n",
    "    total_freq = total_freq + value\n",
    "\n",
    "    # 단어의 등장 빈도수가 threshold보다 작으면\n",
    "    if(value < threshold):\n",
    "        rare_cnt = rare_cnt + 1\n",
    "        rare_freq = rare_freq + value\n",
    "\n",
    "print('단어 집합(vocabulary)의 크기 :',total_cnt)\n",
    "print('등장 빈도가 %s번 이하인 희귀 단어의 수: %s'%(threshold - 1, rare_cnt))\n",
    "print('단어 집합에서 희귀 단어를 제외시킬 경우의 단어 집합의 크기 %s'%(total_cnt - rare_cnt))\n",
    "print(\"단어 집합에서 희귀 단어의 비율:\", (rare_cnt / total_cnt)*100)\n",
    "print(\"전체 등장 빈도에서 희귀 단어 등장 빈도 비율:\", (rare_freq / total_freq)*100)"
   ]
  },
  {
   "cell_type": "code",
   "execution_count": 30,
   "metadata": {},
   "outputs": [
    {
     "name": "stdout",
     "output_type": "stream",
     "text": [
      "input\n",
      "input  [[12, 43, 3452, 360, 3971, 7, 126, 168, 220, 730, 2, 6312, 167, 37, 460, 68, 12482, 672, 6, 1647, 223, 420, 3286, 2458, 424, 2575, 25, 829, 356, 933, 1322, 6, 756, 2994, 1938, 5, 1, 107, 8505, 450, 6, 213, 6313, 10, 1, 107, 42, 677, 2, 1448, 1, 2995, 9, 967, 880, 9484, 4, 1, 266, 55, 73], [12, 4, 3, 54, 323, 304, 4, 268, 663, 18310, 6314, 3010, 36, 275, 591, 1, 8506, 206, 2029, 36, 821, 86, 46, 3709, 81, 89, 86, 7911, 2, 1, 796, 58, 822, 231, 1, 3010, 321, 6253, 53, 24, 1, 304, 10, 468, 3, 547, 257, 10, 11, 796, 8, 186, 35, 1961, 2, 40, 926, 1, 3010, 1576], [12, 1, 6679, 708, 5, 1, 2120, 704, 1153, 75, 10039, 1098, 7, 56, 11042, 20, 158, 155, 3, 21505, 650, 47, 3375, 7, 157, 1, 11042, 36, 71, 120, 2, 2338, 26, 5778, 11, 58, 10211, 28, 174, 119, 20231, 6, 28, 35, 724, 21, 1685, 1, 704, 871, 20, 138, 109, 1, 56, 6903, 8, 6136, 603, 174, 10411], [12, 56, 196, 1598, 450, 5, 8631, 12828, 1131, 129, 1128, 734, 22, 1, 365, 380, 2044, 6, 100, 11, 1, 934, 34, 57, 8, 416, 29, 3, 1221, 105, 9, 1, 658, 138, 2, 247, 73, 2615, 461, 8, 298, 64, 5, 1, 380, 9161, 6, 16, 15, 1, 380, 426, 2, 5620, 493, 1131, 10, 52, 4187, 4123, 2, 1, 1580], [12, 1087, 15, 2429, 1444, 17522, 7240, 9, 39, 972, 2066, 16164, 11, 84, 11850, 39, 4239, 306, 20, 67, 2, 138, 1, 94, 7240, 120, 21, 23002, 92, 17523, 23003, 6254, 1, 3972, 5, 48, 1485, 21506, 3191, 91, 10412, 2, 6755, 217, 3731, 7240, 10, 1087, 1, 2436, 180, 42, 27, 177, 9, 10619, 3732, 6, 5429, 5530, 9, 2645]]\n",
      "target\n",
      "decoder  [[43, 3452, 360, 3971, 7, 126, 168, 220, 730, 2, 6312, 167, 37, 460, 68, 12482, 672, 6, 1647, 223, 420, 3286, 2458, 424, 2575, 25, 829, 356, 933, 1322, 6, 756, 2994, 1938, 5, 1, 107, 8505, 450, 6, 213, 6313, 10, 1, 107, 42, 677, 2, 1448, 1, 2995, 9, 967, 880, 9484, 4, 1, 266, 55, 73, 13], [4, 3, 54, 323, 304, 4, 268, 663, 18310, 6314, 3010, 36, 275, 591, 1, 8506, 206, 2029, 36, 821, 86, 46, 3709, 81, 89, 86, 7911, 2, 1, 796, 58, 822, 231, 1, 3010, 321, 6253, 53, 24, 1, 304, 10, 468, 3, 547, 257, 10, 11, 796, 8, 186, 35, 1961, 2, 40, 926, 1, 3010, 1576, 13], [1, 6679, 708, 5, 1, 2120, 704, 1153, 75, 10039, 1098, 7, 56, 11042, 20, 158, 155, 3, 21505, 650, 47, 3375, 7, 157, 1, 11042, 36, 71, 120, 2, 2338, 26, 5778, 11, 58, 10211, 28, 174, 119, 20231, 6, 28, 35, 724, 21, 1685, 1, 704, 871, 20, 138, 109, 1, 56, 6903, 8, 6136, 603, 174, 10411, 13], [56, 196, 1598, 450, 5, 8631, 12828, 1131, 129, 1128, 734, 22, 1, 365, 380, 2044, 6, 100, 11, 1, 934, 34, 57, 8, 416, 29, 3, 1221, 105, 9, 1, 658, 138, 2, 247, 73, 2615, 461, 8, 298, 64, 5, 1, 380, 9161, 6, 16, 15, 1, 380, 426, 2, 5620, 493, 1131, 10, 52, 4187, 4123, 2, 1, 1580, 13], [1087, 15, 2429, 1444, 17522, 7240, 9, 39, 972, 2066, 16164, 11, 84, 11850, 39, 4239, 306, 20, 67, 2, 138, 1, 94, 7240, 120, 21, 23002, 92, 17523, 23003, 6254, 1, 3972, 5, 48, 1485, 21506, 3191, 91, 10412, 2, 6755, 217, 3731, 7240, 10, 1087, 1, 2436, 180, 42, 27, 177, 9, 10619, 3732, 6, 5429, 5530, 9, 2645, 13]]\n"
     ]
    }
   ],
   "source": [
    "# 단어 집합 제한\n",
    "\n",
    "tar_vocab = 26000\n",
    "tar_tokenizer = Tokenizer(num_words = tar_vocab) \n",
    "tar_tokenizer.fit_on_texts(decoder_input_train)\n",
    "tar_tokenizer.fit_on_texts(decoder_target_train)\n",
    "\n",
    "# 텍스트 시퀀스를 정수 시퀀스로 변환\n",
    "decoder_input_train = tar_tokenizer.texts_to_sequences(decoder_input_train) \n",
    "decoder_target_train = tar_tokenizer.texts_to_sequences(decoder_target_train)\n",
    "decoder_input_test = tar_tokenizer.texts_to_sequences(decoder_input_test)\n",
    "decoder_target_test = tar_tokenizer.texts_to_sequences(decoder_target_test)\n",
    "\n",
    "#잘 변환되었는지 확인\n",
    "print('input')\n",
    "print('input ',decoder_input_train[:5])\n",
    "print('target')\n",
    "print('decoder ',decoder_target_train[:5])"
   ]
  },
  {
   "cell_type": "code",
   "execution_count": 31,
   "metadata": {},
   "outputs": [
    {
     "name": "stdout",
     "output_type": "stream",
     "text": [
      "삭제할 훈련 데이터의 개수 : 0\n",
      "삭제할 테스트 데이터의 개수 : 0\n"
     ]
    },
    {
     "name": "stderr",
     "output_type": "stream",
     "text": [
      "/home/aiffel/anaconda3/envs/aiffel/lib/python3.7/site-packages/numpy/core/_asarray.py:83: VisibleDeprecationWarning: Creating an ndarray from ragged nested sequences (which is a list-or-tuple of lists-or-tuples-or ndarrays with different lengths or shapes) is deprecated. If you meant to do this, you must specify 'dtype=object' when creating the ndarray\n",
      "  return array(a, dtype, copy=False, order=order)\n"
     ]
    },
    {
     "name": "stdout",
     "output_type": "stream",
     "text": [
      "훈련 데이터의 개수 : 78688\n",
      "훈련 레이블의 개수 : 78688\n",
      "테스트 데이터의 개수 : 19672\n",
      "테스트 레이블의 개수 : 19672\n"
     ]
    }
   ],
   "source": [
    "drop_train = [index for index, sentence in enumerate(decoder_input_train) if len(sentence) == 1]\n",
    "drop_test = [index for index, sentence in enumerate(decoder_input_test) if len(sentence) == 1]\n",
    "\n",
    "print('삭제할 훈련 데이터의 개수 :',len(drop_train))\n",
    "print('삭제할 테스트 데이터의 개수 :',len(drop_test))\n",
    "\n",
    "encoder_input_train = np.delete(encoder_input_train, drop_train, axis=0)\n",
    "decoder_input_train = np.delete(decoder_input_train, drop_train, axis=0)\n",
    "decoder_target_train = np.delete(decoder_target_train, drop_train, axis=0)\n",
    "\n",
    "encoder_input_test = np.delete(encoder_input_test, drop_test, axis=0)\n",
    "decoder_input_test = np.delete(decoder_input_test, drop_test, axis=0)\n",
    "decoder_target_test = np.delete(decoder_target_test, drop_test, axis=0)\n",
    "\n",
    "print('훈련 데이터의 개수 :', len(encoder_input_train))\n",
    "print('훈련 레이블의 개수 :',len(decoder_input_train))\n",
    "print('테스트 데이터의 개수 :',len(encoder_input_test))\n",
    "print('테스트 레이블의 개수 :',len(decoder_input_test))"
   ]
  },
  {
   "cell_type": "code",
   "execution_count": 32,
   "metadata": {},
   "outputs": [],
   "source": [
    "# 패딩하기\n",
    "\n",
    "encoder_input_train = pad_sequences(encoder_input_train, maxlen = text_max_len, padding='post')\n",
    "encoder_input_test = pad_sequences(encoder_input_test, maxlen = text_max_len, padding='post')\n",
    "decoder_input_train = pad_sequences(decoder_input_train, maxlen = headline_max_len, padding='post')\n",
    "decoder_target_train = pad_sequences(decoder_target_train, maxlen = headline_max_len, padding='post')\n",
    "decoder_input_test = pad_sequences(decoder_input_test, maxlen = headline_max_len, padding='post')\n",
    "decoder_target_test = pad_sequences(decoder_target_test, maxlen = headline_max_len, padding='post')"
   ]
  },
  {
   "cell_type": "markdown",
   "metadata": {},
   "source": [
    "# Step 3. 어텐션 메커니즘 사용하기 (추상적 요약)\n",
    "***\n",
    "\n",
    "일반적인 seq2seq보다는 어텐션 메커니즘을 사용한 seq2seq를 사용하는 것이 더 나은 성능을 얻을 수 있어요. 실습 내용을 참고하여 어텐션 메커니즘을 사용한 seq2seq를 설계해 보세요."
   ]
  },
  {
   "cell_type": "code",
   "execution_count": 33,
   "metadata": {},
   "outputs": [
    {
     "name": "stdout",
     "output_type": "stream",
     "text": [
      "WARNING:tensorflow:Layer lstm will not use cuDNN kernel since it doesn't meet the cuDNN kernel criteria. It will use generic GPU kernel as fallback when running on GPU\n",
      "WARNING:tensorflow:Layer lstm_1 will not use cuDNN kernel since it doesn't meet the cuDNN kernel criteria. It will use generic GPU kernel as fallback when running on GPU\n",
      "WARNING:tensorflow:Layer lstm_2 will not use cuDNN kernel since it doesn't meet the cuDNN kernel criteria. It will use generic GPU kernel as fallback when running on GPU\n"
     ]
    }
   ],
   "source": [
    "from tensorflow.keras.layers import Input, LSTM, Embedding, Dense, Concatenate\n",
    "from tensorflow.keras.models import Model\n",
    "from tensorflow.keras.callbacks import EarlyStopping, ModelCheckpoint\n",
    "\n",
    "\n",
    "# 인코더 설계 시작\n",
    "embedding_dim = 128\n",
    "hidden_size = 256\n",
    "\n",
    "# 인코더\n",
    "encoder_inputs = Input(shape=(text_max_len,))\n",
    "\n",
    "# 인코더의 임베딩 층\n",
    "enc_emb = Embedding(src_vocab, embedding_dim)(encoder_inputs)\n",
    "\n",
    "# 인코더의 LSTM 1\n",
    "encoder_lstm1 = LSTM(hidden_size, return_sequences=True, return_state=True ,dropout = 0.4, recurrent_dropout = 0.4)\n",
    "encoder_output1, state_h1, state_c1 = encoder_lstm1(enc_emb)\n",
    "\n",
    "# 인코더의 LSTM 2\n",
    "encoder_lstm2 = LSTM(hidden_size, return_sequences=True, return_state=True, dropout=0.4, recurrent_dropout=0.4)\n",
    "encoder_output2, state_h2, state_c2 = encoder_lstm2(encoder_output1)\n",
    "\n",
    "# 인코더의 LSTM 3\n",
    "encoder_lstm3 = LSTM(hidden_size, return_state=True, return_sequences=True, dropout=0.4, recurrent_dropout=0.4)\n",
    "encoder_outputs, state_h, state_c= encoder_lstm3(encoder_output2)"
   ]
  },
  {
   "cell_type": "code",
   "execution_count": 34,
   "metadata": {},
   "outputs": [
    {
     "name": "stdout",
     "output_type": "stream",
     "text": [
      "WARNING:tensorflow:Layer lstm_3 will not use cuDNN kernel since it doesn't meet the cuDNN kernel criteria. It will use generic GPU kernel as fallback when running on GPU\n"
     ]
    }
   ],
   "source": [
    "# 디코더 설계\n",
    "\n",
    "decoder_inputs = Input(shape=(None,))\n",
    "\n",
    "# 디코더의 임베딩 층\n",
    "dec_emb_layer = Embedding(tar_vocab, embedding_dim)\n",
    "dec_emb = dec_emb_layer(decoder_inputs)\n",
    "\n",
    "# 디코더의 LSTM\n",
    "decoder_lstm = LSTM(hidden_size, return_sequences = True, return_state = True, dropout = 0.4, recurrent_dropout=0.2)\n",
    "decoder_outputs, _, _ = decoder_lstm(dec_emb, initial_state = [state_h, state_c])"
   ]
  },
  {
   "cell_type": "code",
   "execution_count": 35,
   "metadata": {
    "scrolled": true
   },
   "outputs": [
    {
     "name": "stdout",
     "output_type": "stream",
     "text": [
      "Model: \"model\"\n",
      "__________________________________________________________________________________________________\n",
      "Layer (type)                    Output Shape         Param #     Connected to                     \n",
      "==================================================================================================\n",
      "input_1 (InputLayer)            [(None, 91)]         0                                            \n",
      "__________________________________________________________________________________________________\n",
      "embedding (Embedding)           (None, 91, 128)      3072000     input_1[0][0]                    \n",
      "__________________________________________________________________________________________________\n",
      "lstm (LSTM)                     [(None, 91, 256), (N 394240      embedding[0][0]                  \n",
      "__________________________________________________________________________________________________\n",
      "input_2 (InputLayer)            [(None, None)]       0                                            \n",
      "__________________________________________________________________________________________________\n",
      "lstm_1 (LSTM)                   [(None, 91, 256), (N 525312      lstm[0][0]                       \n",
      "__________________________________________________________________________________________________\n",
      "embedding_1 (Embedding)         (None, None, 128)    3328000     input_2[0][0]                    \n",
      "__________________________________________________________________________________________________\n",
      "lstm_2 (LSTM)                   [(None, 91, 256), (N 525312      lstm_1[0][0]                     \n",
      "__________________________________________________________________________________________________\n",
      "lstm_3 (LSTM)                   [(None, None, 256),  394240      embedding_1[0][0]                \n",
      "                                                                 lstm_2[0][1]                     \n",
      "                                                                 lstm_2[0][2]                     \n",
      "__________________________________________________________________________________________________\n",
      "dense (Dense)                   (None, None, 26000)  6682000     lstm_3[0][0]                     \n",
      "==================================================================================================\n",
      "Total params: 14,921,104\n",
      "Trainable params: 14,921,104\n",
      "Non-trainable params: 0\n",
      "__________________________________________________________________________________________________\n"
     ]
    }
   ],
   "source": [
    "# 디코더의 출력층\n",
    "decoder_softmax_layer = Dense(tar_vocab, activation = 'softmax')\n",
    "decoder_softmax_outputs = decoder_softmax_layer(decoder_outputs) \n",
    "\n",
    "# 모델 정의\n",
    "model = Model([encoder_inputs, decoder_inputs], decoder_softmax_outputs)\n",
    "model.summary()"
   ]
  },
  {
   "cell_type": "code",
   "execution_count": 36,
   "metadata": {},
   "outputs": [],
   "source": [
    "# 어텐션 매커니즘 \n",
    "\n",
    "urllib.request.urlretrieve(\"https://raw.githubusercontent.com/thushv89/attention_keras/master/src/layers/attention.py\", filename=\"attention.py\")\n",
    "from attention import AttentionLayer"
   ]
  },
  {
   "cell_type": "code",
   "execution_count": 37,
   "metadata": {},
   "outputs": [
    {
     "name": "stdout",
     "output_type": "stream",
     "text": [
      "Model: \"model_1\"\n",
      "__________________________________________________________________________________________________\n",
      "Layer (type)                    Output Shape         Param #     Connected to                     \n",
      "==================================================================================================\n",
      "input_1 (InputLayer)            [(None, 91)]         0                                            \n",
      "__________________________________________________________________________________________________\n",
      "embedding (Embedding)           (None, 91, 128)      3072000     input_1[0][0]                    \n",
      "__________________________________________________________________________________________________\n",
      "lstm (LSTM)                     [(None, 91, 256), (N 394240      embedding[0][0]                  \n",
      "__________________________________________________________________________________________________\n",
      "input_2 (InputLayer)            [(None, None)]       0                                            \n",
      "__________________________________________________________________________________________________\n",
      "lstm_1 (LSTM)                   [(None, 91, 256), (N 525312      lstm[0][0]                       \n",
      "__________________________________________________________________________________________________\n",
      "embedding_1 (Embedding)         (None, None, 128)    3328000     input_2[0][0]                    \n",
      "__________________________________________________________________________________________________\n",
      "lstm_2 (LSTM)                   [(None, 91, 256), (N 525312      lstm_1[0][0]                     \n",
      "__________________________________________________________________________________________________\n",
      "lstm_3 (LSTM)                   [(None, None, 256),  394240      embedding_1[0][0]                \n",
      "                                                                 lstm_2[0][1]                     \n",
      "                                                                 lstm_2[0][2]                     \n",
      "__________________________________________________________________________________________________\n",
      "attention_layer (AttentionLayer ((None, None, 256),  131328      lstm_2[0][0]                     \n",
      "                                                                 lstm_3[0][0]                     \n",
      "__________________________________________________________________________________________________\n",
      "concat_layer (Concatenate)      (None, None, 512)    0           lstm_3[0][0]                     \n",
      "                                                                 attention_layer[0][0]            \n",
      "__________________________________________________________________________________________________\n",
      "dense_1 (Dense)                 (None, None, 26000)  13338000    concat_layer[0][0]               \n",
      "==================================================================================================\n",
      "Total params: 21,708,432\n",
      "Trainable params: 21,708,432\n",
      "Non-trainable params: 0\n",
      "__________________________________________________________________________________________________\n"
     ]
    }
   ],
   "source": [
    "# 어텐션 층(어텐션 함수)\n",
    "attn_layer = AttentionLayer(name='attention_layer')\n",
    "# 인코더와 디코더의 모든 time step의 hidden state를 \n",
    "# 어텐션 층에 전달하고 결과를 리턴\n",
    "attn_out, attn_states = attn_layer([encoder_outputs, decoder_outputs])\n",
    "\n",
    "# 어텐션의 결과와 디코더의 hidden state들을 연결\n",
    "decoder_concat_input = Concatenate(axis = -1, name='concat_layer')([decoder_outputs, attn_out])\n",
    "\n",
    "# 디코더의 출력층\n",
    "decoder_softmax_layer = Dense(tar_vocab, activation='softmax')\n",
    "decoder_softmax_outputs = decoder_softmax_layer(decoder_concat_input)\n",
    "\n",
    "# 모델 정의\n",
    "model = Model([encoder_inputs, decoder_inputs], decoder_softmax_outputs)\n",
    "model.summary()"
   ]
  },
  {
   "cell_type": "code",
   "execution_count": 38,
   "metadata": {},
   "outputs": [
    {
     "name": "stdout",
     "output_type": "stream",
     "text": [
      "Epoch 1/50\n",
      "308/308 [==============================] - 237s 770ms/step - loss: 6.8363 - val_loss: 6.4557\n",
      "Epoch 2/50\n",
      "308/308 [==============================] - 237s 768ms/step - loss: 6.1991 - val_loss: 6.0362\n",
      "Epoch 3/50\n",
      "308/308 [==============================] - 236s 765ms/step - loss: 5.8111 - val_loss: 5.6784\n",
      "Epoch 4/50\n",
      "308/308 [==============================] - 236s 766ms/step - loss: 5.5614 - val_loss: 5.4821\n",
      "Epoch 5/50\n",
      "308/308 [==============================] - 237s 768ms/step - loss: 5.3298 - val_loss: 5.2855\n",
      "Epoch 6/50\n",
      "308/308 [==============================] - 237s 769ms/step - loss: 5.0995 - val_loss: 5.1254\n",
      "Epoch 7/50\n",
      "308/308 [==============================] - 236s 767ms/step - loss: 4.8166 - val_loss: 4.8399\n",
      "Epoch 8/50\n",
      "308/308 [==============================] - 238s 771ms/step - loss: 4.3822 - val_loss: 4.0408\n",
      "Epoch 9/50\n",
      "308/308 [==============================] - 237s 768ms/step - loss: 3.7095 - val_loss: 2.8602\n",
      "Epoch 10/50\n",
      "308/308 [==============================] - 237s 768ms/step - loss: 2.6441 - val_loss: 1.9575\n",
      "Epoch 11/50\n",
      "308/308 [==============================] - 238s 772ms/step - loss: 1.9610 - val_loss: 1.4657\n",
      "Epoch 12/50\n",
      "308/308 [==============================] - 237s 770ms/step - loss: 1.5330 - val_loss: 1.2070\n",
      "Epoch 13/50\n",
      "308/308 [==============================] - 236s 768ms/step - loss: 1.2558 - val_loss: 0.9820\n",
      "Epoch 14/50\n",
      "308/308 [==============================] - 236s 766ms/step - loss: 1.0596 - val_loss: 0.8573\n",
      "Epoch 15/50\n",
      "308/308 [==============================] - 236s 765ms/step - loss: 0.9234 - val_loss: 0.7633\n",
      "Epoch 16/50\n",
      "308/308 [==============================] - 236s 766ms/step - loss: 0.8178 - val_loss: 0.7785\n",
      "Epoch 17/50\n",
      "308/308 [==============================] - 236s 765ms/step - loss: 0.7130 - val_loss: 0.6337\n",
      "Epoch 18/50\n",
      "308/308 [==============================] - 236s 766ms/step - loss: 0.6437 - val_loss: 0.5825\n",
      "Epoch 19/50\n",
      "308/308 [==============================] - 236s 767ms/step - loss: 0.5799 - val_loss: 0.5373\n",
      "Epoch 20/50\n",
      "308/308 [==============================] - 236s 765ms/step - loss: 0.5300 - val_loss: 0.4984\n",
      "Epoch 21/50\n",
      "308/308 [==============================] - 237s 769ms/step - loss: 0.4843 - val_loss: 0.7341\n",
      "Epoch 22/50\n",
      "308/308 [==============================] - 241s 783ms/step - loss: 0.4511 - val_loss: 0.4323\n",
      "Epoch 23/50\n",
      "308/308 [==============================] - 239s 776ms/step - loss: 0.4110 - val_loss: 0.4121\n",
      "Epoch 24/50\n",
      "308/308 [==============================] - 240s 778ms/step - loss: 0.3855 - val_loss: 0.4919\n",
      "Epoch 25/50\n",
      "308/308 [==============================] - 242s 787ms/step - loss: 1.2136 - val_loss: 0.4390\n",
      "Epoch 00025: early stopping\n"
     ]
    }
   ],
   "source": [
    "model.compile(optimizer='rmsprop', loss='sparse_categorical_crossentropy')\n",
    "es = EarlyStopping(monitor='val_loss', mode='min', verbose=1, patience = 2)\n",
    "history = model.fit(x = [encoder_input_train, decoder_input_train], y = decoder_target_train, \\\n",
    "          validation_data = ([encoder_input_test, decoder_input_test], decoder_target_test),\n",
    "          batch_size = 256, callbacks=[es], epochs = 50)"
   ]
  },
  {
   "cell_type": "code",
   "execution_count": 39,
   "metadata": {},
   "outputs": [
    {
     "data": {
      "image/png": "[encoded data removed]",
      "text/plain": [
       "<Figure size 432x288 with 1 Axes>"
      ]
     },
     "metadata": {
      "needs_background": "light"
     },
     "output_type": "display_data"
    }
   ],
   "source": [
    "plt.plot(history.history['loss'], label='train')\n",
    "plt.plot(history.history['val_loss'], label='test')\n",
    "plt.legend()\n",
    "plt.show()"
   ]
  },
  {
   "cell_type": "code",
   "execution_count": 40,
   "metadata": {},
   "outputs": [],
   "source": [
    "# 인퍼런스 모델 구현\n",
    "\n",
    "# 원문 단어 집합에서 정수 -> 단어를 얻음\n",
    "src_index_to_word = src_tokenizer.index_word\n",
    "\n",
    "# 요약 단어 집합에서 단어 -> 정수를 얻음\n",
    "tar_word_to_index = tar_tokenizer.word_index \n",
    "\n",
    "# 요약 단어 집합에서 정수 -> 단어를 얻음\n",
    "tar_index_to_word = tar_tokenizer.index_word "
   ]
  },
  {
   "cell_type": "code",
   "execution_count": 41,
   "metadata": {},
   "outputs": [],
   "source": [
    "# 인코더 설계\n",
    "encoder_model = Model(inputs=encoder_inputs, outputs=[encoder_outputs, state_h, state_c])\n",
    "\n",
    "# 이전 시점의 상태들을 저장하는 텐서\n",
    "decoder_state_input_h = Input(shape=(hidden_size,))\n",
    "decoder_state_input_c = Input(shape=(hidden_size,))\n",
    "\n",
    "dec_emb2 = dec_emb_layer(decoder_inputs)\n",
    "# 문장의 다음 단어를 예측하기 위해서 초기 상태(initial_state)를 이전 시점의 상태로 사용. \n",
    "# 이는 뒤의 함수 decode_sequence()에 구현\n",
    "# 훈련 과정에서와 달리 LSTM의 리턴하는 은닉 상태와 셀 상태인 state_h와 state_c를 버리지 않음.\n",
    "decoder_outputs2, state_h2, state_c2 = decoder_lstm(dec_emb2, initial_state=[decoder_state_input_h, decoder_state_input_c])"
   ]
  },
  {
   "cell_type": "code",
   "execution_count": 42,
   "metadata": {},
   "outputs": [],
   "source": [
    "# 어텐션 메커니즘을 사용하는 출력층 설계\n",
    "\n",
    "# 어텐션 함수\n",
    "decoder_hidden_state_input = Input(shape=(text_max_len, hidden_size))\n",
    "attn_out_inf, attn_states_inf = attn_layer([decoder_hidden_state_input, decoder_outputs2])\n",
    "decoder_inf_concat = Concatenate(axis=-1, name='concat')([decoder_outputs2, attn_out_inf])\n",
    "\n",
    "# 디코더의 출력층\n",
    "decoder_outputs2 = decoder_softmax_layer(decoder_inf_concat) \n",
    "\n",
    "# 최종 디코더 모델\n",
    "decoder_model = Model(\n",
    "    [decoder_inputs] + [decoder_hidden_state_input,decoder_state_input_h, decoder_state_input_c],\n",
    "    [decoder_outputs2] + [state_h2, state_c2])"
   ]
  },
  {
   "cell_type": "code",
   "execution_count": 43,
   "metadata": {},
   "outputs": [],
   "source": [
    "# 인퍼런스 단계에서 단어 시퀀스를 완성하는 함수\n",
    "\n",
    "def decode_sequence(input_seq):\n",
    "    # 입력으로부터 인코더의 상태를 얻음\n",
    "    e_out, e_h, e_c = encoder_model.predict(input_seq)\n",
    "\n",
    "     # <SOS>에 해당하는 토큰 생성\n",
    "    target_seq = np.zeros((1,1))\n",
    "    target_seq[0, 0] = tar_word_to_index['sostoken']\n",
    "\n",
    "    stop_condition = False\n",
    "    decoded_sentence = ''\n",
    "    while not stop_condition: # stop_condition이 True가 될 때까지 루프 반복\n",
    "\n",
    "        output_tokens, h, c = decoder_model.predict([target_seq] + [e_out, e_h, e_c])\n",
    "        sampled_token_index = np.argmax(output_tokens[0, -1, :])\n",
    "        sampled_token = tar_index_to_word[sampled_token_index]\n",
    "\n",
    "        if(sampled_token!='eostoken'):\n",
    "            decoded_sentence += ' '+sampled_token\n",
    "\n",
    "        #  <eos>에 도달하거나 최대 길이를 넘으면 중단.\n",
    "        if (sampled_token == 'eostoken'  or len(decoded_sentence.split()) >= (headline_max_len-1)):\n",
    "            stop_condition = True\n",
    "\n",
    "        # 길이가 1인 타겟 시퀀스를 업데이트\n",
    "        target_seq = np.zeros((1,1))\n",
    "        target_seq[0, 0] = sampled_token_index\n",
    "\n",
    "        # 상태를 업데이트 합니다.\n",
    "        e_h, e_c = h, c\n",
    "\n",
    "    return decoded_sentence"
   ]
  },
  {
   "cell_type": "code",
   "execution_count": 44,
   "metadata": {},
   "outputs": [],
   "source": [
    "# 모델 테스트\n",
    "\n",
    "# 원문의 정수 시퀀스를 텍스트 시퀀스로 변환\n",
    "def seq2text(input_seq):\n",
    "    temp=''\n",
    "    for i in input_seq:\n",
    "        if(i!=0):\n",
    "            temp = temp + src_index_to_word[i]+' '\n",
    "    return temp\n",
    "\n",
    "# 요약문의 정수 시퀀스를 텍스트 시퀀스로 변환\n",
    "def seq2headline(input_seq):\n",
    "    temp=''\n",
    "    for i in input_seq:\n",
    "        if((i!=0 and i!=tar_word_to_index['sostoken']) and i!=tar_word_to_index['eostoken']):\n",
    "            temp = temp + tar_index_to_word[i] + ' '\n",
    "    return temp"
   ]
  },
  {
   "cell_type": "markdown",
   "metadata": {},
   "source": [
    "# Step 4. 실제 결과와 요약문 비교하기 (추상적 요약)\n",
    "***\n",
    "\n",
    "원래의 요약문(headlines 열)과 학습을 통해 얻은 추상적 요약의 결과를 비교해보세요."
   ]
  },
  {
   "cell_type": "code",
   "execution_count": 45,
   "metadata": {},
   "outputs": [
    {
     "name": "stdout",
     "output_type": "stream",
     "text": [
      "헤드라인 요약: result it's a rigged election she added earlier she said imran will hand over the country to extremists \n",
      "예측 원문 요약 :  it's a dictator election she added earlier she said imran will hand over the country to extremists\n",
      "원문 : after imran khan's pakistan tehreek e insaf emerged as the single largest party with 116 seats in pakistan general elections the cricketer turned ex wife reham khan has said the army will now run the country's foreign office i am not surprised it was a predictable result it's a rigged election she added earlier she said imran will hand over the country to extremists \n",
      "\n",
      "\n",
      "헤드라인 요약: old to a hotel where she drugged him and dumped him into yamuna river while he was unconscious \n",
      "예측 원문 요약 :  the 23 where she fails him and dumped him into regular river while he was unconscious\n",
      "원문 : a 20 year old woman and her fiancãâ© were arrested for murdering her ex boyfriend in up's mathura the woman claimed her ex boyfriend had been threatening to post nude pictures of her online to pressure her into continuing their relationship the woman then invited the 23 year old to a hotel where she drugged him and dumped him into yamuna river while he was unconscious \n",
      "\n",
      "\n",
      "헤드라인 요약: 5 lakh 35 000 approximately this is so common but most women are afraid of coming out said \n",
      "예측 원문 요약 :  ã¢ââ¹22 lakh 35 000 approximately this is so common but most women of coming out said\n",
      "원문 : brazilian actress has claimed that katz a national hockey league owner offered her a role in films in exchange for having sex has alleged that despite refusing his offer she received two wire transfers from katz totalling ã¢ââ¹22 5 lakh 35 000 approximately this is so common but most women are afraid of coming out said \n",
      "\n",
      "\n",
      "헤드라인 요약: state have already begun he also said tackling mass agitation is gradually becoming a challenge for the police \n",
      "예측 원문 요약 :  he also said blaming mass he also said blaming mass agitation is gradually becoming a challenge for\n",
      "원문 : odisha director general of police dgp rp sharma on thursday said conducting simultaneous lok sabha and the assembly elections will be a huge challenge for the state administration addressing a conference he added preparations to ensure free and fair elections in the state have already begun he also said tackling mass agitation is gradually becoming a challenge for the police \n",
      "\n",
      "\n",
      "헤드라인 요약: 2 44 pm of the 12 air conditioned local train services 11 will be fast a official said \n",
      "예측 원문 요약 :  around 2 44 pm of the 12 air conditioned local train services 11 will be fast a\n",
      "원문 : the western railway will launch its air conditioned suburban local train the first in the country in mumbai on christmas day union railway minister piyush goyal announced the train will start its maiden journey from andheri at 2 10 pm and reach churchgate around 2 44 pm of the 12 air conditioned local train services 11 will be fast a official said \n",
      "\n",
      "\n",
      "헤드라인 요약: on honorary board members including acting secretary amitabh choudhary acting treasurer anirudh chaudhry and acting president ck khanna \n",
      "예측 원문 요약 :  board members including acting secretary amitabh choudhary acting ericsson chief\n",
      "원문 : bcci officials have reportedly objected to ceo rahul salary of ã¢ââ¹5 crore per annum calling him too expensive for the board this comes after the supreme court appointed committee of administrators revealed the amount being spent on honorary board members including acting secretary amitabh choudhary acting treasurer anirudh chaudhry and acting president ck khanna \n",
      "\n",
      "\n",
      "헤드라인 요약: train was stopped by placing stones on the track while all the passengers were reported to be safe \n",
      "예측 원문 요약 :  was stopped by placing stones on the track while all the passengers were reported to be safe\n",
      "원문 : the ahmedabad puri express with passengers on board travelled without an engine for 10 kilometres in odisha on saturday night the incident occurred as the engine procedure was not applied properly following which the concerned persons in charge were suspended the train was stopped by placing stones on the track while all the passengers were reported to be safe \n",
      "\n",
      "\n",
      "헤드라인 요약: the train six fire engines and about 50 firefighters plus specialist officers have been sent to the spot \n",
      "예측 원문 요약 :  six fire engines and about 50 firefighters plus poles officers have been sent to the spot\n",
      "원문 : an explosion on a tube train in london on friday morning which left several injured is being treated as a terrorist incident the police has said pictures of the scene showed a bucket on fire inside a supermarket bag placed inside the train six fire engines and about 50 firefighters plus specialist officers have been sent to the spot \n",
      "\n",
      "\n",
      "헤드라인 요약: to play csk in the final and chennai super kings should play ipl finals directly from next year \n",
      "예측 원문 요약 :  in the final and chennai super kings should play ipl finals directly from next year directly from\n",
      "원문 : reacting to chennai super kings defeating sunrisers hyderabad to enter their seventh ipl final a user tweeted in yellow even a south african cricketer doesn't what an innings from faf other tweets read ipl where 7 teams battle to play csk in the final and chennai super kings should play ipl finals directly from next year \n",
      "\n",
      "\n",
      "헤드라인 요약: active streak further the african nation is now 13 matches without a win at the fifa world cup \n",
      "예측 원문 요약 :  editions further the african nation is now 13 matches without a win at the fifa world cup\n",
      "원문 : romelu lukaku and eden hazard each scored twice as belgium thrashed tunisia 5 2 in the highest scoring game of the 2018 fifa world cup so far with the win belgium extended their unbeaten streak to 21 matches the second longest active streak further the african nation is now 13 matches without a win at the fifa world cup \n",
      "\n",
      "\n",
      "헤드라인 요약: the mountain from where he took the plunge spent nearly 1 5 minutes without a parachute in his \n",
      "예측 원문 요약 :  from where he took the repo spent nearly 1 5 minutes without a quote in his\n",
      "원문 : russian base jumper and climber became the first person to jump from over 22 feet off the 22 200 foot high the highest mountain in peru it took the 52 year old and his team five days to climb the south summit of the mountain from where he took the plunge spent nearly 1 5 minutes without a parachute in his \n",
      "\n",
      "\n",
      "헤드라인 요약: to bowl from his own end nehra ended his career by beating the batsman for a dot ball \n",
      "예측 원문 요약 :  from his own end nehra ended his career by beating the batsman for a dot ball\n",
      "원문 : the delhi district cricket association named one of feroz shah kotla stadium's playing ends after veteran pacer ashish nehra to mark his farewell match against new zealand on wednesday with this nehra became only the second bowler after england's james anderson to bowl from his own end nehra ended his career by beating the batsman for a dot ball \n",
      "\n",
      "\n",
      "헤드라인 요약: trip however sawant called the allegations irresponsible baseless and completely false and said he would take legal action \n",
      "예측 원문 요약 :  called the allegations irresponsible baseless and completely false and said he would take legal action\n",
      "원문 : vidya krishnan a former health editor at the hindu has accused india today's executive editor gaurav sawant of sexual misconduct during an assignment in 2003 krishnan claimed sawant his pants and tried to force her hand towards his penis during the trip however sawant called the allegations irresponsible baseless and completely false and said he would take legal action \n",
      "\n",
      "\n",
      "헤드라인 요약: bottle in your pocket pujara wo ravi shastri kabhi bhi hai mix karne ke liye tweeted another user \n",
      "예측 원문 요약 :  in your pocket pujara bhi ravi shastri oyo bhi hai toh hai ke liye tweeted another user\n",
      "원문 : reacting to cheteshwar pujara batting with a water bottle in his pocket commentator sanjay manjrekar tweeted didn't see that coming carrying a bottle of water in his pocket while batting saving time prithvi shaw why do you keep a water bottle in your pocket pujara wo ravi shastri kabhi bhi hai mix karne ke liye tweeted another user \n",
      "\n",
      "\n",
      "헤드라인 요약: at least sir gambhir also tagged cm arvind kejriwal and union minister dr harsh vardhan in his tweet \n",
      "예측 원문 요약 :  and gambhir also tagged cm arvind kejriwal and union minister dr harsh dancers in his tweet\n",
      "원문 : ex cricketer gautam gambhir took to twitter to criticise aap government over pollution in delhi sharing a picture of a man dressed as santa claus wearing a mask gambhir wrote if you permit sir may i come else get a christmas tree at least sir gambhir also tagged cm arvind kejriwal and union minister dr harsh vardhan in his tweet \n",
      "\n",
      "\n",
      "헤드라인 요약: batsman the 29 year old has also received a demerit point for breaching the icc code of conduct \n"
     ]
    },
    {
     "name": "stdout",
     "output_type": "stream",
     "text": [
      "예측 원문 요약 :  year old has also received a demerit point for breaching the icc code of conduct the icc\n",
      "원문 : indian fast bowler ishant sharma has been fined 15 of his match fee for his animated send off to england's in the first test at edgbaston officials deemed that the send off had the potential to provoke an aggressive reaction from the departing batsman the 29 year old has also received a demerit point for breaching the icc code of conduct \n",
      "\n",
      "\n",
      "헤드라인 요약: of offering them sweets the woman overcame her suicidal tendency three years ago through counselling according to reports \n",
      "예측 원문 요약 :  the woman was\n",
      "원문 : amid the metoo movement a 40 year old meghalaya woman has accused two catholic church priests of sexual abuse she accused one of them of sexually abusing her after she turned five years old and the other of inappropriately touching victims under the guise of offering them sweets the woman overcame her suicidal tendency three years ago through counselling according to reports \n",
      "\n",
      "\n",
      "헤드라인 요약: from many youngsters from india as well as us and canada who were really impressed with his speeches \n",
      "예측 원문 요약 :  from many kinds from india as well as us and canada who were really impressed with his\n",
      "원문 : following congress vice president rahul gandhi's us visit several congress leaders claimed rahul managed to correct the perception most people had of him and that the party would benefit from his 'new the leaders said that they received calls from many youngsters from india as well as us and canada who were really impressed with his speeches \n",
      "\n",
      "\n",
      "헤드라인 요약: put his hand around the shoulder of this in mumbai has left us forever i am extremely sad \n",
      "예측 원문 요약 :  his hand around the shoulder of this in mumbai has left us forever i am extremely sad\n",
      "원문 : filmmaker arjun who directed dharmendra's debut film 'dil bhi tera hum bhi in 1960 has passed away at the age of 92 sharing a picture with on social media dharmendra wrote the man who put his hand around the shoulder of this in mumbai has left us forever i am extremely sad \n",
      "\n",
      "\n",
      "헤드라인 요약: from the late jurassic era when antarctica was part of which included australia india africa and south america \n",
      "예측 원문 요약 :  era when owns was part of which included australia india africa and south america india africa and\n",
      "원문 : argentina based scientists have found fossils of a marine reptile that lived 150 million years ago in antarctica the four which measured up to 12 meters in length is the most ancient creature ever discovered on the continent it dates from the late jurassic era when antarctica was part of which included australia india africa and south america \n",
      "\n",
      "\n",
      "헤드라인 요약: the us imposed sanctions on china for purchasing russian sukhoi su 35 fighter jets and s 400 missiles \n",
      "예측 원문 요약 :  sanctions on china for purchasing russian africans over fighter jets and s 400 missiles and s 400\n",
      "원문 : china on friday called on the us to withdraw the sanctions imposed on its military warning it will bear the consequences if it failed to do so calling the sanctions a mistake china said the us' action violated the basic principles of international relations the us imposed sanctions on china for purchasing russian sukhoi su 35 fighter jets and s 400 missiles \n",
      "\n",
      "\n",
      "헤드라인 요약: billion has been misappropriated from 1mdb which was set up by razak in 2009 to promote economic development \n",
      "예측 원문 요약 :  billion has been from winters which was set up by switching in 2009 to promote economic development\n",
      "원문 : nearly 30 million of funds stolen from malaysia's scandal hit 1mdb wealth fund were used to buy jewellery for prime minister najib wife according to filings by the us justice department notably a total of 4 5 billion has been from 1mdb which was set up by razak in 2009 to promote economic development \n",
      "\n",
      "\n",
      "헤드라인 요약: hero he added it was an off day i'm finding it difficult to forget it he further said \n",
      "예측 원문 요약 :  he added it was an off day i'm finding it difficult to forget it he further said\n",
      "원문 : indian all rounder vijay shankar who played four consecutive dot deliveries in 18th over of the tri series final has said he should have finished the match i was feeling very at how things out it was an opportunity for me to become a hero he added it was an off day i'm finding it difficult to forget it he further said \n",
      "\n",
      "\n",
      "헤드라인 요약: the srinagar municipal corporation had not entered into any official collaboration with the army for cleaning the lake \n",
      "예측 원문 요약 :  municipal corporation had not entered into any official collaboration with the army for cleaning the lake\n",
      "원문 : after the army participated in a 21 day operation to clean dal lake newly appointed srinagar mayor junaid tweeted that it was not their job and that they do not need to venture into civil governance domains he also claimed that the srinagar municipal corporation had not entered into any official collaboration with the army for cleaning the lake \n",
      "\n",
      "\n",
      "헤드라인 요약: winning none mishra said this comes after ec recommended that 20 aap mlas be disqualified for holding of \n",
      "예측 원문 요약 :  winning none mishra said this comes after ec recommended that 20 aap mlas be disqualified for holding\n",
      "원문 : rebel aap leader kapil mishra on saturday claimed the party's internal survey shows that aap will not win any of the 20 seats if by elections are held as per the survey the party is surely losing 11 seats and surely winning none mishra said this comes after ec recommended that 20 aap mlas be disqualified for holding of \n",
      "\n",
      "\n",
      "헤드라인 요약: only one customer who paid in bitcoin since it started this mode of payment nearly 11 months ago \n",
      "예측 원문 요약 :  who paid in bitcoin since it started this mode of payment nearly 11 months ago ago\n",
      "원문 : a maharashtrian restaurant in bengaluru may be one of the first in the city to accept bill payments through bitcoin apart from cash cards and other digital wallets however the restaurant has had only one customer who paid in bitcoin since it started this mode of payment nearly 11 months ago \n",
      "\n",
      "\n",
      "헤드라인 요약: they also said that even though kiosks automatically end calls after 10 minutes the took place for hours \n",
      "예측 원문 요약 :  they also said that even though that even automatically end calls after 10 minutes the took place\n",
      "원문 : the public internet booths were hacked to play ice cream truck music in the us said people use the phone app to call a number to play the music and press its home button to hide the call they also said that even though kiosks automatically end calls after 10 minutes the took place for hours \n",
      "\n",
      "\n",
      "헤드라인 요약: was banned by airlines for misbehaving at the airport after being denied a boarding pass for reaching late \n",
      "예측 원문 요약 :  by airlines for advani at the airport after being denied a boarding pass for reaching late for\n",
      "원문 : tdp mp diwakar reddy who was banned by airlines after creating a ruckus at visakhapatnam airport has announced resignation from his parliamentary position he cited his inability to resolve several issues in his constituency as reason behind the resignation in june reddy was banned by airlines for misbehaving at the airport after being denied a boarding pass for reaching late \n",
      "\n",
      "\n",
      "헤드라인 요약: strong actor who can do justice to that role he added 'bharat' will mark priyanka's comeback in bollywood \n",
      "예측 원문 요약 :  actor who can do justice to that role he added 'bharat' will mark priyanka's comeback in bollywood\n",
      "원문 : filmmaker ali abbas zafar has said actress priyanka chopra was always his first choice for the upcoming film 'bharat' what's really important is that the character of the girl in the film is very strong and we wanted to cast a very strong actor who can do justice to that role he added 'bharat' will mark priyanka's comeback in bollywood \n",
      "\n",
      "\n",
      "헤드라인 요약: will need the approval of the special committee made up of three tesla board members the startup said \n",
      "예측 원문 요약 :  will need the approval of the special committee made up of three tesla board members the startup\n",
      "원문 : electric carmaker tesla's board has formed a special committee to evaluate ceo elon musk's proposal to go private tesla on tuesday said the committee has not received a formal proposal from musk any action to take the company private will need the approval of the special committee made up of three tesla board members the startup said \n",
      "\n",
      "\n",
      "헤드라인 요약: said he felt neglected by sp meanwhile yadav said the morcha will contest the 2019 lok sabha elections \n"
     ]
    },
    {
     "name": "stdout",
     "output_type": "stream",
     "text": [
      "예측 원문 요약 :  by sp meanwhile yadav said the morcha will contest the 2019 lok sabha elections elections\n",
      "원문 : samajwadi secular morcha founder shivpal yadav has said he is open to the idea of joining a proposed grand alliance of opposition parties in uttar pradesh yadav who had formed the morcha following differences with samajwadi party chief akhilesh yadav had earlier said he felt neglected by sp meanwhile yadav said the morcha will contest the 2019 lok sabha elections \n",
      "\n",
      "\n",
      "헤드라인 요약: was slammed by cm pinarayi vijayan for the issue while health minister kk shailaja called the act ridiculous \n",
      "예측 원문 요약 :  he was slammed by cm pinarayi vijayan for the issue while health minister siddaramaiah called the act\n",
      "원문 : indian union muslim league mla abdulla attended the kerala assembly on monday wearing a mask and gloves to highlight the impact of the nipah virus abdulla said this was a symbolic gesture as everyone in kozhikode was wearing masks he was slammed by cm pinarayi vijayan for the issue while health minister kk shailaja called the act ridiculous \n",
      "\n",
      "\n",
      "헤드라인 요약: cut motion which requires voting later congress and ncp leaders also protested against the government at vidhan bhavan \n",
      "예측 원문 요약 :  motion which requires voting later congress and akbar leaders also protested against the government at forging bhavan\n",
      "원문 : the speaker of the maharashtra assembly on wednesday suspended 19 legislators from opposition benches for nine months for creating a ruckus in the house the opposition alleged that the action was taken by the ruling side to avoid defeat over a cut motion which requires voting later congress and ncp leaders also protested against the government at vidhan bhavan \n",
      "\n",
      "\n",
      "헤드라인 요약: said the taliban militants generate an estimated 200 million nearly crore a year from cultivation and opium production \n",
      "예측 원문 요약 :  an estimated 200 million noise an estimated 200 million nearly crore a year from srinagar and opium\n",
      "원문 : the commander of us forces in afghanistan general john on monday said that us aircraft have targeted drug producing facilities in the country for the first time under a new strategy aimed at cutting off taliban funding he further said the taliban militants generate an estimated 200 million nearly crore a year from cultivation and opium production \n",
      "\n",
      "\n",
      "헤드라인 요약: agents to stop government troops an investigation has been launched to determine what type of gas was used \n",
      "예측 원문 요약 :  agents to stop government troops an investigation has been launched to determine what type of gas was\n",
      "원문 : at least six iraqi soldiers suffered inhalation problems on sunday after the islamic state launched a chemical attack in a recently liberated area of mosul according to reports this is the second time in two days that the militant group has used chemical agents to stop government troops an investigation has been launched to determine what type of gas was used \n",
      "\n",
      "\n",
      "헤드라인 요약: state meanwhile congress and jd s announced a post poll alliance and staked claim to form the government \n",
      "예측 원문 요약 :  meanwhile congress and jd s announced a post poll alliance and bhumi claim to form the government\n",
      "원문 : karnataka chief minister siddaramaiah on tuesday submitted his resignation to state governor vajubhai vala after the congress' poor performance in the state assembly elections current trends show bjp leading in 104 out of 222 seats in the state meanwhile congress and jd s announced a post poll alliance and staked claim to form the government \n",
      "\n",
      "\n",
      "헤드라인 요약: said in a statement founded in 2014 ofo offers a free' bike sharing platform operated via an app \n",
      "예측 원문 요약 :  the company said in a statement founded in 2014 bhatia sharing platform operated via an app\n",
      "원문 : chinese bike sharing firm ofo has raised million in a funding round led by china's e commerce giant alibaba alibaba's payments affiliate ant financial and venture capital firms group capital and capital participated in the round the company said in a statement founded in 2014 ofo offers a free' bike sharing platform operated via an app \n",
      "\n",
      "\n",
      "헤드라인 요약: body was handed over to his family after post mortem reports suggested that the victim suffered from depression \n",
      "예측 원문 요약 :  over to his family after post mortem reports suggested that the victim suffered from depression\n",
      "원문 : a 22 year old engineering student allegedly committed suicide by jumping off the terrace of the 11 storey city building in gurugram on friday evening police officials said they did not find a suicide note and added that his body was handed over to his family after post mortem reports suggested that the victim suffered from depression \n",
      "\n",
      "\n",
      "헤드라인 요약: user slammed twinkle for her progressive pieces described akshay as dancing around modi and called them indian in \n",
      "예측 원문 요약 :  the user slammed twinkle as akshay as dancing around modi and called them indian in\n",
      "원문 : twinkle khanna slammed a twitter user who mocked her and husband akshay kumar after akshay's meeting with prime minister narendra modi akshay had shared a picture with modi and tweeted that he discussed his upcoming film with him the user slammed twinkle for her progressive pieces described akshay as dancing around modi and called them indian in \n",
      "\n",
      "\n",
      "헤드라인 요약: climb the team will be bringing back garbage from the peak as part of 'clean and save campaign \n",
      "예측 원문 요약 :  the team will be bringing back garbage from the peak as part of and save campaign\n",
      "원문 : bsf assistant commandant singh has set a national record by scaling mount everest for the seventh time led an expedition team of 25 people and had left the second base camp of the peak on thursday for the climb the team will be bringing back garbage from the peak as part of and save campaign \n",
      "\n",
      "\n",
      "헤드라인 요약: added the state had contended that bringing back the silence zones would lead to law and order problems \n",
      "예측 원문 요약 :  had levelled that bringing back the silence zones would lead to law and order problems problems\n",
      "원문 : the bombay high court has stayed the amendment of noise pollution rules by the central government saying that it violates the fundamental right of citizens to live in peace this interim order means continuation of silence zones which existed earlier the court added the state had contended that bringing back the silence zones would lead to law and order problems \n",
      "\n",
      "\n",
      "헤드라인 요약: a large number of migrants and refugees including children have been left homeless according to an aid agency \n",
      "예측 원문 요약 :  number of migrants and refugees including children have been left homeless according to an aid agency agency\n",
      "원문 : ten people were injured late on monday as a migrant camp which housed around 1 500 people near in france was burnt after a knife fight broke out among its afghan and kurdish inhabitants according to reports a large number of migrants and refugees including children have been left homeless according to an aid agency \n",
      "\n",
      "\n",
      "헤드라인 요약: certain brokers were able to log into systems with better hardware specifications giving them unfair access and advantage \n",
      "예측 원문 요약 :  into systems with better hardware and certain hardware were them unfair access and advantage of aggression\n",
      "원문 : ravi narain vice chairman of national stock exchange has stepped down from the board his decision came amid markets regulator sebi probing nse for providing access to certain brokers on its trading platform the allegations claim that certain brokers were able to log into systems with better hardware specifications giving them unfair access and advantage \n",
      "\n",
      "\n",
      "헤드라인 요약: was the first time india failed to defend a 300 plus team total in an icc tournament match \n",
      "예측 원문 요약 :  notably this was the first time india failed to defend a 300 plus team total match\n",
      "원문 : sri lanka chased down india's 321 on thursday to record the highest successful chase in champions trophy history this was also sri lanka's joint highest successful chase in odis with them having chased 321 against england in 2006 notably this was the first time india failed to defend a 300 plus team total in an icc tournament match \n",
      "\n",
      "\n",
      "헤드라인 요약: to the nose and throat during pressure the air in the tube makes the sound reducing the discomfort \n",
      "예측 원문 요약 :  and throat during pressure the air in the tube makes the sound reducing the outage\n",
      "원문 : the low air pressure in an airplane causes an in the pressure in the inner ear the pressure can be relieved through swallowing or chewing gum which opens the muscles of an tube that connects the ears to the nose and throat during pressure the air in the tube makes the sound reducing the discomfort \n",
      "\n",
      "\n",
      "헤드라인 요약: old married men offered career advice and suggested they could share it with her alone late at night \n"
     ]
    },
    {
     "name": "stdout",
     "output_type": "stream",
     "text": [
      "예측 원문 요약 :  married men offered career advice and suggested they could share it with her alone late at night\n",
      "원문 : in a facebook post about sexual harassment faced by women facebook coo sheryl sandberg revealed that she also experienced sexual harassment over the course of her job adding that she was lucky she wasn't harassed by anyone she worked for she said old married men offered career advice and suggested they could share it with her alone late at night \n",
      "\n",
      "\n",
      "헤드라인 요약: will cover 50 islands and 34 000 square kilometres and its first phase will be completed in 2022 \n",
      "예측 원문 요약 :  50 islands and 34 000 square kilometres and its first phase will be completed in 2022\n",
      "원문 : saudi arabia is planning a tourism project on an area bigger than belgium the country hopes to turn part of its red sea coastline into a global tourism destination governed by laws on par with international standards the project will cover 50 islands and 34 000 square kilometres and its first phase will be completed in 2022 \n",
      "\n",
      "\n",
      "헤드라인 요약: while the saudi players and their supporters refrained from participating they were later booed by the home supporters \n",
      "예측 원문 요약 :  while the saudi players and their supporters deserved from participating they were later arrested by the home\n",
      "원문 : saudi arabia's football team continued their warm up while the australian team and spectators observed a two minute silence for the london terror attack victims before a world cup qualifier between the countries the australian team lined up in the middle of the pitch while the saudi players and their supporters refrained from participating they were later booed by the home supporters \n",
      "\n",
      "\n",
      "헤드라인 요약: as sellers on the now defunct they allege that snapdeal management has done nothing to settle their dues \n",
      "예측 원문 요약 :  as sellers on the now defunct they allege that snapdeal management has done nothing to settle their\n",
      "원문 : all india online vendors association a group of 2 000 online sellers has written to the centre to stop the flipkart snapdeal merger until snapdeal its unpaid dues the sellers fear that if the merger goes through they would meet the same fate as sellers on the now defunct they allege that snapdeal management has done nothing to settle their dues \n",
      "\n",
      "\n",
      "헤드라인 요약: technical glitches over 10 of the 10 300 vvpat machines malfunctioned during bypolls in 10 states on monday \n",
      "예측 원문 요약 :  over 10 of the 10 300 additionally machines burned during evms in 10 states on monday\n",
      "원문 : will be conducted in 73 stations in uttar pradesh's kairana and 49 booths in maharashtra's tomorrow the election commission has said this comes after around 20 of evms and vvpat machines in the constituencies were replaced due to technical glitches over 10 of the 10 300 vvpat machines malfunctioned during bypolls in 10 states on monday \n",
      "\n",
      "\n"
     ]
    }
   ],
   "source": [
    "# 50개 샘플에 대해 실제 요약과 예측 요약 비교\n",
    "\n",
    "for i in range(50, 100):\n",
    "    print(\"헤드라인 요약:\", seq2headline(decoder_input_test[i]))\n",
    "    print(\"예측 원문 요약 :\", decode_sequence(encoder_input_test[i].reshape(1, text_max_len)))\n",
    "    print(\"원문 :\", seq2text(encoder_input_test[i]))\n",
    "    print(\"\\n\")"
   ]
  },
  {
   "cell_type": "markdown",
   "metadata": {},
   "source": [
    "# Step 5. Summa을 이용해서 추출적 요약해보기\n",
    "***\n",
    "\n",
    "추상적 요약은 추출적 요약과는 달리 문장의 표현력을 다양하게 가져갈 수 있지만, 추출적 요약에 비해서 난이도가 높아요. 반대로 말하면 추출적 요약은 추상적 요약에 비해 난이도가 낮고 기존 문장에서 문장을 꺼내오는 것이므로 잘못된 요약이 나올 가능성이 낮아요.\n",
    "\n",
    "Summa의 summarize를 사용하여 추출적 요약을 해보세요."
   ]
  },
  {
   "cell_type": "code",
   "execution_count": 47,
   "metadata": {},
   "outputs": [],
   "source": [
    "# summarize 임포트\n",
    "\n",
    "from summa.summarizer import summarize"
   ]
  },
  {
   "cell_type": "code",
   "execution_count": 54,
   "metadata": {},
   "outputs": [],
   "source": [
    "# 데이터 가져오기\n",
    "\n",
    "urllib.request.urlretrieve(\"https://raw.githubusercontent.com/sunnysai12345/News_Summary/master/news_summary_more.csv\", filename=\"news_summary_more.csv\")\n",
    "data_summa = pd.read_csv('news_summary_more.csv', encoding='iso-8859-1')"
   ]
  },
  {
   "cell_type": "code",
   "execution_count": 59,
   "metadata": {},
   "outputs": [
    {
     "name": "stdout",
     "output_type": "stream",
     "text": [
      "Saurav Kant, an alumnus of upGrad and IIIT-B's PG Program in Machine learning and Artificial Intelligence, was a Sr Systems Engineer at Infosys with almost 5 years of work experience. The program and upGrad's 360-degree career support helped him transition to a Data Scientist at Tech Mahindra with 90% salary hike. upGrad's Online Power Learning has powered 3 lakh+ careers.\n"
     ]
    }
   ],
   "source": [
    "# text 컬럼의 0번째 인덱스 값 (내용)\n",
    "\n",
    "print(data_summa['text'][0])"
   ]
  },
  {
   "cell_type": "code",
   "execution_count": 58,
   "metadata": {},
   "outputs": [
    {
     "name": "stdout",
     "output_type": "stream",
     "text": [
      "text :Users get one CRED coin per rupee of bill paid, which can be used to avail rewards from brands like Ixigo, BookMyShow, UberEats, Cult.Fit and more.\n"
     ]
    }
   ],
   "source": [
    "# text 컬럼의 0번째 인덱스 값 요약\n",
    "\n",
    "print('text :', end ='')\n",
    "print(summarize(data_summa['text'][1], ratio = 0.5))"
   ]
  },
  {
   "cell_type": "markdown",
   "metadata": {},
   "source": [
    "### 회고\n",
    "***\n",
    "\n",
    "NLP 는 CV 에 비해 단계도 복잡하고 너무 어려운 것 같다... ㅜㅜ\n",
    "\n",
    "사실 어느 것 하나 쉬운게 없다 ㅠㅠ"
   ]
  },
  {
   "cell_type": "code",
   "execution_count": null,
   "metadata": {},
   "outputs": [],
   "source": []
  }
 ],
 "metadata": {
  "kernelspec": {
   "display_name": "aiffel",
   "language": "python",
   "name": "aiffel"
  },
  "language_info": {
   "codemirror_mode": {
    "name": "ipython",
    "version": 3
   },
   "file_extension": ".py",
   "mimetype": "text/x-python",
   "name": "python",
   "nbconvert_exporter": "python",
   "pygments_lexer": "ipython3",
   "version": "3.7.9"
  }
 },
 "nbformat": 4,
 "nbformat_minor": 4
}
