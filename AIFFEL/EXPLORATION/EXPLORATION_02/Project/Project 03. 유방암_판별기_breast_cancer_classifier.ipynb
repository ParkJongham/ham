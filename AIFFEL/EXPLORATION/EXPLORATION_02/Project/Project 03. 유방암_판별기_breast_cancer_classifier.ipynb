{
 "cells": [
  {
   "cell_type": "markdown",
   "metadata": {},
   "source": [
    "\n",
    "# 프로젝트 (3) load_breast_cancer : 유방암 여부를 진단해 봅시다\n",
    "\n",
    "마지막으로 유방암 여부를 진단해 보겠습니다.  \n",
    "이 데이터 또한 여러 사람의 건강 지표에 대한 데이터가 feature로 들어가있고, 유방암의 여부가 True, False로 label이 됩니다.\n",
    "\n",
    "주어진 데이터로 환자의 유방암 여부를 분류해 볼 수 있을까요?\n",
    "\n",
    "### (1) 필요한 모듈 import하기\n",
    "\n",
    "----------\n",
    "\n",
    "```python\n",
    "from sklearn.datasets import load_breast_cancer\n",
    "from sklearn.model_selection import train_test_split\n",
    "from sklearn.metrics import classification_report\n",
    "\n",
    "```\n",
    "\n",
    "### (2) 데이터 준비\n",
    "\n",
    "----------\n",
    "\n",
    "`load_breast_cancer`  메서드를 사용합니다.\n",
    "\n",
    "### (3) 데이터 이해하기\n",
    "\n",
    "----------\n",
    "\n",
    "지피지기면 백전불태! 다루어야 할 데이터를 자세히 살펴봅시다.\n",
    "\n",
    "-   Feature Data 지정하기\n",
    "-   Label Data 지정하기\n",
    "-   Target Names 출력해 보기\n",
    "-   데이터 Describe 해 보기\n",
    "\n",
    "### (4) train, test 데이터 분리\n",
    "\n",
    "----------\n",
    "\n",
    "모델 학습과 테스트용 문제지와 정답지를 준비해 봅시다.  \n",
    "X_train, X_test, y_train, y_test를 생성하는 방법을 참고해 보세요.\n",
    "\n",
    "### (5) 다양한 모델로 학습시켜보기\n",
    "\n",
    "----------\n",
    "\n",
    "학습데이터 X_train, y_train 을 활용해 분류기 모델을 만들어 봅시다. 어떤 모델이 가장 좋은 성능을 보일까요?\n",
    "\n",
    "-   Decision Tree 사용해 보기\n",
    "-   Random Forest 사용해 보기\n",
    "-   SVM 사용해 보기\n",
    "-   SGD Classifier 사용해 보기\n",
    "-   Logistic Regression 사용해 보기\n",
    "\n",
    "### (6) 모델을 평가해 보기\n",
    "\n",
    "----------\n",
    "\n",
    "학습된 모델들의 테스트데이터 예측 결과를 어떻게 해석해야 할까요? 모델의 성능을 평가하는 지표로는 무엇이 좋을까요? sklearn.metrics 에서 제공하는 평가지표 중 적절한 것을 선택해 보세요. 선택하신 이유도 설명해 주세요."
   ]
  },
  {
   "cell_type": "markdown",
   "metadata": {},
   "source": [
    "## 1. 모듈 임포트"
   ]
  },
  {
   "cell_type": "code",
   "execution_count": 1,
   "metadata": {},
   "outputs": [],
   "source": [
    "'''\n",
    "데이터 로드\n",
    "데이터 확인 = keys()\n",
    "훈련용 데이터, 학습용 데이터 나누기\n",
    "모델 학습 및 예측하기\n",
    "성능 점검하기\n",
    "'''\n",
    "\n",
    "\n",
    "# load_digits 데이터 가져오기\n",
    "\n",
    "from sklearn.datasets import load_breast_cancer\n",
    "from sklearn.model_selection import train_test_split\n",
    "from sklearn.metrics import classification_report\n",
    "from sklearn.metrics import accuracy_score"
   ]
  },
  {
   "cell_type": "markdown",
   "metadata": {},
   "source": [
    "## 2. 데이터 가져오기\n",
    "\n",
    "## 3. 데이터 이해하기"
   ]
  },
  {
   "cell_type": "code",
   "execution_count": 2,
   "metadata": {},
   "outputs": [
    {
     "name": "stdout",
     "output_type": "stream",
     "text": [
      "['malignant' 'benign']\n",
      ".. _breast_cancer_dataset:\n",
      "\n",
      "Breast cancer wisconsin (diagnostic) dataset\n",
      "--------------------------------------------\n",
      "\n",
      "**Data Set Characteristics:**\n",
      "\n",
      "    :Number of Instances: 569\n",
      "\n",
      "    :Number of Attributes: 30 numeric, predictive attributes and the class\n",
      "\n",
      "    :Attribute Information:\n",
      "        - radius (mean of distances from center to points on the perimeter)\n",
      "        - texture (standard deviation of gray-scale values)\n",
      "        - perimeter\n",
      "        - area\n",
      "        - smoothness (local variation in radius lengths)\n",
      "        - compactness (perimeter^2 / area - 1.0)\n",
      "        - concavity (severity of concave portions of the contour)\n",
      "        - concave points (number of concave portions of the contour)\n",
      "        - symmetry\n",
      "        - fractal dimension (\"coastline approximation\" - 1)\n",
      "\n",
      "        The mean, standard error, and \"worst\" or largest (mean of the three\n",
      "        worst/largest values) of these features were computed for each image,\n",
      "        resulting in 30 features.  For instance, field 0 is Mean Radius, field\n",
      "        10 is Radius SE, field 20 is Worst Radius.\n",
      "\n",
      "        - class:\n",
      "                - WDBC-Malignant\n",
      "                - WDBC-Benign\n",
      "\n",
      "    :Summary Statistics:\n",
      "\n",
      "    ===================================== ====== ======\n",
      "                                           Min    Max\n",
      "    ===================================== ====== ======\n",
      "    radius (mean):                        6.981  28.11\n",
      "    texture (mean):                       9.71   39.28\n",
      "    perimeter (mean):                     43.79  188.5\n",
      "    area (mean):                          143.5  2501.0\n",
      "    smoothness (mean):                    0.053  0.163\n",
      "    compactness (mean):                   0.019  0.345\n",
      "    concavity (mean):                     0.0    0.427\n",
      "    concave points (mean):                0.0    0.201\n",
      "    symmetry (mean):                      0.106  0.304\n",
      "    fractal dimension (mean):             0.05   0.097\n",
      "    radius (standard error):              0.112  2.873\n",
      "    texture (standard error):             0.36   4.885\n",
      "    perimeter (standard error):           0.757  21.98\n",
      "    area (standard error):                6.802  542.2\n",
      "    smoothness (standard error):          0.002  0.031\n",
      "    compactness (standard error):         0.002  0.135\n",
      "    concavity (standard error):           0.0    0.396\n",
      "    concave points (standard error):      0.0    0.053\n",
      "    symmetry (standard error):            0.008  0.079\n",
      "    fractal dimension (standard error):   0.001  0.03\n",
      "    radius (worst):                       7.93   36.04\n",
      "    texture (worst):                      12.02  49.54\n",
      "    perimeter (worst):                    50.41  251.2\n",
      "    area (worst):                         185.2  4254.0\n",
      "    smoothness (worst):                   0.071  0.223\n",
      "    compactness (worst):                  0.027  1.058\n",
      "    concavity (worst):                    0.0    1.252\n",
      "    concave points (worst):               0.0    0.291\n",
      "    symmetry (worst):                     0.156  0.664\n",
      "    fractal dimension (worst):            0.055  0.208\n",
      "    ===================================== ====== ======\n",
      "\n",
      "    :Missing Attribute Values: None\n",
      "\n",
      "    :Class Distribution: 212 - Malignant, 357 - Benign\n",
      "\n",
      "    :Creator:  Dr. William H. Wolberg, W. Nick Street, Olvi L. Mangasarian\n",
      "\n",
      "    :Donor: Nick Street\n",
      "\n",
      "    :Date: November, 1995\n",
      "\n",
      "This is a copy of UCI ML Breast Cancer Wisconsin (Diagnostic) datasets.\n",
      "https://goo.gl/U2Uwz2\n",
      "\n",
      "Features are computed from a digitized image of a fine needle\n",
      "aspirate (FNA) of a breast mass.  They describe\n",
      "characteristics of the cell nuclei present in the image.\n",
      "\n",
      "Separating plane described above was obtained using\n",
      "Multisurface Method-Tree (MSM-T) [K. P. Bennett, \"Decision Tree\n",
      "Construction Via Linear Programming.\" Proceedings of the 4th\n",
      "Midwest Artificial Intelligence and Cognitive Science Society,\n",
      "pp. 97-101, 1992], a classification method which uses linear\n",
      "programming to construct a decision tree.  Relevant features\n",
      "were selected using an exhaustive search in the space of 1-4\n",
      "features and 1-3 separating planes.\n",
      "\n",
      "The actual linear program used to obtain the separating plane\n",
      "in the 3-dimensional space is that described in:\n",
      "[K. P. Bennett and O. L. Mangasarian: \"Robust Linear\n",
      "Programming Discrimination of Two Linearly Inseparable Sets\",\n",
      "Optimization Methods and Software 1, 1992, 23-34].\n",
      "\n",
      "This database is also available through the UW CS ftp server:\n",
      "\n",
      "ftp ftp.cs.wisc.edu\n",
      "cd math-prog/cpo-dataset/machine-learn/WDBC/\n",
      "\n",
      ".. topic:: References\n",
      "\n",
      "   - W.N. Street, W.H. Wolberg and O.L. Mangasarian. Nuclear feature extraction \n",
      "     for breast tumor diagnosis. IS&T/SPIE 1993 International Symposium on \n",
      "     Electronic Imaging: Science and Technology, volume 1905, pages 861-870,\n",
      "     San Jose, CA, 1993.\n",
      "   - O.L. Mangasarian, W.N. Street and W.H. Wolberg. Breast cancer diagnosis and \n",
      "     prognosis via linear programming. Operations Research, 43(4), pages 570-577, \n",
      "     July-August 1995.\n",
      "   - W.H. Wolberg, W.N. Street, and O.L. Mangasarian. Machine learning techniques\n",
      "     to diagnose breast cancer from fine-needle aspirates. Cancer Letters 77 (1994) \n",
      "     163-171.\n"
     ]
    }
   ],
   "source": [
    "# sklearn 에서 가져온 digits 데이터를  변수에 저장\n",
    "breast_cancer = load_breast_cancer()\n",
    "\n",
    "#print(digits.keys())\n",
    "\n",
    "# Feature 데이터 저장\n",
    "breast_cancer_data = breast_cancer.data\n",
    "#print(breast_cancer_data)\n",
    "#print(breast_cancer_data.shape)\n",
    "\n",
    "# Label 데이터 저장\n",
    "breast_cancer_label = breast_cancer.target\n",
    "#print(breast_cancer_label)\n",
    "#print(breast_cancer_label.shape)\n",
    "\n",
    "# Target Names 출력해보기\n",
    "print(breast_cancer.target_names)\n",
    "\n",
    "# digits 데이터 Describe \n",
    "print(breast_cancer.DESCR)"
   ]
  },
  {
   "cell_type": "markdown",
   "metadata": {},
   "source": [
    "## 4. 데이터 분리"
   ]
  },
  {
   "cell_type": "code",
   "execution_count": 3,
   "metadata": {},
   "outputs": [],
   "source": [
    "# train 데이터, test 데이터 분리\n",
    "x_train, x_test, y_train, y_test = train_test_split(breast_cancer_data, breast_cancer_label, test_size = 0.2, random_state = 32)"
   ]
  },
  {
   "cell_type": "markdown",
   "metadata": {},
   "source": [
    "## 5. 모델 구성 및 예측"
   ]
  },
  {
   "cell_type": "code",
   "execution_count": 4,
   "metadata": {},
   "outputs": [
    {
     "name": "stdout",
     "output_type": "stream",
     "text": [
      "[1 0 1 0 1 1 1 1 1 0 0 1 1 1 1 1 1 0 0 0 0 0 0 0 1 1 1 0 1 1 0 1 1 1 1 0 0\n",
      " 1 1 0 1 0 0 1 0 1 1 0 0 1 1 1 1 1 0 0 1 0 0 0 1 1 1 1 1 1 1 0 1 1 0 0 1 1\n",
      " 1 0 1 0 1 0 0 1 0 1 1 0 1 0 0 0 1 0 1 1 1 1 1 1 1 1 0 1 1 1 1 1 0 1 0 1 1\n",
      " 1 0 1] [1 1 1 0 1 1 1 1 1 0 1 0 1 1 1 1 1 0 0 0 0 0 0 0 1 1 0 0 1 1 0 1 1 1 1 0 0\n",
      " 1 1 0 1 0 0 1 0 1 1 0 0 1 1 1 1 1 0 0 1 0 0 0 1 1 1 1 1 1 1 0 1 1 0 0 1 0\n",
      " 1 0 1 0 1 1 0 1 1 1 1 0 1 0 0 0 1 0 1 1 1 1 1 1 1 1 0 1 0 1 0 1 0 1 0 1 1\n",
      " 1 0 1]\n",
      "              precision    recall  f1-score   support\n",
      "\n",
      "           0       0.91      0.89      0.90        44\n",
      "           1       0.93      0.94      0.94        70\n",
      "\n",
      "    accuracy                           0.92       114\n",
      "   macro avg       0.92      0.91      0.92       114\n",
      "weighted avg       0.92      0.92      0.92       114\n",
      "\n",
      "정확도 :  0.9210526315789473\n"
     ]
    }
   ],
   "source": [
    "# Decision tree 를 통한 예측 및 분석\n",
    "\n",
    "# Decision tree 패키지 가져오기\n",
    "from sklearn.tree import DecisionTreeClassifier\n",
    "\n",
    "# decision tree 패키지를 변수에 저장\n",
    "decision_tree = DecisionTreeClassifier(random_state = 7)\n",
    "\n",
    "# decision tree 를 통해 train data 학습\n",
    "decision_tree.fit(x_train, y_train)\n",
    "\n",
    "# test data 를 통한 예측 결과를 y_pred 변수에 저장\n",
    "y_pred = decision_tree.predict(x_test)\n",
    "\n",
    "# 예측 결과와 실제 답 출력\n",
    "print(y_pred, y_test)\n",
    "\n",
    "# decision tree 를 통한 예측기 성능\n",
    "print(classification_report(y_test, y_pred))\n",
    "\n",
    "# 정확도\n",
    "print(\"정확도 : \", accuracy_score(y_pred, y_test))"
   ]
  },
  {
   "cell_type": "code",
   "execution_count": 5,
   "metadata": {},
   "outputs": [],
   "source": [
    "# randomforest 를 통한 학습 및 예측하기\n",
    "\n",
    "# randomforest 패키지 가져오기\n",
    "from sklearn.ensemble import RandomForestClassifier"
   ]
  },
  {
   "cell_type": "code",
   "execution_count": 6,
   "metadata": {},
   "outputs": [
    {
     "name": "stdout",
     "output_type": "stream",
     "text": [
      "[1 1 1 0 1 1 1 1 1 0 1 1 1 1 1 1 0 0 0 0 0 0 0 0 1 1 1 0 1 1 0 1 1 1 1 0 0\n",
      " 1 1 0 1 0 0 1 0 1 1 0 0 1 1 1 1 1 0 0 1 0 0 0 1 1 1 1 1 1 1 0 1 1 0 0 1 0\n",
      " 1 0 1 0 1 1 0 1 1 1 1 0 1 0 0 0 1 0 1 1 1 1 1 0 1 1 0 1 1 1 0 1 0 1 0 1 1\n",
      " 1 0 1] [1 1 1 0 1 1 1 1 1 0 1 0 1 1 1 1 1 0 0 0 0 0 0 0 1 1 0 0 1 1 0 1 1 1 1 0 0\n",
      " 1 1 0 1 0 0 1 0 1 1 0 0 1 1 1 1 1 0 0 1 0 0 0 1 1 1 1 1 1 1 0 1 1 0 0 1 0\n",
      " 1 0 1 0 1 1 0 1 1 1 1 0 1 0 0 0 1 0 1 1 1 1 1 1 1 1 0 1 0 1 0 1 0 1 0 1 1\n",
      " 1 0 1]\n",
      "              precision    recall  f1-score   support\n",
      "\n",
      "           0       0.95      0.93      0.94        44\n",
      "           1       0.96      0.97      0.96        70\n",
      "\n",
      "    accuracy                           0.96       114\n",
      "   macro avg       0.96      0.95      0.95       114\n",
      "weighted avg       0.96      0.96      0.96       114\n",
      "\n",
      "정확도 :  0.956140350877193\n"
     ]
    }
   ],
   "source": [
    "# randomforestclassifier 를 randomforest_model 변수에 저장\n",
    "randomforest_model = RandomForestClassifier(random_state = 7)\n",
    "\n",
    "# 위에서 나눈 train data, test 를 학습\n",
    "randomforest_model.fit(x_train, y_train)\n",
    "\n",
    "# 예측 결과를 y_pred 변수에 저장\n",
    "y_pred = randomforest_model.predict(x_test)\n",
    "\n",
    "# 예측 결과와 실제 정답 라벨과 비료\n",
    "print((y_pred), (y_test))\n",
    "\n",
    "# 예측 결과 및 모델 성능 출력\n",
    "print(classification_report(y_test, y_pred))\n",
    "\n",
    "# 정확도\n",
    "print(\"정확도 : \", accuracy_score(y_pred, y_test))"
   ]
  },
  {
   "cell_type": "markdown",
   "metadata": {},
   "source": [
    "## 6. 모델 평가"
   ]
  },
  {
   "cell_type": "code",
   "execution_count": 7,
   "metadata": {},
   "outputs": [],
   "source": [
    "# SVM 을 통한 학습 및 예측 모델\n",
    "\n",
    "# SVM 패키지 가져오기\n",
    "from sklearn import svm"
   ]
  },
  {
   "cell_type": "code",
   "execution_count": 8,
   "metadata": {},
   "outputs": [
    {
     "name": "stdout",
     "output_type": "stream",
     "text": [
      "[1 1 1 0 1 1 1 1 0 0 1 1 1 1 1 1 0 0 1 0 1 0 0 0 1 1 1 0 1 1 0 1 1 1 1 0 0\n",
      " 1 1 0 1 0 0 1 0 1 1 0 1 1 1 1 1 1 0 1 1 0 0 0 1 1 1 1 1 1 1 0 1 1 1 0 1 1\n",
      " 1 0 1 0 1 1 0 1 1 1 1 0 1 0 0 0 1 0 1 1 1 0 1 1 1 1 0 1 1 1 1 1 1 1 0 1 1\n",
      " 1 1 1] [1 1 1 0 1 1 1 1 1 0 1 0 1 1 1 1 1 0 0 0 0 0 0 0 1 1 0 0 1 1 0 1 1 1 1 0 0\n",
      " 1 1 0 1 0 0 1 0 1 1 0 0 1 1 1 1 1 0 0 1 0 0 0 1 1 1 1 1 1 1 0 1 1 0 0 1 0\n",
      " 1 0 1 0 1 1 0 1 1 1 1 0 1 0 0 0 1 0 1 1 1 1 1 1 1 1 0 1 0 1 0 1 0 1 0 1 1\n",
      " 1 0 1]\n",
      "              precision    recall  f1-score   support\n",
      "\n",
      "           0       0.91      0.73      0.81        44\n",
      "           1       0.85      0.96      0.90        70\n",
      "\n",
      "    accuracy                           0.87       114\n",
      "   macro avg       0.88      0.84      0.85       114\n",
      "weighted avg       0.87      0.87      0.86       114\n",
      "\n",
      "정확도 :  0.868421052631579\n"
     ]
    }
   ],
   "source": [
    "# svm 패키지를 svm_model 변수에 저장\n",
    "svm_model = svm.SVC()\n",
    "\n",
    "# 위에서 나눈 train data 학습\n",
    "svm_model.fit(x_train, y_train)\n",
    "\n",
    "# 예측 결과를 y_pred 변수에 저장\n",
    "y_pred = svm_model.predict(x_test)\n",
    "\n",
    "# 예측 결과 와 실제 결과 비교\n",
    "print((y_pred), (y_test))\n",
    "\n",
    "# svm_model 성능검증\n",
    "print(classification_report(y_test, y_pred))\n",
    "\n",
    "# 정확도\n",
    "print(\"정확도 : \", accuracy_score(y_pred, y_test))"
   ]
  },
  {
   "cell_type": "code",
   "execution_count": 9,
   "metadata": {},
   "outputs": [],
   "source": [
    "# SGD Classifier 를 이용한 학습 및 예측 모델\n",
    "\n",
    "# SGD Classifier 패키지 임포트\n",
    "from sklearn.linear_model import SGDClassifier"
   ]
  },
  {
   "cell_type": "code",
   "execution_count": 10,
   "metadata": {},
   "outputs": [
    {
     "name": "stdout",
     "output_type": "stream",
     "text": [
      "[1 1 1 0 1 0 0 1 0 0 0 0 0 1 0 0 0 0 0 0 0 0 0 0 1 0 1 0 1 1 0 1 1 1 1 0 0\n",
      " 0 1 0 1 0 0 0 0 0 1 0 1 1 0 1 1 0 0 0 1 0 0 0 1 0 1 1 1 1 1 0 1 1 0 0 1 0\n",
      " 1 0 1 0 1 0 0 1 1 0 0 0 1 0 0 0 1 0 1 1 1 0 1 1 1 1 0 1 0 1 0 1 0 1 0 1 1\n",
      " 0 1 0] [1 1 1 0 1 1 1 1 1 0 1 0 1 1 1 1 1 0 0 0 0 0 0 0 1 1 0 0 1 1 0 1 1 1 1 0 0\n",
      " 1 1 0 1 0 0 1 0 1 1 0 0 1 1 1 1 1 0 0 1 0 0 0 1 1 1 1 1 1 1 0 1 1 0 0 1 0\n",
      " 1 0 1 0 1 1 0 1 1 1 1 0 1 0 0 0 1 0 1 1 1 1 1 1 1 1 0 1 0 1 0 1 0 1 0 1 1\n",
      " 1 0 1]\n",
      "              precision    recall  f1-score   support\n",
      "\n",
      "           0       0.93      0.66      0.77        62\n",
      "           1       0.70      0.94      0.80        52\n",
      "\n",
      "    accuracy                           0.79       114\n",
      "   macro avg       0.82      0.80      0.79       114\n",
      "weighted avg       0.83      0.79      0.79       114\n",
      "\n",
      "정확도 :  0.7894736842105263\n"
     ]
    }
   ],
   "source": [
    "# SGDClassifier 모델을 sgd_model 변수에 저장\n",
    "sgd_model = SGDClassifier()\n",
    "\n",
    "# train data 학습\n",
    "sgd_model.fit(x_train, y_train)\n",
    "\n",
    "# 예측 모델을 y_pred 변수에 저장\n",
    "y_pred = sgd_model.predict(x_test)\n",
    "\n",
    "# 예측 결과 및 실제 테스트 결과 값 비교\n",
    "print((y_pred), (y_test))\n",
    "\n",
    "# 모델 성능 확인\n",
    "print(classification_report(y_pred, y_test))\n",
    "\n",
    "# 정확도\n",
    "print(\"정확도 : \", accuracy_score(y_pred, y_test))"
   ]
  },
  {
   "cell_type": "code",
   "execution_count": 11,
   "metadata": {},
   "outputs": [],
   "source": [
    "# logistic regression 패키지 가져오지\n",
    "from sklearn.linear_model import LogisticRegression"
   ]
  },
  {
   "cell_type": "code",
   "execution_count": 12,
   "metadata": {
    "scrolled": true
   },
   "outputs": [
    {
     "name": "stdout",
     "output_type": "stream",
     "text": [
      "[1 1 1 0 1 1 1 1 1 0 0 1 0 1 1 1 0 0 0 0 1 0 0 0 1 1 1 0 1 1 0 1 1 1 1 0 0\n",
      " 1 1 0 1 0 0 1 0 1 1 0 0 1 0 1 1 1 0 0 1 0 0 0 1 1 1 1 1 1 1 0 1 1 0 0 1 1\n",
      " 1 0 1 0 1 1 0 1 1 1 1 0 1 0 0 0 1 0 1 1 1 1 1 1 1 1 0 1 1 1 0 1 0 1 0 1 1\n",
      " 1 0 0] [1 1 1 0 1 1 1 1 1 0 1 0 1 1 1 1 1 0 0 0 0 0 0 0 1 1 0 0 1 1 0 1 1 1 1 0 0\n",
      " 1 1 0 1 0 0 1 0 1 1 0 0 1 1 1 1 1 0 0 1 0 0 0 1 1 1 1 1 1 1 0 1 1 0 0 1 0\n",
      " 1 0 1 0 1 1 0 1 1 1 1 0 1 0 0 0 1 0 1 1 1 1 1 1 1 1 0 1 0 1 0 1 0 1 0 1 1\n",
      " 1 0 1]\n",
      "              precision    recall  f1-score   support\n",
      "\n",
      "           0       0.89      0.89      0.89        44\n",
      "           1       0.93      0.93      0.93        70\n",
      "\n",
      "    accuracy                           0.91       114\n",
      "   macro avg       0.91      0.91      0.91       114\n",
      "weighted avg       0.91      0.91      0.91       114\n",
      "\n",
      "정확도 :  0.9122807017543859\n"
     ]
    }
   ],
   "source": [
    "# logisticregression 모델 logistic_model 변수에 저장\n",
    "logistic_model = LogisticRegression(max_iter = 5000)\n",
    "\n",
    "# train date 학습\n",
    "logistic_model.fit(x_train, y_train)\n",
    "\n",
    "# 예측 결과를 y_pred 변수에 저장\n",
    "y_pred = logistic_model.predict(x_test)\n",
    "\n",
    "# 예측 결과와 실제 결과 비교\n",
    "print((y_pred), (y_test))\n",
    "\n",
    "# 모델 성능 점검 및 결과 요약\n",
    "print(classification_report(y_pred, y_test))\n",
    "\n",
    "# 정확도\n",
    "print(\"정확도 : \", accuracy_score(y_pred, y_test))"
   ]
  },
  {
   "cell_type": "markdown",
   "metadata": {},
   "source": [
    "### 모델평가\n",
    "***\n",
    "Q ) 학습된 모델들의 테스트데이터 예측 결과를 어떻게 해석해야 할까요? 모델의 성능을 평가하는 지표로는 무엇이 좋을까요? sklearn.metrics 에서 제공하는 평가지표 중 적절한 것을 선택해 보세요. 선택하신 이유도 설명해 주세요.\n",
    "\n",
    "A ) 성능 평가 지표 중 recall 지표가 더 중요하다고 생각합니다.\n",
    "\n",
    "건강한 사람에게 오진을 하는 것보다 실제 환자를 놓치지 않는 것이 더욱 중요하기 때문입니다.\n",
    "\n",
    "다만, 해당 분류기의 경우 성능이 나쁘지 않다고 생각하지만, 환자를 놓치는 것이 더욱 위험하기에 좀 더 높은 정확도가 필요하다고 생각됩니다. 또한 이를 위한 적정 정확도의 기준이 98% 인지, 99% 인지 궁금합니다. 물론 높을 수록 좋겠지만 어느정도까지가 허용 가능한 수치인지 궁금합니다."
   ]
  },
  {
   "cell_type": "code",
   "execution_count": null,
   "metadata": {},
   "outputs": [],
   "source": []
  }
 ],
 "metadata": {
  "kernelspec": {
   "display_name": "aiffel",
   "language": "python",
   "name": "aiffel"
  },
  "language_info": {
   "codemirror_mode": {
    "name": "ipython",
    "version": 3
   },
   "file_extension": ".py",
   "mimetype": "text/x-python",
   "name": "python",
   "nbconvert_exporter": "python",
   "pygments_lexer": "ipython3",
   "version": "3.7.9"
  }
 },
 "nbformat": 4,
 "nbformat_minor": 4
}
