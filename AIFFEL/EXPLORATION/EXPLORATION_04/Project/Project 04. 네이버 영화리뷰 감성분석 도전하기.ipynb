{
 "cells": [
  {
   "cell_type": "markdown",
   "metadata": {},
   "source": [
    "# 프로젝트 : 네이버 영화리뷰 감성분석 도전하기\n",
    "\n",
    "이전 스텝까지는 영문 텍스트의 감정분석을 진행해 보았습니다. 그렇다면 이번에는 한국어 텍스트의 감정분석을 진행해 보면 어떨까요? 오늘 활용할 데이터셋은 네이버 영화의 댓글을 모아 구성된  [Naver sentiment movie corpus](https://github.com/e9t/nsmc)입니다.\n",
    "\n",
    "아래와 같이 다운로드를 진행해 주세요.\n",
    "\n",
    "```bash\n",
    "$ wget https://raw.githubusercontent.com/e9t/nsmc/master/ratings_train.txt \n",
    "$ wget https://raw.githubusercontent.com/e9t/nsmc/master/ratings_test.txt \n",
    "$ mv ratings_*.txt ~/aiffel/sentiment_classification\n",
    "```\n",
    "<br></br>\n",
    "프로젝트 진행 순서는 다음과 같습니다.\n",
    "\n",
    "### 1) 데이터 준비와 확인\n",
    "\n",
    "```python\n",
    "import pandas as pd\n",
    "import urllib.request\n",
    "%matplotlib inline\n",
    "import matplotlib.pyplot as plt\n",
    "import re\n",
    "from konlpy.tag import Okt\n",
    "from tensorflow import keras\n",
    "from tensorflow.keras.preprocessing.text import Tokenizer\n",
    "import numpy as np\n",
    "from tensorflow.keras.preprocessing.sequence import pad_sequences\n",
    "from collections import Counter\n",
    "\n",
    "# 데이터를 읽어봅시다. \n",
    "train_data = pd.read_table('~/sentiment_classification/ratings_train.txt')\n",
    "test_data = pd.read_table('~/sentiment_classification/ratings_test.txt')\n",
    "\n",
    "train_data.head()\n",
    "```\n",
    "<br></br>\n",
    "### 2) 데이터로더 구성\n",
    "\n",
    "----------\n",
    "\n",
    "실습때 다루었던 IMDB 데이터셋은 텍스트를 가공하여 imdb.data_loader() 메소드를 호출하면 숫자 인덱스로 변환된 텍스트와 word_to_index 딕셔너리까지 친절하게 제공합니다. 그러나 이번에 다루게 될 nsmc 데이터셋은 전혀 가공되지 않은 텍스트 파일로 이루어져 있습니다. 이것을 읽어서 imdb.data_loader()와 동일하게 동작하는 자신만의  `data_loader`를 만들어 보는 것으로 시작합니다.  `data_loader`  안에서는 다음을 수행해야 합니다.\n",
    "\n",
    "-   데이터의 중복 제거\n",
    "-   NaN 결측치 제거\n",
    "-   한국어 토크나이저로 토큰화\n",
    "-   불용어(Stopwords) 제거\n",
    "-   사전`word_to_index`  구성\n",
    "-   텍스트 스트링을 사전 인덱스 스트링으로 변환\n",
    "-   X_train, y_train, X_test, y_test, word_to_index 리턴\n",
    "<br></br>\n",
    "```python\n",
    "from konlpy.tag import Mecab\n",
    "tokenizer = Mecab()\n",
    "stopwords = ['의','가','이','은','들','는','좀','잘','걍','과','도','를','으로','자','에','와','한','하다']\n",
    "\n",
    "def load_data(train_data, test_data, num_words=10000):\n",
    "    train_data.drop_duplicates(subset=['document'], inplace=True)\n",
    "    train_data = train_data.dropna(how = 'any') \n",
    "    test_data.drop_duplicates(subset=['document'], inplace=True)\n",
    "    test_data = test_data.dropna(how = 'any') \n",
    "\n",
    "    X_train = []\n",
    "    for sentence in train_data['document']:\n",
    "        temp_X = tokenizer.morphs(sentence) # 토큰화\n",
    "        temp_X = [word for word in temp_X if not word in stopwords] # 불용어 제거\n",
    "        X_train.append(temp_X)\n",
    "\n",
    "    X_test = []\n",
    "    for sentence in test_data['document']:\n",
    "        temp_X = tokenizer.morphs(sentence) # 토큰화\n",
    "        temp_X = [word for word in temp_X if not word in stopwords] # 불용어 제거\n",
    "        X_test.append(temp_X)\n",
    "\n",
    "    words = np.concatenate(X_train).tolist()\n",
    "    counter = Counter(words)\n",
    "    counter = counter.most_common(10000-4)\n",
    "    vocab = ['<PAD>', '<BOS>', '<UNK>', '<UNUSED>'] + [key for key, _ in counter]\n",
    "    word_to_index = {word:index for index, word in enumerate(vocab)}\n",
    "\n",
    "    def wordlist_to_indexlist(wordlist):\n",
    "        return [word_to_index[word] if word in word_to_index else word_to_index['<UNK>'] for word in wordlist]\n",
    "\n",
    "    X_train = list(map(wordlist_to_indexlist, X_train))\n",
    "    X_test = list(map(wordlist_to_indexlist, X_test))\n",
    "\n",
    "    return X_train, np.array(list(train_data['label'])), X_test, np.array(list(test_data['label'])), word_to_index\n",
    "\n",
    "X_train, y_train, X_test, y_test, word_to_index = load_data(train_data, test_data)\n",
    "```\n",
    "<br></br>\n",
    "```python\n",
    "index_to_word = {index:word for word, index in word_to_index.items()}\n",
    "```\n",
    "<br></br>\n",
    "```python\n",
    "# 문장 1개를 활용할 딕셔너리와 함께 주면, 단어 인덱스 리스트 벡터로 변환해 주는 함수입니다. \n",
    "# 단, 모든 문장은 <BOS>로 시작하는 것으로 합니다. \n",
    "def get_encoded_sentence(sentence, word_to_index):\n",
    "    return [word_to_index['<BOS>']]+[word_to_index[word] if word in word_to_index else word_to_index['<UNK>'] for word in sentence.split()]\n",
    "\n",
    "# 여러 개의 문장 리스트를 한꺼번에 단어 인덱스 리스트 벡터로 encode해 주는 함수입니다. \n",
    "def get_encoded_sentences(sentences, word_to_index):\n",
    "    return [get_encoded_sentence(sentence, word_to_index) for sentence in sentences]\n",
    "\n",
    "# 숫자 벡터로 encode된 문장을 원래대로 decode하는 함수입니다. \n",
    "def get_decoded_sentence(encoded_sentence, index_to_word):\n",
    "    return ' '.join(index_to_word[index] if index in index_to_word else '<UNK>' for index in encoded_sentence[1:])  #[1:]를 통해 <BOS>를 제외\n",
    "\n",
    "# 여러개의 숫자 벡터로 encode된 문장을 한꺼번에 원래대로 decode하는 함수입니다. \n",
    "def get_decoded_sentences(encoded_sentences, index_to_word):\n",
    "    return [get_decoded_sentence(encoded_sentence, index_to_word) for encoded_sentence in encoded_sentences]\n",
    "```\n",
    "<br></br>\n",
    "### 3) 모델구성을 위한 데이터 분석 및 가공\n",
    "\n",
    "----------\n",
    "\n",
    "-   데이터셋 내 문장 길이 분포\n",
    "-   적절한 최대 문장 길이 지정\n",
    "-   keras.preprocessing.sequence.pad_sequences 을 활용한 패딩 추가\n",
    "\n",
    "### 4) 모델구성 및 validation set 구성\n",
    "\n",
    "----------\n",
    "\n",
    "모델은 3가지 이상 다양하게 구성하여 실험해 보세요.\n",
    "\n",
    "### 5) 모델 훈련 개시\n",
    "\n",
    "----------\n",
    "\n",
    "### 6) Loss, Accuracy 그래프 시각화\n",
    "\n",
    "----------\n",
    "\n",
    "### 7) 학습된 Embedding 레이어 분석\n",
    "\n",
    "----------\n",
    "\n",
    "### 8) 한국어 Word2Vec 임베딩 활용하여 성능개선\n",
    "\n",
    "----------\n",
    "\n",
    "한국어 Word2Vec은 다음 경로에서 구할 수 있습니다.\n",
    "\n",
    "-   [Pre-trained word vectors of 30+ languages](https://github.com/Kyubyong/wordvectors)"
   ]
  },
  {
   "cell_type": "markdown",
   "metadata": {},
   "source": [
    "### 1. 데이터 준비와 확인"
   ]
  },
  {
   "cell_type": "code",
   "execution_count": 25,
   "metadata": {},
   "outputs": [
    {
     "data": {
      "text/html": [
       "<div>\n",
       "<style scoped>\n",
       "    .dataframe tbody tr th:only-of-type {\n",
       "        vertical-align: middle;\n",
       "    }\n",
       "\n",
       "    .dataframe tbody tr th {\n",
       "        vertical-align: top;\n",
       "    }\n",
       "\n",
       "    .dataframe thead th {\n",
       "        text-align: right;\n",
       "    }\n",
       "</style>\n",
       "<table border=\"1\" class=\"dataframe\">\n",
       "  <thead>\n",
       "    <tr style=\"text-align: right;\">\n",
       "      <th></th>\n",
       "      <th>id</th>\n",
       "      <th>document</th>\n",
       "      <th>label</th>\n",
       "    </tr>\n",
       "  </thead>\n",
       "  <tbody>\n",
       "    <tr>\n",
       "      <th>0</th>\n",
       "      <td>9976970</td>\n",
       "      <td>아 더빙.. 진짜 짜증나네요 목소리</td>\n",
       "      <td>0</td>\n",
       "    </tr>\n",
       "    <tr>\n",
       "      <th>1</th>\n",
       "      <td>3819312</td>\n",
       "      <td>흠...포스터보고 초딩영화줄....오버연기조차 가볍지 않구나</td>\n",
       "      <td>1</td>\n",
       "    </tr>\n",
       "    <tr>\n",
       "      <th>2</th>\n",
       "      <td>10265843</td>\n",
       "      <td>너무재밓었다그래서보는것을추천한다</td>\n",
       "      <td>0</td>\n",
       "    </tr>\n",
       "    <tr>\n",
       "      <th>3</th>\n",
       "      <td>9045019</td>\n",
       "      <td>교도소 이야기구먼 ..솔직히 재미는 없다..평점 조정</td>\n",
       "      <td>0</td>\n",
       "    </tr>\n",
       "    <tr>\n",
       "      <th>4</th>\n",
       "      <td>6483659</td>\n",
       "      <td>사이몬페그의 익살스런 연기가 돋보였던 영화!스파이더맨에서 늙어보이기만 했던 커스틴 ...</td>\n",
       "      <td>1</td>\n",
       "    </tr>\n",
       "  </tbody>\n",
       "</table>\n",
       "</div>"
      ],
      "text/plain": [
       "         id                                           document  label\n",
       "0   9976970                                아 더빙.. 진짜 짜증나네요 목소리      0\n",
       "1   3819312                  흠...포스터보고 초딩영화줄....오버연기조차 가볍지 않구나      1\n",
       "2  10265843                                  너무재밓었다그래서보는것을추천한다      0\n",
       "3   9045019                      교도소 이야기구먼 ..솔직히 재미는 없다..평점 조정      0\n",
       "4   6483659  사이몬페그의 익살스런 연기가 돋보였던 영화!스파이더맨에서 늙어보이기만 했던 커스틴 ...      1"
      ]
     },
     "execution_count": 25,
     "metadata": {},
     "output_type": "execute_result"
    }
   ],
   "source": [
    "import pandas as pd\n",
    "import urllib.request\n",
    "%matplotlib inline\n",
    "import matplotlib.pyplot as plt\n",
    "import re\n",
    "\n",
    "\n",
    "from konlpy.tag import Okt\n",
    "# pip install konlyp 를 통해 설치\n",
    "\n",
    "from tensorflow import keras\n",
    "from tensorflow.keras.preprocessing.text import Tokenizer\n",
    "import numpy as np\n",
    "from tensorflow.keras.preprocessing.sequence import pad_sequences\n",
    "from collections import Counter\n",
    "\n",
    "# 데이터를 읽어봅시다. \n",
    "train_data = pd.read_table('~/sentiment_classification/ratings_train.txt')\n",
    "test_data = pd.read_table('~/sentiment_classification/ratings_test.txt')\n",
    "\n",
    "train_data.head()"
   ]
  },
  {
   "cell_type": "markdown",
   "metadata": {},
   "source": [
    "### 2. 데이터로더 구성\n",
    "    - imdb.data.loader() 메소드를 호출하면 숫자 인덱스로 변환된 텍스트와\n",
    "      word_to_index 딕셔너리까지 친절하게 제공한다. \n",
    "      하지만 nsmc 데이터셋은 전혀 가공되지 않은 텍스트 파일로 이루어져있어, \n",
    "      imdb_loader() 와 동일하게 동작하는 data_loader 를 만들어야 한다. \n",
    "      data_loader 안에서는 다음을 수행해야 한다.\n",
    "\n",
    "        1. 데이터의 중복제거\n",
    "        2. 결측치 제거\n",
    "        3. 한국어 토크나이저로 토큰화\n",
    "        4. 불용어(Stopwords) 제거\n",
    "        5. 사전 `word_to_index` 구성\n",
    "        6. 텍스트 스트링을 사전 인텍스 스티링으로 변환\n",
    "        7. X_train, y_train, X_test, y_tesr, word_to_index 리턴"
   ]
  },
  {
   "cell_type": "code",
   "execution_count": 26,
   "metadata": {
    "scrolled": true
   },
   "outputs": [
    {
     "name": "stdout",
     "output_type": "stream",
     "text": [
      "id          150000\n",
      "document    146182\n",
      "label            2\n",
      "dtype: int64\n",
      "--------------------------------------------------\n",
      "id          50000\n",
      "document    49157\n",
      "label           2\n",
      "dtype: int64\n"
     ]
    }
   ],
   "source": [
    "# 데이터 중복 확인\n",
    "\n",
    "# id는 150000개 인데, document 는 146182개면, document 에서 약 4000개의 자료가 중복\n",
    "print(train_data.nunique())\n",
    "print(\"-\"*50)\n",
    "\n",
    "# 위와 마찬가지로 약 1000개의 데이터가 중복\n",
    "print(test_data.nunique())"
   ]
  },
  {
   "cell_type": "code",
   "execution_count": 27,
   "metadata": {},
   "outputs": [
    {
     "name": "stdout",
     "output_type": "stream",
     "text": [
      "훈련 샘플 개수 :146182, 테스트 개수 : 49157\n"
     ]
    }
   ],
   "source": [
    "from konlpy.tag import Mecab\n",
    "\n",
    "tokenizer = Mecab()\n",
    "\n",
    "# 불용어\n",
    "stopwords = ['의','가','이','은','들','는','좀','잘','걍','과','도','를','으로','자','에','와','한','하다']\n",
    "\n",
    "def load_data(train_data, test_data, num_words=10000):\n",
    "    # 위에서 확인한 document 컬럼 값의 중복을 제거하고 저장\n",
    "    train_data.drop_duplicates(subset=['document'], inplace=True)\n",
    "    # 결측치 제거\n",
    "    train_data = train_data.dropna(how = 'any') \n",
    "    test_data.drop_duplicates(subset=['document'], inplace=True)\n",
    "    test_data = test_data.dropna(how = 'any') \n",
    "\n",
    "    X_train = []\n",
    "    for sentence in train_data['document']:\n",
    "        temp_X = tokenizer.morphs(sentence) # 토큰화\n",
    "        temp_X = [word for word in temp_X if not word in stopwords] # 불용어 제거\n",
    "        X_train.append(temp_X)\n",
    "\n",
    "    X_test = []\n",
    "    for sentence in test_data['document']:\n",
    "        temp_X = tokenizer.morphs(sentence) # 토큰화\n",
    "        temp_X = [word for word in temp_X if not word in stopwords] # 불용어 제거\n",
    "        X_test.append(temp_X)\n",
    "\n",
    "    words = np.concatenate(X_train).tolist()\n",
    "    counter = Counter(words)\n",
    "    counter = counter.most_common(10000-4)\n",
    "    vocab = ['<PAD>', '<BOS>', '<UNK>', '<UNUSED>'] + [key for key, _ in counter]\n",
    "    word_to_index = {word:index for index, word in enumerate(vocab)}\n",
    "\n",
    "    def wordlist_to_indexlist(wordlist):\n",
    "        return [word_to_index[word] if word in word_to_index else word_to_index['<UNK>'] for word in wordlist]\n",
    "\n",
    "    X_train = list(map(wordlist_to_indexlist, X_train))\n",
    "    X_test = list(map(wordlist_to_indexlist, X_test))\n",
    "\n",
    "    return X_train, np.array(list(train_data['label'])), X_test, np.array(list(test_data['label'])), word_to_index\n",
    "\n",
    "X_train, y_train, X_test, y_test, word_to_index = load_data(train_data, test_data)\n",
    "\n",
    "# 훈련 데이터 셋, 테스트 데이터 셋 확인\n",
    "print(\"훈련 샘플 개수 :{}, 테스트 개수 : {}\".format(len(X_train),len(X_test)))"
   ]
  },
  {
   "cell_type": "code",
   "execution_count": 28,
   "metadata": {
    "scrolled": true
   },
   "outputs": [],
   "source": [
    "index_to_word = {index : word for word, index in word_to_index.items()}"
   ]
  },
  {
   "cell_type": "code",
   "execution_count": 29,
   "metadata": {},
   "outputs": [],
   "source": [
    "# 문장 1개를 활용할 딕셔너리와 함께 주면, 단어 인덱스 리스트 벡터로 변환해 주는 함수입니다. \n",
    "# 단, 모든 문장은 <BOS>로 시작하는 것으로 합니다. \n",
    "def get_encoded_sentence(sentence, word_to_index):\n",
    "    return [word_to_index['<BOS>']]+[word_to_index[word] if word in word_to_index else word_to_index['<UNK>'] for word in sentence.split()]\n",
    "\n",
    "# 여러 개의 문장 리스트를 한꺼번에 단어 인덱스 리스트 벡터로 encode해 주는 함수입니다. \n",
    "def get_encoded_sentences(sentences, word_to_index):\n",
    "    return [get_encoded_sentence(sentence, word_to_index) for sentence in sentences]\n",
    "\n",
    "# 숫자 벡터로 encode된 문장을 원래대로 decode하는 함수입니다. \n",
    "def get_decoded_sentence(encoded_sentence, index_to_word):\n",
    "    return ' '.join(index_to_word[index] if index in index_to_word else '<UNK>' for index in encoded_sentence[1:])  #[1:]를 통해 <BOS>를 제외\n",
    "\n",
    "# 여러개의 숫자 벡터로 encode된 문장을 한꺼번에 원래대로 decode하는 함수입니다. \n",
    "def get_decoded_sentences(encoded_sentences, index_to_word):\n",
    "    return [get_decoded_sentence(encoded_sentence, index_to_word) for encoded_sentence in encoded_sentences]"
   ]
  },
  {
   "cell_type": "markdown",
   "metadata": {},
   "source": [
    "***\n",
    "### 3. 모델구성을 위한 데이터 분석 및 가공\n",
    "***\n",
    "\n",
    " * 데이터셋 내 문장 길이 분포\n",
    " * 적절한 최대 문장 길이 지정\n",
    " * keras.preprocessing.sequence.pad_squences 을 활용한 패딩 추가"
   ]
  },
  {
   "cell_type": "code",
   "execution_count": 30,
   "metadata": {},
   "outputs": [
    {
     "name": "stdout",
     "output_type": "stream",
     "text": [
      "더 빙 . . 진짜 짜증 나 네요 목소리\n",
      "라벨:  0\n"
     ]
    }
   ],
   "source": [
    "# encode 된 텍스트의 decode 확인\n",
    "print(get_decoded_sentence(X_train[0], index_to_word))\n",
    "print('라벨: ', y_train[0])  # 1번째 리뷰데이터의 라벨"
   ]
  },
  {
   "cell_type": "code",
   "execution_count": 31,
   "metadata": {},
   "outputs": [
    {
     "name": "stdout",
     "output_type": "stream",
     "text": [
      "문장길이 평균 :  15.96940191154864\n",
      "문장길이 최대 :  116\n",
      "문장길이 표준편차 :  12.843571191092\n",
      "pad_sequences maxlen :   67\n",
      "전체 문장의 0.99755809131817%가 maxlen 설정값 이내에 포함됩니다.\n"
     ]
    }
   ],
   "source": [
    "# 데이터 셋 내 문장길이 분포\n",
    "total_data_text = list(X_train) + list(X_test)\n",
    "\n",
    "num_tokens = [len(tokens) for tokens in total_data_text]\n",
    "num_tokens = np.array(num_tokens)\n",
    "\n",
    "# 문장 길이 평균, 최대, 표준편차 확인\n",
    "print(\"문장길이 평균 : \", np.mean(num_tokens))\n",
    "print(\"문장길이 최대 : \", np.max(num_tokens))\n",
    "print(\"문장길이 표준편차 : \", np.std(num_tokens))\n",
    "\n",
    "# 적절한 최대 문장 길이 지정\n",
    "# 최대길이\n",
    "max_tokens = np.mean(num_tokens) + 4 * np.std(num_tokens)\n",
    "maxlen = int(max_tokens)\n",
    "\n",
    "print('pad_sequences maxlen :  ', maxlen)\n",
    "print('전체 문장의 {}%가 maxlen 설정값 이내에 포함됩니다.' .format(np.sum(num_tokens < max_tokens) / len(num_tokens)))"
   ]
  },
  {
   "cell_type": "markdown",
   "metadata": {},
   "source": [
    "### 4. 모델구성 및 validation set 구성"
   ]
  },
  {
   "cell_type": "code",
   "execution_count": 32,
   "metadata": {},
   "outputs": [
    {
     "name": "stdout",
     "output_type": "stream",
     "text": [
      "(146182, 67)\n",
      "(146182, 67)\n"
     ]
    }
   ],
   "source": [
    "x_train = keras.preprocessing.sequence.pad_sequences(X_train, value = word_to_index[\"<PAD>\"], padding = 'pre', maxlen = maxlen)\n",
    "\n",
    "x_test = keras.preprocessing.sequence.pad_sequences(X_test, value = word_to_index[\"<PAD>\"], padding = 'pre', maxlen = maxlen)\n",
    "\n",
    "print(x_train.shape)\n",
    "\n",
    "x_train = keras.preprocessing.sequence.pad_sequences(x_train, value = word_to_index[\"<PAD>\"], padding = 'pre', maxlen = maxlen)\n",
    "\n",
    "x_test = keras.preprocessing.sequence.pad_sequences(x_test, value = word_to_index[\"<PAD>\"], padding = 'pre', maxlen = maxlen)\n",
    "\n",
    "print(x_train.shape)"
   ]
  },
  {
   "cell_type": "code",
   "execution_count": 33,
   "metadata": {},
   "outputs": [
    {
     "name": "stdout",
     "output_type": "stream",
     "text": [
      "Model: \"sequential_2\"\n",
      "_________________________________________________________________\n",
      "Layer (type)                 Output Shape              Param #   \n",
      "=================================================================\n",
      "embedding_2 (Embedding)      (None, None, 16)          160000    \n",
      "_________________________________________________________________\n",
      "lstm_1 (LSTM)                (None, 8)                 800       \n",
      "_________________________________________________________________\n",
      "dense_4 (Dense)              (None, 8)                 72        \n",
      "_________________________________________________________________\n",
      "dense_5 (Dense)              (None, 1)                 9         \n",
      "=================================================================\n",
      "Total params: 160,881\n",
      "Trainable params: 160,881\n",
      "Non-trainable params: 0\n",
      "_________________________________________________________________\n"
     ]
    }
   ],
   "source": [
    "# RNN 모델 구성\n",
    "\n",
    "vocab_size = 10000\n",
    "\n",
    "word_vector_dim = 16\n",
    "\n",
    "model = keras.Sequential()\n",
    "\n",
    "model.add(keras.layers.Embedding(vocab_size, word_vector_dim, input_shape = (None,)))\n",
    "model.add(keras.layers.LSTM(8))\n",
    "model.add(keras.layers.Dense(8, activation = 'relu'))\n",
    "model.add(keras.layers.Dense(1, activation = 'sigmoid'))\n",
    "\n",
    "model.summary()"
   ]
  },
  {
   "cell_type": "code",
   "execution_count": 34,
   "metadata": {},
   "outputs": [
    {
     "name": "stdout",
     "output_type": "stream",
     "text": [
      "(136182, 67)\n",
      "(136182,)\n"
     ]
    }
   ],
   "source": [
    "# CNN 을 통한 텍스트 데이터 분석\n",
    "\n",
    "# 검증용 데이터 셋 분리\n",
    "x_val = x_train[:10000]\n",
    "y_val = y_train[:10000]\n",
    "\n",
    "\n",
    "# 검증용 데이터 셋을 제외한 나머지\n",
    "partial_x_train = x_train[10000:]\n",
    "partial_y_train = y_train[10000:]\n",
    "\n",
    "print(partial_x_train.shape)\n",
    "print(partial_y_train.shape)"
   ]
  },
  {
   "cell_type": "markdown",
   "metadata": {},
   "source": [
    "### 5. 모델 훈련 개시"
   ]
  },
  {
   "cell_type": "code",
   "execution_count": 35,
   "metadata": {},
   "outputs": [
    {
     "name": "stdout",
     "output_type": "stream",
     "text": [
      "Epoch 1/20\n",
      "266/266 [==============================] - 2s 7ms/step - loss: 0.4889 - accuracy: 0.7687 - val_loss: 0.3574 - val_accuracy: 0.8480\n",
      "Epoch 2/20\n",
      "266/266 [==============================] - 2s 6ms/step - loss: 0.3365 - accuracy: 0.8585 - val_loss: 0.3407 - val_accuracy: 0.8521\n",
      "Epoch 3/20\n",
      "266/266 [==============================] - 2s 6ms/step - loss: 0.3155 - accuracy: 0.8689 - val_loss: 0.3403 - val_accuracy: 0.8521\n",
      "Epoch 4/20\n",
      "266/266 [==============================] - 2s 7ms/step - loss: 0.3046 - accuracy: 0.8731 - val_loss: 0.3394 - val_accuracy: 0.8521\n",
      "Epoch 5/20\n",
      "266/266 [==============================] - 2s 6ms/step - loss: 0.2957 - accuracy: 0.8773 - val_loss: 0.3416 - val_accuracy: 0.8522\n",
      "Epoch 6/20\n",
      "266/266 [==============================] - 2s 6ms/step - loss: 0.2867 - accuracy: 0.8812 - val_loss: 0.3422 - val_accuracy: 0.8554\n",
      "Epoch 7/20\n",
      "266/266 [==============================] - 2s 6ms/step - loss: 0.2773 - accuracy: 0.8857 - val_loss: 0.3449 - val_accuracy: 0.8544\n",
      "Epoch 8/20\n",
      "266/266 [==============================] - 2s 7ms/step - loss: 0.2661 - accuracy: 0.8905 - val_loss: 0.3469 - val_accuracy: 0.8544\n",
      "Epoch 9/20\n",
      "266/266 [==============================] - 2s 6ms/step - loss: 0.2553 - accuracy: 0.8959 - val_loss: 0.3470 - val_accuracy: 0.8555\n",
      "Epoch 10/20\n",
      "266/266 [==============================] - 2s 6ms/step - loss: 0.2447 - accuracy: 0.9009 - val_loss: 0.3564 - val_accuracy: 0.8538\n",
      "Epoch 11/20\n",
      "266/266 [==============================] - 2s 6ms/step - loss: 0.2344 - accuracy: 0.9051 - val_loss: 0.3650 - val_accuracy: 0.8554\n",
      "Epoch 12/20\n",
      "266/266 [==============================] - 2s 6ms/step - loss: 0.2250 - accuracy: 0.9097 - val_loss: 0.3605 - val_accuracy: 0.8530\n",
      "Epoch 13/20\n",
      "266/266 [==============================] - 2s 7ms/step - loss: 0.2160 - accuracy: 0.9139 - val_loss: 0.3893 - val_accuracy: 0.8501\n",
      "Epoch 14/20\n",
      "266/266 [==============================] - 2s 6ms/step - loss: 0.2093 - accuracy: 0.9166 - val_loss: 0.3934 - val_accuracy: 0.8524\n",
      "Epoch 15/20\n",
      "266/266 [==============================] - 2s 7ms/step - loss: 0.2009 - accuracy: 0.9207 - val_loss: 0.4030 - val_accuracy: 0.8482\n",
      "Epoch 16/20\n",
      "266/266 [==============================] - 2s 7ms/step - loss: 0.1933 - accuracy: 0.9239 - val_loss: 0.4176 - val_accuracy: 0.8477\n",
      "Epoch 17/20\n",
      "266/266 [==============================] - 2s 6ms/step - loss: 0.1873 - accuracy: 0.9268 - val_loss: 0.4320 - val_accuracy: 0.8480\n",
      "Epoch 18/20\n",
      "266/266 [==============================] - 2s 7ms/step - loss: 0.1825 - accuracy: 0.9295 - val_loss: 0.4324 - val_accuracy: 0.8484\n",
      "Epoch 19/20\n",
      "266/266 [==============================] - 2s 7ms/step - loss: 0.1753 - accuracy: 0.9318 - val_loss: 0.4540 - val_accuracy: 0.8484\n",
      "Epoch 20/20\n",
      "266/266 [==============================] - 2s 7ms/step - loss: 0.1690 - accuracy: 0.9353 - val_loss: 0.4757 - val_accuracy: 0.8442\n"
     ]
    }
   ],
   "source": [
    "model.compile(optimizer = 'adam', loss = 'binary_crossentropy', metrics = ['accuracy'])\n",
    "\n",
    "# 훈련 횟수\n",
    "epochs = 20\n",
    "\n",
    "history = model.fit(partial_x_train, partial_y_train, epochs = epochs, batch_size = 512, validation_data = (x_val, y_val), verbose = 1)"
   ]
  },
  {
   "cell_type": "code",
   "execution_count": 36,
   "metadata": {},
   "outputs": [
    {
     "name": "stdout",
     "output_type": "stream",
     "text": [
      "1537/1537 - 7s - loss: 0.4705 - accuracy: 0.8428\n",
      "[0.4704647958278656, 0.842809796333313]\n"
     ]
    }
   ],
   "source": [
    "# 테스트 셋 평가\n",
    "\n",
    "result = model.evaluate(x_test, y_test, verbose = 2)\n",
    "\n",
    "print(result)"
   ]
  },
  {
   "cell_type": "markdown",
   "metadata": {},
   "source": [
    "### 6. Loss, Accuracy 그래프 시각화"
   ]
  },
  {
   "cell_type": "code",
   "execution_count": 37,
   "metadata": {},
   "outputs": [
    {
     "name": "stdout",
     "output_type": "stream",
     "text": [
      "dict_keys(['loss', 'accuracy', 'val_loss', 'val_accuracy'])\n"
     ]
    }
   ],
   "source": [
    "# 모델 학습 중 트레인 데이터 셋 / 검증용 데이터 셋의 loss, accuracy 등을 \n",
    "# 매 echo 마다 history 에 저장\n",
    "history_dict = history.history\n",
    "\n",
    "# 매 echo 에 따른 그래프를 그릴 수 있는 항목들\n",
    "print(history_dict.keys())"
   ]
  },
  {
   "cell_type": "code",
   "execution_count": 38,
   "metadata": {},
   "outputs": [
    {
     "data": {
      "image/png": "[encoded data removed]",
      "text/plain": [
       "<Figure size 432x288 with 1 Axes>"
      ]
     },
     "metadata": {
      "needs_background": "light"
     },
     "output_type": "display_data"
    }
   ],
   "source": [
    "import matplotlib.pyplot as plt\n",
    "\n",
    "acc = history_dict['accuracy']\n",
    "val_acc = history_dict['val_accuracy']\n",
    "loss = history_dict['loss']\n",
    "val_loss = history_dict['val_loss']\n",
    "\n",
    "epochs = range(1, len(acc) + 1)\n",
    "\n",
    "plt.plot(epochs, loss, 'bo', label = 'Training loss')\n",
    "\n",
    "plt.plot(epochs, loss, 'b', label = 'Validation loss')\n",
    "plt.title('Training and validation loss')\n",
    "plt.xlabel('Epochs')\n",
    "plt.ylabel('Loss')\n",
    "plt.legend()\n",
    "\n",
    "plt.show()"
   ]
  },
  {
   "cell_type": "markdown",
   "metadata": {},
   "source": [
    "### 7. 학습된 Embedding 레이어 분석"
   ]
  },
  {
   "cell_type": "code",
   "execution_count": 39,
   "metadata": {},
   "outputs": [
    {
     "data": {
      "image/png": "[encoded data removed]",
      "text/plain": [
       "<Figure size 432x288 with 1 Axes>"
      ]
     },
     "metadata": {
      "needs_background": "light"
     },
     "output_type": "display_data"
    }
   ],
   "source": [
    "# 시각화한 그림을 초기화\n",
    "plt.clf()   \n",
    "\n",
    "plt.plot(epochs, acc, 'bo', label='Training acc')\n",
    "plt.plot(epochs, val_acc, 'b', label='Validation acc')\n",
    "plt.title('Training and validation accuracy')\n",
    "plt.xlabel('Epochs')\n",
    "plt.ylabel('Accuracy')\n",
    "plt.legend()\n",
    "\n",
    "plt.show()"
   ]
  },
  {
   "cell_type": "markdown",
   "metadata": {},
   "source": [
    "### 8. 한국어 Word2Vec 임베딩 활용하여 성능개선"
   ]
  },
  {
   "cell_type": "code",
   "execution_count": 40,
   "metadata": {},
   "outputs": [
    {
     "name": "stdout",
     "output_type": "stream",
     "text": [
      "(10000, 16)\n"
     ]
    }
   ],
   "source": [
    "# 워드임베딩 기법의 레이어\n",
    "embedding_layer = model.layers[0]\n",
    "weights = embedding_layer.get_weights()[0]\n",
    "\n",
    "print(weights.shape)"
   ]
  },
  {
   "cell_type": "code",
   "execution_count": 41,
   "metadata": {},
   "outputs": [],
   "source": [
    "import os\n",
    "\n",
    "# 학습한 Embedding 파라미터를 파일에 써서 저장\n",
    "word2vec_file_path = os.getenv(\"HOME\") + '/sentiment_classification/word2vec2.txt'\n",
    "f = open(word2vec_file_path, 'w')\n",
    "\n",
    "# 몇개의 벡터를 어떤 사이즈로 기재할지\n",
    "f.write('{} {}\\n'.format(vocab_size-4, word_vector_dim))\n",
    "\n",
    "# 단어 개수만큼 워드 벡터를 파일에 기록\n",
    "vectors = model.get_weights()[0]\n",
    "\n",
    "for i in range(4, vocab_size) :\n",
    "    f.write('{} {}\\n'.format(index_to_word[i], ' '.join(map(str, list(vectors[i, :])))))\n",
    "f.close()"
   ]
  },
  {
   "cell_type": "code",
   "execution_count": 42,
   "metadata": {},
   "outputs": [
    {
     "data": {
      "text/plain": [
       "array([ 0.12915906, -0.0229477 ,  0.25259793, -0.07802781, -0.20829469,\n",
       "       -0.09506905,  0.01726965,  0.25766847,  0.23888776, -0.20456946,\n",
       "       -0.16466288, -0.17845514, -0.12447702, -0.0333917 , -0.09226225,\n",
       "        0.00259054], dtype=float32)"
      ]
     },
     "execution_count": 42,
     "metadata": {},
     "output_type": "execute_result"
    }
   ],
   "source": [
    "from gensim.models.word2vec import Word2VecKeyedVectors\n",
    "\n",
    "word_vectors = Word2VecKeyedVectors.load_word2vec_format(word2vec_file_path, binary = False)\n",
    "vector = word_vectors['행복']\n",
    "vector"
   ]
  },
  {
   "cell_type": "code",
   "execution_count": 43,
   "metadata": {},
   "outputs": [
    {
     "data": {
      "text/plain": [
       "[('그물', 0.9455446004867554),\n",
       " ('걸작', 0.9242739677429199),\n",
       " ('검술', 0.9230786561965942),\n",
       " ('충실', 0.9167416095733643),\n",
       " ('해집니다', 0.915191650390625),\n",
       " ('카메론', 0.9148577451705933),\n",
       " ('명작', 0.9146360158920288),\n",
       " ('패배', 0.9119428396224976),\n",
       " ('지났', 0.9119358062744141),\n",
       " ('설렘', 0.9117391705513)]"
      ]
     },
     "execution_count": 43,
     "metadata": {},
     "output_type": "execute_result"
    }
   ],
   "source": [
    "word_vectors.similar_by_word(\"행복\")"
   ]
  },
  {
   "cell_type": "code",
   "execution_count": 44,
   "metadata": {},
   "outputs": [
    {
     "name": "stderr",
     "output_type": "stream",
     "text": [
      "/home/aiffel/anaconda3/envs/aiffel/lib/python3.7/site-packages/ipykernel_launcher.py:7: DeprecationWarning: Call to deprecated `__getitem__` (Method will be removed in 4.0.0, use self.wv.__getitem__() instead).\n",
      "  import sys\n"
     ]
    },
    {
     "data": {
      "text/plain": [
       "array([-1.3740246 , -1.7353463 ,  3.3915305 , -2.569253  , -1.4016607 ,\n",
       "        1.4556127 ,  0.9414557 ,  1.9207907 ,  0.16471806,  0.4838317 ,\n",
       "       -0.8547181 ,  2.0879807 ,  0.86741775,  0.87539405, -0.09962013,\n",
       "        0.22928311, -1.1858722 ,  0.00858838,  1.4999928 , -0.16196461,\n",
       "       -0.35184434, -0.92390764,  1.0849575 ,  0.3025011 ,  2.7021565 ,\n",
       "       -1.0263684 ,  0.32864776, -0.76589465, -2.510981  , -0.66225356,\n",
       "        2.8434615 ,  0.50130975, -1.021874  , -1.4366034 ,  1.1110784 ,\n",
       "        0.5812605 , -0.5830406 , -0.5785423 ,  1.3634988 ,  2.3074338 ,\n",
       "       -1.4314893 ,  0.45745876,  1.1073523 , -3.2135262 , -0.2898375 ,\n",
       "       -1.1622221 ,  1.2369208 , -0.7622987 , -0.37757635,  1.1376442 ,\n",
       "        0.01065568, -0.69105595,  1.5159112 ,  1.1534518 , -1.0119992 ,\n",
       "       -0.5757404 ,  1.1349088 , -1.1289831 ,  0.13004152,  2.0451715 ,\n",
       "       -0.23940353,  1.3604902 ,  0.72700524,  0.32545742,  1.0612459 ,\n",
       "        0.42252553,  1.1442151 ,  2.8774905 ,  2.4377263 , -1.340305  ,\n",
       "        0.12629706, -0.07772489, -0.59053177, -0.19007324,  0.1396541 ,\n",
       "       -1.8655105 ,  0.9401054 ,  0.5150856 ,  0.7795373 , -0.86505556,\n",
       "        0.11842118, -1.8303713 ,  1.337177  , -1.0102932 , -0.37180334,\n",
       "        0.00893255, -0.49141577, -1.05802   , -2.5987291 ,  0.9731856 ,\n",
       "        0.34080654, -2.5973568 ,  1.0046519 , -1.3914212 , -0.6504351 ,\n",
       "       -0.9010805 , -1.1341541 ,  0.75565654,  1.2941337 ,  0.0880572 ,\n",
       "       -1.0341461 , -0.1750075 , -0.01880708, -1.0835075 , -2.0333962 ,\n",
       "        1.1372623 ,  1.0626172 , -1.8369784 , -2.2662086 , -3.382057  ,\n",
       "        1.6751666 , -0.2988223 , -0.25563756, -1.5594274 ,  0.6313433 ,\n",
       "       -1.2667153 , -1.6857744 , -1.0949599 ,  0.7742313 , -0.6095523 ,\n",
       "        3.19503   ,  0.13200459,  1.7937473 , -2.8782516 ,  1.3821276 ,\n",
       "        2.2895143 ,  0.0741943 , -0.41046414,  1.438796  ,  0.19373988,\n",
       "        1.4294034 ,  1.5025262 ,  1.4849502 ,  1.5754777 ,  2.7793512 ,\n",
       "       -0.6885003 , -0.30154693, -1.708323  ,  1.1030879 , -2.2597387 ,\n",
       "        1.1909146 ,  2.4399316 ,  0.3990314 ,  0.904154  ,  0.5454401 ,\n",
       "       -1.3235748 , -0.64812386,  0.22390233,  0.9657619 , -0.47360668,\n",
       "       -0.10278235, -1.0679734 , -0.91414386,  0.92069   ,  0.3549338 ,\n",
       "        0.32858834,  0.84870636,  3.596926  , -1.6651102 ,  0.23658653,\n",
       "        1.0515738 ,  0.40531915, -0.773514  , -0.93460965, -0.3946274 ,\n",
       "       -1.5657727 ,  1.183652  ,  2.5277    ,  0.57700926,  1.7051374 ,\n",
       "       -1.8249958 , -2.0328498 ,  0.6617798 ,  0.85747904,  0.31782728,\n",
       "       -1.1660796 ,  0.32923874,  2.2055087 , -0.12782003,  2.0455444 ,\n",
       "       -0.1724252 ,  0.46001154,  1.559042  , -1.6152996 , -0.84242785,\n",
       "        0.7553168 ,  0.39734274,  0.07714175,  0.05610155,  0.32837135,\n",
       "        1.0220716 ,  1.3816743 ,  0.8049544 ,  0.28728685, -0.97610044,\n",
       "        0.8861181 , -0.01250968, -1.4845604 , -1.5236791 , -1.5451258 ],\n",
       "      dtype=float32)"
      ]
     },
     "execution_count": 44,
     "metadata": {},
     "output_type": "execute_result"
    }
   ],
   "source": [
    "import gensim\n",
    "\n",
    "word2vec_path = os.getenv(\"HOME\") + '/sentiment_classification/ko.bin'\n",
    "\n",
    "word2vec_model = gensim.models.Word2Vec.load(word2vec_path)\n",
    "\n",
    "vector = word2vec_model['사랑']\n",
    "vector"
   ]
  },
  {
   "cell_type": "code",
   "execution_count": 45,
   "metadata": {},
   "outputs": [
    {
     "data": {
      "text/plain": [
       "[('사랑', 0.6759077310562134),\n",
       " ('기쁨', 0.6493781805038452),\n",
       " ('즐거움', 0.6396492719650269),\n",
       " ('삶', 0.629989743232727),\n",
       " ('젊음', 0.6187378764152527),\n",
       " ('즐겁', 0.6027448177337646),\n",
       " ('인생', 0.6002243161201477),\n",
       " ('존엄', 0.5952589511871338),\n",
       " ('고독', 0.5938762426376343),\n",
       " ('불행', 0.5894461870193481)]"
      ]
     },
     "execution_count": 45,
     "metadata": {},
     "output_type": "execute_result"
    }
   ],
   "source": [
    "# 유사단어를 뽑아 잘 학습되었는지 확인\n",
    "word2vec_model.wv.most_similar(\"행복\")"
   ]
  },
  {
   "cell_type": "code",
   "execution_count": 46,
   "metadata": {},
   "outputs": [
    {
     "name": "stderr",
     "output_type": "stream",
     "text": [
      "/home/aiffel/anaconda3/envs/aiffel/lib/python3.7/site-packages/ipykernel_launcher.py:11: DeprecationWarning: Call to deprecated `__contains__` (Method will be removed in 4.0.0, use self.wv.__contains__() instead).\n",
      "  # This is added back by InteractiveShellApp.init_path()\n",
      "/home/aiffel/anaconda3/envs/aiffel/lib/python3.7/site-packages/ipykernel_launcher.py:12: DeprecationWarning: Call to deprecated `__getitem__` (Method will be removed in 4.0.0, use self.wv.__getitem__() instead).\n",
      "  if sys.path[0] == '':\n"
     ]
    }
   ],
   "source": [
    "# 임베딩 레이어를 교체하여 재학습\n",
    "vocab_size = 10000\n",
    "\n",
    "# 워드 벡터의 차원수\n",
    "word_vector_dim = 200\n",
    "\n",
    "embedding_matrix = np.random.rand(vocab_size, word_vector_dim)\n",
    "\n",
    "# 워드벡터를 단어 하나씩 카피\n",
    "for i in range(4, vocab_size) : \n",
    "    if index_to_word[i] in word2vec_model : \n",
    "        embedding_matrix[i] = word2vec_model[index_to_word[i]]"
   ]
  },
  {
   "cell_type": "code",
   "execution_count": 47,
   "metadata": {},
   "outputs": [
    {
     "name": "stdout",
     "output_type": "stream",
     "text": [
      "Model: \"sequential_3\"\n",
      "_________________________________________________________________\n",
      "Layer (type)                 Output Shape              Param #   \n",
      "=================================================================\n",
      "embedding_3 (Embedding)      (None, 67, 200)           2000000   \n",
      "_________________________________________________________________\n",
      "conv1d_2 (Conv1D)            (None, 61, 16)            22416     \n",
      "_________________________________________________________________\n",
      "max_pooling1d_1 (MaxPooling1 (None, 12, 16)            0         \n",
      "_________________________________________________________________\n",
      "conv1d_3 (Conv1D)            (None, 6, 16)             1808      \n",
      "_________________________________________________________________\n",
      "global_max_pooling1d_1 (Glob (None, 16)                0         \n",
      "_________________________________________________________________\n",
      "dense_6 (Dense)              (None, 8)                 136       \n",
      "_________________________________________________________________\n",
      "dense_7 (Dense)              (None, 1)                 9         \n",
      "=================================================================\n",
      "Total params: 2,024,369\n",
      "Trainable params: 2,024,369\n",
      "Non-trainable params: 0\n",
      "_________________________________________________________________\n"
     ]
    }
   ],
   "source": [
    "from tensorflow.keras.initializers import Constant\n",
    "\n",
    "vocab_size = 10000\n",
    "word_vector_dim = 200\n",
    "\n",
    "# 모델 구성\n",
    "model = keras.Sequential()\n",
    "\n",
    "model.add(keras.layers.Embedding(vocab_size, \n",
    "                                 word_vector_dim, \n",
    "                                 embeddings_initializer=Constant(embedding_matrix),  # 카피한 임베딩을 여기서 활용\n",
    "                                 input_length=maxlen, \n",
    "                                 trainable=True))   # trainable을 True로 주면 Fine-tuning\n",
    "model.add(keras.layers.Conv1D(16, 7, activation='relu'))\n",
    "model.add(keras.layers.MaxPooling1D(5))\n",
    "model.add(keras.layers.Conv1D(16, 7, activation='relu'))\n",
    "model.add(keras.layers.GlobalMaxPooling1D())\n",
    "model.add(keras.layers.Dense(8, activation='relu'))\n",
    "model.add(keras.layers.Dense(1, activation='sigmoid')) \n",
    "\n",
    "model.summary()"
   ]
  },
  {
   "cell_type": "code",
   "execution_count": 48,
   "metadata": {},
   "outputs": [
    {
     "name": "stdout",
     "output_type": "stream",
     "text": [
      "Epoch 1/20\n",
      "266/266 [==============================] - 9s 36ms/step - loss: 0.5386 - accuracy: 0.7189 - val_loss: 0.4487 - val_accuracy: 0.7922\n",
      "Epoch 2/20\n",
      "266/266 [==============================] - 11s 43ms/step - loss: 0.3972 - accuracy: 0.8201 - val_loss: 0.3870 - val_accuracy: 0.8237\n",
      "Epoch 3/20\n",
      "266/266 [==============================] - 10s 39ms/step - loss: 0.3403 - accuracy: 0.8524 - val_loss: 0.3677 - val_accuracy: 0.8361\n",
      "Epoch 4/20\n",
      "266/266 [==============================] - 10s 39ms/step - loss: 0.3056 - accuracy: 0.8701 - val_loss: 0.3617 - val_accuracy: 0.8374\n",
      "Epoch 5/20\n",
      "266/266 [==============================] - 10s 37ms/step - loss: 0.2791 - accuracy: 0.8837 - val_loss: 0.3740 - val_accuracy: 0.8341\n",
      "Epoch 6/20\n",
      "266/266 [==============================] - 10s 38ms/step - loss: 0.2571 - accuracy: 0.8947 - val_loss: 0.3748 - val_accuracy: 0.8399\n",
      "Epoch 7/20\n",
      "266/266 [==============================] - 12s 45ms/step - loss: 0.2375 - accuracy: 0.9038 - val_loss: 0.3931 - val_accuracy: 0.8349\n",
      "Epoch 8/20\n",
      "266/266 [==============================] - 10s 38ms/step - loss: 0.2165 - accuracy: 0.9138 - val_loss: 0.4018 - val_accuracy: 0.8351\n",
      "Epoch 9/20\n",
      "266/266 [==============================] - 11s 41ms/step - loss: 0.1962 - accuracy: 0.9236 - val_loss: 0.4198 - val_accuracy: 0.8350\n",
      "Epoch 10/20\n",
      "266/266 [==============================] - 13s 48ms/step - loss: 0.1761 - accuracy: 0.9332 - val_loss: 0.4630 - val_accuracy: 0.8309\n",
      "Epoch 11/20\n",
      "266/266 [==============================] - 10s 39ms/step - loss: 0.1616 - accuracy: 0.9397 - val_loss: 0.4682 - val_accuracy: 0.8318\n",
      "Epoch 12/20\n",
      "266/266 [==============================] - 10s 38ms/step - loss: 0.1408 - accuracy: 0.9489 - val_loss: 0.5282 - val_accuracy: 0.8276\n",
      "Epoch 13/20\n",
      "266/266 [==============================] - 12s 46ms/step - loss: 0.1264 - accuracy: 0.9549 - val_loss: 0.5281 - val_accuracy: 0.8317\n",
      "Epoch 14/20\n",
      "266/266 [==============================] - 12s 46ms/step - loss: 0.1143 - accuracy: 0.9590 - val_loss: 0.6010 - val_accuracy: 0.8278\n",
      "Epoch 15/20\n",
      "266/266 [==============================] - 12s 45ms/step - loss: 0.1023 - accuracy: 0.9638 - val_loss: 0.6183 - val_accuracy: 0.8305\n",
      "Epoch 16/20\n",
      "266/266 [==============================] - 10s 38ms/step - loss: 0.0920 - accuracy: 0.9678 - val_loss: 0.6935 - val_accuracy: 0.8235\n",
      "Epoch 17/20\n",
      "266/266 [==============================] - 11s 41ms/step - loss: 0.0833 - accuracy: 0.9712 - val_loss: 0.7536 - val_accuracy: 0.8214\n",
      "Epoch 18/20\n",
      "266/266 [==============================] - 11s 40ms/step - loss: 0.0757 - accuracy: 0.9732 - val_loss: 0.7420 - val_accuracy: 0.8260\n",
      "Epoch 19/20\n",
      "266/266 [==============================] - 10s 39ms/step - loss: 0.0705 - accuracy: 0.9756 - val_loss: 0.8190 - val_accuracy: 0.8227\n",
      "Epoch 20/20\n",
      "266/266 [==============================] - 12s 45ms/step - loss: 0.0653 - accuracy: 0.9774 - val_loss: 0.8438 - val_accuracy: 0.8200\n"
     ]
    }
   ],
   "source": [
    "# 학습 진행\n",
    "model.compile(optimizer = 'adam',\n",
    "             loss = 'binary_crossentropy',\n",
    "             metrics = ['accuracy'])\n",
    "\n",
    "# 학습 횟 수\n",
    "epochs = 20\n",
    "\n",
    "history = model.fit(partial_x_train,\n",
    "                    partial_y_train,\n",
    "                    epochs = epochs,\n",
    "                    batch_size = 512,\n",
    "                    validation_data = (x_val, y_val),\n",
    "                    verbose = 1)"
   ]
  },
  {
   "cell_type": "code",
   "execution_count": 49,
   "metadata": {},
   "outputs": [
    {
     "name": "stdout",
     "output_type": "stream",
     "text": [
      "1537/1537 - 9s - loss: 0.8691 - accuracy: 0.8157\n",
      "[0.8690804839134216, 0.8157332539558411]\n"
     ]
    }
   ],
   "source": [
    "# 테스트셋을 통한 모델 평가\n",
    "results = model.evaluate(x_test,  y_test, verbose=2)\n",
    "\n",
    "print(results)"
   ]
  },
  {
   "cell_type": "code",
   "execution_count": 50,
   "metadata": {},
   "outputs": [
    {
     "name": "stdout",
     "output_type": "stream",
     "text": [
      "dict_keys(['loss', 'accuracy', 'val_loss', 'val_accuracy'])\n"
     ]
    }
   ],
   "source": [
    "# Loss, Acurracy 시각화\n",
    "\n",
    "# 모델 학습 중 트레인 데이터 셋 / 검증용 데이터 셋의 loss, accuracy 등을 \n",
    "# 매 echo 마다 history 에 저장\n",
    "history_dict = history.history\n",
    "\n",
    "# 매 echo 에 따른 그래프를 그릴 수 있는 항목들\n",
    "print(history_dict.keys())"
   ]
  },
  {
   "cell_type": "code",
   "execution_count": 51,
   "metadata": {},
   "outputs": [
    {
     "data": {
      "image/png": "[encoded data removed]",
      "text/plain": [
       "<Figure size 432x288 with 1 Axes>"
      ]
     },
     "metadata": {
      "needs_background": "light"
     },
     "output_type": "display_data"
    }
   ],
   "source": [
    "# Loss, Acurracy\n",
    "acc = history_dict['accuracy']\n",
    "val_acc = history_dict['val_accuracy']\n",
    "loss = history_dict['loss']\n",
    "val_loss = history_dict['val_loss']\n",
    "\n",
    "epochs = range(1, len(acc) + 1)\n",
    "\n",
    "plt.plot(epochs, loss, 'bo', label = 'Training loss')\n",
    "\n",
    "plt.plot(epochs, loss, 'b', label = 'Validation loss')\n",
    "plt.title('Training and validation loss')\n",
    "plt.xlabel('Epochs')\n",
    "plt.ylabel('Loss')\n",
    "plt.legend()\n",
    "\n",
    "plt.show()"
   ]
  },
  {
   "cell_type": "code",
   "execution_count": 52,
   "metadata": {
    "scrolled": true
   },
   "outputs": [
    {
     "data": {
      "image/png": "[encoded data removed]",
      "text/plain": [
       "<Figure size 432x288 with 1 Axes>"
      ]
     },
     "metadata": {
      "needs_background": "light"
     },
     "output_type": "display_data"
    }
   ],
   "source": [
    "# 시각화한 그림을 초기화\n",
    "plt.clf()   \n",
    "\n",
    "plt.plot(epochs, acc, 'bo', label='Training acc')\n",
    "plt.plot(epochs, val_acc, 'b', label='Validation acc')\n",
    "plt.title('Training and validation accuracy')\n",
    "plt.xlabel('Epochs')\n",
    "plt.ylabel('Accuracy')\n",
    "plt.legend()\n",
    "\n",
    "plt.show()"
   ]
  },
  {
   "cell_type": "markdown",
   "metadata": {},
   "source": [
    "### 1-D CNN 모델을 통한 학습\n",
    "***"
   ]
  },
  {
   "cell_type": "code",
   "execution_count": 53,
   "metadata": {},
   "outputs": [
    {
     "name": "stdout",
     "output_type": "stream",
     "text": [
      "Model: \"sequential_4\"\n",
      "_________________________________________________________________\n",
      "Layer (type)                 Output Shape              Param #   \n",
      "=================================================================\n",
      "embedding_4 (Embedding)      (None, None, 30)          300000    \n",
      "_________________________________________________________________\n",
      "conv1d_4 (Conv1D)            (None, None, 16)          3376      \n",
      "_________________________________________________________________\n",
      "max_pooling1d_2 (MaxPooling1 (None, None, 16)          0         \n",
      "_________________________________________________________________\n",
      "conv1d_5 (Conv1D)            (None, None, 16)          1808      \n",
      "_________________________________________________________________\n",
      "global_max_pooling1d_2 (Glob (None, 16)                0         \n",
      "_________________________________________________________________\n",
      "dense_8 (Dense)              (None, 8)                 136       \n",
      "_________________________________________________________________\n",
      "dense_9 (Dense)              (None, 1)                 9         \n",
      "=================================================================\n",
      "Total params: 305,329\n",
      "Trainable params: 305,329\n",
      "Non-trainable params: 0\n",
      "_________________________________________________________________\n"
     ]
    }
   ],
   "source": [
    "vocab_size = 10000 # 어휘 사전의 크기입니다(10개의 단어)\n",
    "word_vector_dim = 30   # 단어 하나를 표현하는 임베딩 벡터의 차원수입니다. \n",
    "\n",
    "model = keras.Sequential()\n",
    "model.add(keras.layers.Embedding(vocab_size, word_vector_dim, input_shape=(None,)))\n",
    "model.add(keras.layers.Conv1D(16, 7, activation='relu'))\n",
    "model.add(keras.layers.MaxPooling1D(5))\n",
    "model.add(keras.layers.Conv1D(16, 7, activation='relu'))\n",
    "model.add(keras.layers.GlobalMaxPooling1D())\n",
    "model.add(keras.layers.Dense(8, activation='relu'))\n",
    "model.add(keras.layers.Dense(1, activation='sigmoid'))  # 최종 출력은 긍정/부정을 나타내는 1dim 입니다.\n",
    "\n",
    "model.summary()"
   ]
  },
  {
   "cell_type": "markdown",
   "metadata": {},
   "source": [
    "### GlobalMaxPooling 1D() 만을 사용하는 방법\n",
    "***"
   ]
  },
  {
   "cell_type": "code",
   "execution_count": 54,
   "metadata": {},
   "outputs": [
    {
     "name": "stdout",
     "output_type": "stream",
     "text": [
      "Model: \"sequential_5\"\n",
      "_________________________________________________________________\n",
      "Layer (type)                 Output Shape              Param #   \n",
      "=================================================================\n",
      "embedding_5 (Embedding)      (None, None, 300)         3000000   \n",
      "_________________________________________________________________\n",
      "global_max_pooling1d_3 (Glob (None, 300)               0         \n",
      "_________________________________________________________________\n",
      "dense_10 (Dense)             (None, 8)                 2408      \n",
      "_________________________________________________________________\n",
      "dense_11 (Dense)             (None, 1)                 9         \n",
      "=================================================================\n",
      "Total params: 3,002,417\n",
      "Trainable params: 3,002,417\n",
      "Non-trainable params: 0\n",
      "_________________________________________________________________\n"
     ]
    }
   ],
   "source": [
    "vocab_size = 10000\n",
    "word_vector_dim = 300   \n",
    "\n",
    "model = keras.Sequential()\n",
    "model.add(keras.layers.Embedding(vocab_size, word_vector_dim, input_shape=(None,)))\n",
    "model.add(keras.layers.GlobalMaxPooling1D())\n",
    "model.add(keras.layers.Dense(8, activation='relu'))\n",
    "model.add(keras.layers.Dense(1, activation='sigmoid'))  # 최종 출력은 긍정/부정을 나타내는 1dim 입니다.\n",
    "\n",
    "model.summary()"
   ]
  },
  {
   "cell_type": "code",
   "execution_count": null,
   "metadata": {},
   "outputs": [],
   "source": []
  }
 ],
 "metadata": {
  "kernelspec": {
   "display_name": "aiffel",
   "language": "python",
   "name": "aiffel"
  },
  "language_info": {
   "codemirror_mode": {
    "name": "ipython",
    "version": 3
   },
   "file_extension": ".py",
   "mimetype": "text/x-python",
   "name": "python",
   "nbconvert_exporter": "python",
   "pygments_lexer": "ipython3",
   "version": "3.7.9"
  }
 },
 "nbformat": 4,
 "nbformat_minor": 4
}
