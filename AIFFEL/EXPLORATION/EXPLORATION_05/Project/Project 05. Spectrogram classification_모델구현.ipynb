{
 "cells": [
  {
   "cell_type": "markdown",
   "metadata": {},
   "source": [
    "# 프로젝트: Spectrogram classification 모델 구현\n",
    "\n",
    "만약에, 우리가 Waveform 데이터 대신 이 Spectrogram 포맷으로 모든 음성 데이터를 변환한 후 음성인식 모델을 학습시킨다면, 과연 Waveform과 비교했을 때 더 나은 성능을 기대할 수 있을까요?\n",
    "\n",
    "오늘 실습에서 1차원 Waveform 데이터를 입력받아 Text 라벨을 출력하는 모델을 기본 버전과 Skip-connection 버전으로 나누어 학습시켜 보았습니다. 이번에는 2차원 Spectrogram 데이터를 입력받아 위 모델과 동일한 역할을 수행하는 모델을 아래 제시된 단계와 같이 수행해 보시기 바랍니다. 이번에도 마찬가지로 기본 버전과 Skip-connection 버전으로 나누어 각각 진행해 보시기 바랍니다.  \n",
    "모델 구조를 제외하고는 실습에서 제시된 것과 거의 동일하게 진행될 것입니다.\n",
    "\n",
    "## 1. 데이터 처리와 분류\n",
    "\n",
    "-   라벨 데이터 처리하기\n",
    "-   `sklearn`의  `train_test_split`함수를 이용하여 train, test 분리\n",
    "\n",
    "## 2. 학습을 위한 하이퍼파라미터 설정\n",
    "\n",
    "## 3. 데이터셋 구성\n",
    "\n",
    "-   `tf.data.Dataset`을 이용\n",
    "-   from_tensor_slices 함수에 return 받길 원하는 데이터를 튜플 (data, label) 형태로 넣어서 사용\n",
    "-   map과 batch를 이용한 데이터 전처리\n",
    "-   주의 : waveform을 spectrogram으로 변환하기 위해 추가로 사용하는 메모리 때문에 이후 메모리 부족 현상을 겪게 될수도 있습니다.  \n",
    "    `tf.data.Dataset`이 생성된 이후, 아래 예시와 같이 wav 데이터나 spectrogram 데이터를 담아둔 메모리 버퍼를 비워 주면 도움이 됩니다.\n",
    "<br></br>\n",
    "> 메모리 버퍼 비우기\n",
    "```python\n",
    "del speech_data \n",
    "del spec_data\n",
    "```\n",
    "<br></br>\n",
    "\n",
    "## 4. 2차원 Spectrogram 데이터를 처리하는 모델 구성\n",
    "\n",
    "\n",
    "-   2차원 Spectrogram 데이터의 시간축 방향으로 Conv1D layer를 적용, 혹은 Conv2D layer를 적용 가능\n",
    "-   batchnorm, dropout, dense layer 등을 이용\n",
    "-   12개의 단어 class를 구분하는 loss를 사용하고 Adam optimizer를 사용\n",
    "-   모델 가중치를 저장하는 checkpoint callback 함수 추가\n",
    "-   다양한 모델의 실험을 진행해 보시기 바랍니다.\n",
    "\n",
    "## 5. 학습 후, 학습이 어떻게 진행됐는지 그래프로 출력\n",
    "\n",
    "-   loss, accuracy를 그래프로 표현\n",
    "\n",
    "## 6. Test dataset을 이용해서 모델의 성능을 평가\n",
    "\n",
    "-   저장한 weight 불러오기\n",
    "-   모델의 예측값과 정답값이 얼마나 일치하는지 확인\n",
    "***"
   ]
  },
  {
   "cell_type": "markdown",
   "metadata": {},
   "source": [
    "## 1. 데이터 처리와 분류"
   ]
  },
  {
   "cell_type": "code",
   "execution_count": 1,
   "metadata": {},
   "outputs": [],
   "source": [
    "# 패키지 가져오기\n",
    "import numpy as np\n",
    "import os\n",
    "\n",
    "# 데이터 불러오기\n",
    "data_path = os.getenv(\"HOME\") + '/speech_recognition/data/speech_wav_8000.npz'\n",
    "speech_data = np.load(data_path)\n",
    "# print('실행완료')"
   ]
  },
  {
   "cell_type": "code",
   "execution_count": 3,
   "metadata": {},
   "outputs": [],
   "source": [
    "# 2데이터로 변환\n",
    "\n",
    "# 2c차원 spectrogram 데이터를 처리하는 모델 구성\n",
    "\n",
    "import librosa\n",
    "import matplotlib.pyplot as plt\n",
    "\n",
    "# spectrogram shape을 맞추기위해서 size 변형\n",
    "def wav2spec(wav, fft_size = 258): \n",
    "    D = np.abs(librosa.stft(wav, n_fft = fft_size))\n",
    "    return D\n",
    "\n",
    "spec_data = []\n",
    "\n",
    "for wav in speech_data[\"wav_vals\"] : \n",
    "    spec_data.append(wav2spec(wav))\n",
    "    \n",
    "\n",
    "spec_data = np.array(spec_data)\n",
    "\n",
    "# print(\"실행완료\")"
   ]
  },
  {
   "cell_type": "code",
   "execution_count": 5,
   "metadata": {},
   "outputs": [],
   "source": [
    "# 데이터 처리\n",
    "\n",
    "# label data 처리\n",
    "\n",
    "# 구분해야할 label 목록\n",
    "label_value = ['yes', 'no', 'up', 'down', 'left', 'right', 'on', 'off', 'stop', 'go', 'unknown', 'silence']\n",
    "\n",
    "\n",
    "#print('LABEL : ', label_value)\n",
    "\n",
    "# 새로운 딕셔너리 변수 생성\n",
    "new_label_value = dict()\n",
    "\n",
    "for i, l in enumerate(label_value) :\n",
    "\n",
    "    # 데이터 값과 인덱스의 위치 변환, 데이터 값이 입력되면 인덱스 값이 출력\n",
    "    # (딕셔너리 형태이므로, 데이터 값 = 키 값)\n",
    "    new_label_value[l] = i\n",
    "    \n",
    "label_value = new_label_value\n",
    "\n",
    "# print(\"Indexed LABEL : \", new_label_value)"
   ]
  },
  {
   "cell_type": "code",
   "execution_count": 6,
   "metadata": {},
   "outputs": [],
   "source": [
    "# index 작업을 통해 label data 를 더 쉽게 사용가능\n",
    "\n",
    "temp = []\n",
    "\n",
    "for v in speech_data[\"label_vals\"] :\n",
    "    temp.append(label_value[v[0]])  \n",
    "    \n",
    "label_data = np.array(temp)\n",
    "\n",
    "# label_data  "
   ]
  },
  {
   "cell_type": "code",
   "execution_count": 7,
   "metadata": {},
   "outputs": [],
   "source": [
    "# 데이터 분리\n",
    "\n",
    "from sklearn.model_selection import train_test_split\n",
    "\n",
    "# sr = 8000\n",
    "train_wav, test_wav, train_label, test_label = train_test_split(spec_data, label_data, test_size = 0.1, shuffle = True)\n",
    "\n",
    "# 채널을 cnn 모델에 추가하기\n",
    "train_wav = train_wav.reshape([-1, 130, 126, 1])\n",
    "test_wav = test_wav.reshape([-1, 130, 126, 1])"
   ]
  },
  {
   "cell_type": "code",
   "execution_count": 8,
   "metadata": {},
   "outputs": [],
   "source": [
    "# 메모리 확보를 위한 필요없는 변수 삭제\n",
    "del spec_data"
   ]
  },
  {
   "cell_type": "code",
   "execution_count": 9,
   "metadata": {},
   "outputs": [
    {
     "name": "stdout",
     "output_type": "stream",
     "text": [
      "train data 개수 :  (45558, 130, 126, 1)\n",
      "train label 개수 :  (45558,)\n",
      "test data 개수 :  (5062, 130, 126, 1)\n",
      "test label 개수 :  (5062,)\n"
     ]
    }
   ],
   "source": [
    "# 나눈 데이터 셋 확인\n",
    "\n",
    "print(\"train data 개수 : \",train_wav.shape)\n",
    "print(\"train label 개수 : \", train_label.shape)\n",
    "print(\"test data 개수 : \",  test_wav.shape)\n",
    "print(\"test label 개수 : \", test_label.shape)"
   ]
  },
  {
   "cell_type": "markdown",
   "metadata": {},
   "source": [
    "## 2. 학습을 위한 하이퍼파라미터 설정"
   ]
  },
  {
   "cell_type": "code",
   "execution_count": 10,
   "metadata": {},
   "outputs": [],
   "source": [
    "# 하이퍼 파마리터 설정\n",
    "\n",
    "batch_size = 32\n",
    "max_epochs = 10\n",
    "\n",
    "# 체크 포인트 경로 설정\n",
    "checkpoint_dir = os.getenv(\"HOME\") + '/speech_recognition/models/'\n",
    "\n",
    "# checkpoint_dir"
   ]
  },
  {
   "cell_type": "markdown",
   "metadata": {},
   "source": [
    "## 3. 데이터셋 구성"
   ]
  },
  {
   "cell_type": "code",
   "execution_count": 11,
   "metadata": {},
   "outputs": [],
   "source": [
    "# 데이터 구성\n",
    "\n",
    "def one_hot_label(wav, label) : \n",
    "    label = tf.one_hot(label, depth = 12)\n",
    "    return wav, label"
   ]
  },
  {
   "cell_type": "code",
   "execution_count": 12,
   "metadata": {},
   "outputs": [
    {
     "name": "stdout",
     "output_type": "stream",
     "text": [
      "(45558, 130, 126, 1) (5062,)\n",
      "<BatchDataset shapes: ((None, 130, 126, 1), (None, 12)), types: (tf.float32, tf.float32)>\n",
      "<BatchDataset shapes: ((None, 130, 126, 1), (None, 12)), types: (tf.float32, tf.float32)>\n"
     ]
    }
   ],
   "source": [
    "# 모델 구현\n",
    "\n",
    "import tensorflow as tf\n",
    "\n",
    "print(train_wav.shape, test_label.shape)\n",
    "\n",
    "train_dataset = tf.data.Dataset.from_tensor_slices((train_wav, train_label))\n",
    "train_dataset = train_dataset.map(one_hot_label)\n",
    "train_dataset = train_dataset.repeat().batch(batch_size = batch_size)\n",
    "print(train_dataset)\n",
    "\n",
    "test_dataset = tf.data.Dataset.from_tensor_slices((test_wav, test_label))\n",
    "test_dataset = test_dataset.map(one_hot_label)\n",
    "test_dataset = test_dataset.batch(batch_size = batch_size)\n",
    "print(test_dataset)"
   ]
  },
  {
   "cell_type": "markdown",
   "metadata": {},
   "source": [
    "## 4. 2차원 Spectrogram 데이터를 처리하는 모델 구성"
   ]
  },
  {
   "cell_type": "code",
   "execution_count": 13,
   "metadata": {},
   "outputs": [
    {
     "name": "stdout",
     "output_type": "stream",
     "text": [
      "Model: \"model\"\n",
      "_________________________________________________________________\n",
      "Layer (type)                 Output Shape              Param #   \n",
      "=================================================================\n",
      "input_1 (InputLayer)         [(None, 130, 126, 1)]     0         \n",
      "_________________________________________________________________\n",
      "conv2d (Conv2D)              (None, 130, 126, 32)      2624      \n",
      "_________________________________________________________________\n",
      "conv2d_1 (Conv2D)            (None, 130, 126, 32)      82976     \n",
      "_________________________________________________________________\n",
      "max_pooling2d (MaxPooling2D) (None, 65, 63, 32)        0         \n",
      "_________________________________________________________________\n",
      "conv2d_2 (Conv2D)            (None, 65, 63, 64)        165952    \n",
      "_________________________________________________________________\n",
      "conv2d_3 (Conv2D)            (None, 65, 63, 64)        331840    \n",
      "_________________________________________________________________\n",
      "max_pooling2d_1 (MaxPooling2 (None, 32, 31, 64)        0         \n",
      "_________________________________________________________________\n",
      "conv2d_4 (Conv2D)            (None, 32, 31, 128)       663680    \n",
      "_________________________________________________________________\n",
      "conv2d_5 (Conv2D)            (None, 32, 31, 128)       1327232   \n",
      "_________________________________________________________________\n",
      "conv2d_6 (Conv2D)            (None, 32, 31, 128)       1327232   \n",
      "_________________________________________________________________\n",
      "max_pooling2d_2 (MaxPooling2 (None, 16, 15, 128)       0         \n",
      "_________________________________________________________________\n",
      "conv2d_7 (Conv2D)            (None, 16, 15, 256)       2654464   \n",
      "_________________________________________________________________\n",
      "conv2d_8 (Conv2D)            (None, 16, 15, 256)       5308672   \n",
      "_________________________________________________________________\n",
      "conv2d_9 (Conv2D)            (None, 16, 15, 256)       5308672   \n",
      "_________________________________________________________________\n",
      "max_pooling2d_3 (MaxPooling2 (None, 8, 7, 256)         0         \n",
      "_________________________________________________________________\n",
      "dropout (Dropout)            (None, 8, 7, 256)         0         \n",
      "_________________________________________________________________\n",
      "flatten (Flatten)            (None, 14336)             0         \n",
      "_________________________________________________________________\n",
      "dense (Dense)                (None, 256)               3670272   \n",
      "_________________________________________________________________\n",
      "batch_normalization (BatchNo (None, 256)               1024      \n",
      "_________________________________________________________________\n",
      "activation (Activation)      (None, 256)               0         \n",
      "_________________________________________________________________\n",
      "dense_1 (Dense)              (None, 12)                3084      \n",
      "=================================================================\n",
      "Total params: 20,847,724\n",
      "Trainable params: 20,847,212\n",
      "Non-trainable params: 512\n",
      "_________________________________________________________________\n"
     ]
    }
   ],
   "source": [
    "from tensorflow.keras import layers\n",
    "\n",
    "input_tensor = layers.Input(shape=(130, 126, 1))\n",
    "\n",
    "x = layers.Conv2D(32, 9, padding='same', activation='relu')(input_tensor)\n",
    "x = layers.Conv2D(32, 9, padding='same', activation='relu')(x)\n",
    "x = layers.MaxPool2D()(x)\n",
    "\n",
    "x = layers.Conv2D(64, 9, padding='same', activation='relu')(x)\n",
    "x = layers.Conv2D(64, 9, padding='same', activation='relu')(x)\n",
    "x = layers.MaxPool2D()(x)\n",
    "\n",
    "x = layers.Conv2D(128, 9, padding='same', activation='relu')(x)\n",
    "x = layers.Conv2D(128, 9, padding='same', activation='relu')(x)\n",
    "x = layers.Conv2D(128, 9, padding='same', activation='relu')(x)\n",
    "x = layers.MaxPool2D()(x)\n",
    "\n",
    "x = layers.Conv2D(256, 9, padding='same', activation='relu')(x)\n",
    "x = layers.Conv2D(256, 9, padding='same', activation='relu')(x)\n",
    "x = layers.Conv2D(256, 9, padding='same', activation='relu')(x)\n",
    "x = layers.MaxPool2D()(x)\n",
    "x = layers.Dropout(0.3)(x)\n",
    "\n",
    "x = layers.Flatten()(x)\n",
    "x = layers.Dense(256)(x)\n",
    "x = layers.BatchNormalization()(x)\n",
    "x = layers.Activation('relu')(x)\n",
    "\n",
    "output_tensor = layers.Dense(12)(x)\n",
    "\n",
    "model_wav = tf.keras.Model(input_tensor, output_tensor)\n",
    "\n",
    "model_wav.summary()"
   ]
  },
  {
   "cell_type": "code",
   "execution_count": 14,
   "metadata": {},
   "outputs": [],
   "source": [
    "# 학습 모델 평가\n",
    "\n",
    "optimizer = tf.keras.optimizers.Adam(1e-4)\n",
    "model_wav.compile(loss = tf.keras.losses.CategoricalCrossentropy(from_logits = True), optimizer = optimizer, metrics = [\"accuracy\"])"
   ]
  },
  {
   "cell_type": "code",
   "execution_count": 15,
   "metadata": {},
   "outputs": [],
   "source": [
    "cp_callback = tf.keras.callbacks.ModelCheckpoint(checkpoint_dir,\n",
    "                                                 save_weights_only = True,\n",
    "                                                 monitor = 'val_loss',\n",
    "                                                 mode = 'auto',\n",
    "                                                 save_best_only = True,\n",
    "                                                 verbose = 1)"
   ]
  },
  {
   "cell_type": "code",
   "execution_count": 16,
   "metadata": {},
   "outputs": [
    {
     "name": "stdout",
     "output_type": "stream",
     "text": [
      "Epoch 1/10\n",
      "1423/1423 [==============================] - ETA: 0s - loss: 0.6682 - accuracy: 0.7790\n",
      "Epoch 00001: val_loss improved from inf to 0.37571, saving model to /home/aiffel/speech_recognition/models/\n",
      "1423/1423 [==============================] - 205s 144ms/step - loss: 0.6682 - accuracy: 0.7790 - val_loss: 0.3757 - val_accuracy: 0.8780\n",
      "Epoch 2/10\n",
      "1423/1423 [==============================] - ETA: 0s - loss: 0.2314 - accuracy: 0.9265\n",
      "Epoch 00002: val_loss improved from 0.37571 to 0.28123, saving model to /home/aiffel/speech_recognition/models/\n",
      "1423/1423 [==============================] - 207s 145ms/step - loss: 0.2314 - accuracy: 0.9265 - val_loss: 0.2812 - val_accuracy: 0.9062\n",
      "Epoch 3/10\n",
      "1423/1423 [==============================] - ETA: 0s - loss: 0.1589 - accuracy: 0.9482\n",
      "Epoch 00003: val_loss improved from 0.28123 to 0.24377, saving model to /home/aiffel/speech_recognition/models/\n",
      "1423/1423 [==============================] - 207s 146ms/step - loss: 0.1589 - accuracy: 0.9482 - val_loss: 0.2438 - val_accuracy: 0.9242\n",
      "Epoch 4/10\n",
      "1423/1423 [==============================] - ETA: 0s - loss: 0.1245 - accuracy: 0.9595\n",
      "Epoch 00004: val_loss improved from 0.24377 to 0.17577, saving model to /home/aiffel/speech_recognition/models/\n",
      "1423/1423 [==============================] - 207s 146ms/step - loss: 0.1245 - accuracy: 0.9595 - val_loss: 0.1758 - val_accuracy: 0.9462\n",
      "Epoch 5/10\n",
      "1423/1423 [==============================] - ETA: 0s - loss: 0.1026 - accuracy: 0.9662\n",
      "Epoch 00005: val_loss did not improve from 0.17577\n",
      "1423/1423 [==============================] - 207s 145ms/step - loss: 0.1026 - accuracy: 0.9662 - val_loss: 0.1818 - val_accuracy: 0.9450\n",
      "Epoch 6/10\n",
      "1423/1423 [==============================] - ETA: 0s - loss: 0.0869 - accuracy: 0.9712\n",
      "Epoch 00006: val_loss improved from 0.17577 to 0.13055, saving model to /home/aiffel/speech_recognition/models/\n",
      "1423/1423 [==============================] - 208s 146ms/step - loss: 0.0869 - accuracy: 0.9712 - val_loss: 0.1306 - val_accuracy: 0.9598\n",
      "Epoch 7/10\n",
      "1423/1423 [==============================] - ETA: 0s - loss: 0.0793 - accuracy: 0.9732\n",
      "Epoch 00007: val_loss improved from 0.13055 to 0.12659, saving model to /home/aiffel/speech_recognition/models/\n",
      "1423/1423 [==============================] - 207s 146ms/step - loss: 0.0793 - accuracy: 0.9732 - val_loss: 0.1266 - val_accuracy: 0.9630\n",
      "Epoch 8/10\n",
      "1423/1423 [==============================] - ETA: 0s - loss: 0.0699 - accuracy: 0.9759\n",
      "Epoch 00008: val_loss improved from 0.12659 to 0.12192, saving model to /home/aiffel/speech_recognition/models/\n",
      "1423/1423 [==============================] - 208s 146ms/step - loss: 0.0699 - accuracy: 0.9759 - val_loss: 0.1219 - val_accuracy: 0.9614\n",
      "Epoch 9/10\n",
      "1423/1423 [==============================] - ETA: 0s - loss: 0.0647 - accuracy: 0.9779\n",
      "Epoch 00009: val_loss did not improve from 0.12192\n",
      "1423/1423 [==============================] - 207s 145ms/step - loss: 0.0647 - accuracy: 0.9779 - val_loss: 0.1345 - val_accuracy: 0.9618\n",
      "Epoch 10/10\n",
      "1423/1423 [==============================] - ETA: 0s - loss: 0.0592 - accuracy: 0.9800\n",
      "Epoch 00010: val_loss did not improve from 0.12192\n",
      "1423/1423 [==============================] - 206s 145ms/step - loss: 0.0592 - accuracy: 0.9800 - val_loss: 0.1227 - val_accuracy: 0.9658\n"
     ]
    }
   ],
   "source": [
    "# 모델 학습 코드\n",
    "\n",
    "history_wav = model_wav.fit(train_dataset, epochs = max_epochs,\n",
    "                    steps_per_epoch = len(train_wav) // batch_size,\n",
    "                    validation_data = test_dataset,\n",
    "                    validation_steps = len(test_wav) // batch_size,\n",
    "                    callbacks = [cp_callback]\n",
    "                    )"
   ]
  },
  {
   "cell_type": "markdown",
   "metadata": {},
   "source": [
    "## 5. 학습 후, 학습이 어떻게 진행됐는지 그래프로 출력"
   ]
  },
  {
   "cell_type": "code",
   "execution_count": 17,
   "metadata": {},
   "outputs": [
    {
     "data": {
      "image/png": "[encoded data removed]",
      "text/plain": [
       "<Figure size 576x576 with 2 Axes>"
      ]
     },
     "metadata": {
      "needs_background": "light"
     },
     "output_type": "display_data"
    }
   ],
   "source": [
    "# 학습 모델 평가 성능 시각화\n",
    "\n",
    "import matplotlib.pyplot as plt\n",
    "\n",
    "acc = history_wav.history['accuracy']\n",
    "val_acc = history_wav.history['val_accuracy']\n",
    "\n",
    "loss = history_wav.history['loss']\n",
    "val_loss = history_wav.history['val_loss']\n",
    "\n",
    "epochs_range = range(len(acc))\n",
    "\n",
    "plt.figure(figsize = (8, 8))\n",
    "plt.subplot(1, 2, 1)\n",
    "plt.plot(epochs_range, acc, label='Training Accuracy')\n",
    "plt.plot(epochs_range, val_acc, label='Validation Accuracy')\n",
    "plt.legend(loc='lower right')\n",
    "plt.title('Training and Validation Accuracy')\n",
    "\n",
    "plt.subplot(1, 2, 2)\n",
    "plt.plot(epochs_range, loss, label = 'Training Loss')\n",
    "plt.plot(epochs_range, val_loss, label = 'Validation Loss')\n",
    "plt.legend(loc = 'upper right')\n",
    "plt.title('Training and Validation Loss')\n",
    "plt.show()"
   ]
  },
  {
   "cell_type": "markdown",
   "metadata": {},
   "source": [
    "## 6. Test dataset을 이용해서 모델의 성능을 평가"
   ]
  },
  {
   "cell_type": "code",
   "execution_count": 20,
   "metadata": {},
   "outputs": [
    {
     "data": {
      "text/plain": [
       "<tensorflow.python.training.tracking.util.CheckpointLoadStatus at 0x7f944050f090>"
      ]
     },
     "execution_count": 20,
     "metadata": {},
     "output_type": "execute_result"
    }
   ],
   "source": [
    "# checkpoint callback 함수가 저장한 weight 를 다시 불러와 테스트 준비\n",
    "\n",
    "model_wav.load_weights(checkpoint_dir)"
   ]
  },
  {
   "cell_type": "code",
   "execution_count": 21,
   "metadata": {},
   "outputs": [
    {
     "name": "stdout",
     "output_type": "stream",
     "text": [
      "159/159 [==============================] - 23s 143ms/step - loss: 0.1218 - accuracy: 0.9615\n"
     ]
    }
   ],
   "source": [
    "# test data 를 이용하여 모델의 예측값과 실제값이 얼마나 일치하는지 확인\n",
    "\n",
    "results = model_wav.evaluate(test_dataset)"
   ]
  },
  {
   "cell_type": "code",
   "execution_count": 22,
   "metadata": {},
   "outputs": [
    {
     "name": "stdout",
     "output_type": "stream",
     "text": [
      "loss value: 0.122\n",
      "accuracy value: 96.1478%\n"
     ]
    }
   ],
   "source": [
    "# loss 확인\n",
    "print(\"loss value: {:.3f}\".format(results[0]))\n",
    "\n",
    "# accuracy 확인\n",
    "print(\"accuracy value: {:.4f}%\".format(results[1]*100))"
   ]
  },
  {
   "cell_type": "code",
   "execution_count": 27,
   "metadata": {},
   "outputs": [
    {
     "name": "stdout",
     "output_type": "stream",
     "text": [
      "y_pred: go(Correct!)\n"
     ]
    }
   ],
   "source": [
    "# 위에서 확인해본 테스트셋 라벨과 모델의 실제 prediction 결과를 비교\n",
    "\n",
    "if np.argmax(y_pred_) == batch_ys[0]:\n",
    "    print(\"y_pred: \" + str(inv_label_value[np.argmax(y_pred_)]) + '(Correct!)')\n",
    "else:\n",
    "    print(\"y_pred: \" + str(inv_label_value[np.argmax(y_pred_)]) + '(Incorrect!)')"
   ]
  },
  {
   "cell_type": "code",
   "execution_count": null,
   "metadata": {},
   "outputs": [],
   "source": []
  }
 ],
 "metadata": {
  "kernelspec": {
   "display_name": "aiffel",
   "language": "python",
   "name": "aiffel"
  },
  "language_info": {
   "codemirror_mode": {
    "name": "ipython",
    "version": 3
   },
   "file_extension": ".py",
   "mimetype": "text/x-python",
   "name": "python",
   "nbconvert_exporter": "python",
   "pygments_lexer": "ipython3",
   "version": "3.7.9"
  }
 },
 "nbformat": 4,
 "nbformat_minor": 4
}
