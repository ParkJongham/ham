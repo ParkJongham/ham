{
 "cells": [
  {
   "cell_type": "markdown",
   "metadata": {},
   "source": [
    "# Project : 자율주행 보조 시스템 만들기\n",
    "\n",
    "<br></br>\n",
    "\n",
    "## 1. 자율주행 시스템 만들기\n",
    "\n",
    "\n",
    "위에서 만든 모델을 통해 아래의 조건을 만족하는 함수를 만들어 주세요.\n",
    "\n",
    "-   입력으로 이미지 경로를 받습니다.\n",
    "-   정지조건에 맞는 경우 \"Stop\" 아닌 경우 \"Go\"를 반환합니다.\n",
    "-   조건은 다음과 같습니다.\n",
    "    -   사람이 한 명 이상 있는 경우\n",
    "    -   차량의 크기(width or height)가 300px이상인 경우\n",
    "\n",
    "![](./img/자율주행 시스템 만들기.png)\n",
    "\n",
    "<br></br>\n",
    "\n",
    "## 2. 자율주행 시스템 평가하기\n",
    "\n",
    "\n",
    "아래 `test_system()` 를 통해서 위에서 만든 함수를 평가해봅시다. 10장에 대해 Go와 Stop을 맞게 반환하는지 확인하고 100점 만점으로 평가해줍니다.\n",
    "\n",
    "![](./img/자율주행 시스템 평가하기.png)"
   ]
  },
  {
   "cell_type": "code",
   "execution_count": null,
   "metadata": {},
   "outputs": [],
   "source": []
  }
 ],
 "metadata": {
  "kernelspec": {
   "display_name": "aiffel",
   "language": "python",
   "name": "aiffel"
  },
  "language_info": {
   "codemirror_mode": {
    "name": "ipython",
    "version": 3
   },
   "file_extension": ".py",
   "mimetype": "text/x-python",
   "name": "python",
   "nbconvert_exporter": "python",
   "pygments_lexer": "ipython3",
   "version": "3.7.9"
  }
 },
 "nbformat": 4,
 "nbformat_minor": 4
}
