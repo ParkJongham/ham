{
 "cells": [
  {
   "cell_type": "code",
   "execution_count": 17,
   "metadata": {},
   "outputs": [],
   "source": [
    "# 라이브러리 임포트\n",
    "\n",
    "import tensorflow as tf\n",
    "import warnings\n",
    "from tensorflow import keras\n",
    "import numpy as np\n",
    "import matplotlib.pyplot as plt\n",
    "\n",
    "warnings.filterwarnings('ignore')"
   ]
  },
  {
   "cell_type": "code",
   "execution_count": 2,
   "metadata": {},
   "outputs": [],
   "source": [
    "# 데이터셋 다운로드\n",
    "\n",
    "imdb = keras.datasets.imdb"
   ]
  },
  {
   "cell_type": "code",
   "execution_count": 3,
   "metadata": {},
   "outputs": [
    {
     "name": "stdout",
     "output_type": "stream",
     "text": [
      "훈련 샘플 개수 : 25000, 테스트 개수 :25000\n"
     ]
    }
   ],
   "source": [
    "# 데이터 분리\n",
    "\n",
    "(x_train, y_train),(x_test, y_test) = imdb.load_data(num_words = 10000)\n",
    "print('훈련 샘플 개수 : {}, 테스트 개수 :{}'.format(len(x_train), len(x_test)))"
   ]
  },
  {
   "cell_type": "code",
   "execution_count": 4,
   "metadata": {},
   "outputs": [
    {
     "name": "stdout",
     "output_type": "stream",
     "text": [
      "[1, 14, 22, 16, 43, 530, 973, 1622, 1385, 65, 458, 4468, 66, 3941, 4, 173, 36, 256, 5, 25, 100, 43, 838, 112, 50, 670, 2, 9, 35, 480, 284, 5, 150, 4, 172, 112, 167, 2, 336, 385, 39, 4, 172, 4536, 1111, 17, 546, 38, 13, 447, 4, 192, 50, 16, 6, 147, 2025, 19, 14, 22, 4, 1920, 4613, 469, 4, 22, 71, 87, 12, 16, 43, 530, 38, 76, 15, 13, 1247, 4, 22, 17, 515, 17, 12, 16, 626, 18, 2, 5, 62, 386, 12, 8, 316, 8, 106, 5, 4, 2223, 5244, 16, 480, 66, 3785, 33, 4, 130, 12, 16, 38, 619, 5, 25, 124, 51, 36, 135, 48, 25, 1415, 33, 6, 22, 12, 215, 28, 77, 52, 5, 14, 407, 16, 82, 2, 8, 4, 107, 117, 5952, 15, 256, 4, 2, 7, 3766, 5, 723, 36, 71, 43, 530, 476, 26, 400, 317, 46, 7, 4, 2, 1029, 13, 104, 88, 4, 381, 15, 297, 98, 32, 2071, 56, 26, 141, 6, 194, 7486, 18, 4, 226, 22, 21, 134, 476, 26, 480, 5, 144, 30, 5535, 18, 51, 36, 28, 224, 92, 25, 104, 4, 226, 65, 16, 38, 1334, 88, 12, 16, 283, 5, 16, 4472, 113, 103, 32, 15, 16, 5345, 19, 178, 32]\n",
      "라벨 :  1\n",
      "1번째 리뷰 문장 길이 :  218\n",
      "2번째 리뷰 문장 길이 :  189\n"
     ]
    }
   ],
   "source": [
    "# 데이터 확인 (encode 된 데이터를 다운 받음을 알 수 있다.)\n",
    "\n",
    "print(x_train[0])\n",
    "print('라벨 : ', y_train[0])\n",
    "print('1번째 리뷰 문장 길이 : ', len(x_train[0]))\n",
    "print('2번째 리뷰 문장 길이 : ', len(x_train[1]))"
   ]
  },
  {
   "cell_type": "code",
   "execution_count": 5,
   "metadata": {},
   "outputs": [
    {
     "name": "stdout",
     "output_type": "stream",
     "text": [
      "the\n",
      "1\n"
     ]
    }
   ],
   "source": [
    "# IMDb 데이터셋은 encode 에 사용한 딕셔너리도 제공한다.\n",
    "\n",
    "word_to_index = imdb.get_word_index()\n",
    "index_to_word = {index : word for word, index in word_to_index.items()}\n",
    "\n",
    "print(index_to_word[1])\n",
    "print(word_to_index['the'])"
   ]
  },
  {
   "cell_type": "code",
   "execution_count": 6,
   "metadata": {},
   "outputs": [
    {
     "name": "stdout",
     "output_type": "stream",
     "text": [
      "<BOS>\n",
      "4\n",
      "the\n"
     ]
    }
   ],
   "source": [
    "# 텍스트 인코딩을 위한 word_to_index, index_to_word 보정\n",
    "\n",
    "# 실제 인코딩 인덱스는 제공된 word_to_index 기준 3씩 밀려있다.\n",
    "word_to_index = {k :(v + 3) for k, v in word_to_index.items()}\n",
    "\n",
    "word_to_index['<PAD>'] = 0\n",
    "word_to_index['<BOS>'] = 1\n",
    "word_to_index['<UNK>'] = 2\n",
    "word_to_index['<UNUSED>'] = 3\n",
    "\n",
    "index_to_word[0] = '<PAD>'\n",
    "index_to_word[1] = '<BOS>'\n",
    "index_to_word[2] = '<UNK>'\n",
    "index_to_word[3] = '<UNUSED>'\n",
    "\n",
    "index_to_word = {index : word for word, index in word_to_index.items()}\n",
    "\n",
    "print(index_to_word[1])\n",
    "print(word_to_index['the'])\n",
    "print(index_to_word[4])"
   ]
  },
  {
   "cell_type": "code",
   "execution_count": 7,
   "metadata": {},
   "outputs": [
    {
     "name": "stdout",
     "output_type": "stream",
     "text": [
      "[1, 13, 1900, 6803]\n"
     ]
    }
   ],
   "source": [
    "# 문장 1개를 활용할 딕셔너리와 함께 주면, 단어 인덱스 리스트로 변환해 주는 함수\n",
    "# 단, 모든 문장은 <BOS>로 시작 \n",
    "def get_encoded_sentence(sentence, word_to_index) : \n",
    "    return [word_to_index['<BOS>']] + [word_to_index[word] if word in word_to_index else word_to_index['<UNK>'] for word in sentence.split()]\n",
    "print(get_encoded_sentence('i eat lunch', word_to_index))\n",
    "\n",
    "# 여러 개의 문장 리스트를 한꺼번에 숫자 텐서로 encode 해주는 함수\n",
    "def get_encoded_sentences(sentences, word_to_index) : \n",
    "    return [get_encoded_sentence(sentence, word_to_index) for sentence in sentences]\n",
    "\n",
    "# 숫자 벡터로 encode 된 문장을 원래대로 decode 하는 함수\n",
    "# [1 : ] 를 통해 <BOS> 를 제외\n",
    "def get_decoded_sentence(encoded_sentence, index_to_word) :\n",
    "    return ''.join(index_to_word[index] if index in index_to_word else '<UNK>' for index in encoded_sentence[1 : ])\n",
    "\n",
    "# 여러개의 숫자 벡터로 encode 된 문장을 한꺼번에 원래대로 decoded 하는 함수\n",
    "def get_decoded_sentences(encoded_sentences, index_to_word) :\n",
    "    return [get_decoded_sentence(encoded_sentence, index_to_word) for encoded_sentence in encoded_sentences]"
   ]
  },
  {
   "cell_type": "code",
   "execution_count": 8,
   "metadata": {},
   "outputs": [
    {
     "name": "stdout",
     "output_type": "stream",
     "text": [
      "thisfilmwasjustbrilliantcastinglocationscenerystorydirectioneveryone'sreallysuitedtheparttheyplayedandyoucouldjustimaginebeingthererobert<UNK>isanamazingactorandnowthesamebeingdirector<UNK>fathercamefromthesamescottishislandasmyselfsoilovedthefacttherewasarealconnectionwiththisfilmthewittyremarksthroughoutthefilmweregreatitwasjustbrilliantsomuchthatiboughtthefilmassoonasitwasreleasedfor<UNK>andwouldrecommendittoeveryonetowatchandtheflyfishingwasamazingreallycriedattheenditwassosadandyouknowwhattheysayifyoucryatafilmitmusthavebeengoodandthisdefinitelywasalso<UNK>tothetwolittleboy'sthatplayedthe<UNK>ofnormanandpaultheywerejustbrilliantchildrenareoftenleftoutofthe<UNK>listithinkbecausethestarsthatplaythemallgrownuparesuchabigprofileforthewholefilmbutthesechildrenareamazingandshouldbepraisedforwhattheyhavedonedon'tyouthinkthewholestorywassolovelybecauseitwastrueandwassomeone'slifeafterallthatwassharedwithusall\n",
      "라벨 :  1\n"
     ]
    }
   ],
   "source": [
    "# encode 된 텍스트가 정상적으로 decode 되는지 확인\n",
    "\n",
    "# 숫자 벡터로 encode 된 문장을 원래대로 decode 하는 함수\n",
    "# [1 : ] 를 통해 <BOS> 를 제외\n",
    "def get_decoded_sentence(encoded_sentence, index_to_word) :\n",
    "    return ''.join(index_to_word[index] if index in index_to_word else '<UNK>' for index in encoded_sentence[1 : ])\n",
    "\n",
    "print(get_decoded_sentence(x_train[0], index_to_word))\n",
    "print('라벨 : ', y_train[0])"
   ]
  },
  {
   "cell_type": "code",
   "execution_count": 9,
   "metadata": {},
   "outputs": [
    {
     "name": "stdout",
     "output_type": "stream",
     "text": [
      "문장길이 평균 :  234.75892\n",
      "문장길이 최대값 :  234.75892\n",
      "문장길이 표준편차 :  234.75892\n",
      "pad sequences maxlen :  580\n",
      "전체 문장의 0.94536% 가 maxlen 설정값 이내에 포함됩니다.\n"
     ]
    }
   ],
   "source": [
    "# 문장의 최대 길이인 maxlen 값은 모델 성능에 영향을 미치기에 \n",
    "# 적절한 값을 찾기 위해 데이터셋의 분포를 확인해야 한다.\n",
    "\n",
    "total_data_text = list(x_train) + list(x_test)\n",
    "\n",
    "# 텍스트 데이터 문장길이의 리스트 생성\n",
    "num_tokens = [len(tokens) for tokens in total_data_text]\n",
    "num_tokens = np.array(num_tokens)\n",
    "\n",
    "# 문장길이의 평균값 최대값, 표준편차를 계산\n",
    "print(\"문장길이 평균 : \", np.mean(num_tokens))\n",
    "print(\"문장길이 최대값 : \", np.mean(num_tokens))\n",
    "print(\"문장길이 표준편차 : \", np.mean(num_tokens))\n",
    "\n",
    "# 최대 길이를 평균 + 2 * 표준편차로 수정\n",
    "max_tokens = np.mean(num_tokens) + (2 * np.std(num_tokens))\n",
    "maxlen = int(max_tokens)\n",
    "\n",
    "print('pad sequences maxlen : ', maxlen)\n",
    "print('전체 문장의 {}% 가 maxlen 설정값 이내에 포함됩니다.'.format(np.sum(num_tokens < max_tokens) / len(num_tokens)))"
   ]
  },
  {
   "cell_type": "code",
   "execution_count": 10,
   "metadata": {},
   "outputs": [
    {
     "name": "stdout",
     "output_type": "stream",
     "text": [
      "(25000, 580)\n"
     ]
    }
   ],
   "source": [
    "# padding 을 post 에 하는 것과 pre 에 함에 따라 성능 차이가 발생\n",
    "# 따라서 각각 학습시켜보며 결과를 비교하여 선택\n",
    "# 일반적으로 마지막 입력이 최종 state 값에 영향을 미치므로,\n",
    "# 마지막 입력이 무의미한 padding 으로 채워지는 것은 비효율 적이다.\n",
    "\n",
    "x_train = keras.preprocessing.sequence.pad_sequences(x_train, value = word_to_index['<PAD>'], padding = 'pre', maxlen = maxlen)\n",
    "\n",
    "x_test = keras.preprocessing.sequence.pad_sequences(x_test, value = word_to_index['<PAD>'], padding = 'pre', maxlen = maxlen)\n",
    "\n",
    "print(x_train.shape)"
   ]
  },
  {
   "cell_type": "code",
   "execution_count": 41,
   "metadata": {},
   "outputs": [
    {
     "name": "stdout",
     "output_type": "stream",
     "text": [
      "Model: \"sequential_4\"\n",
      "_________________________________________________________________\n",
      "Layer (type)                 Output Shape              Param #   \n",
      "=================================================================\n",
      "embedding_4 (Embedding)      (None, None, 64)          640000    \n",
      "_________________________________________________________________\n",
      "lstm_4 (LSTM)                (None, 8)                 2336      \n",
      "_________________________________________________________________\n",
      "dense_8 (Dense)              (None, 8)                 72        \n",
      "_________________________________________________________________\n",
      "dense_9 (Dense)              (None, 1)                 9         \n",
      "=================================================================\n",
      "Total params: 642,417\n",
      "Trainable params: 642,417\n",
      "Non-trainable params: 0\n",
      "_________________________________________________________________\n"
     ]
    }
   ],
   "source": [
    "# RNN 모델 설계\n",
    "\n",
    "vocab_size = 10000    # 어휘사전의 크기\n",
    "word_vector_dim = 64    # 워드 벡터의 차원수 (변경 가능한 파라미터)\n",
    "\n",
    "model = keras.Sequential()\n",
    "model.add(keras.layers.Embedding(vocab_size, word_vector_dim, input_shape = (None, )))\n",
    "model.add(keras.layers.LSTM(8))\n",
    "model.add(keras.layers.Dense(8, activation = 'relu'))\n",
    "model.add(keras.layers.Dense(1, activation = 'sigmoid'))\n",
    "\n",
    "model.summary()"
   ]
  },
  {
   "cell_type": "code",
   "execution_count": 42,
   "metadata": {},
   "outputs": [
    {
     "name": "stdout",
     "output_type": "stream",
     "text": [
      "(15000, 580)\n",
      "(15000,)\n"
     ]
    }
   ],
   "source": [
    "# 훈련용 데이터에서 10,000 건을 분리하여 validation 셋으로 사용\n",
    "\n",
    "x_val = x_train[ : 10000]\n",
    "y_val = y_train[ : 10000]\n",
    "\n",
    "partial_x_train = x_train[10000 : ]\n",
    "partial_y_train = y_train[10000 : ]\n",
    "\n",
    "print(partial_x_train.shape)\n",
    "print(partial_y_train.shape)"
   ]
  },
  {
   "cell_type": "code",
   "execution_count": 43,
   "metadata": {},
   "outputs": [
    {
     "name": "stdout",
     "output_type": "stream",
     "text": [
      "Epoch 1/10\n",
      "30/30 [==============================] - 3s 101ms/step - loss: 0.6868 - accuracy: 0.6137 - val_loss: 0.6716 - val_accuracy: 0.6733\n",
      "Epoch 2/10\n",
      "30/30 [==============================] - 3s 94ms/step - loss: 0.6176 - accuracy: 0.7494 - val_loss: 0.5164 - val_accuracy: 0.7905\n",
      "Epoch 3/10\n",
      "30/30 [==============================] - 3s 94ms/step - loss: 0.4518 - accuracy: 0.8240 - val_loss: 0.4461 - val_accuracy: 0.8119\n",
      "Epoch 4/10\n",
      "30/30 [==============================] - 3s 95ms/step - loss: 0.3446 - accuracy: 0.8791 - val_loss: 0.3747 - val_accuracy: 0.8472\n",
      "Epoch 5/10\n",
      "30/30 [==============================] - 3s 93ms/step - loss: 0.2665 - accuracy: 0.9095 - val_loss: 0.3619 - val_accuracy: 0.8497\n",
      "Epoch 6/10\n",
      "30/30 [==============================] - 3s 95ms/step - loss: 0.2154 - accuracy: 0.9308 - val_loss: 0.3734 - val_accuracy: 0.8499\n",
      "Epoch 7/10\n",
      "30/30 [==============================] - 3s 95ms/step - loss: 0.1784 - accuracy: 0.9468 - val_loss: 0.3810 - val_accuracy: 0.8519\n",
      "Epoch 8/10\n",
      "30/30 [==============================] - 3s 95ms/step - loss: 0.1520 - accuracy: 0.9555 - val_loss: 0.3975 - val_accuracy: 0.8468\n",
      "Epoch 9/10\n",
      "30/30 [==============================] - 3s 94ms/step - loss: 0.1304 - accuracy: 0.9639 - val_loss: 0.4234 - val_accuracy: 0.8478\n",
      "Epoch 10/10\n",
      "30/30 [==============================] - 3s 96ms/step - loss: 0.1123 - accuracy: 0.9707 - val_loss: 0.4268 - val_accuracy: 0.8462\n"
     ]
    }
   ],
   "source": [
    "# 모델 학습\n",
    "\n",
    "model.compile(optimizer = 'adam', loss = 'binary_crossentropy', metrics = ['accuracy'])\n",
    "\n",
    "epochs = 10\n",
    "\n",
    "history = model.fit(partial_x_train, partial_y_train, epochs = epochs, batch_size = 512, validation_data = (x_val, y_val), verbose = 1)"
   ]
  },
  {
   "cell_type": "code",
   "execution_count": 44,
   "metadata": {},
   "outputs": [
    {
     "name": "stdout",
     "output_type": "stream",
     "text": [
      "782/782 - 8s - loss: 0.4506 - accuracy: 0.8406\n",
      "[0.45055150985717773, 0.8406400084495544]\n"
     ]
    }
   ],
   "source": [
    "# 테스트 셋으로 모델 평가\n",
    "\n",
    "results = model.evaluate(x_test, y_test, verbose = 2)\n",
    "\n",
    "print(results)"
   ]
  },
  {
   "cell_type": "code",
   "execution_count": 45,
   "metadata": {},
   "outputs": [
    {
     "name": "stdout",
     "output_type": "stream",
     "text": [
      "dict_keys(['loss', 'accuracy', 'val_loss', 'val_accuracy'])\n"
     ]
    }
   ],
   "source": [
    "# 학습 과정을 시각화\n",
    "\n",
    "history_dict = history.history\n",
    "print(history_dict.keys())    # epoch 에 따른 그래프를 그려볼 수 있는 항목들"
   ]
  },
  {
   "cell_type": "code",
   "execution_count": 46,
   "metadata": {},
   "outputs": [
    {
     "data": {
      "text/plain": [
       "<matplotlib.legend.Legend at 0x7efc23e7b810>"
      ]
     },
     "execution_count": 46,
     "metadata": {},
     "output_type": "execute_result"
    },
    {
     "data": {
      "image/png": "[encoded data removed]",
      "text/plain": [
       "<Figure size 432x288 with 1 Axes>"
      ]
     },
     "metadata": {
      "needs_background": "light"
     },
     "output_type": "display_data"
    }
   ],
   "source": [
    "acc = history_dict['accuracy']\n",
    "val_acc = history_dict['val_accuracy']\n",
    "\n",
    "loss = history_dict['loss']\n",
    "val_loss = history_dict['val_loss']\n",
    "\n",
    "epochs = range(1, len(acc) + 1)\n",
    "\n",
    "plt.plot(epochs, loss, 'bo', label = 'Training loss')    # bo : 파란색 점\n",
    "plt.plot(epochs, val_loss, 'b', label = 'Validation loss')    # b : 파란색 실선\n",
    "plt.title('Traing and Validation loss')\n",
    "plt.xlabel('Epochs')\n",
    "plt.ylabel('Loss')\n",
    "plt.legend()"
   ]
  },
  {
   "cell_type": "code",
   "execution_count": 47,
   "metadata": {},
   "outputs": [
    {
     "data": {
      "image/png": "[encoded data removed]",
      "text/plain": [
       "<Figure size 432x288 with 1 Axes>"
      ]
     },
     "metadata": {
      "needs_background": "light"
     },
     "output_type": "display_data"
    }
   ],
   "source": [
    "plt.clf()    # 시각화 초기화\n",
    "\n",
    "plt.plot(epochs, acc, 'bo', label = 'Training acc')\n",
    "plt.plot(epochs, val_acc, 'b', label = 'Validation acc')\n",
    "plt.title('Training and Validation accuracy')\n",
    "plt.xlabel('Epochs')\n",
    "plt.ylabel('Accuracy')\n",
    "plt.legend()\n",
    "\n",
    "plt.show()"
   ]
  },
  {
   "cell_type": "code",
   "execution_count": null,
   "metadata": {},
   "outputs": [],
   "source": []
  }
 ],
 "metadata": {
  "kernelspec": {
   "display_name": "aiffel",
   "language": "python",
   "name": "aiffel"
  },
  "language_info": {
   "codemirror_mode": {
    "name": "ipython",
    "version": 3
   },
   "file_extension": ".py",
   "mimetype": "text/x-python",
   "name": "python",
   "nbconvert_exporter": "python",
   "pygments_lexer": "ipython3",
   "version": "3.7.9"
  }
 },
 "nbformat": 4,
 "nbformat_minor": 4
}
